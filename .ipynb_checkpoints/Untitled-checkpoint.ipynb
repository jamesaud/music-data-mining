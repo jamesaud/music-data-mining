{
 "cells": [
  {
   "cell_type": "code",
   "execution_count": 113,
   "metadata": {},
   "outputs": [
    {
     "name": "stdout",
     "output_type": "stream",
     "text": [
      "[[], [], [], []]\n"
     ]
    }
   ],
   "source": [
    "from typing import List\n",
    "from collections import defaultdict\n",
    "\n",
    "n = 10\n",
    "first = [6, 8, 3, 6, 4, 1, 8, 5, 1]\n",
    "second = [9, 9, 5, 7, 8, 8, 10, 8, 2]\n",
    "values = [17, 29, 3, 20, 11, 8, 3, 23, 5, 15]\n",
    "queries = [1, 8, 9, 6, 4, 3]\n",
    "\n",
    "\n",
    "nodes = {}\n",
    "\n",
    "class Node:\n",
    "    def __init__(self, index, children=None, val=None):\n",
    "        self.children = children or []\n",
    "        self.val = val \n",
    "        self.index = index\n",
    "        self.parent = None\n",
    "        \n",
    "    def __hash__(self):\n",
    "        return self.index\n",
    "    \n",
    "    def __repr__(self):\n",
    "        return f\"Node({self.index})\"\n",
    "    \n",
    "    def __str__(self):\n",
    "        return f\"Node: {self.index}, val: {self.val}, children: {self.children}\" \n",
    "    \n",
    "\n",
    "# Taken from: \n",
    "# https://stackoverflow.com/questions/4114167/checking-if-a-number-is-a-prime-number-in-python\n",
    "from math import sqrt; from itertools import count, islice\n",
    "def is_prime(n):\n",
    "    return n > 1 and all(n%i for i in islice(count(2), int(sqrt(n)-1)))\n",
    "\n",
    "\n",
    "def get_node(index):\n",
    "    if nodes.get(index):\n",
    "        return nodes.get(index)\n",
    "    n = Node(index)\n",
    "    nodes[index] = n\n",
    "    return n\n",
    "        \n",
    "def make_tree(first: List, second: List) -> Node:\n",
    "    \"\"\"Returns root node of the Tree\"\"\"\n",
    "    for n1, n2 in zip(first, second,):\n",
    "        node1, node2 = get_node(n1), get_node(n2)\n",
    "        node1.children.append(node2)\n",
    "    return nodes[1]\n",
    "\n",
    "def assign_values(values):\n",
    "    for node, value in enumerate(values, 1):\n",
    "        nodes[node].val = value\n",
    "        \n",
    "\n",
    "def primeQuery(n, first, second, values, queries):\n",
    "    # Write your code here\n",
    "    make_tree(first, second)\n",
    "    assign_values(values)\n",
    "    \n",
    "\n",
    "def get_leafs(nodes):\n",
    "    return [node for node in nodes.values() if not node.children]\n",
    "    \n",
    "def calculate_primes(root):\n",
    "    \"\"\"calculate primes from the root of the tree\"\"\"\n",
    "    counts = defaultdict(lambda: 0)\n",
    "    leafs = get_leafs(nodes)\n",
    "    \n",
    "    \n",
    "\n",
    "primeQuery(n, first, second, values, queries)\n",
    "root = nodes[1]\n",
    "calculate_primes(root)"
   ]
  },
  {
   "cell_type": "code",
   "execution_count": null,
   "metadata": {},
   "outputs": [],
   "source": []
  }
 ],
 "metadata": {
  "kernelspec": {
   "display_name": "Python 3",
   "language": "python",
   "name": "python3"
  },
  "language_info": {
   "codemirror_mode": {
    "name": "ipython",
    "version": 3
   },
   "file_extension": ".py",
   "mimetype": "text/x-python",
   "name": "python",
   "nbconvert_exporter": "python",
   "pygments_lexer": "ipython3",
   "version": "3.6.5"
  }
 },
 "nbformat": 4,
 "nbformat_minor": 2
}
