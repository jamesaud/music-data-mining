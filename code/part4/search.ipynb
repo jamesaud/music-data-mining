{
 "cells": [
  {
   "cell_type": "markdown",
   "metadata": {},
   "source": [
    "Search using Top Charts and HipHopCharts, created connected graph of artists\n",
    "\n",
    "artist can collaborate with other artists, so we can consider Ingoing and Outgoing links for page rank\n",
    "\n",
    "Create visual circles describing \n",
    "\n",
    "Graph of words for different genres: https://towardsdatascience.com/getting-started-with-graph-analysis-in-python-with-pandas-and-networkx-5e2d2f82f18e\n",
    "\n",
    "https://networkx.github.io/\n",
    "https://plot.ly/python/3d-network-graph/\n",
    "\n",
    "Max distance from one node to another\n",
    "Avg distance from one node to another\n",
    "Pagerank\n",
    "\n",
    "\n",
    "artist = domain\n",
    "song = document\n",
    "collaborators = outgoing links / incoming links\n",
    "lyrics = docuemnt text"
   ]
  },
  {
   "cell_type": "code",
   "execution_count": 1,
   "metadata": {},
   "outputs": [],
   "source": [
    "from pymongo import MongoClient\n",
    "\n",
    "# DB CONFIG\n",
    "client = MongoClient('mongo', 27017)\n",
    "db = client.music_db"
   ]
  },
  {
   "cell_type": "code",
   "execution_count": 2,
   "metadata": {},
   "outputs": [
    {
     "name": "stderr",
     "output_type": "stream",
     "text": [
      "/opt/conda/lib/python3.6/site-packages/ipykernel_launcher.py:1: DeprecationWarning: collection_names is deprecated. Use list_collection_names instead.\n",
      "  \"\"\"Entry point for launching an IPython kernel.\n"
     ]
    },
    {
     "data": {
      "text/plain": [
       "['pop-songs',\n",
       " 'latin-songs',\n",
       " 'top_songs',\n",
       " 'country-songs',\n",
       " 'rock-songs',\n",
       " 'songs',\n",
       " 'jazz-songs',\n",
       " 'all-songs',\n",
       " 'christian-songs',\n",
       " 'rap-song']"
      ]
     },
     "execution_count": 2,
     "metadata": {},
     "output_type": "execute_result"
    }
   ],
   "source": [
    "db.collection_names()"
   ]
  },
  {
   "cell_type": "code",
   "execution_count": 3,
   "metadata": {},
   "outputs": [
    {
     "data": {
      "text/plain": [
       "{'_id': ObjectId('5b927851ea311f002198aadb'),\n",
       " 'title': 'I Like It',\n",
       " 'artist': 'Cardi B, Bad Bunny & J Balvin',\n",
       " 'peakPos': 5,\n",
       " 'lastPos': 0,\n",
       " 'weeks': 0,\n",
       " 'rank': 5,\n",
       " 'isNew': True,\n",
       " 'identifier': \"'I Like It' by Cardi B, Bad Bunny & J Balvin\",\n",
       " 'lyrics': {'error': 'Lyric no found, try again later.'},\n",
       " 'spotify': {'id': '1m9GAhsNfiLFRzW9pXeoG9',\n",
       "  'audio_features': {'danceability': 0.778,\n",
       "   'energy': 0.593,\n",
       "   'key': 5,\n",
       "   'loudness': -11.07,\n",
       "   'mode': 0,\n",
       "   'speechiness': 0.0956,\n",
       "   'acousticness': 0.539,\n",
       "   'instrumentalness': 0.796,\n",
       "   'liveness': 0.118,\n",
       "   'valence': 0.559,\n",
       "   'tempo': 137.013,\n",
       "   'type': 'audio_features',\n",
       "   'id': '1m9GAhsNfiLFRzW9pXeoG9',\n",
       "   'uri': 'spotify:track:1m9GAhsNfiLFRzW9pXeoG9',\n",
       "   'track_href': 'https://api.spotify.com/v1/tracks/1m9GAhsNfiLFRzW9pXeoG9',\n",
       "   'analysis_url': 'https://api.spotify.com/v1/audio-analysis/1m9GAhsNfiLFRzW9pXeoG9',\n",
       "   'duration_ms': 254928,\n",
       "   'time_signature': 4}}}"
      ]
     },
     "execution_count": 3,
     "metadata": {},
     "output_type": "execute_result"
    }
   ],
   "source": [
    "songs = list(db['songs'].find())\n",
    "songs[1]"
   ]
  },
  {
   "cell_type": "code",
   "execution_count": 4,
   "metadata": {},
   "outputs": [],
   "source": [
    "# Filter Collaboration Songs \n",
    "SEPARATORS = ['&', 'Featuring', 'With', ',', 'Feat.']\n",
    "\n",
    "def is_collaboration(artist):\n",
    "    return any([word in artist for word in SEPARATORS])\n",
    "\n",
    "collaborations = songs #[song for song in songs if is_collaboration(song['artist'])]"
   ]
  },
  {
   "cell_type": "code",
   "execution_count": 135,
   "metadata": {},
   "outputs": [
    {
     "data": {
      "text/plain": [
       "[['Drake'], ['Cardi B', 'Bad Bunny', 'J Balvin']]"
      ]
     },
     "execution_count": 135,
     "metadata": {},
     "output_type": "execute_result"
    }
   ],
   "source": [
    "\n",
    "import re\n",
    "from typing import List\n",
    "import re\n",
    "\n",
    "def clean(artists: List) -> List:\n",
    "    artists = [artist.strip() for artist in artists]\n",
    "    alphanum = re.compile(r'[^\\s\\w]+')\n",
    "    artists = [alphanum.sub('', artist) for artist in artists]\n",
    "    return artists\n",
    "\n",
    "def separate(artist: str) -> List:\n",
    "    return re.split('|'.join(SEPARATORS), artist)\n",
    "\n",
    "def add_collaborators_to_songs(collaborators, songs):\n",
    "    for collabs, song in zip(collaborators, songs):\n",
    "        song['collaborators'] = collabs\n",
    "    return songs\n",
    "\n",
    "collaborators = [song['artist'] for song in collaborations]\n",
    "collaborators = map(separate, collaborators)\n",
    "collaborators = map(clean, collaborators)\n",
    "collaborators = list(collaborators)        \n",
    "collaborations = add_collaborators_to_songs(collaborators, collaborations)\n",
    "collaborators[:2]"
   ]
  },
  {
   "cell_type": "code",
   "execution_count": 136,
   "metadata": {},
   "outputs": [],
   "source": [
    "import networkx as nx\n",
    "G = nx.DiGraph()"
   ]
  },
  {
   "cell_type": "code",
   "execution_count": 152,
   "metadata": {},
   "outputs": [],
   "source": [
    "from functools import reduce\n",
    "from operator import add\n",
    "\n",
    "def unique_artists(songs):\n",
    "    artists = [song['collaborators'] for song in songs]   # List of lists\n",
    "    artists = reduce(add, collaborators)\n",
    "    artists = [artist.strip() for artist in artists]\n",
    "    return set(artists)\n",
    "\n",
    "nodes = unique_artists(collaborations)\n",
    "G.add_nodes_from(nodes)"
   ]
  },
  {
   "cell_type": "code",
   "execution_count": 153,
   "metadata": {},
   "outputs": [],
   "source": [
    "from typing import List, Tuple\n",
    "\n",
    "def make_edges(songs) -> List[Tuple]:\n",
    "    \"\"\" Returns tuples, which creates an edge between collaborators \"\"\"\n",
    "    edges = []\n",
    "    for song in songs:\n",
    "        primary, *collabs = song['collaborators']\n",
    "        if collabs:\n",
    "            edges.append((primary, *collabs))\n",
    "    return edges\n",
    "\n",
    "def add_edges(graph: nx.Graph, edges: List[Tuple]):\n",
    "    for primary, *collabs in edges:\n",
    "        for collab in collabs:\n",
    "            graph.add_edge(primary, collab)\n",
    "            \n",
    "    \n",
    "edges = make_edges(collaborations)\n",
    "add_edges(G, edges)"
   ]
  },
  {
   "cell_type": "code",
   "execution_count": 154,
   "metadata": {},
   "outputs": [
    {
     "data": {
      "text/plain": [
       "AtlasView({'Justin Timberlake': {}, 'The Jacksons': {}, 'Janet Jackson': {}})"
      ]
     },
     "execution_count": 154,
     "metadata": {},
     "output_type": "execute_result"
    }
   ],
   "source": [
    "G['Michael Jackson']"
   ]
  },
  {
   "cell_type": "markdown",
   "metadata": {},
   "source": [
    "## Draw Graph"
   ]
  },
  {
   "cell_type": "code",
   "execution_count": 155,
   "metadata": {},
   "outputs": [
    {
     "data": {
      "text/plain": [
       "<networkx.classes.digraph.DiGraph at 0x7fe64d1876d8>"
      ]
     },
     "execution_count": 155,
     "metadata": {},
     "output_type": "execute_result"
    }
   ],
   "source": [
    "import matplotlib.pyplot as plt\n",
    "import plotly.graph_objs as go\n",
    "import plotly.plotly as py\n",
    "\n",
    "options = {}\n",
    "\n",
    "def assign_positions(graph: nx.Graph):\n",
    "    positions = nx.spring_layout(G)\n",
    "    nx.set_node_attributes(G, positions, 'pos')\n",
    "    return G\n",
    "    \n",
    "assign_positions(G)"
   ]
  },
  {
   "cell_type": "code",
   "execution_count": 156,
   "metadata": {},
   "outputs": [],
   "source": [
    "\n",
    "def plot_graph(G):\n",
    "\n",
    "    pos = nx.get_node_attributes(G, 'pos')\n",
    "\n",
    "    dmin = 1\n",
    "    ncenter = 'Drake'\n",
    "    for n in pos:\n",
    "        x, y= pos[n]\n",
    "        d=(x-0.5)**2+(y-0.5)**2\n",
    "        if d<dmin:\n",
    "            ncenter=n\n",
    "            dmin=d\n",
    "\n",
    "    p = nx.single_source_shortest_path_length(G,ncenter)\n",
    "\n",
    "    # \n",
    "\n",
    "    edge_trace = go.Scatter(\n",
    "        x=[],\n",
    "        y=[],\n",
    "        line=dict(width=0.5,color='#888'),\n",
    "        hoverinfo='none',\n",
    "        mode='lines')\n",
    "\n",
    "    for edge in G.edges():\n",
    "        x0, y0 = G.node[edge[0]]['pos']\n",
    "        x1, y1 = G.node[edge[1]]['pos']\n",
    "        edge_trace['x'] += tuple([x0, x1, None])\n",
    "        edge_trace['y'] += tuple([y0, y1, None])\n",
    "\n",
    "    node_trace = go.Scatter(\n",
    "        x=[],\n",
    "        y=[],\n",
    "        text=[],\n",
    "        mode='markers',\n",
    "        hoverinfo='text',\n",
    "        marker=dict(\n",
    "            showscale=True,\n",
    "            # colorscale options\n",
    "            #'Greys' | 'YlGnBu' | 'Greens' | 'YlOrRd' | 'Bluered' | 'RdBu' |\n",
    "            #'Reds' | 'Blues' | 'Picnic' | 'Rainbow' | 'Portland' | 'Jet' |\n",
    "            #'Hot' | 'Blackbody' | 'Earth' | 'Electric' | 'Viridis' |\n",
    "            colorscale='YlGnBu',\n",
    "            reversescale=True,\n",
    "            color=[],\n",
    "            size=10,\n",
    "            colorbar=dict(\n",
    "                thickness=15,\n",
    "                title='Node Connections',\n",
    "                xanchor='left',\n",
    "                titleside='right'\n",
    "            ),\n",
    "            line=dict(width=2)))\n",
    "\n",
    "    for node in G.nodes():\n",
    "        x, y = G.node[node]['pos']\n",
    "        node_trace['x'] += tuple([x])\n",
    "        node_trace['y'] += tuple([y])\n",
    "\n",
    "    adj_length = len(list(G.adjacency()))\n",
    "\n",
    "    from IPython.display import display, clear_output\n",
    "\n",
    "    i = 0\n",
    "    for node, adjacencies in enumerate(G.adjacency()):\n",
    "        node_trace['marker']['color']+=tuple([len(adjacencies[1])])\n",
    "        name = adjacencies[0]\n",
    "        node_info = f\"\"\"\n",
    "                        {name} | \n",
    "                        # of outgoing connections: {len(adjacencies[1])} | \n",
    "                        # of incoming connections: {G.in_degree(name)}\n",
    "                        \"\"\"\n",
    "        node_trace['text'] += tuple([node_info])\n",
    "        i +=1\n",
    "        if i % 10 == 0:\n",
    "            clear_output(wait=True)\n",
    "            print(f'{i}/{adj_length}', end=\" \")\n",
    "\n",
    "    fig = go.Figure(data=[edge_trace, node_trace],\n",
    "                 layout=go.Layout(\n",
    "                    title='<br>Artists Connections',\n",
    "                    titlefont=dict(size=16),\n",
    "                    showlegend=False,\n",
    "                    hovermode='closest',\n",
    "                    margin=dict(b=20,l=5,r=5,t=40),\n",
    "                    annotations=[ dict(\n",
    "                        text=\"Python code: <a href='https://plot.ly/ipython-notebooks/network-graphs/'> https://plot.ly/ipython-notebooks/network-graphs/</a>\",\n",
    "                        showarrow=False,\n",
    "                        xref=\"paper\", yref=\"paper\",\n",
    "                        x=0.005, y=-0.002 ) ],\n",
    "                    xaxis=dict(showgrid=False, zeroline=False, showticklabels=False),\n",
    "                    yaxis=dict(showgrid=False, zeroline=False, showticklabels=False)))\n",
    "\n",
    "    return py.iplot(fig, filename='networkx')\n",
    "    \n"
   ]
  },
  {
   "cell_type": "code",
   "execution_count": 143,
   "metadata": {},
   "outputs": [],
   "source": [
    "plot_graph(G)"
   ]
  },
  {
   "cell_type": "code",
   "execution_count": 84,
   "metadata": {},
   "outputs": [],
   "source": [
    "# Sort by outgoing connections\n",
    "# Sort by incoming connections"
   ]
  },
  {
   "cell_type": "code",
   "execution_count": 157,
   "metadata": {},
   "outputs": [],
   "source": [
    "def sorted_nodes(g: nx.Graph, out_degree=False):\n",
    "    \"\"\"in_degree is False\"\"\"\n",
    "    sort_type = G.out_degree if out_degree else G.in_degree\n",
    "    sorted_n = sorted(G.nodes, key=sort_type, reverse=True)\n",
    "    return [(node, sort_type(node)) for node in sorted_n]\n",
    "\n",
    "in_degrees = sorted_nodes(G)\n",
    "out_degrees = sorted_nodes(G, out_degree=True)"
   ]
  },
  {
   "cell_type": "code",
   "execution_count": 158,
   "metadata": {},
   "outputs": [
    {
     "data": {
      "text/html": [
       "<div>\n",
       "<style scoped>\n",
       "    .dataframe tbody tr th:only-of-type {\n",
       "        vertical-align: middle;\n",
       "    }\n",
       "\n",
       "    .dataframe tbody tr th {\n",
       "        vertical-align: top;\n",
       "    }\n",
       "\n",
       "    .dataframe thead th {\n",
       "        text-align: right;\n",
       "    }\n",
       "</style>\n",
       "<table border=\"1\" class=\"dataframe\">\n",
       "  <thead>\n",
       "    <tr style=\"text-align: right;\">\n",
       "      <th></th>\n",
       "      <th>Artist</th>\n",
       "      <th>In_Degree</th>\n",
       "      <th>Out_Degree</th>\n",
       "    </tr>\n",
       "  </thead>\n",
       "  <tbody>\n",
       "    <tr>\n",
       "      <th>0</th>\n",
       "      <td>Lil Wayne</td>\n",
       "      <td>67</td>\n",
       "      <td>29</td>\n",
       "    </tr>\n",
       "    <tr>\n",
       "      <th>1</th>\n",
       "      <td>Nicki Minaj</td>\n",
       "      <td>42</td>\n",
       "      <td>18</td>\n",
       "    </tr>\n",
       "    <tr>\n",
       "      <th>2</th>\n",
       "      <td>Drake</td>\n",
       "      <td>40</td>\n",
       "      <td>36</td>\n",
       "    </tr>\n",
       "    <tr>\n",
       "      <th>3</th>\n",
       "      <td>Rick Ross</td>\n",
       "      <td>38</td>\n",
       "      <td>25</td>\n",
       "    </tr>\n",
       "    <tr>\n",
       "      <th>4</th>\n",
       "      <td>Chris Brown</td>\n",
       "      <td>37</td>\n",
       "      <td>32</td>\n",
       "    </tr>\n",
       "  </tbody>\n",
       "</table>\n",
       "</div>"
      ],
      "text/plain": [
       "        Artist  In_Degree  Out_Degree\n",
       "0    Lil Wayne         67          29\n",
       "1  Nicki Minaj         42          18\n",
       "2        Drake         40          36\n",
       "3    Rick Ross         38          25\n",
       "4  Chris Brown         37          32"
      ]
     },
     "execution_count": 158,
     "metadata": {},
     "output_type": "execute_result"
    }
   ],
   "source": [
    "from pprint import pprint\n",
    "from pandas import DataFrame \n",
    "import pandas as pd\n",
    "from operator import itemgetter\n",
    "\n",
    "df_in = DataFrame(in_degrees, columns=['Artist', 'In_Degree'])\n",
    "df_out = DataFrame(out_degrees, columns=['Artist', 'Out_Degree'])\n",
    "df = pd.merge(df_in, df_out, on=['Artist'])\n",
    "df.head()"
   ]
  },
  {
   "cell_type": "code",
   "execution_count": 161,
   "metadata": {},
   "outputs": [
    {
     "name": "stdout",
     "output_type": "stream",
     "text": [
      "270/270 "
     ]
    },
    {
     "name": "stderr",
     "output_type": "stream",
     "text": [
      "/opt/conda/lib/python3.6/site-packages/plotly/tools.py:1428: UserWarning:\n",
      "\n",
      "Looks like you used a newline character: '\\n'.\n",
      "\n",
      "Plotly uses a subset of HTML escape characters\n",
      "to do things like newline (<br>), bold (<b></b>),\n",
      "italics (<i></i>), etc. Your newline characters \n",
      "have been converted to '<br>' so they will show \n",
      "up right on your Plotly figure!\n",
      "\n"
     ]
    },
    {
     "data": {
      "text/html": [
       "<iframe id=\"igraph\" scrolling=\"no\" style=\"border:none;\" seamless=\"seamless\" src=\"https://plot.ly/~jamesaud/89.embed\" height=\"525px\" width=\"100%\"></iframe>"
      ],
      "text/plain": [
       "<plotly.tools.PlotlyDisplay object>"
      ]
     },
     "execution_count": 161,
     "metadata": {},
     "output_type": "execute_result"
    }
   ],
   "source": [
    "\n",
    "def subgraph(G, n_keep=3):\n",
    "    to_keep = []\n",
    "    for i, row in df.iterrows():\n",
    "        if row['In_Degree'] >= n_keep or row['Out_Degree'] >= n_keep:\n",
    "            to_keep.append(row['Artist'])  \n",
    "            \n",
    "    return G.subgraph(to_keep)\n",
    "\n",
    "sub_g = subgraph(G, n_keep=5)\n",
    "assign_positions(sub_g)\n",
    "plot_graph(sub_g)\n",
    "\n",
    "# 270 nodes"
   ]
  },
  {
   "cell_type": "code",
   "execution_count": null,
   "metadata": {},
   "outputs": [],
   "source": [
    "# Apply algorithms from https://networkx.github.io/documentation/stable/reference/algorithms/index.html\n",
    "# Make weight the best ranking of the song"
   ]
  }
 ],
 "metadata": {
  "kernelspec": {
   "display_name": "Python 3",
   "language": "python",
   "name": "python3"
  },
  "language_info": {
   "codemirror_mode": {
    "name": "ipython",
    "version": 3
   },
   "file_extension": ".py",
   "mimetype": "text/x-python",
   "name": "python",
   "nbconvert_exporter": "python",
   "pygments_lexer": "ipython3",
   "version": "3.6.3"
  }
 },
 "nbformat": 4,
 "nbformat_minor": 2
}
