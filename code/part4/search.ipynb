{
 "cells": [
  {
   "cell_type": "markdown",
   "metadata": {},
   "source": [
    "Search using Top Charts and HipHopCharts, created connected graph of artists\n",
    "\n",
    "artist can collaborate with other artists, so we can consider Ingoing and Outgoing links for page rank\n",
    "\n",
    "Create visual circles describing \n",
    "\n",
    "Graph of words for different genres: https://towardsdatascience.com/getting-started-with-graph-analysis-in-python-with-pandas-and-networkx-5e2d2f82f18e\n",
    "\n",
    "https://networkx.github.io/\n",
    "https://plot.ly/python/3d-network-graph/\n",
    "\n",
    "Max distance from one node to another\n",
    "Avg distance from one node to another\n",
    "Pagerank\n",
    "\n",
    "\n",
    "artist = domain\n",
    "song = document\n",
    "collaborators = outgoing links / incoming links\n",
    "lyrics = docuemnt text"
   ]
  },
  {
   "cell_type": "code",
   "execution_count": 1,
   "metadata": {},
   "outputs": [],
   "source": [
    "from pymongo import MongoClient\n",
    "\n",
    "# DB CONFIG\n",
    "client = MongoClient('mongo', 27017)\n",
    "db = client.music_db"
   ]
  },
  {
   "cell_type": "code",
   "execution_count": 2,
   "metadata": {},
   "outputs": [
    {
     "name": "stderr",
     "output_type": "stream",
     "text": [
      "/opt/conda/lib/python3.6/site-packages/ipykernel_launcher.py:1: DeprecationWarning: collection_names is deprecated. Use list_collection_names instead.\n",
      "  \"\"\"Entry point for launching an IPython kernel.\n"
     ]
    },
    {
     "data": {
      "text/plain": [
       "['pop-songs',\n",
       " 'latin-songs',\n",
       " 'top_songs',\n",
       " 'country-songs',\n",
       " 'rock-songs',\n",
       " 'songs',\n",
       " 'jazz-songs',\n",
       " 'all-songs',\n",
       " 'christian-songs',\n",
       " 'rap-song']"
      ]
     },
     "execution_count": 2,
     "metadata": {},
     "output_type": "execute_result"
    }
   ],
   "source": [
    "db.collection_names()"
   ]
  },
  {
   "cell_type": "code",
   "execution_count": 3,
   "metadata": {},
   "outputs": [
    {
     "data": {
      "text/plain": [
       "{'_id': ObjectId('5ba78864539667005f93a706'),\n",
       " 'title': 'Girls Like You',\n",
       " 'artist': 'Maroon 5 Featuring Cardi B',\n",
       " 'peakPos': 94,\n",
       " 'lastPos': 0,\n",
       " 'weeks': 0,\n",
       " 'rank': 94,\n",
       " 'isNew': True,\n",
       " 'identifier': \"'Girls Like You' by Maroon 5 Featuring Cardi B\",\n",
       " 'lyrics': {'error': 'Lyric no found, try again later.'}}"
      ]
     },
     "execution_count": 3,
     "metadata": {},
     "output_type": "execute_result"
    }
   ],
   "source": [
    "songs = list(db['songs'].find())\n",
    "songs[1]"
   ]
  },
  {
   "cell_type": "code",
   "execution_count": 4,
   "metadata": {},
   "outputs": [],
   "source": [
    "# Filter Collaboration Songs \n",
    "SEPARATORS = ['&', 'Featuring', 'With', ',', 'Feat.']\n",
    "\n",
    "def is_collaboration(artist):\n",
    "    return any([word in artist for word in SEPARATORS])\n",
    "\n",
    "collaborations = songs #[song for song in songs if is_collaboration(song['artist'])]"
   ]
  },
  {
   "cell_type": "code",
   "execution_count": 5,
   "metadata": {},
   "outputs": [
    {
     "data": {
      "text/plain": [
       "[['Drake'], ['Maroon 5', 'Cardi B']]"
      ]
     },
     "execution_count": 5,
     "metadata": {},
     "output_type": "execute_result"
    }
   ],
   "source": [
    "\n",
    "import re\n",
    "from typing import List\n",
    "import re\n",
    "\n",
    "def clean(artists: List) -> List:\n",
    "    artists = [artist.strip() for artist in artists]\n",
    "    alphanum = re.compile(r'[^\\s\\w]+')\n",
    "    artists = [alphanum.sub('', artist) for artist in artists]\n",
    "    return artists\n",
    "\n",
    "def separate(artist: str) -> List:\n",
    "    return re.split('|'.join(SEPARATORS), artist)\n",
    "\n",
    "def add_collaborators_to_songs(collaborators, songs):\n",
    "    for collabs, song in zip(collaborators, songs):\n",
    "        song['collaborators'] = collabs\n",
    "    return songs\n",
    "\n",
    "collaborators = [song['artist'] for song in collaborations]\n",
    "collaborators = map(separate, collaborators)\n",
    "collaborators = map(clean, collaborators)\n",
    "collaborators = list(collaborators)        \n",
    "collaborations = add_collaborators_to_songs(collaborators, collaborations)\n",
    "collaborators[:2]\n"
   ]
  },
  {
   "cell_type": "code",
   "execution_count": 6,
   "metadata": {},
   "outputs": [
    {
     "data": {
      "text/plain": [
       "6"
      ]
     },
     "execution_count": 6,
     "metadata": {},
     "output_type": "execute_result"
    }
   ],
   "source": [
    "collaborations[0]['peakPos']"
   ]
  },
  {
   "cell_type": "code",
   "execution_count": 7,
   "metadata": {},
   "outputs": [],
   "source": [
    "import networkx as nx\n",
    "G = nx.DiGraph()"
   ]
  },
  {
   "cell_type": "code",
   "execution_count": 8,
   "metadata": {},
   "outputs": [],
   "source": [
    "from functools import reduce\n",
    "from operator import add\n",
    "\n",
    "def unique_artists(songs):\n",
    "    artists = [song['collaborators'] for song in songs]   # List of lists\n",
    "    artists = reduce(add, collaborators)\n",
    "    artists = [artist.strip() for artist in artists]\n",
    "    return set(artists)\n",
    "\n",
    "nodes = unique_artists(collaborations)\n",
    "G.add_nodes_from(nodes)"
   ]
  },
  {
   "cell_type": "code",
   "execution_count": 9,
   "metadata": {},
   "outputs": [],
   "source": [
    "from typing import List, Tuple\n",
    "\n",
    "def make_edges(songs) -> List[Tuple]:\n",
    "    \"\"\" Returns tuples, which creates an edge between collaborators \"\"\"\n",
    "    edges = []\n",
    "    for song in songs:\n",
    "        primary, *collabs = song['collaborators']\n",
    "        if collabs:\n",
    "            edges.append((primary, *collabs))\n",
    "    return edges\n",
    "\n",
    "def add_edges(graph: nx.Graph, edges: List[Tuple]):\n",
    "    for primary, *collabs in edges:\n",
    "        for collab in collabs:\n",
    "            graph.add_edge(primary, collab)\n",
    "            \n",
    "    \n",
    "edges = make_edges(collaborations)\n",
    "add_edges(G, edges)"
   ]
  },
  {
   "cell_type": "code",
   "execution_count": 10,
   "metadata": {},
   "outputs": [
    {
     "data": {
      "text/plain": [
       "OutEdgeView([('Monica', 'Dem Franchize Boyz'), ('Lenny Kravitz', 'JayZ'), ('Tim McGraw', 'Faith Hill'), ('Tim McGraw', 'Catherine Dunn'), ('Tim McGraw', 'Taylor Swift'), ('Tyler', 'The Creator'), ('Justin Timberlake', 'Chris Stapleton'), ('Justin Timberlake', 'JAY Z'), ('Justin Timberlake', 'Matt Morris'), ('Justin Timberlake', 'Charlie Sexton'), ('Justin Timberlake', 'TI'), ('Kid Rock', 'Sheryl Crow'), ('Jay Sean', 'Pitbull'), ('Jay Sean', 'Lil Wayne'), ('Jay Sean', 'Nicki Minaj'), ('Jay Sean', 'Sean Paul'), ('Jay Sean', 'Lil Jon'), ('Bandit Gang Marco', 'Dro'), ('Bone Crusher', 'Killer Mike'), ('Bone Crusher', 'TI'), ('Chris Jamison', 'Adam Levine'), ('Sevyn Streeter', 'Chris Brown'), ('Missy Elliott', 'Lamb'), ('Missy Elliott', 'Pharrell Williams'), ('Missy Elliott', 'Ciara'), ('Missy Elliott', 'Fat Man Scoop'), ('Ashley Tisdale', 'Lucas Grabeel'), ('Jay Z Kanye West', 'Frank Ocean'), ('Jay Z Kanye West', 'Otis Redding'), ('Daddy Yankee', 'Fergie'), ('LinManuel Miranda', 'Ben Platt'), ('LinManuel Miranda', 'Artists For Puerto Rico'), ('Will Smith', 'TraKnox'), ('Will Smith', 'KCi'), ('Will Smith', 'Dru Hill'), ('Will Smith', 'Kool Mo Dee'), ('Joe Budden', 'Lil Wayne'), ('Joe Budden', 'Tank'), ('The Roc Project', 'Tina Arena'), ('Diddy', 'Keyshia Cole'), ('Diddy', 'Christina Aguilera'), ('Diddy', 'Nicole Scherzinger'), ('Daniel Caesar', 'HER'), ('Daniel Caesar', 'Kali Uchis'), ('Pastor Troy', 'Ms Jade'), ('Charlie Puth', 'Kehlani'), ('Charlie Puth', 'Selena Gomez'), ('Charlie Puth', 'Meghan Trainor'), ('Chris Brown', 'Yo Gotti'), ('Chris Brown', 'A Boogie Wit da Hoodie'), ('Chris Brown', 'Kodak Black'), ('Chris Brown', 'Future'), ('Chris Brown', 'Young Thug'), ('Chris Brown', 'Usher'), ('Chris Brown', 'Gucci Mane'), ('Chris Brown', 'Tyga'), ('Chris Brown', 'Rick Ross'), ('Chris Brown', 'Lil Wayne'), ('Chris Brown', 'French Montana Or Too hort Or Tyga'), ('Chris Brown', 'Nicki Minaj'), ('Chris Brown', 'Aaliyah'), ('Chris Brown', 'Kevin KMAC McCall'), ('Chris Brown', 'Ludacris'), ('Chris Brown', 'Benny Benassi'), ('Chris Brown', 'Busta Rhymes'), ('Chris Brown', 'Justin Bieber'), ('Chris Brown', 'Kevin McCall'), ('Chris Brown', 'Swizz Beatz'), ('Chris Brown', 'Plies'), ('Chris Brown', 'TPain'), ('Chris Brown', 'Jay Biz'), ('CSide', 'Keyshia Cole'), ('TPain', 'BoB'), ('TPain', 'Wiz Khalifa'), ('TPain', 'Lily Allen'), ('TPain', 'Lil Wayne'), ('TPain', 'Joey Galaxy'), ('TPain', 'Chris Brown'), ('TPain', 'Rick Ross'), ('TPain', 'Ludacris'), ('TPain', 'Akon'), ('TPain', 'Yung Joc'), ('TPain', 'Mike Jones'), ('Savage', 'Soulja Boy Tellem'), ('Chad Brock', 'Hank Williams Jr'), ('Chad Brock', 'George Jones'), ('Tupac', 'Eminem'), ('Tupac', 'The Outlawz'), ('Tupac', 'The Notorious BIG'), ('Jidenna', 'Roman GianArthur'), ('Rudimental', 'Ed Sheeran'), ('Katy Perry', 'Nicki Minaj'), ('Katy Perry', 'Migos'), ('Katy Perry', 'Skip Marley'), ('Katy Perry', 'Juicy J'), ('Katy Perry', 'Kanye West'), ('Katy Perry', 'Snoop Dogg'), ('Reba McEntire Duet', 'Kelly Clarkson'), ('Dolla', 'TPain'), ('Dolla', 'Tay Dizm'), ('Dove Cameron', 'Cameron Boyce'), ('Dove Cameron', 'Booboo Stewart'), ('Dove Cameron', 'Sofia Carson'), ('Afrojack', 'Wrabel'), ('Afrojack', 'Chris Brown'), ('Afrojack', 'Eva Simons'), ('Auburn', 'Iyaz'), ('Steve Aoki', 'Louis Tomlinson'), ('Steve Aoki', 'Chris Lake'), ('Steve Aoki', 'Tujamo'), ('Steve Aoki', 'Kid Ink'), ('Zay Hilfigerrr', 'Zayion McCall'), ('Counting Crows', 'Vanessa Carlton'), ('Shaggy', 'Mohombi'), ('Shaggy', 'Faydee'), ('Shaggy', 'Costi'), ('Shaggy', 'Rayvon'), ('Shaggy', 'Ricardo RikRok Ducent'), ('Shaggy', 'Janet'), ('Pitbull', 'Flo Rida'), ('Pitbull', 'LunchMoney Lewis'), ('Pitbull', 'Enrique Iglesias'), ('Pitbull', 'Chris Brown'), ('Pitbull', 'NeYo'), ('Pitbull', 'John Ryan'), ('Pitbull', 'Keha'), ('Pitbull', 'Jennifer Lopez'), ('Pitbull', 'Claudia Leitte'), ('Pitbull', 'GRL'), ('Pitbull', 'Christina Aguilera'), ('Pitbull', 'TJR'), ('Pitbull', 'Shakira'), ('Pitbull', 'Afrojack'), ('Pitbull', 'Nayer'), ('Pitbull', 'Marc Anthony'), ('Pitbull', 'TPain'), ('Pitbull', 'Sean Paul'), ('Pitbull', 'Akon'), ('Pitbull', 'Lil Jon'), ('Pitbull', 'Trina'), ('Pitbull', 'Young Bo'), ('Christina Aguilera', 'Blake Shelton'), ('Christina Aguilera', 'Chris Mann'), ('Christina Aguilera', 'Beverly McClellan'), ('Christina Aguilera', 'Nicki Minaj'), ('Christina Aguilera', 'Missy Elliott'), ('Christina Aguilera', 'Lil Kim'), ('Christina Aguilera', 'Redman'), ('Christina Aguilera', 'Mya'), ('Christina Aguilera', 'Pnk'), ('Adam Levine', 'Tony Lucca'), ('Adam Levine', 'Javier Colon'), ('Taylor Swift', 'Ed Sheeran'), ('Taylor Swift', 'Future'), ('Taylor Swift', 'Kendrick Lamar'), ('Taylor Swift', 'The Civil Wars'), ('Taylor Swift', 'Colbie Caillat'), ('Hot Stylz', 'Yung Joc'), ('Big Bub', 'Queen Latifah'), ('Big Bub', 'Heavy D'), ('Kodak Black', 'Lil Wayne'), ('Kodak Black', 'XXXTENTACION'), ('Kodak Black', 'Future'), ('Melissa Etheridge', 'Joss Stone'), ('Aaron Lewis Of Staind', 'Fred Durst'), ('TeeFLii', '2 Chainz'), ('Torrey Carter', 'Missy Misdemeanor Elliott'), ('YC', 'Future'), ('Isyss', 'Jadakiss'), ('Dante Thomas', 'Pras'), ('QB Finest', 'Nas'), ('QB Finest', 'Bravehearts'), ('Post Malone', 'Ty Dolla ign'), ('Post Malone', 'Nicki Minaj'), ('Post Malone', '21 Savage'), ('Post Malone', 'Swae Lee'), ('Post Malone', 'GEazy'), ('Post Malone', 'YG'), ('Post Malone', 'Quavo'), ('Post Malone', 'Justin Bieber'), ('Maren Morris', 'Vince Gill'), ('City High', 'Eve'), ('New Boyz', 'Chris Brown'), ('New Boyz', 'The Cataracs'), ('New Boyz', 'Dev'), ('New Boyz', 'Iyaz'), ('New Boyz', 'Ray J'), ('Kirk Franklin', 'Mary J Blige'), ('Kirk Franklin', 'Bono'), ('Kirk Franklin', 'R Kelly'), ('Kirk Franklin', 'Crystal Lewis'), ('Kirk Franklin', 'The Family'), ('Tyga', 'Offset'), ('Tyga', 'Young Thug'), ('Tyga', 'Justin Bieber'), ('Tyga', 'Cedric Gervais'), ('Tyga', 'Wiz Khalifa'), ('Tyga', 'Mally Mall'), ('Tyga', 'Rick Ross'), ('Tyga', 'Lil Wayne'), ('Tyga', 'Nicki Minaj'), ('Tyga', 'Drake'), ('Tyga', 'Chris Richardson'), ('Tyga', 'Travis McCoy'), ('Panjabi MC', 'JayZ'), ('James Newton Howard', 'Jennifer Lawrence'), ('Demi Lovato', 'Cher Lloyd'), ('Demi Lovato', 'Jonas Brothers'), ('Demi Lovato', 'Joe Jonas'), ('Jesse McCartney', 'TPain'), ('Jesse McCartney', 'Ludacris'), ('Baby', 'Clipse'), ('Baby', 'P Diddy'), ('DJ Taz', 'Raheem The Dream'), ('Korn', 'Amy Lee'), ('Refugee Camp All Stars', 'Pras '), ('Refugee Camp All Stars', 'Kymani'), ('Jake Paul', 'Team 10'), ('Jake Paul', 'Erika Costell'), ('Jake Paul', 'Uncle Kade'), ('Zac Brown Band', 'Jimmy Buffett'), ('Zac Brown Band', 'Alan Jackson'), ('Miguel', 'Travis Scott'), ('Miguel', 'J Cole'), ('Soulja Boy Tellem', 'Arab'), ('Soulja Boy Tellem', 'I15'), ('Garrett Hedlund', 'Leighton Meester'), ('Heltah Skeltah', 'Starang Wondah Of OGC'), ('Heltah Skeltah', 'Doc Holiday'), ('Game', 'Chris Brown'), ('Game', 'Tyga'), ('Game', 'Wiz Khalifa'), ('Game', 'Lil Wayne'), ('Game', 'Tyler'), ('Game', 'The Creator'), ('JoJo', 'Bow Wow'), ('Naughty Boy', 'Beyonce'), ('Naughty Boy', 'Arrow Benjamin'), ('Naughty Boy', 'Sam Smith'), ('Mobb Deep', '112'), ('Mobb Deep', 'Vita'), ('Mobb Deep', 'Noyd'), ('R Kelly', '2 Chainz'), ('R Kelly', 'Keri Hilson'), ('R Kelly', 'The Game'), ('R Kelly', 'JayZ'), ('R Kelly', 'Big Tigger'), ('R Kelly', 'Celine Dion'), ('R Kelly', 'Keith Murray'), ('NEEDTOBREATHE', 'Gavin DeGraw'), ('Hoodie Allen', 'Ed Sheeran'), ('Rell', 'JayZ'), ('Charice', 'Iyaz'), ('RL', 'Snoop Dogg'), ('RL', 'Lil Kim'), ('Marshmello', 'AnneMarie'), ('Marshmello', 'Khalid'), ('Brad Paisley', 'LL Cool J'), ('Brad Paisley', 'Alabama'), ('Brad Paisley', 'Dolly Parton'), ('Brad Paisley', 'Alison Krauss'), ('Young Jeezy', '2 Chainz'), ('Young Jeezy', 'NeYo'), ('Young Jeezy', 'JayZ'), ('Young Jeezy', 'Andre 3000'), ('Young Jeezy', 'Lil Wayne'), ('Young Jeezy', 'Plies'), ('Young Jeezy', 'Nas'), ('Young Jeezy', 'Kanye West'), ('Young Jeezy', 'R Kelly'), ('Young Jeezy', 'Akon'), ('Young Jeezy', 'Mannie Fresh'), ('Wham', 'George Michael'), ('Kumbia Kings', 'AB Quintanilla'), ('Shania Twain', 'Billy Currington Or Mark McGrath'), ('Juicy J', 'Wiz Khalifa'), ('Juicy J', 'Ty Dolla ign'), ('Juicy J', 'Kill The Noise'), ('Juicy J', 'Madsonik'), ('Juicy J', 'Wale'), ('Juicy J', 'Trey Songz'), ('Juicy J', 'Big Sean'), ('Juicy J', 'Young Jeezy'), ('Juicy J', 'Lil Wayne'), ('Juicy J', '2 Chainz'), ('Tinie Tempah', 'Wiz Khalifa'), ('Tinie Tempah', 'Eric Turner'), ('Kendrick Lamar', 'SZA'), ('Kendrick Lamar', 'Zacari'), ('Kendrick Lamar', 'Travis Scott'), ('Kendrick Lamar', 'Rihanna'), ('Kendrick Lamar', 'U2'), ('Kendrick Lamar', 'George Clinton'), ('Kendrick Lamar', 'Thundercat'), ('Kendrick Lamar', 'Bilal'), ('Kendrick Lamar', 'Anna Wise'), ('Kendrick Lamar', 'Snoop Dogg'), ('Kendrick Lamar', 'MC Eiht'), ('Kendrick Lamar', 'Drake'), ('DJ Felli Fel', 'Diddy'), ('DJ Felli Fel', 'Akon'), ('DJ Felli Fel', 'Ludacris'), ('DJ Felli Fel', 'Lil Jon'), ('Meghan Trainor', 'John Legend'), ('Chris Young Duet', 'Cassadee Pope'), ('Artists Of Then', 'Now'), ('Artists Of Then', 'Forever'), ('Lady Gaga', 'R Kelly'), ('Lady Gaga', 'Beyonce'), ('Lady Gaga', 'Colby ODonis'), ('Silkk The Shocker', 'Mystikal'), ('Silkk The Shocker', 'Master P'), ('Silkk The Shocker', 'Destinys Child'), ('Silkk The Shocker', 'ODell'), ('Silkk The Shocker', 'Mo'), ('BLACKstreet', 'Janet'), ('BLACKstreet', 'Mya'), ('BLACKstreet', 'Mase'), ('BLACKstreet', 'Blinky Blink'), ('BLACKstreet', 'Special Guests Ol Dirty Bastard'), ('BLACKstreet', 'Slash'), ('Young Dro', 'TI'), ('Funkmaster Flex', 'DMX'), ('Monchy', 'Alexandra'), ('Toby Keith Duet', 'Willie Nelson'), ('Ace Hood', 'Future'), ('Ace Hood', 'Rick Ross'), ('Ace Hood', 'Chris Brown'), ('Ace Hood', 'Trey Songz'), ('Robin Schulz', 'Francesco Yates'), ('Jonas Blue', 'Dakota'), ('Rick Ross', 'Young Thug'), ('Rick Ross', 'Wale'), ('Rick Ross', 'Chris Brown'), ('Rick Ross', 'Kanye West'), ('Rick Ross', 'Big Sean'), ('Rick Ross', 'JayZ'), ('Rick Ross', 'Drake'), ('Rick Ross', 'French Montana'), ('Rick Ross', 'Nicki Minaj'), ('Rick Ross', 'Lil Wayne Or TI'), ('Rick Ross', 'Chrisette Michele'), ('Rick Ross', 'Styles P'), ('Rick Ross', 'NeYo'), ('Rick Ross', 'John Legend'), ('Rick Ross', 'TPain'), ('Rick Ross', 'Lil Wayne'), ('Rick Ross', 'Nelly'), ('Rick Ross', 'Avery Storm'), ('Trippie Redd', 'Travis Scott'), ('Pharrell', 'Kanye West'), ('Pharrell', 'Gwen Stefani'), ('Pharrell', 'JayZ'), ('Patti LaBelle', 'Ron Isley'), ('DAngelo', 'Method Man And Redman'), ('LaTanya', 'Twista'), ('Mary Mary', 'Kierra KiKi Sheard'), ('Three The G Dep', 'P Diddy'), ('Three The G Dep', 'Black Rob'), ('Master P', 'Weebie'), ('Master P', 'DIG'), ('Master P', 'Silkk The Shocker'), ('Master P', 'Sons Of Funk And Mo B Dick'), ('Master P', 'Sons Of Funk'), ('Master P', 'Fiend'), ('Master P', 'Mia X'), ('Master P', 'Mystikal'), ('Master P', 'Pimp C And The Shocker'), ('Master P', 'Steady Mobbn'), ('Master P', 'Mo B Dick'), ('Master P', 'ODell'), ('Total', 'Missy Elliott'), ('Lil Scrappy', 'Young Buck'), ('Austin Mahone', 'Pitbull'), ('Gorilla Zoe', 'Lil Jon'), ('Dierks Bentley', 'Elle King'), ('Justin Bieber Duet', 'Mariah Carey'), ('Nicole Scherzinger', '50 Cent'), ('Maejor Ali', 'Juicy J'), ('Maejor Ali', 'Justin Bieber'), ('Mos Def', 'Pharoahe Monch'), ('Mos Def', 'Nate Dogg'), ('Mos Def', 'Kweli Are Black Star'), ('Do Or Die', 'Johnny P'), ('Do Or Die', 'Twista'), ('Celine Dion', 'Josh Groban'), ('Fat Joe', 'Remy Ma'), ('Fat Joe', 'Jay Z'), ('Fat Joe', 'French Montana'), ('Fat Joe', 'Infared'), ('Fat Joe', 'Chris Brown'), ('Fat Joe', 'J Holiday'), ('Fat Joe', 'Lil Wayne'), ('Fat Joe', 'Nelly'), ('Fat Joe', 'Tony Sunshine'), ('Fat Joe', 'Armageddon'), ('Fat Joe', 'Ginuwine'), ('Fat Joe', 'Ashanti'), ('Fat Joe', 'R Kelly'), ('Tanto Metro', 'Devonte'), ('Cash Cash', 'Bebe Rexha'), ('WC', 'Nate Dogg'), ('WC', 'Jon B'), ('Ayo', 'Teo'), ('Obie Trice', 'Nate Dogg'), ('Jaheim', 'Tha Rayne'), ('Jaheim', 'Next'), ('Jack', 'Jack'), ('Raphael Saadiq', 'DAngelo'), ('Raphael Saadiq', 'QTip'), ('Michael Cera', 'Ellen Page'), ('Brantley Gilbert', 'Justin Moore'), ('Brantley Gilbert', 'Thomas Rhett'), ('Kenny Rogers', 'Alison Krauss'), ('Kenny Rogers', 'Billy Dean'), ('Martin Garrix', 'Khalid'), ('Martin Garrix', 'Dua Lipa'), ('Martin Garrix', 'Bebe Rexha'), ('112', 'Foxy Brown'), ('112', 'Ludacris'), ('112', 'Super Cat'), ('112', 'Lilz'), ('112', 'Mase'), ('Romeo Santos', 'Nicky Jam'), ('Romeo Santos', 'Daddy Yankee'), ('Romeo Santos', 'Drake'), ('Romeo Santos', 'Usher'), ('Grace', 'GEazy'), ('N Sync', 'Nelly'), ('N Sync', 'Gloria Estefan'), ('RiceGum', 'Alissa Violet'), ('Bone ThugsNHarmony', 'Akon'), ('Meek Mill', 'Swizz Beatz'), ('Meek Mill', 'Jeremih'), ('Meek Mill', 'PnB Rock'), ('Meek Mill', 'Chris Brown'), ('Meek Mill', 'Ty Dolla ign'), ('Meek Mill', 'Young Thug'), ('Meek Mill', 'Lil Uzi Vert'), ('Meek Mill', 'Tory Lanez'), ('Meek Mill', 'Nicki Minaj'), ('Meek Mill', '21 Savage'), ('Meek Mill', 'Quavo'), ('Meek Mill', 'Drake'), ('Meek Mill', 'Future'), ('Meek Mill', 'Kirko Bangz'), ('Meek Mill', 'TI'), ('Meek Mill', 'Birdman'), ('Meek Mill', 'Lil Wayne'), ('Meek Mill', 'DJ Khaled'), ('Meek Mill', 'Rick Ross'), ('A Great Big World', 'FUTURISTIC'), ('A Great Big World', 'Christina Aguilera'), ('Rich Gang', 'Young Thug'), ('Rich Gang', 'Rich Homie Quan'), ('Rich Gang', 'Lil Wayne'), ('Rich Gang', 'Birdman'), ('Rich Gang', 'Future'), ('Rich Gang', 'Mack Maine'), ('Rich Gang', 'Nicki Minaj'), ('Stars On 54 Ultra Nate', 'Amber'), ('Stars On 54 Ultra Nate', 'Jocelyn Enriquez'), ('Ghostface Killah', 'NeYo'), ('Matt Nathanson', 'Sugarland'), ('Dru Hill', 'Redman'), ('Trillville', 'Cutty'), ('BRock', 'The Bizz'), ('Frenship', 'Emily Warren'), ('Sean Kingston', 'Chris Brown'), ('Sean Kingston', 'Wiz Khalifa'), ('Sean Kingston', 'Nicki Minaj'), ('Sean Kingston', 'Justin Bieber'), ('Sean Kingston', 'Elan'), ('Sean Kingston', 'Juelz Santana'), ('Eve', 'Alicia Keys'), ('Eve', 'Gwen Stefani'), ('Eve', 'Jadakiss'), ('Eve', 'Faith Evans'), ('French Montana', 'Swae Lee'), ('French Montana', 'The Weeknd'), ('French Montana', 'Max B'), ('French Montana', 'Kodak Black'), ('French Montana', 'Drake'), ('French Montana', 'Jeremih'), ('French Montana', 'Nicki Minaj'), ('French Montana', 'Rick Ross'), ('French Montana', 'Lil Wayne'), ('E40', 'TPain'), ('E40', 'Kandi Girl'), ('E40', 'Keak Da Sneak'), ('Keyshia Cole', 'Lil Wayne'), ('Keyshia Cole', '2Pac'), ('Keyshia Cole', 'Missy Elliott'), ('Keyshia Cole', 'Lil Kim'), ('Keyshia Cole', 'Shyne'), ('NAV', 'Travis Scott'), ('NAV', 'Lil Uzi Vert'), ('Nappy Roots', 'Anthony Hamilton'), ('Aaron Lewis', 'George Jones'), ('Aaron Lewis', 'Charlie Daniels'), ('SoulDecision', 'Thrust'), ('DJ Drama', 'Chris Brown'), ('DJ Drama', 'Skeme'), ('DJ Drama', 'Lyquin'), ('DJ Drama', 'Wale'), ('DJ Drama', 'Tyga'), ('DJ Drama', 'Roscoe Dash'), ('DJ Drama', '2 Chainz'), ('DJ Drama', 'Meek Mill'), ('DJ Drama', 'Jeremih'), ('DJ Drama', 'Fabolous'), ('DJ Drama', 'Wiz Khalifa'), ('Young Thug', 'Nicki Minaj'), ('Young Thug', 'Future'), ('Yo Gotti', 'Nicki Minaj'), ('Yo Gotti', 'E40'), ('Yo Gotti', 'Jeezy'), ('Yo Gotti', 'YG'), ('Yo Gotti', 'Lil Wayne'), ('Ty Dolla ign', 'E40'), ('Ty Dolla ign', 'Future'), ('Ty Dolla ign', 'Rae Sremmurd'), ('Ty Dolla ign', 'Wiz Khalifa'), ('Ty Dolla ign', 'DJ Mustard'), ('Ty Dolla ign', 'BoB'), ('Jo Dee Messina', 'Tim McGraw'), ('Sting', 'Cheb Mami'), ('Sting', 'The Police'), ('Too Short', 'Lil Jon'), ('Too Short', 'The East Side Boyz'), ('Too Short', 'Lil Kim'), ('Rihanna', 'Drake'), ('Rihanna', 'Kanye West'), ('Rihanna', 'Paul McCartney'), ('Rihanna', 'Mikky Ekko'), ('Rihanna', 'David Guetta'), ('Rihanna', 'Future'), ('Rihanna', 'Chris Brown'), ('Rihanna', 'Calvin Harris'), ('Rihanna', 'JayZ'), ('Rihanna', 'Britney Spears'), ('Rihanna', 'Slash'), ('Rihanna', 'Jeezy'), ('Rihanna', 'NeYo'), ('Rihanna', 'Sean Paul'), ('Empire Cast', 'Jussie Smollett'), ('Empire Cast', 'Yazz'), ('Empire Cast', 'Estelle'), ('Tragedy', 'Capone'), ('Tragedy', 'Infinite'), ('El Chombo', 'Cutty Ranks'), ('Armin van Buuren', 'Trevor Guthrie'), ('Ariana Grande', 'Nicki Minaj'), ('Ariana Grande', 'Future'), ('Ariana Grande', 'John Legend'), ('Ariana Grande', 'Lil Wayne'), ('Ariana Grande', 'The Weeknd'), ('Ariana Grande', 'Zedd'), ('Ariana Grande', 'Iggy Azalea'), ('Ariana Grande', 'Big Sean'), ('Ariana Grande', 'Mac Miller'), ('Ariana Grande', 'Nathan Sykes'), ('Snow Patrol', 'Martha Wainwright'), ('Lil Dicky', 'Chris Brown'), ('Lil Dicky', 'Fetty Wap'), ('Lil Dicky', 'Rich Homie Quan'), ('Uncle Kracker', 'Dobie Gray'), ('P Diddy', 'Ginuwine'), ('P Diddy', 'Loon'), ('P Diddy', 'Mario Winans'), ('P Diddy', 'Tammy Ruggeri'), ('P Diddy', 'Usher'), ('P Diddy', 'The Neptunes'), ('P Diddy', 'Black Rob'), ('P Diddy', 'Mark Curry'), ('Santana', 'Chad Kroeger'), ('Santana', 'Michelle Branch'), ('Santana', 'The Wreckers'), ('Santana', 'Alex Band Or Chad Kroeger'), ('Santana', 'Rob Thomas'), ('Santana', 'The Product G'), ('Santana', 'B'), ('Mystikal', 'Nivea'), ('Kenny Chesney', 'Pnk'), ('Kenny Chesney', 'Grace Potter'), ('Kenny Chesney', 'Tim McGraw'), ('Kenny Chesney', 'Dave Matthews'), ('Kenny Chesney', 'Mac McAnally'), ('Kenny Chesney', 'The Wailers'), ('Kenny Chesney', 'Uncle Kracker'), ('Opetaia Foai', 'LinManuel Miranda'), ('Snoop Dogg', 'Wiz Khalifa'), ('Snoop Dogg', 'Bruno Mars'), ('Snoop Dogg', 'TPain'), ('Snoop Dogg', 'TheDream'), ('Snoop Dogg', 'R Kelly'), ('Snoop Dogg', 'Charlie Wilson'), ('Snoop Dogg', 'Justin Timberlake'), ('Snoop Dogg', 'Pharrell'), ('Snoop Dogg', 'Uncle Charlie Wilson'), ('Snoop Dogg', 'Tyrese'), ('Snoop Dogg', 'Mr Tan'), ('Snoop Dogg', 'Master P'), ('Snoop Dogg', 'Nate Dogg'), ('Snoop Dogg', 'Butch Cassidy'), ('Snoop Dogg', 'Tha Eastsidaz'), ('Snoop Dogg', 'Xzibit'), ('Snoop Dogg', 'Mystikal And Fiend'), ('Le Click', 'Kayo'), ('JKwon', 'Sadiyyah'), ('Toni Braxton', 'Loon'), ('John Mayer', 'Katy Perry'), ('A R Rahman', 'The Pussycat Dolls'), ('A R Rahman', 'Nicole Scherzinger'), ('Fifth Harmony', 'Gucci Mane'), ('Fifth Harmony', 'Ty Dolla ign'), ('Fifth Harmony', 'Fetty Wap'), ('Fifth Harmony', 'Kid Ink'), ('Lil Bow Wow', 'Jagged Edge'), ('Lil Bow Wow', 'Fundisha'), ('Lil Bow Wow', 'Xscape'), ('MIKA', 'Ariana Grande'), ('Justin Timberlake Duet', 'Beyonce'), ('Ol Dirty Bastard', 'Kelis'), ('Beenie Man', 'Ms Thing'), ('Beenie Man', 'Janet'), ('Beenie Man', 'Mya'), ('Beenie Man', 'Chevelle Franklyn'), ('Jennifer Hudson', 'NeYo'), ('Jennifer Hudson', 'Rick Ross'), ('Jennifer Hudson', 'The Roots'), ('Paul Wall', 'Jermaine Dupri'), ('Paul Wall', 'Lil KeKe'), ('Paul Wall', 'Big Pokey'), ('The Beatnuts', 'Yellaklaw'), ('The Beatnuts', 'Big Punisher'), ('The Beatnuts', 'Cuban Link'), ('Jason Mraz', 'Colbie Caillat'), ('EVE', 'Nokio'), ('BlocBoy JB', 'Drake'), ('Jimmy Fallon', 'william'), ('XXXTENTACION', 'Trippie Redd'), ('XXXTENTACION', 'Joey Bada'), ('Iggy Azalea', 'Jennifer Hudson'), ('Iggy Azalea', 'M0'), ('Iggy Azalea', 'Rita Ora'), ('Iggy Azalea', 'Charli XCX'), ('Shwayze', 'Cisco Adler'), ('Pras Michel', 'Ol Dirty Bastard'), ('Pras Michel', 'Introducing Mya'), ('Miley Cyrus', 'Billy Ray Cyrus'), ('Flo Rida', '99 Percent'), ('Flo Rida', 'Jason Derulo'), ('Flo Rida', 'Robin Thicke'), ('Flo Rida', 'Verdine White'), ('Flo Rida', 'Sage The Gemini'), ('Flo Rida', 'Lookas'), ('Flo Rida', 'Sia'), ('Flo Rida', 'Akon'), ('Flo Rida', 'David Guetta'), ('Flo Rida', 'NeYo'), ('Flo Rida', 'Nelly Furtado'), ('Flo Rida', 'Wynter'), ('Flo Rida', 'Pleasure P'), ('Flo Rida', 'william'), ('Flo Rida', 'TPain'), ('Flo Rida', 'Timbaland'), ('Flo Rida', 'Sean Kingston'), ('Squeak E Clean', 'Karen O'), ('Natalie La Rose', 'Jeremih'), ('Rocko', 'Future'), ('Rocko', 'Rick Ross'), ('Ray J', 'Bobby Brackins'), ('Ray J', 'Yung Berg'), ('Ray J', 'Lil Kim'), ('JT Money', 'Sole'), ('Jeezy', 'Jay Z'), ('Nas', 'Kanye West'), ('Nas', 'Keri Hilson'), ('Nas', 'william'), ('Nas', 'Olu Dara'), ('Nas', 'Puff Daddy'), ('Christopher Wilde', 'Anna Margaret'), ('Shaquille ONeal', 'Ice Cube'), ('Shaquille ONeal', 'B Real'), ('Shaquille ONeal', 'Peter Gunz'), ('Shaquille ONeal', 'KRSOne'), ('David Banner', 'Chris Brown'), ('David Banner', 'Lil Flip'), ('Thomas Rhett', 'Maren Morris'), ('Cobra Starship', 'Sabi'), ('Cobra Starship', 'Leighton Meester'), ('Rob tone', 'J Davi'), ('Rob tone', 'Spooks'), ('Jessie J', 'Ariana Grande'), ('Jessie J', 'Nicki Minaj'), ('Jessie J', '2 Chainz'), ('Jessie J', 'BoB'), ('Swedish House Mafia', 'John Martin'), ('Jack White', 'Alicia Keys'), ('Mo Thugs Family', 'Bone ThugsNHarmony'), ('Diplo', 'French Montana'), ('Diplo', 'Lil Pump'), ('Diplo', 'Zhavia Ward'), ('Bebe Rexha', 'Florida Georgia Line'), ('PARTYNEXTDOOR', 'Drake'), ('The Alchemist', 'Prodigy'), ('The Alchemist', 'Illa Ghee'), ('The Alchemist', 'Nina Sky'), ('HER', 'Bryson Tiller'), ('Janelle Monae', 'Jidenna'), ('Trina', 'Kelly Rowland'), ('Trina', 'Ludacris'), ('Trina', 'Tamara'), ('Kat DeLuna', 'Elephant Man'), ('Slum Village', 'Kanye West'), ('Slum Village', 'John Legend'), ('Slum Village', 'Dwele'), ('PSY', 'CL'), ('PSY', 'Snoop Dogg'), ('The Killers', 'Toni Halliday'), ('Enrique Iglesias', 'Bad Bunny'), ('Enrique Iglesias', 'Descemer Bueno'), ('Enrique Iglesias', 'Zion'), ('Enrique Iglesias', 'Lennox Or Sean Paul'), ('Enrique Iglesias', 'Wisin'), ('Enrique Iglesias', 'Gente de Zona'), ('Enrique Iglesias', 'Marco Antonio Solis'), ('Enrique Iglesias', 'Romeo Santos'), ('Enrique Iglesias', 'Sammy Adams'), ('Enrique Iglesias', 'Pitbull'), ('Enrique Iglesias', 'The WAVs'), ('Enrique Iglesias', 'Usher'), ('Enrique Iglesias', 'Lil Wayne'), ('Enrique Iglesias', 'Ludacris'), ('Enrique Iglesias', 'DJ Frank E'), ('Enrique Iglesias', 'Juan Luis Guerra'), ('OG Maco', '2 Chainz'), ('Destinys Child', 'TI'), ('Destinys Child', 'Lil Wayne'), ('OutKast', 'Scar'), ('OutKast', 'Sleepy Brown'), ('OutKast', 'Killer Mike'), ('Rae Sremmurd', 'Juicy J'), ('Rae Sremmurd', 'Travis Scott'), ('Rae Sremmurd', 'Gucci Mane'), ('Rae Sremmurd', 'Nicki Minaj'), ('Rae Sremmurd', 'Young Thug'), ('Shyne', 'Barrington Levy'), ('Three 6 Mafia Vs Tiesto', 'Sean Kingston'), ('Three 6 Mafia Vs Tiesto', 'Flo Rida'), ('2 Pistols', 'TPain'), ('2 Pistols', 'Tay Dizm'), ('Sam Smith', 'Logic'), ('Ricky Martin Duet', 'Christina Aguilera'), ('LoveRance', 'IamSu'), ('LoveRance', 'Skipper or 50 Cent'), ('Rebecca Black', 'Dave Days'), ('The Barden Bellas', 'The Treblemakers'), ('The Barden Bellas', 'The BU Harmonics'), ('Mumford', 'Sons'), ('Montell Jordan', 'Master P'), ('Montell Jordan', 'Silkk The Shocker'), ('Travi Scott', 'Future'), ('Travi Scott', '2 Chainz'), ('Fetty Wap', 'Remy Boyz'), ('Fetty Wap', 'Monty'), ('Linkin Park', 'Kiiara'), ('KIDS SEE GHOSTS', 'Louis Prima'), ('Good Charlotte', 'M Shadows And Synyster Gates'), ('Camila Cabello', 'Young Thug'), ('Camila Cabello', 'Quavo'), ('Famous Dex', 'AAP Rocky'), ('Funkmaster Flex Presents Khadejia', 'Product'), ('Dem Franchize Boyz', 'Lil Peanut'), ('Dem Franchize Boyz', 'Charlay'), ('Dem Franchize Boyz', 'Jermaine Dupri'), ('Dem Franchize Boyz', 'Da Brat'), ('Dem Franchize Boyz', 'Bow Wow'), ('Beastie Boys', 'Nas'), ('Brooke Hogan', 'Paul Wall'), ('Allure', '112'), ('Allure', 'NAS'), ('AAP Ferg', 'Nicki Minaj'), ('AAP Ferg', 'Future'), ('Travis Scott', 'Lil Uzi Vert'), ('Travis Scott', 'Kanye West'), ('Apocalyptica', 'Adam Gontier'), ('Foxy Brown', 'Dru Hill'), ('Foxy Brown', 'JayZ'), ('Jhene Aiko', 'Swae Lee Or Rae Sremmurd'), ('Toby Keith', 'Sting'), ('Ludacris CoStarring Chris Brown', 'Sean Garrett'), ('Snootie Wild', 'K Camp'), ('Nico', 'Vinz'), ('Green Shoe Studio', 'Jacob Colgan'), ('Green Shoe Studio', 'Fred Stobaugh'), ('Kelly Price', 'Friends'), ('Omarion', 'Chris Brown'), ('Omarion', 'Jhene Aiko'), ('Omarion', 'Gucci Mane'), ('Keri Hilson', 'Kanye West'), ('Keri Hilson', 'NeYo'), ('Keri Hilson', 'Lil Wayne'), ('Reiss', 'Special Guest Michie Mee'), ('Mana', 'Prince Royce'), ('Macklemore', 'Kesha'), ('Macklemore', 'Skylar Grey'), ('Macklemore', 'Ryan Lewis'), ('Macklemore', 'Eric Nally'), ('Macklemore', 'Melle Mel'), ('Macklemore', 'Kool Moe Dee'), ('Macklemore', 'Grandmaster Caz'), ('Macklemore', 'ScHoolboy Q'), ('Macklemore', 'Hollis'), ('Macklemore', 'Ray Dalton'), ('Macklemore', 'Mary Lambert'), ('Macklemore', 'Wanz'), ('Jay Rock', 'Kendrick Lamar'), ('Jay Rock', 'Future'), ('Jay Rock', 'James Blake'), ('GUnit', 'Joe'), ('Big Punisher', 'Donell Jones'), ('Big Punisher', 'Joe'), ('Alesso', 'Tove Lo'), ('Yung Berg', 'Casha'), ('Yung Berg', 'Junior'), ('Diggy', 'Jeremih'), ('Tinashe', 'ScHoolboy Q'), ('Gym Class Heroes', 'Ryan Tedder'), ('Gym Class Heroes', 'Neon Hitch'), ('Gym Class Heroes', 'Adam Levine'), ('Gym Class Heroes', 'TheDream'), ('Gym Class Heroes', 'Patrick Stump'), ('Nina Sky', 'Jabba'), ('Whitney Houston', 'Enrique Iglesias'), ('Whitney Houston', 'Deborah Cox'), ('Whitney Houston', 'Faith Evans'), ('Whitney Houston', 'Kelly Price'), ('Whitney Houston', 'Mariah Carey'), ('Mike Jones', 'Trey Songz'), ('Mike Jones', 'Twista'), ('Mike Jones', 'Slim Thug'), ('Mike Jones', 'Paul Wall'), ('Action Bronson', 'Chance The Rapper'), ('Drake', 'Michael Jackson'), ('Drake', 'Static Major'), ('Drake', 'Ty Dolla ign'), ('Drake', 'JAYZ'), ('Drake', 'Quavo'), ('Drake', 'Travis Scott'), ('Drake', '2 Chainz'), ('Drake', 'Young Thug'), ('Drake', 'Jorja Smith'), ('Drake', 'Black Coffee'), ('Drake', 'Giggs'), ('Drake', 'Sampha'), ('Drake', 'Kanye West'), ('Drake', 'PARTYNEXTDOOR'), ('Drake', '21 Savage'), ('Drake', 'WizKid'), ('Drake', 'Kyla'), ('Drake', 'Rihanna'), ('Drake', 'The Throne'), ('Drake', 'Future'), ('Drake', 'Pimp C'), ('Drake', 'dvsn'), ('Drake', 'Lil Wayne'), ('Drake', 'Majid Jordan'), ('Drake', 'Big Sean'), ('Drake', 'Jhene Aiko'), ('Drake', 'The Weeknd'), ('Drake', 'Nicki Minaj'), ('Drake', 'Birdman'), ('Drake', 'TI'), ('Drake', 'Swizz Beatz'), ('Drake', 'Alicia Keys'), ('Drake', 'Eminem'), ('Drake', 'Young Jeezy'), ('Drake', 'Trey Songz'), ('Xzibit', 'Keri Hilson'), ('2 Chainz', 'Drake'), ('2 Chainz', 'Quavo'), ('2 Chainz', 'YG'), ('2 Chainz', 'Offset'), ('2 Chainz', 'Ty Dolla ign'), ('2 Chainz', 'Trey Songz'), ('2 Chainz', 'Jhene Aiko'), ('2 Chainz', 'Travis Scott'), ('2 Chainz', 'Lil Wayne'), ('2 Chainz', 'Pharrell'), ('2 Chainz', 'Wiz Khalifa'), ('2 Chainz', 'Kanye West'), ('OneRepublic', 'Sara Bareilles'), ('Antoine Dodson', 'The Gregory Brothers'), ('Antoine Dodson', 'Kelly Dodson'), ('Mariah Carey', 'YG'), ('Mariah Carey', 'Miguel'), ('Mariah Carey', 'Nicki Minaj'), ('Mariah Carey', 'TPain'), ('Mariah Carey', 'Snoop Dogg'), ('Mariah Carey', 'Cameo'), ('Mariah Carey', 'Joe'), ('Mariah Carey', '98 Degrees'), ('Mariah Carey', 'JayZ'), ('DJ Laz', 'Flo Rida'), ('DJ Laz', 'Casely'), ('Young Gunz', 'Rell'), ('Bella Thorne', 'Zendaya'), ('Nate Dogg', 'Warren G'), ('Pnk', 'Lily Allen'), ('Pnk', 'Nate Ruess'), ('Pnk', 'William Orbit'), ('Morgan Wallen', 'Florida Georgia Line'), ('Alan Jackson', 'Jimmy Buffett'), ('Queen Pen', 'Teddy Riley'), ('Queen Pen', 'Nutta Butta'), ('Queen Pen', 'Markell'), ('Queen Pen', 'Jesse Wes'), ('Queen Pen', 'Eric Williams'), ('U2', 'Green Day'), ('Brooke Valentine', 'Lil Jon'), ('Brooke Valentine', 'Big Boi'), ('ScHoolboy Q', '2 Chainz'), ('ScHoolboy Q', 'Saudi'), ('ScHoolboy Q', 'Kanye West'), ('ScHoolboy Q', 'BJ The Chicago Kid'), ('ScHoolboy Q', 'Kendrick Lamar'), ('BoB', 'Trey Songz'), ('BoB', 'Priscilla'), ('BoB', '2 Chainz'), ('BoB', 'TI'), ('BoB', 'Juicy J'), ('BoB', 'Taylor Swift'), ('BoB', 'Lil Wayne'), ('BoB', 'Andre 3000'), ('BoB', 'Hayley Williams'), ('BoB', 'Rivers Cuomo'), ('BoB', 'Bruno Mars'), ('BoB', 'Playboy Tre'), ('The Pussycat Dolls', 'Nicole Scherzinger'), ('The Pussycat Dolls', 'Timbaland'), ('The Pussycat Dolls', 'Snoop Dogg'), ('The Pussycat Dolls', 'william'), ('The Pussycat Dolls', 'Busta Rhymes'), ('Damizza Presents Shade Sheist', 'Nate Dogg'), ('Damizza Presents Shade Sheist', 'Kurupt'), ('MC Luscious', 'Kinsui'), ('Trapp', '2pac'), ('Trapp', 'Notorious BIG'), ('Logic', 'Ryan Tedder'), ('Logic', 'Marshmello'), ('Logic', 'Wiz Khalifa'), ('Logic', 'Big Sean'), ('Logic', 'Young Sinatra'), ('Logic', 'Alessia Cara'), ('Logic', 'Khalid'), ('Logic', 'Damian Lemar Hudson'), ('Limp Bizkit', 'Method Man'), ('Louis Tomlinson', 'Bebe Rexha'), ('Louis Tomlinson', 'Digital Farm Animals'), ('Shawn Mendes', 'Khalid'), ('Shawn Mendes', 'Camila Cabello'), ('Avant', 'KeKe Wyatt'), ('Warren G', 'Mack 10'), ('Warren G', 'Ronald Isley'), ('GEazy', 'Yo Gotti'), ('GEazy', 'YBN Nahmir'), ('GEazy', 'Halsey'), ('GEazy', 'AAP Rocky'), ('GEazy', 'Cardi B'), ('GEazy', 'Kehlani'), ('GEazy', 'Marc E Bassy'), ('GEazy', 'Chris Brown'), ('GEazy', 'Tory Lanez'), ('GEazy', 'Remo'), ('JAYZ', 'Damian Jr Gong Marely'), ('JAYZ', 'Beyonce'), ('JAYZ', 'Gloria Carter'), ('JAYZ', 'Frank Ocean'), ('BG', 'Baby'), ('BG', 'Turk'), ('BG', 'Mannie Fresh'), ('BG', 'Juvenile'), ('BG', 'Lil Wayne'), ('Shakira', 'Nicky Jam'), ('Shakira', 'Maluma'), ('Shakira', 'Rihanna'), ('Shakira', 'Dizzee Rascal'), ('Shakira', 'Freshlyground'), ('Shakira', 'Lil Wayne'), ('Shakira', 'Wyclef Jean'), ('Shakira', 'Alejandro Sanz'), ('Cashmere Cat', 'Ariana Grande'), ('Billy Lawrence', 'MC Lyte'), ('Noah Cyrus', 'Labrinth'), ('3OH3', 'Keha'), ('3OH3', 'Neon Hitch'), ('3OH3', 'Katy Perry'), ('Mic Geronimo', 'DMX'), ('Mic Geronimo', 'Black Rob'), ('Skrillex', 'Rick Ross'), ('Skrillex', 'Diplo'), ('Skrillex', 'Justin Bieber'), ('Skrillex', 'Sirah'), ('Dillon Francis', 'DJ Snake'), ('Maino', 'TPain'), ('Hurricane Chris', 'SupaSTAAR'), ('Hurricane Chris', 'Big Poppa'), ('GoldLink', 'Brent Faiyaz'), ('GoldLink', 'Shy Glizzy'), ('Ciara', 'Nicki Minaj'), ('Ciara', 'Ludacris'), ('Ciara', 'Justin Timberlake'), ('Ciara', 'Young Jeezy'), ('Ciara', 'TPain'), ('Ciara', '50 Cent'), ('Ciara', 'Chamillionaire'), ('Ciara', 'Missy Elliott'), ('Ciara', 'Petey Pablo'), ('Slaughterhouse', 'Eminem'), ('Beanie Sigel', 'Freeway'), ('The Notorious BIG', 'Diddy'), ('The Notorious BIG', 'Nelly'), ('The Notorious BIG', 'Jagged Edge'), ('The Notorious BIG', 'Avery Storm'), ('The Notorious BIG', 'Puff Daddy'), ('The Notorious BIG', 'Lil Kim'), ('The Notorious BIG', 'Mase'), ('De La Soul', 'Chaka Khan'), ('Aventura', 'Don Omar'), ('Carrie Underwood', 'Ludacris'), ('Carrie Underwood', 'Randy Travis'), ('Freeway', 'Peedi Crakk'), ('Freeway', 'JayZ'), ('Freeway', 'Beanie Sigel'), ('Iconz', 'Tony Manshino'), ('Fergie', 'QTip'), ('Fergie', 'GoonRock'), ('Fergie', 'Ludacris'), ('Tech N9Ne', '2 Chainz'), ('Tech N9Ne', 'BoB'), ('The Game', 'Jeremih'), ('The Game', 'Drake'), ('The Game', 'Lil Wayne'), ('The Game', 'Keyshia Cole'), ('The Game', 'Kanye West'), ('The Game', 'Junior Reid'), ('The Game', '50 Cent'), ('David Lee Murphy', 'Kenny Chesney'), ('Andrew Seeley', 'Vanessa Anne Hudgens'), ('Jadakiss', 'Mariah Carey'), ('Jadakiss', 'Anthony Hamilton'), ('Jadakiss', 'Nate Dogg'), ('Anita Cochran Duet', 'Steve Wariner'), ('Tha Alkaholiks', 'Ol Dirty Bastard'), ('Paul McCartney', 'U2'), ('Baha Men', 'Imani Coppola'), ('Coolio', '40 Thevz'), ('Jeannie Ortega', 'Papoose'), ('Ideal', 'Lil Mo'), ('Playboi Carti', 'Lil Uzi Vert'), ('Brandy', 'Chris Brown'), ('Brandy', 'Kanye West'), ('Brandy', 'Monica'), ('NAS', 'Ginuwine'), ('Lil Boosie', 'Foxx'), ('Lil Boosie', 'Webbie'), ('Lil Boosie', 'Yung Joc'), ('Chance The Rapper', 'Lil Wayne'), ('Chance The Rapper', '2 Chainz'), ('Chance The Rapper', 'Ty Dolla ign'), ('Jessica Simpson', 'Nick Lachey'), ('2Pac', 'Nate Dogg'), ('2Pac', 'Trick Daddy'), ('2Pac', 'Eric Williams'), ('2Pac', 'Notorious BIG'), ('2Pac', 'Radio'), ('2Pac', 'Dramacydal'), ('2Pac', 'Stretch'), ('Truth Hurts', 'Rakim'), ('Mindless Behavior', 'Diggy'), ('Alvin And The Chipmunks', 'Chris Classic'), ('Kelly Clarkson', 'Vince Gill'), ('Kelly Clarkson', 'Jeff Beck'), ('Cher Lloyd', 'Becky G'), ('David Guetta', 'Justin Bieber'), ('David Guetta', 'Sia'), ('David Guetta', 'Fetty Wap'), ('David Guetta', 'Nicki Minaj'), ('David Guetta', 'Bebe Rexha'), ('David Guetta', 'Afrojack'), ('David Guetta', 'Sam Martin'), ('David Guetta', 'NeYo'), ('David Guetta', 'Akon'), ('David Guetta', 'Chris Brown'), ('David Guetta', 'Lil Wayne'), ('David Guetta', 'Usher'), ('David Guetta', 'Flo Rida'), ('David Guetta', 'Jennifer Hudson'), ('David Guetta', 'Taio Cruz'), ('David Guetta', 'Ludacris'), ('David Guetta', 'Rihanna'), ('David Guetta', 'Kid Cudi'), ('David Guetta', 'Chris Willis'), ('David Guetta', 'Fergie'), ('David Guetta', 'LMFAO'), ('David Guetta', 'Kelly Rowland'), ('Baby Boy Da Prince', 'Lil Boosie'), ('Ian Van Dahl', 'Marsha'), ('LMFAO', 'Lauren Bennett'), ('LMFAO', 'GoonRock'), ('LMFAO', 'Lil Jon'), ('Wale', 'Lil Wayne'), ('Wale', 'Usher'), ('Wale', 'Jeremih'), ('Wale', 'Sam Dew'), ('Wale', 'Tiara Thomas Or Rihanna'), ('Wale', 'Rick Ross'), ('Wale', 'Meek Mill'), ('Wale', 'TPain'), ('Wale', 'Miguel'), ('Wale', 'Kid Cudi'), ('Wale', 'Lady Gaga'), ('Akon', 'Colby ODonis'), ('Akon', 'Kardinal Offishall'), ('Akon', 'Lil Wayne'), ('Akon', 'Young Jeezy'), ('Akon', 'Sweet Rush'), ('Akon', 'Snoop Dogg'), ('Akon', 'Eminem'), ('Akon', 'Styles P'), ('Sisqo', 'Make It Hot'), ('Rampage', 'Billy Lawrence'), ('KCamp', '2 Chainz'), ('Jay Z', 'Beyonce'), ('Jay Z', 'Justin Timberlake'), ('Jay Z', 'Rick Ross'), ('Jay Z', 'Frank Ocean'), ('Hannah Montana', 'Iyaz'), ('Hannah Montana', 'David Archuleta'), ('Bill Engvall', 'Special Guest Travis Tritt'), ('Marc E Bassy', 'GEazy'), ('Oakenfold', 'Shifty Shellshock'), ('Trey Songz', 'Nicki Minaj'), ('Trey Songz', 'TI'), ('Trey Songz', 'Drake'), ('Trey Songz', 'Fabolous'), ('Trey Songz', 'Gucci Mane'), ('Trey Songz', 'Soulja Boy Tellem'), ('Trey Songz', 'Twista'), ('Brad Paisley Duet', 'Carrie Underwood'), ('Brad Paisley Duet', 'Keith Urban'), ('Nicole', 'Missy Misdemeanor Elliott'), ('Nicole', 'Mocha'), ('Evanescence', 'Paul McCoy'), ('Bobby V', 'Yung Joc'), ('Aly', 'AJ'), ('JayZ', 'Bono'), ('JayZ', 'The Edge'), ('JayZ', 'Rihanna'), ('JayZ', 'Kanye West'), ('JayZ', 'TI'), ('JayZ', 'Lil Wayne'), ('JayZ', 'Chrisette Michele'), ('JayZ', 'Beyonce Knowles'), ('JayZ', 'R Kelly'), ('JayZ', 'Beanie Sigel And Memphis Bleek'), ('JayZ', 'Memphis Bleek'), ('JayZ', 'Amil'), ('JayZ', 'UGK'), ('JayZ', 'Beanie Sigel'), ('JayZ', 'Amil Of Major Coinz'), ('JayZ', 'Ja'), ('JayZ', 'Big Jaz'), ('JayZ', 'BLACKstreet'), ('JayZ', 'Babyface And Foxy Brown'), ('Grace Potter', 'The Nocturnals'), ('Webbie', 'Lil Phat'), ('Webbie', 'Lil Boosie'), ('Webbie', 'Bun B'), ('Future', 'Young Thug'), ('Future', 'Offset'), ('Future', 'Nicki Minaj'), ('Future', 'YG'), ('Future', 'Rihanna'), ('Future', 'The Weeknd'), ('Future', 'Drake'), ('Future', 'Pharrell'), ('Future', 'Pusha T'), ('Future', 'Casino'), ('Future', 'Kanye West'), ('Future', 'Lil Wayne'), ('Future', 'TI'), ('Hot Chelle Rae', 'New Boyz'), ('Kid Cudi', 'King Chip'), ('Kid Cudi', 'MGMT'), ('Kid Cudi', 'Ratatat'), ('Kid Cudi', 'CeeLo'), ('Kid Cudi', 'Kanye West'), ('Kid Cudi', 'Common'), ('Michael Jackson', 'Justin Timberlake'), ('Michael Jackson', 'Akon'), ('Alabama', 'N Sync'), ('Sam Palladio', 'Clare Bowen'), ('DJ ESCO', 'Future'), ('DJ ESCO', 'Lil Uzi Vert'), ('The Roots', 'Musiq'), ('The Roots', 'Erykah Badu'), ('YG', '2 Chainz'), ('YG', 'Big Sean'), ('YG', 'Nicki Minaj'), ('YG', 'AAP Rocky'), ('YG', 'Drake'), ('YG', 'Kamaiyah'), ('YG', 'Jeezy'), ('YG', 'Rich Homie Quan'), ('YG', 'Tyga'), ('YG', 'Snoop Dogg'), ('YG', 'Nipsey Hussle'), ('Bad Meets Evil', 'Bruno Mars'), ('Huncho Jack', 'Takeoff'), ('Huncho Jack', 'Offset'), ('Sage The Gemini', 'Nick Jonas'), ('Sage The Gemini', 'IamSu'), ('Kane Brown', 'Lauren Alaina'), ('Kevin Gates', 'Trey Songz'), ('Kevin Gates', 'Ty Dolla ign'), ('Kevin Gates', 'Jamie Foxx'), ('Kevin Gates', 'August Alsina'), ('Irv Gotti Presents The Inc', 'Ja Rule'), ('Irv Gotti Presents The Inc', 'Ashanti'), ('Irv Gotti Presents The Inc', 'Charli Baltimore'), ('Irv Gotti Presents The Inc', 'Vita'), ('Hustle Gang', 'TI'), ('Hustle Gang', 'BoB'), ('Hustle Gang', 'Kendrick Lamar'), ('Hustle Gang', 'Kris Stephens'), ('Prince Royce', 'Jennifer Lopez'), ('Prince Royce', 'Pitbull'), ('Prince Royce', 'Snoop Dogg'), ('Juvenile', 'Wacko'), ('Juvenile', 'Skip'), ('Juvenile', 'Soulja Slim'), ('Juvenile', 'Mannie Fresh'), ('Juvenile', 'Lil Wayne'), ('China Anne McClain', 'Thomas Doherty'), ('China Anne McClain', 'Dylan Playfair'), ('Pusha T', 'Kanye West'), ('Lil Zane', '112'), ('Britney Spears', 'Tinashe'), ('Britney Spears', 'GEazy'), ('Britney Spears', 'Iggy Azalea'), ('Britney Spears', 'Nicki Minaj'), ('Britney Spears', 'Keha'), ('Britney Spears', 'Madonna'), ('Icona Pop', 'Charli XCX'), ('Tessanne Chin', 'Adam Levine'), ('Violator', 'Busta Rhymes'), ('Waka Flocka Flame', 'Nicki Minaj'), ('Waka Flocka Flame', 'Tyga'), ('Waka Flocka Flame', 'Flo Rida'), ('Waka Flocka Flame', 'Trey Songz'), ('Waka Flocka Flame', 'Drake'), ('Waka Flocka Flame', 'Kebo Gotti'), ('Waka Flocka Flame', 'Roscoe Dash'), ('Waka Flocka Flame', 'Wale'), ('Lord Tariq', 'Peter Gunz'), ('Mercedes', 'Master P'), ('Florida Georgia Line', 'Backstreet Boys'), ('Florida Georgia Line', 'Tim McGraw'), ('Florida Georgia Line', 'Luke Bryan'), ('Florida Georgia Line', 'Nelly'), ('Wiz Khalifa', 'Swae Lee'), ('Wiz Khalifa', 'Lil Skies'), ('Wiz Khalifa', 'Ty Dolla ign'), ('Wiz Khalifa', 'Charlie Puth'), ('Wiz Khalifa', 'Travi Scott'), ('Wiz Khalifa', 'Rae Sremmurd'), ('Wiz Khalifa', 'Iggy Azalea'), ('Wiz Khalifa', 'Snoop Dogg'), ('Wiz Khalifa', 'The Weeknd'), ('Wiz Khalifa', 'Akon'), ('Wiz Khalifa', 'Too hort'), ('The Chainsmokers', 'Emily Warren'), ('The Chainsmokers', 'Coldplay'), ('The Chainsmokers', 'Halsey'), ('The Chainsmokers', 'Daya'), ('The Chainsmokers', 'Phoebe Ryan'), ('The Chainsmokers', 'XYLO'), ('The Chainsmokers', 'Rozes'), ('Brooks', 'Dunn'), ('Brooks', 'Billy Gibbons'), ('Brooks', 'Reba McEntire'), ('Brooks', 'Sheryl Crow'), ('Brooks', 'Vince Gill'), ('Gotye', 'Kimbra'), ('Casper Magico', 'Nio Garcia'), ('Casper Magico', 'Darell'), ('Casper Magico', 'Nicky Jam'), ('Casper Magico', 'Ozuna'), ('Casper Magico', 'Bad Bunny'), ('R City', 'Adam Levine'), ('Shareefa', 'Ludacris'), ('Plies', 'Kodak Black'), ('Plies', 'Ashanti'), ('Plies', 'Chris J'), ('Plies', 'Jamie Foxx'), ('Plies', 'TheDream'), ('Plies', 'NeYo'), ('Plies', 'Akon'), ('Plies', 'TPain'), ('Jamie N Commons', 'X Ambassadors'), ('Cool Breeze', 'OutKast'), ('Cool Breeze', 'Goodie Mob'), ('Cool Breeze', 'Witchdoctor'), ('Lucas Grabeel', 'Ashley Tisdale'), ('21 Savage', 'Offset'), ('21 Savage', 'Metro Boomin'), ('21 Savage', 'Travis Scott'), ('21 Savage', 'Quavo'), ('21 Savage', 'Future'), ('SZA', 'Travis Scott'), ('Moby', 'Gwen Stefani'), ('Bazzi', 'Camila Cabello'), ('Alicia Keys', 'Nicki Minaj'), ('Alicia Keys', 'Tony Toni Tone'), ('No Doubt', 'Lady Saw'), ('No Doubt', 'Bounty Killer'), ('Christina Milian', 'Young Jeezy'), ('Christina Milian', 'Joe Budden'), ('Angie Martinez', 'Kelis'), ('Angie Martinez', 'Lil Mo'), ('Angie Martinez', 'Sacario'), ('Juice WRLD', 'Lil Uzi Vert'), ('LL Cool J', 'TheDream'), ('LL Cool J', 'Jennifer Lopez'), ('LL Cool J', '7 Aurelius'), ('LL Cool J', 'Amerie'), ('LL Cool J', 'Method Man'), ('LL Cool J', 'Redman'), ('LL Cool J', 'DMX'), ('LL Cool J', 'Canibus And Master P'), ('Lil Mo', 'Fabolous'), ('Peter Cetera', 'Az Yet'), ('Kesha', 'The DapKings Horns'), ('Reeve Carney', 'Bono'), ('Reeve Carney', 'The Edge'), ('Da Brat', 'Cherish'), ('Da Brat', 'Tyrese'), ('Da Brat', 'TBoz'), ('Daft Punk', 'Pharrell Williams'), ('Birdman', 'Nicki Minaj'), ('Birdman', 'Lil Wayne'), ('Birdman', 'Drake'), ('Boys Like Girls', 'Taylor Swift'), ('Idina Menzel Duet', 'Michael Buble'), ('Corbin Bleu', 'Lucas Grabeel'), ('Ludacris', 'Miguel'), ('Ludacris', 'Usher'), ('Ludacris', 'David Guetta'), ('Ludacris', 'Kelly Rowland'), ('Ludacris', 'Trey Songz'), ('Ludacris', 'Nicki Minaj'), ('Ludacris', 'Mary J Blige'), ('Ludacris', 'Pharrell'), ('Ludacris', 'Field Mob'), ('Ludacris', 'Jamie Foxx'), ('Ludacris', 'Bobby Valentino'), ('Ludacris', 'Shawnna'), ('Ludacris', 'Mystikal'), ('Ludacris', 'Infamous 20'), ('Ludacris', 'Sleepy Brown'), ('Ludacris', 'LL Cool J'), ('Ludacris', 'Keith Murray'), ('Ludacris', 'Nate Dogg'), ('Travie McCoy', 'Jason Mraz'), ('Travie McCoy', 'Bruno Mars'), ('Big Sean', 'Metro Boomin'), ('Big Sean', 'Travis Scott'), ('Big Sean', '21 Savage'), ('Big Sean', 'Eminem'), ('Big Sean', 'Migos'), ('Big Sean', 'Jeremih'), ('Big Sean', 'Chris Brown'), ('Big Sean', 'Ty Dolla ign'), ('Big Sean', 'Kanye West'), ('Big Sean', 'John Legend'), ('Big Sean', 'Drake'), ('Big Sean', 'E40'), ('Big Sean', 'Lil Wayne'), ('Big Sean', 'Jhene Aiko'), ('Big Sean', 'Nicki Minaj'), ('Big Sean', 'Roscoe Dash'), ('Big Sean', 'Wiz Khalifa'), ('william', 'Miley Cyrus'), ('william', 'French Montana'), ('william', 'Wiz Khalifa'), ('william', 'DJ Mustard'), ('william', 'Justin Bieber'), ('william', 'Britney Spears'), ('william', 'Mick Jagger'), ('william', 'Jennifer Lopez'), ('william', 'Nicki Minaj'), ('Nelly Furtado', 'Timbaland'), ('Cherish', 'Yung Joc'), ('Cherish', 'Sean Paul Of The YoungBloodZ'), ('SylkE Fyne', 'Chill'), ('Ozuna', 'Romeo Santos'), ('Kelly Rowland', 'Lil Wayne'), ('Kelly Rowland', 'Eve'), ('Halsey', 'Big Sean'), ('Halsey', 'Stefflon Don'), ('Halsey', 'Lauren Jauregui'), ('Martina McBride', 'Jim Brickman'), ('MIA', 'A R Rahman'), ('deadmau5', 'Greta Svabo Bech'), ('Chad Kroeger', 'Josey Scott'), ('Justin Bieber', 'Halsey'), ('Justin Bieber', 'Big Sean'), ('Justin Bieber', 'Travi Scott'), ('Justin Bieber', 'Nas'), ('Justin Bieber', 'Chance The Rapper'), ('Justin Bieber', 'R Kelly'), ('Justin Bieber', 'Ludacris'), ('Justin Bieber', 'Nicki Minaj'), ('Justin Bieber', 'Drake'), ('Justin Bieber', 'Busta Rhymes'), ('Justin Bieber', 'Usher'), ('Justin Bieber', 'Jaden Smith'), ('Pia Mia', 'Chris Brown'), ('Pia Mia', 'Tyga'), ('Josh Groban', 'The African Childrens Choir'), ('Cham', 'Alicia Keys'), ('OT Genasis', 'Young Dolph'), ('MVP Most Valuable Playas', 'Stagga Lee'), ('PC', 'TI'), ('PC', 'Lil Scrappy'), ('Ricky Martin', 'Natalia Jimenez'), ('Ricky Martin', 'La Mari De Chambao Y Tommy Torres'), ('Ricky Martin', 'Fat Joe'), ('Ricky Martin', 'Amerie'), ('Ricky Martin', 'Meja'), ('Owl City', 'Carly Rae Jepsen'), ('RKM', 'KenY'), ('Jordin Sparks Duet', 'Chris Brown'), ('Ross Lynch', 'Grace Phipps And Jason Evigan'), ('Nu Flavor', 'Roger'), ('Natasha Bedingfield', 'Sean Kingston'), ('Jonell', 'Method Man'), ('Tony Bennett', 'Amy Winehouse'), ('Christina Grimmie', 'Adam Levine'), ('RicAChe', 'Darija'), ('Blu Cantrell', 'Sean Paul'), ('Labrinth', 'Emeli Sande'), ('BTS', 'Desiigner'), ('KCi', 'JoJo'), ('Lee DeWyze', 'Crystal Bowersox'), ('MGK', 'Waka Flocka Flame'), ('Eric Church', 'Rhiannon Giddens'), ('Thalia', 'Fat Joe'), ('DJ Khaled', 'Justin Bieber'), ('DJ Khaled', 'Chance The Rapper'), ('DJ Khaled', 'Quavo'), ('DJ Khaled', 'JAY Z'), ('DJ Khaled', 'Future'), ('DJ Khaled', 'B'), ('DJ Khaled', 'Rihanna'), ('DJ Khaled', 'Bryson Tiller'), ('DJ Khaled', 'Lil Wayne'), ('DJ Khaled', 'Calvin Harris'), ('DJ Khaled', 'Travis Scott'), ('DJ Khaled', 'Jeremih'), ('DJ Khaled', 'Drake'), ('DJ Khaled', 'Rick Ross'), ('DJ Khaled', 'Big Sean'), ('DJ Khaled', 'Beyonce'), ('DJ Khaled', 'Nicki Minaj'), ('DJ Khaled', 'Chris Brown'), ('DJ Khaled', 'August Alsina'), ('DJ Khaled', 'Jay Z'), ('DJ Khaled', 'Kendrick Lamar'), ('DJ Khaled', 'Betty Wright'), ('DJ Khaled', 'Kanye West'), ('DJ Khaled', 'Plies'), ('DJ Khaled', 'TPain'), ('DJ Khaled', 'Ludacris'), ('DJ Khaled', 'Snoop Dogg'), ('DJ Khaled', 'Akon'), ('DJ Khaled', 'Young Jeezy'), ('DJ Khaled', 'Ace Hood'), ('DJ Khaled', 'Trick Daddy'), ('DJ Khaled', 'Lil Boosie'), ('DJ Khaled', 'TI'), ('DJ Khaled', 'Fat Joe'), ('DJ Khaled', 'Baby'), ('DJ Khaled', 'Paul Wall'), ('DJ Khaled', 'Pitbull'), ('Keyshia Cole Duet', 'Monica'), ('Bounty Killer', 'Mobb Deep'), ('Bounty Killer', 'Rappin Noyd'), ('PRINCE BE', 'KyMani'), ('OC', 'Yvette Michele'), ('Lil Yachty', 'NBA YoungBoy'), ('Lil Yachty', 'Trippie Redd'), ('Lil Yachty', 'Ugly God'), ('Lil Yachty', 'Migos'), ('A Boogie Wit da Hoodie', '21 Savage'), ('A Boogie Wit da Hoodie', 'PnB Rock'), ('A Boogie Wit da Hoodie', 'YoungBoy Never Broke Again'), ('A Boogie Wit da Hoodie', 'Kodak Black'), ('A Boogie Wit da Hoodie', 'DJ SPINKING'), ('Slim', 'Yung Joc'), ('Lloyd', 'Andre 3000'), ('Lloyd', 'Lil Wayne'), ('Lloyd', 'Ashanti'), ('Maroon 5', 'Cardi B'), ('Maroon 5', 'SZA'), ('Maroon 5', 'Future'), ('Maroon 5', 'Kendrick Lamar'), ('Maroon 5', 'Wiz Khalifa'), ('Maroon 5', 'Christina Aguilera'), ('Maroon 5', 'Rozzi Crane'), ('Maroon 5', 'Rihanna'), ('3LW', 'P Diddy'), ('3LW', 'Loon'), ('Don Omar', 'Lucenzo'), ('Big Tymers', 'R Kelly'), ('Big Tymers', 'Tateeze'), ('Big Tymers', 'Boo'), ('Big Tymers', 'Gotti'), ('Hunter Hayes', 'Jason Mraz'), ('Kanye West', 'PARTYNEXTDOOR'), ('Kanye West', 'TI'), ('Kanye West', 'Gucci Mane'), ('Kanye West', 'Big Sean'), ('Kanye West', '2 Chainz'), ('Kanye West', 'Travi Scott'), ('Kanye West', 'Yo Gotti'), ('Kanye West', 'Quavo'), ('Kanye West', 'Desiigner'), ('Kanye West', 'Theophilus London'), ('Kanye West', 'Allan Kingdom'), ('Kanye West', 'Paul McCartney'), ('Kanye West', 'Camron'), ('Kanye West', 'Consequence'), ('Kanye West', 'JayZ'), ('Kanye West', 'Pusha T'), ('Kanye West', 'R Kelly'), ('Kanye West', 'DJ Khaled'), ('Kanye West', 'Rick Ross'), ('Kanye West', 'Bon Iver'), ('Kanye West', 'Nicki Minaj'), ('Kanye West', 'Teyana Taylor'), ('Kanye West', 'Young Jeezy'), ('Kanye West', 'Lil Wayne'), ('Kanye West', 'Chris Martin'), ('Kanye West', 'Dwele'), ('Kanye West', 'TPain'), ('Kanye West', 'Jamie Foxx'), ('Kanye West', 'Lupe Fiasco'), ('Kanye West', 'Adam Levine'), ('Kanye West', 'Syleena Johnson'), ('Hugh Jackman', 'Keala Settle'), ('Hugh Jackman', 'Zac Efron'), ('Hugh Jackman', 'Zendaya'), ('Hugh Jackman', 'The Greatest Showman Ensemble'), ('Cassidy', 'Swizz Beatz'), ('Cassidy', 'Mashonda'), ('Cassidy', 'R Kelly'), ('Nick Jonas', 'Nicki Minaj'), ('Nick Jonas', 'Tove Lo'), ('Nick Jonas', 'The Administration'), ('Teena Marie', 'Gerald Levert'), ('Teena Marie', 'Baby'), ('Bobby Valentino', 'Timbaland'), ('Fabolous', 'Chris Brown'), ('Fabolous', 'TheDream'), ('Fabolous', 'Jermaine Dupri'), ('Fabolous', 'NeYo'), ('Fabolous', 'Young Jeezy'), ('Fabolous', 'Mike Shorey'), ('Fabolous', 'Tamia Or Ashanti'), ('Fabolous', 'Lil Mo'), ('Fabolous', 'P Diddy'), ('Fabolous', 'Jagged Edge'), ('Fabolous', 'Nate Dogg'), ('Zac Efron', 'Zendaya'), ('Zac Efron', 'Vanessa Hudgens'), ('Zac Efron', 'Vanessa Anne Hudgens'), ('Zac Efron', 'Andrew Seeley'), ('Nick Cannon', 'R Kelly'), ('Nick Cannon', 'B2K'), ('Bow Wow', 'Lil Wayne'), ('Bow Wow', 'Johnta Austin'), ('Bow Wow', 'Soulja Boy Tellem'), ('Bow Wow', 'Omarion'), ('Bow Wow', 'TPain'), ('Bow Wow', 'Chris Brown'), ('Bow Wow', 'JKwon'), ('Bow Wow', 'Jermaine Dupri'), ('Bow Wow', 'Ciara'), ('Bow Wow', 'Jagged Edge'), ('Bow Wow', 'Baby'), ('Becky G', 'Bad Bunny'), ('Kaskade', 'Neon Trees'), ('Guerilla Black', 'Mario Winans'), ('August Alsina', 'Trinidad James'), ('Jill Scott', 'Anthony Hamilton'), ('Freak Nasty', 'Crazy Mike'), ('Jagged Edge', 'Nelly'), ('Jagged Edge', 'Da Brat'), ('Jagged Edge', 'JD'), ('Victorious Cast', 'Victoria Justice'), ('Robin Thicke', 'TI  Pharrell'), ('Robin Thicke', 'Kendrick Lamar'), ('B2K', 'Fabolous'), ('B2K', 'P Diddy'), ('Reik', 'Ozuna'), ('Reik', 'Wisin'), ('Nastyboy Klick', 'Roger Troutman'), ('Mynt', 'Kim Sozzi'), ('Avril Lavigne', 'Chad Kroeger'), ('Matt McAndrew', 'Adam Levine'), ('KP', 'Envyi'), ('Lifehouse', 'Natasha Bedingfield'), ('Soulja Boy Tell em', 'Sammie'), ('Chris Lane', 'Tori Kelly'), ('Josh Turner', 'Trisha Yearwood'), ('Lumidee', 'Tony Sunshine'), ('Busta Rhymes', 'Eminem'), ('Busta Rhymes', 'Ron Browz'), ('Busta Rhymes', 'Linkin Park'), ('Busta Rhymes', 'william'), ('Busta Rhymes', 'Kelis'), ('Busta Rhymes', 'Mariah Carey'), ('Busta Rhymes', 'The Flipmode Squad'), ('Busta Rhymes', 'Spliff Star'), ('Busta Rhymes', 'P Diddy'), ('Busta Rhymes', 'Pharrell'), ('Busta Rhymes', 'Janet'), ('Richard Marx', 'Donna Lewis'), ('David Nail', 'Sarah Buxton'), ('Zendaya', 'Chris Brown'), ('Common', 'John Legend'), ('Common', 'Pharrell'), ('Common', 'Mary J Blige'), ('Chris Young', 'Vince Gill'), ('Dev', 'Enrique Iglesias'), ('Dev', 'The Cataracs'), ('Martin Solveig', 'Dragonette'), ('Dr Dre', 'Eminem'), ('Dr Dre', 'Skylar Grey'), ('Dr Dre', 'Snoop Dogg'), ('Dr Dre', 'Akon'), ('Queen', 'David Bowie'), ('The Weeknd', 'Kendrick Lamar'), ('The Weeknd', 'Gesaffelstein'), ('The Weeknd', 'Daft Punk'), ('The Weeknd', 'Future'), ('The Weeknd', 'Lana Del Rey'), ('The Weeknd', 'Ed Sheeran'), ('The Weeknd', 'Labrinth'), ('Chamillionaire', 'Krayzie Bone'), ('Chamillionaire', 'Lil Flip'), ('Angels', 'Airwaves'), ('Keala Settle', 'The Greatest Showman Ensemble'), ('Twista', 'Chris Brown'), ('Twista', 'Erika Shevon'), ('Twista', 'Pitbull'), ('Twista', 'Trey Songz'), ('Twista', 'Faith Evans'), ('Twista', 'R Kelly'), ('Twista', 'Kanye West'), ('Twista', 'Jamie Foxx'), ('Migos', 'Drake'), ('Migos', 'Nicki Minaj'), ('Migos', 'Cardi B'), ('Migos', 'Post Malone'), ('Migos', '21 Savage'), ('Migos', 'Travis Scott'), ('Migos', 'Ty Dolla ign'), ('Migos', 'Big Sean'), ('Migos', 'Gucci Mane'), ('Migos', 'Marshmello'), ('Migos', 'Lil Uzi Vert'), ('Migos', 'DJ Khaled'), ('Sofia Carson', 'Cameron Boyce'), ('Sofia Carson', 'Booboo Stewart'), ('Sofia Carson', 'Mitchell Hope'), ('Roscoe Dash', 'Soulja Boy Tellem'), ('Body Head Bangerz', 'YoungBloodz'), ('Michael Franti', 'Spearhead'), ('Michael Franti', 'Cherine Anderson'), ('Natalie', 'Baby Bash'), ('Method Man', 'Redman'), ('Method Man', 'DAngelo'), ('Sugarland', 'Taylor Swift'), ('Sugarland', 'Little Big Town'), ('Sugarland', 'Jake Owen'), ('Mario', 'Gucci Mane'), ('Mario', 'Sean Garrett'), ('Ying Yang Twins', 'Wyclef'), ('Ying Yang Twins', 'Pitbull'), ('Ying Yang Twins', 'Mike Jones'), ('Ying Yang Twins', 'Mr ColliPark'), ('Ying Yang Twins', 'Trick Daddy'), ('Ying Yang Twins', 'Lil Jon'), ('Ying Yang Twins', 'The East Side Boyz'), ('Dilated Peoples', 'Kanye West'), ('Houston', 'Chingy'), ('Houston', 'Nate Dogg'), ('Houston', 'I20'), ('Clean Bandit', 'Demi Lovato'), ('Clean Bandit', 'Julia Michaels'), ('Clean Bandit', 'Sean Paul'), ('Clean Bandit', 'AnneMarie'), ('Clean Bandit', 'Jess Glynne'), ('Mase', 'P Diddy'), ('Mase', 'Puff Daddy'), ('Mase', 'Total'), ('Usher', 'Young Thug'), ('Usher', 'Juicy J'), ('Usher', 'Nicki Minaj'), ('Usher', 'Michelle Chamuel'), ('Usher', 'Rick Ross'), ('Usher', 'Pitbull'), ('Usher', 'JayZ'), ('Usher', 'william'), ('Usher', 'Plies'), ('Usher', 'Young Jeezy'), ('Usher', 'Beyonce'), ('Usher', 'Lil Wayne'), ('Usher', 'Lil Jon'), ('Usher', 'Ludacris'), ('Zayn', 'Sia'), ('Zayn', 'PARTYNEXTDOOR'), ('Loon', 'Kelis'), ('Frankie J', 'Mannie Fresh'), ('Frankie J', 'Chamillionaire'), ('Frankie J', 'Baby Bash'), ('Gucci Mane', 'Migos'), ('Gucci Mane', 'The Weeknd'), ('Gucci Mane', 'Slim Jxmmi'), ('Gucci Mane', 'Young Dolph'), ('Gucci Mane', 'Offset'), ('Gucci Mane', 'Drake'), ('Gucci Mane', 'Nicki Minaj'), ('Gucci Mane', 'Kanye West'), ('Gucci Mane', 'Usher'), ('Gucci Mane', 'Plies Or OJ Da Juiceman'), ('J Cole', 'kiLL edward'), ('J Cole', 'Amber Coffman'), ('J Cole', 'The Cults'), ('J Cole', 'TLC'), ('J Cole', 'Miguel'), ('J Cole', 'Missy Elliott'), ('J Cole', 'Trey Songz'), ('Estelle', 'Kanye West'), ('Solange', 'Sampha'), ('Luis Fonsi', 'Demi Lovato'), ('Luis Fonsi', 'Daddy Yankee'), ('Luis Fonsi', 'Justin Bieber'), ('Enur', 'Natasja'), ('Paula DeAnda', 'Bow Wow'), ('Paula DeAnda', 'The DEY'), ('Paula DeAnda', 'Baby Bash'), ('Timbaland', 'Katy Perry'), ('Timbaland', 'Justin Timberlake'), ('Timbaland', 'Drake'), ('Timbaland', 'Nelly Furtado'), ('Timbaland', 'SoShy'), ('Timbaland', 'The Fray'), ('Timbaland', 'Esthero'), ('Timbaland', 'OneRepublic'), ('Timbaland', 'Keri Hilson'), ('Timbaland', 'Magoo'), ('Timbaland', 'Missy Elliott'), ('Timbaland', 'Missy Misdemeanor Elliott'), ('Keith Sweat', 'Snoop Dogg'), ('Keith Sweat', 'Athena Cage'), ('DJ Snake', 'Justin Bieber'), ('DJ Snake', 'Bipolar Sunshine'), ('DJ Snake', 'AlunaGeorge'), ('DJ Snake', 'Lil Jon'), ('TK Kravitz', 'Jacqueez'), ('Calvin Harris', 'Dua Lipa'), ('Calvin Harris', 'Kehlani'), ('Calvin Harris', 'Lil Yachty'), ('Calvin Harris', 'Pharrell Williams'), ('Calvin Harris', 'Katy Perry'), ('Calvin Harris', 'Big Sean'), ('Calvin Harris', 'Future'), ('Calvin Harris', 'Khalid'), ('Calvin Harris', 'Frank Ocean'), ('Calvin Harris', 'Migos'), ('Calvin Harris', 'Young Thug'), ('Calvin Harris', 'Ariana Grande'), ('Calvin Harris', 'Rihanna'), ('Calvin Harris', 'Disciples'), ('Calvin Harris', 'Ellie Goulding'), ('Calvin Harris', 'John Newman'), ('Calvin Harris', 'Ayah Marar'), ('Calvin Harris', 'Florence Welch'), ('Calvin Harris', 'NeYo'), ('Jibbs', 'Chamillionaire'), ('Lillywood', 'Robin Schulz'), ('Bobby Brackins', 'Ray J'), ('YoungBloodZ', 'Lil Jon'), ('Erykah Badu', 'Common'), ('Erykah Badu', 'Rahzel'), ('Imajin', 'Keith Murray'), ('Sporty Thievz', 'Mr Woods'), ('The Script', 'william'), ('Jeremih', 'J Cole'), ('Jeremih', 'YG'), ('Jeremih', '50 Cent'), ('Kenny Chesney Duet', 'George Strait'), ('Lil Kim', '50 Cent'), ('Lil Kim', 'Mr Cheeks'), ('Lil Kim', 'Sisqo'), ('Lil Kim', 'Da Brat'), ('Lil Kim', 'Left Eye'), ('Lil Kim', 'Missy Elliott'), ('Lil Kim', 'Angie Mar'), ('Kevin Rudolf', 'Birdman'), ('Kevin Rudolf', 'Jay Sean'), ('Kevin Rudolf', ''), ('Kevin Rudolf', 'Lil Wayne'), ('Kevin Rudolf', 'Rick Ross'), ('Glee Cast', 'Ricky Martin'), ('Glee Cast', '2Cellos'), ('Glee Cast', 'Jonathan Groff'), ('Glee Cast', 'Kristin Chenoweth'), ('Glee Cast', 'Gwyneth Paltrow'), ('Glee Cast', 'Neil Patrick Harris'), ('Glee Cast', 'Idina Menzel'), ('Glee Cast', 'Olivia NewtonJohn'), ('The Dirty Heads', 'Rome'), ('Train', 'Ashley Monroe'), ('Colby ODonis', 'Akon'), ('Sean Paul', 'Alexis Jordan'), ('Sean Paul', 'Keyshia Cole'), ('Sean Paul', 'Sasha'), ('TI', 'Young Thug'), ('TI', 'Iggy Azalea'), ('TI', 'Lil Wayne'), ('TI', 'Big KRIT'), ('TI', 'BoB'), ('TI', 'Eminem'), ('TI', 'Chris Brown'), ('TI', 'Keri Hilson'), ('TI', 'Mary J Blige'), ('TI', 'Justin Timberlake'), ('TI', 'Rihanna'), ('TI', 'Swizz Beatz'), ('TI', 'Wyclef Jean'), ('6ix9ine', 'Nicki Minaj'), ('6ix9ine', 'Murda Beatz'), ('6ix9ine', 'DJ SPINKING'), ('6ix9ine', 'Fetty Wap'), ('6ix9ine', 'A Boogie Wit da Hoodie'), ('6ix9ine', 'Tory Lanez'), ('6ix9ine', 'Young Thug'), ('The White Buffalo', 'The Forest Rangers'), ('Miranda Lambert Duet', 'Carrie Underwood'), ('Iyaz', 'Travie McCoy'), ('Fall Out Boy', 'John Mayer'), ('Fort Minor', 'Styles Of Beyond'), ('Fort Minor', 'Holly Brook'), ('Liam Payne', 'Rita Ora'), ('Liam Payne', 'Quavo'), ('Elmo', 'Patsy'), ('Memphis Bleek', 'JayZ'), ('Memphis Bleek', 'Missy Elliott'), ('Luke', 'No Good But So Good'), ('Benny Blanco', 'Halsey'), ('Benny Blanco', 'Khalid'), ('Havana Brown', 'Pitbull'), ('50 Cent', 'Eminem'), ('50 Cent', 'Adam Levine'), ('50 Cent', 'Dr Dre'), ('50 Cent', 'Alicia Keys'), ('50 Cent', 'NeYo'), ('50 Cent', 'Justin Timberlake'), ('50 Cent', 'Timbaland'), ('50 Cent', 'Akon'), ('50 Cent', 'Olivia'), ('50 Cent', 'Mobb Deep'), ('50 Cent', 'Nate Dogg'), ('Young Thug And Travis Scott', 'Quavo'), ('TWDY', 'Too Short'), ('TWDY', 'Mac Mall'), ('Khia', 'DSD'), ('Sammy Kershaw', 'Lorrie Morgan'), ('Bruno Mars', 'Cardi B'), ('Rascal Flatts', 'Natasha Bedingfield'), ('Kygo', 'Miguel'), ('Kygo', 'Imagine Dragons'), ('Kygo', 'Ellie Goulding'), ('Kygo', 'Conrad'), ('Kid Ink', 'Fetty Wap'), ('Kid Ink', 'DeJ Loaf'), ('Kid Ink', 'Tyga'), ('Kid Ink', 'Wale'), ('Kid Ink', 'YG'), ('Kid Ink', 'Rich Homie Quan'), ('Kid Ink', 'Usher'), ('Kid Ink', 'Tinashe'), ('Kid Ink', 'Chris Brown'), ('Kid Ink', 'Meek Mill'), ('Coldplay', 'Rihanna'), ('Coldplay', 'JayZ'), ('Keith Urban', 'Julia Michaels'), ('Keith Urban', 'Carrie Underwood'), ('Keith Urban', 'Eric Church'), ('Ginuwine', 'Baby'), ('Ginuwine', 'RL'), ('Ginuwine', 'Tyrese'), ('Ginuwine', 'Case'), ('Offset', 'Metro Boomin'), ('Fantasia', 'Kelly Rowland'), ('Fantasia', 'Missy Elliott'), ('Nivea', 'Lil Jon'), ('Nivea', 'YoungBloodZ'), ('Nivea', 'Brian'), ('Nivea', 'Brandon Casey'), ('Travis Porter', 'Tyga'), ('Flume', 'Tove Lo'), ('Flume', 'Kai'), ('Mia X', 'Charlie Wilson'), ('Lana Del Rey', 'The Weeknd'), ('Lana Del Rey', 'Cedric Gervais'), ('PlayNSkillz', 'Krayzie Bone'), ('PlayNSkillz', 'Adina Howard'), ('DAY26', 'P Diddy'), ('DAY26', 'Yung Joc'), ('Queen Latifah', 'Apache'), ('Tru', 'Ice Cream Man Master P'), ('Somethin For The People', 'Trina'), ('Somethin For The People', 'Tamara'), ('Rockell Duet', 'Collage'), ('Madonna', 'Nicki Minaj'), ('Madonna', 'MIA'), ('Madonna', 'Justin Timberlake'), ('Madonna', 'Timbaland'), ('Yung Joc', 'Gorilla Zoe'), ('Yung Joc', 'Marques Houston'), ('Yung Joc', 'Trey Songz'), ('Yung Joc', 'Brandy Ms B Hambrick'), ('NORE', 'Daddy Yankee'), ('NORE', 'Nina Sky'), ('NORE', 'Gem Star'), ('NORE', 'Big Mato'), ('Toby Love', 'Rakim'), ('Toby Love', 'KenY'), ('Erick Sermon', 'Redman'), ('Erick Sermon', 'Marvin Gaye'), ('NB Ridaz', 'Angelina'), ('NB Ridaz', 'Gemini'), ('Nicky Jam', 'Enrique Iglesias'), ('Nicki Minaj', 'Ariana Grande'), ('Nicki Minaj', 'Lil Wayne'), ('Nicki Minaj', 'Eminem'), ('Nicki Minaj', 'Labrinth'), ('Nicki Minaj', 'The Weeknd'), ('Nicki Minaj', 'Drake'), ('Nicki Minaj', 'Beyonce'), ('Nicki Minaj', 'Chris Brown'), ('Nicki Minaj', 'Skylar Grey'), ('Nicki Minaj', '2 Chainz'), ('Nicki Minaj', 'Rihanna'), ('The Black Eyed Peas', 'Macy Gray'), ('Janet', 'J Cole'), ('Janet', 'Khia'), ('Janet', 'Nelly'), ('Janet', 'Missy Elliott'), ('Janet', 'P Diddy'), ('Janet', 'Carly Simon'), ('Janet', 'BLACKstreet'), ('The Swell Season Glen Hansard', 'Marketa Irglova'), ('Rich The Kid', 'Kendrick Lamar'), ('My Darkest Days', 'Zakk Wylde'), ('LeToya', 'Ludacris'), ('Gorillaz', 'George Benson'), ('Gorillaz', 'Shaun Ryder'), ('I LOVE MAKONNEN', 'Drake'), ('Eminem', 'Ed Sheeran'), ('Eminem', 'Beyonce'), ('Eminem', 'Gwen Stefani'), ('Eminem', 'Sia'), ('Eminem', 'Nate Ruess'), ('Eminem', 'Rihanna'), ('Eminem', 'Lil Wayne'), ('Eminem', 'Pnk'), ('Eminem', 'Kobe'), ('Eminem', 'Dr Dre'), ('Eminem', '50 Cent'), ('Eminem', 'Lloyd Banks'), ('Eminem', 'Cahis'), ('Eminem', 'Nate Dogg'), ('Eminem', 'Dido'), ('Jimmy Buffett', 'Clint Black'), ('Jimmy Buffett', 'Kenny Chesney'), ('Jimmy Buffett', 'Alan Jackson'), ('Jimmy Buffett', 'Toby Keith'), ('Jimmy Buffett', 'George Strait'), ('Yung Wun', 'DMX'), ('Yung Wun', 'Lil Flip'), ('Yung Wun', 'David Banner'), ('Big', 'Rich'), ('Joyner Lucas', 'Chris Brown'), ('Wyclef Jean', 'Akon'), ('Wyclef Jean', 'Lil Wayne'), ('Wyclef Jean', 'Niia'), ('Wyclef Jean', 'Missy Elliott'), ('Wyclef Jean', 'Claudette Ortiz'), ('Wyclef Jean', 'Mary J Blige'), ('Wyclef Jean', 'Queen Pen'), ('Wyclef Jean', 'The Product'), ('Wyclef Jean', 'Refugee Allstars'), ('Faith Hill', 'Tim McGraw'), ('Vitamin C', 'Lady Saw'), ('Buck 22', 'Billy Ray Cyrus'), ('DJ Sammy', 'Yanou'), ('DJ Sammy', 'Do'), ('Playaz Circle', 'Lil Wayne'), ('Snoop Dogg Presents Tha Eastsidaz', 'Jayo Felony And Blaqthoven'), ('Musiq Soulchild', 'Mary J Blige'), ('Musiq Soulchild', 'Ayana'), ('Jamie Foxx', 'Chris Brown'), ('Jamie Foxx', 'Drake'), ('Jamie Foxx', 'Justin Timberlake'), ('Jamie Foxx', 'T I'), ('Jamie Foxx', 'Kanye West  TheDream'), ('Jamie Foxx', 'TPain'), ('Jamie Foxx', 'TI'), ('Jamie Foxx', 'Twista'), ('Jamie Foxx', 'Ludacris'), ('Zara Larsson', 'MNEK'), ('CRU', 'Slick Rick'), ('Lil Uzi Vert', 'Nicki Minaj'), ('Lil Uzi Vert', 'Pharrell Williams'), ('Lil Uzi Vert', 'The Weeknd'), ('Lil Skies', 'Yung Pinch'), ('Lil Skies', 'Landon Cube'), ('MAX', 'gnash'), ('The Isley Brothers', 'Ronald Isley'), ('Brian McKnight', 'Jermaine Dupri'), ('Brian McKnight', 'Tone'), ('Brian McKnight', 'Kobe Bryant'), ('Brian McKnight', 'Mase'), ('R Kelly Duet', 'Usher'), ('Khalid', 'Normani'), ('Khalid', 'Ty Dolla ign'), ('Khalid', '6LACK'), ('Khalid', 'Swae Lee'), ('Nelly', 'Jeremih'), ('Nelly', 'Keri Hilson'), ('Nelly', 'TPain'), ('Nelly', 'Akon'), ('Nelly', 'Ashanti'), ('Nelly', 'Ciara'), ('Nelly', 'JD'), ('Nelly', 'Fergie'), ('Nelly', 'Paul Wall'), ('Nelly', 'Ali'), ('Nelly', 'Gipp'), ('Nelly', 'Jung Tru'), ('Nelly', 'King Jacob'), ('Nelly', 'Tim McGraw'), ('Nelly', 'Jaheim'), ('Nelly', 'Christina Aguilera'), ('Nelly', 'P Diddy'), ('Nelly', 'Murphy Lee'), ('Nelly', 'Kyjuan'), ('Nelly', 'Kelly Rowland'), ('Nelly', 'City Spud'), ('Lloyd Banks', 'Juelz Santana'), ('Lloyd Banks', '50 Cent'), ('Lloyd Banks', 'Avant'), ('Lil Troy', 'Yungsta'), ('Lil Troy', 'Fat Pat'), ('Lil Troy', 'Lil Will'), ('Lil Troy', 'Hawk'), ('Lil Troy', 'Big T'), ('JD', 'JayZ'), ('JD', 'Da Brat'), ('Marques Houston', 'Young Rome'), ('Marques Houston', 'Jermaine JD Dupri'), ('Marques Houston', 'Joe Budden'), ('Marques Houston', 'Pied Piper'), ('Tegan And Sara', 'The Lonely Island'), ('Mya', 'Jadakiss'), ('Mya', 'Silkk The Shocker'), ('Mya', 'Sisqo'), ('Bubba Sparxxx', 'Ying Yang Twins'), ('Bubba Sparxxx', 'Mr ColliPark'), ('DeJ Loaf', 'Big Sean'), ('Farruko', 'Nicki Minaj'), ('Farruko', 'Bad Bunny'), ('Farruko', '21 Savage'), ('Farruko', 'Rvssian'), ('John Legend', 'Ludacris'), ('John Legend', 'Andre 3000'), ('Mark Ronson', 'Bruno Mars'), ('Billy Ray Cyrus', 'Miley Cyrus'), ('Keith Murray', 'Def Squad'), ('Selena Gomez', 'Gucci Mane'), ('Selena Gomez', 'AAP Rocky'), ('Selena Gomez', 'The Scene'), ('Selena Gomez', 'Demi Lovato'), ('Zedd', 'Maren Morris'), ('Zedd', 'Grey'), ('Zedd', 'Alessia Cara'), ('Zedd', 'Liam Payne'), ('Zedd', 'Kesha'), ('Zedd', 'Jon Bellion'), ('Zedd', 'Selena Gomez'), ('Zedd', 'Hayley Williams'), ('Zedd', 'Foxes'), ('gnash', 'Olivia OBrien'), ('gnash', 'Johnny Yukon'), ('Mack 10', 'Gerald Levert'), ('Clint Black', 'Steve Wariner'), ('Chief Keef', 'Lil Reese'), ('Jason Derulo', 'Nicki Minaj'), ('Jason Derulo', 'Ty Dolla ign'), ('Jason Derulo', 'Snoop Dogg'), ('Jason Derulo', '2 Chainz'), ('Smilez', 'Southstar'), ('Angel City', 'Lara McAllen'), ('Yung LA', 'Young Dro'), ('Yung LA', 'TI'), ('Major Lazer', 'Travis Scott'), ('Major Lazer', 'Camila Cabello'), ('Major Lazer', 'Quavo'), ('Major Lazer', 'PARTYNEXTDOOR'), ('Major Lazer', 'Nicki Minaj'), ('Major Lazer', 'Justin Bieber'), ('Major Lazer', 'MO'), ('Major Lazer', 'Nyla'), ('Major Lazer', 'Fuse ODG'), ('Major Lazer', 'DJ Snake'), ('Major Lazer', 'Ellie Goulding'), ('Major Lazer', 'Tarrus Riley'), ('Major Lazer', 'Bruno Mars'), ('Major Lazer', 'Tyga'), ('Major Lazer', 'Mystic'), ('The Lonely Island', 'Adam Levine'), ('The Lonely Island', 'Kendrick Lamar'), ('The Lonely Island', 'Michael Bolton'), ('The Lonely Island', 'Akon'), ('The Lonely Island', 'Nicki Minaj'), ('The Lonely Island', 'TPain'), ('Three 6 Mafia', 'Kalenna'), ('Three 6 Mafia', 'Project Pat'), ('Three 6 Mafia', 'Young D'), ('Three 6 Mafia', 'Superpower'), ('Three 6 Mafia', 'Chamillionaire'), ('Three 6 Mafia', 'Young Buck'), ('Three 6 Mafia', 'Eightball'), ('Three 6 Mafia', 'MJG'), ('Tiesto', 'Dzeko'), ('Tiesto', 'Preme'), ('Tiesto', 'Post Malone'), ('Tiesto', 'Matthew Koma'), ('Ja Rule', 'R Kelly'), ('Ja Rule', 'Ashanti'), ('Ja Rule', 'Fat Joe'), ('Ja Rule', 'Jadakiss'), ('Ja Rule', 'Bobby Brown'), ('Ja Rule', 'Charli Chuck Baltimore'), ('Ja Rule', 'Case'), ('Ja Rule', 'Lil Mo'), ('Ja Rule', 'Vita'), ('Ja Rule', 'Christina Milian'), ('Westside Connection', 'Nate Dogg'), ('Tony Yayo', '50 Cent'), ('Corey', 'Lil Romeo'), ('Webstar', 'Young B'), ('Webstar', 'The Voice Of Harlem'), ('Wisin', 'Ozuna'), ('Wisin', 'Jennifer Lopez'), ('Wisin', 'Ricky Martin'), ('Wisin', 'Yandel'), ('Paula Abdul', 'Randy Jackson'), ('NERD', 'Rihanna'), ('UGK', 'OutKast'), ('Lil Mama', 'Chris Brown'), ('Lil Mama', 'TPain'), ('Metro Boomin', 'Offset'), ('Metro Boomin', 'Drake'), ('DMX', 'Faith Evans'), ('DMX', 'Sisqo'), ('DMX', 'Sheek Of The Lox'), ('Murphy Lee', 'Jermaine Dupri'), ('Deborah Cox', 'RL'), ('Tela', 'Eightball'), ('Tela', 'MJG'), ('Sleepy Brown', 'OutKast'), ('Dreezy', 'Jeremih'), ('Machine Gun Kelly', 'X Ambassadors'), ('Machine Gun Kelly', 'Bebe Rexha'), ('Machine Gun Kelly', 'Hailee Steinfeld'), ('The Lox', 'Timbaland And EVE'), ('Jordan Smith', 'Adam Levine'), ('Maddie', 'Tae'), ('Goodie Mob', 'Outkast'), ('Michael Jackson Duet', 'Akon'), ('Mario Winans', 'Enya'), ('Mario Winans', 'P Diddy'), ('KnocTurnAl', 'Dr Dre'), ('KnocTurnAl', 'Missy Misdemeanor Elliott'), ('Scarface', 'JayZ'), ('Scarface', 'Beanie Sigel'), ('Scarface', '2Pac'), ('Scarface', 'Johnny P'), ('Case', 'Joe'), ('Club 69', 'Suzanne Palmer'), ('TheDream', 'Kanye West'), ('TheDream', 'Mariah Carey'), ('Rich Boy', 'Polow Da Don'), ('Gwen Stefani', 'Akon'), ('Gwen Stefani', 'Eve'), ('CamRon', 'Kanye West'), ('CamRon', 'Syleena Johnson'), ('CamRon', 'Juelz Santana'), ('CamRon', 'Freekey Zekey'), ('CamRon', 'Toya'), ('CamRon', 'Mase'), ('Edward Maya', 'Vika Jigulina'), ('Arianna', 'Pitbull'), ('Sofi Tukker', 'NERVO'), ('Sofi Tukker', 'The Knocks'), ('Sofi Tukker', 'Alisa Ueno'), ('CurrenY', 'August Alsina'), ('CurrenY', 'Lil Wayne'), ('YFN Lucci', 'PnB Rock'), ('YFN Lucci', 'Migos'), ('YFN Lucci', 'Trouble'), ('Disclosure', 'Sam Smith'), ('Seether', 'Amy Lee'), ('Puff Daddy', 'Mario Winans'), ('Puff Daddy', 'Hezekiah Walker'), ('Puff Daddy', 'The Love Fe'), ('Puff Daddy', 'R Kelly'), ('Puff Daddy', 'Jimmy Page'), ('Puff Daddy', 'The Family'), ('Puff Daddy', 'The Notorious BIG'), ('Puff Daddy', 'Busta Rh'), ('Puff Daddy', 'The Family '), ('Puff Daddy', 'Mase'), ('Puff Daddy', 'Faith Evans'), ('Puff Daddy', '112'), ('Public Announcement', 'LeLe'), ('Bhad Bhabie', 'Lil Yachty'), ('Young Money', 'Drake'), ('Young Money', 'Gucci Mane'), ('Young Money', 'Lloyd'), ('J Balvin', 'Willy William'), ('J Balvin', 'Beyonce'), ('Diddy  Dirty Money', 'Skylar Grey'), ('Diddy  Dirty Money', 'Drake'), ('Diddy  Dirty Money', 'TI'), ('Aaliyah', 'Timbaland'), ('Elton John', 'LeAnn Rimes'), ('Scotty Emerick', 'Toby Keith'), ('Olly Murs', 'Flo Rida'), ('Olly Murs', 'Chiddy Bang'), ('Cheat Codes', 'Demi Lovato'), ('Lil Wayne', 'Wiz Khalifa'), ('Lil Wayne', 'Imagine Dragons'), ('Lil Wayne', 'Logic'), ('Lil Wayne', 'Ty Dolla ign'), ('Lil Wayne', 'X Ambassadors'), ('Lil Wayne', 'Charlie Puth'), ('Lil Wayne', 'Drake'), ('Lil Wayne', '2 Chainz'), ('Lil Wayne', 'Future'), ('Lil Wayne', 'Detail'), ('Lil Wayne', 'Big Sean'), ('Lil Wayne', 'Bruno Mars'), ('Lil Wayne', 'Jadakiss'), ('Lil Wayne', 'TPain'), ('Lil Wayne', 'John Legend'), ('Lil Wayne', 'Rick Ross'), ('Lil Wayne', 'Cory Gunz'), ('Lil Wayne', 'Nicki Minaj'), ('Lil Wayne', 'Eminem'), ('Lil Wayne', 'Gudda'), ('Lil Wayne', 'Shanell AKA SNL'), ('Lil Wayne', 'Bobby Valentino'), ('Lil Wayne', 'Kidd Kidd'), ('Lil Wayne', 'JayZ'), ('Lil Wayne', 'Static Major'), ('Lil Wayne', 'Juelz Santana'), ('Lil Wayne', 'Fabolous'), ('Lil Wayne', 'Baby'), ('Lil Wayne', 'Mack 10'), ('Lil Wayne', 'Mickey'), ('Lil Wayne', 'Juvenile'), ('Lil Wayne', 'BG'), ('TrickTrick', 'Eminem'), ('Jennifer Lopez', 'DJ Khaled'), ('Jennifer Lopez', 'Cardi B'), ('Jennifer Lopez', 'LinManuel Miranda'), ('Jennifer Lopez', 'Iggy Azalea Or Pitbull'), ('Jennifer Lopez', 'French Montana'), ('Jennifer Lopez', 'Pitbull'), ('Jennifer Lopez', 'Lil Wayne'), ('Jennifer Lopez', 'Fat Joe'), ('Jennifer Lopez', 'LL Cool J'), ('Jennifer Lopez', 'Styles'), ('Jennifer Lopez', 'Jadakiss'), ('Jennifer Lopez', 'Nas'), ('Jennifer Lopez', 'Ja Rule'), ('Jennifer Lopez', 'Big Pun'), ('Az Yet', 'Peter Cetera'), ('Nutta Butta', 'Teddy Riley And Anonymous'), ('Belly', 'The Weeknd'), ('Christina Perri', 'Steve Kazee'), ('Lil Jon', 'Tyga'), ('Lil Jon', 'LMFAO'), ('Lil Jon', '3OH3'), ('Lil Jon', 'E40'), ('Lil Jon', 'Sean Paul Of The YoungBloodZ'), ('Lil Jon', 'The East Side Boyz'), ('Lil Jon', 'Usher'), ('Lil Jon', 'Ludacris'), ('Lil Jon', 'Lil Scrappy'), ('Lil Jon', 'Ying Yang Twins'), ('Lil Jon', 'Too Short'), ('Lil Jon', 'Big Kap'), ('Lil Jon', 'Chyna Whyte'), ('Trick Daddy', 'Ludacris'), ('Trick Daddy', 'Lil Kim'), ('Trick Daddy', 'CeeLo'), ('Trick Daddy', 'Lil Jon'), ('Trick Daddy', 'Twista'), ('Trick Daddy', 'LaTocha Scott'), ('Trick Daddy', 'Big Boi'), ('Trick Daddy', 'The SNS Express'), ('Trick Daddy', 'Duece Poppito'), ('Trick Daddy', 'Trina'), ('Trick Daddy', 'Co'), ('Blake Shelton', 'Gwen Stefani'), ('Blake Shelton', 'Ashley Monroe'), ('Blake Shelton', 'Gwen Sebastian'), ('Blake Shelton', 'Pistol Annies'), ('Blake Shelton', 'Friends'), ('Blake Shelton', 'Dia Frampton'), ('Blake Shelton', 'Trace Adkins'), ('JShin', 'LaTocha Scott'), ('Kelis', 'Too hort'), ('Chingy', 'Amerie'), ('Chingy', 'Jermaine Dupri'), ('Chingy', 'Tyrese'), ('Chingy', 'J Weav'), ('Chingy', 'Ludacris'), ('Chingy', 'Snoop Dogg'), ('Mike WiLL MadeIt', 'Miley Cyrus'), ('Mike WiLL MadeIt', 'Wiz Khalifa'), ('Mike WiLL MadeIt', 'Juicy J'), ('DRAM', 'Lil Yachty'), ('Missy Misdemeanor Elliott', 'Ludacris'), ('Missy Misdemeanor Elliott', 'Ginuwine'), ('Missy Misdemeanor Elliott', 'Tweet'), ('Missy Misdemeanor Elliott', 'NAS'), ('Missy Misdemeanor Elliott', 'EVE'), ('Missy Misdemeanor Elliott', 'QTip'), ('Missy Misdemeanor Elliott', 'Big Boi'), ('Missy Misdemeanor Elliott', 'Nicole'), ('Missy Misdemeanor Elliott', 'Da Brat'), ('FarEast Movement', 'Justin Bieber'), ('FarEast Movement', 'Ryan Tedder'), ('FarEast Movement', 'Cataracs'), ('FarEast Movement', 'Dev'), ('Lil Flip', 'Lea'), ('fun', 'Janelle Monae'), ('Kardinal Offishall', 'Akon'), ('Sole', 'JT Money'), ('Sole', 'Kandi'), ('Lorde', 'Khalid'), ('Lorde', 'Post Malone'), ('Lorde', 'SZA'), ('Hailee Steinfeld', 'Alesso'), ('Hailee Steinfeld', 'Florida Georgia Line'), ('Hailee Steinfeld', 'Watt'), ('Hailee Steinfeld', 'Grey'), ('Hailee Steinfeld', 'Zedd'), ('Jermaine Dupri', 'Ludacris'), ('Jermaine Dupri', 'Nate Dogg'), ('Yasmeen', 'Ghostface Killah'), ('Eric Benet', 'Tamia'), ('Eric Benet', 'Faith Evans'), ('Luke Bryan', 'Karen Fairchild'), ('NeYo', 'Juicy J'), ('NeYo', 'Jamie Foxx'), ('NeYo', 'Fabolous'), ('Ester Dean', 'Chris Brown'), ('Kristen Bell', 'Idina Menzel'), ('Kristen Bell', 'Agatha Lee Monn'), ('Kristen Bell', 'Katie Lopez'), ('Kristen Bell', 'Santino Fontana'), ('Naughty By Nature', '3LW'), ('Naughty By Nature', 'Zhane'), ('Lupe Fiasco', 'Ed Sheeran'), ('Lupe Fiasco', 'Guy Sebastian'), ('Lupe Fiasco', 'Trey Songz'), ('Lupe Fiasco', 'MDMA'), ('Lupe Fiasco', 'Skylar Grey'), ('Lupe Fiasco', 'Matthew Santos'), ('Ashlee Simpson', 'Tom Higgenson'), ('Kevin Lyttle', 'Spragga Benz'), ('Crime Mob', 'Lil Scrappy'), ('Quavo', 'Lil Yachty'), ('Quavo', 'Takeoff'), ('Quavo', 'Offset'), ('Ice Cube', 'Mack 10'), ('Ice Cube', 'Ms Toi'), ('Ice Cube', 'Mr Short Khop'), ('Shawnna', 'Ludacris'), ('Keha', 'william Or Juicy J'), ('Keha', 'Lil Wayne'), ('Keha', 'Wiz Khalifa'), ('Keha', 'TI'), ('Keha', 'Andre 3000'), ('Keha', '3OH3'), ('Willie Max', 'Raphael Saadiq'), ('Carly Rae Jepsen', 'Nicki Minaj'), ('Carly Rae Jepsen', 'Justin Bieber'), ('Field Mob', 'Ciara'), ('Cardi B', 'Bad Bunny'), ('Cardi B', 'J Balvin'), ('Cardi B', 'Migos'), ('Cardi B', '21 Savage'), ('Cardi B', 'SZA'), ('Cardi B', 'Kehlani'), ('Cardi B', 'Chance The Rapper'), ('Cardi B', 'YG'), ('Beyonce', 'The Weeknd'), ('Beyonce', 'Jack White'), ('Beyonce', 'Kendrick Lamar'), ('Beyonce', 'James Blake'), ('Beyonce', 'Nicki Minaj Or Chimamanda Ngozi Adichie'), ('Beyonce', 'Jay Z'), ('Beyonce', 'Drake'), ('Beyonce', 'Andre 3000'), ('Beyonce', 'Lady Gaga'), ('Beyonce', 'Shakira'), ('Beyonce', 'Slim Thug'), ('Beyonce', 'Sean Paul'), ('Choppa', 'Master P'), ('WE the Kings', 'Demi Lovato'), ('Jason Aldean', 'Miranda Lambert'), ('Jason Aldean', 'Luke Bryan'), ('Jason Aldean', 'Eric Church'), ('Jason Aldean', 'Kelly Clarkson'), ('10', '000 Maniacs'), ('Miranda Cosgrove', 'Drake Bell'), ('Sia', 'Sean Paul'), ('Sia', 'Kendrick Lamar'), ('Swae Lee', 'Slim Jxmmi'), ('Clipse', 'Faith Evans'), ('Baby Bash', 'Sean Kingston'), ('Baby Bash', 'TPain'), ('Baby Bash', 'Akon'), ('Baby Bash', 'Frankie J'), ('Taio Cruz', 'Flo Rida'), ('Taio Cruz', 'Travie McCoy'), ('Taio Cruz', 'Ludacris'), ('Taio Cruz', 'Keha'), ('Lil Baby', 'Drake'), ('Lil Baby', 'Gunna'), ('Lil Baby', 'Lil Uzi Vert'), ('Jim Jones', 'Ron Browz'), ('Jim Jones', 'Juelz Santana'), ('KYLE', 'Lil Yachty'), ('JC Chasez', 'Dirt McGirt'), ('Billie Eilish', 'Khalid'), ('Redman', 'DJ Kool'), ('Jonn Hart', 'IamSU'), ('Joe', 'GUnit'), ('Joe', 'Mystikal'), ('KNaan', 'Nelly Furtado'), ('Killer Mike', 'Big Boi'), ('Sheryl Crow', 'Kid Rock'), ('Sheryl Crow', 'Keith Urban'), ('Sheryl Crow', 'Sting'), ('Bridgit Mendler', 'Adam Hicks'), ('Bridgit Mendler', 'Naomi Scott'), ('Bridgit Mendler', 'Hayley Kiyoko'), ('Faith Evans', 'Missy Misdemeanor Elliott'), ('Faith Evans', 'Carl Thomas'), ('Faith Evans', 'Puff Daddy'), ('Carlos Vives', 'Shakira'), ('Yolanda Be Cool', 'Dcup'), ('KeKe Wyatt', 'Avant'), ('AAP Rocky', 'Skepta'), ('AAP Rocky', 'Moby'), ('AAP Rocky', 'Rod Stewart x Miguel x Mark Ronson'), ('AAP Rocky', 'ScHoolboy Q'), ('AAP Rocky', 'Skrillex'), ('AAP Rocky', 'Drake'), ('AAP Rocky', '2 Chainz'), ('AAP Rocky', 'Kendrick Lamar'), ('ATrak  Milo', 'Otis'), ('ATrak  Milo', 'Rich Kidz'), ('Panic At The Disco', 'Lolo'), ('Rich Homie Quan', 'Problem'), ('Mike Posner', 'Lil Wayne'), ('Mary J Blige', 'Drake'), ('Mary J Blige', 'Andrea Bocelli'), ('Mary J Blige', 'BrookLyn'), ('Mary J Blige', 'The Game'), ('Mary J Blige', '50 Cent'), ('Mary J Blige', 'Eve'), ('Mary J Blige', 'Method Man'), ('Mary J Blige', 'Ja Rule'), ('R Kelly Or Bow Wow ', 'TI'), ('R Kelly Or Bow Wow ', 'TPain'), ('LFO Lyte Funky Ones ', 'Kayo'), ('Memphis Bleek ', 'JayZ'), ('The Lox ', 'DMX'), ('The Lox ', 'Lil Kim'), ('Ol Skool ', 'Keith Sweat'), ('Ol Skool ', 'Xscape'), ('Changing Faces ', 'JayZ'), ('SWV ', 'Puff Daddy'), ('Shaggy ', 'Marsha'), ('Keith Sweat ', 'Ronald Isley'), ('Veronica ', 'Craig Mack'), ('Puff Daddy ', 'Mase'), ('BLACKstreet ', 'Dr Dre')])"
      ]
     },
     "execution_count": 10,
     "metadata": {},
     "output_type": "execute_result"
    }
   ],
   "source": [
    "G.edges"
   ]
  },
  {
   "cell_type": "markdown",
   "metadata": {},
   "source": [
    "## Draw Graph"
   ]
  },
  {
   "cell_type": "code",
   "execution_count": 11,
   "metadata": {},
   "outputs": [
    {
     "data": {
      "text/plain": [
       "<networkx.classes.digraph.DiGraph at 0x7f4306baf358>"
      ]
     },
     "execution_count": 11,
     "metadata": {},
     "output_type": "execute_result"
    }
   ],
   "source": [
    "import matplotlib.pyplot as plt\n",
    "import plotly.graph_objs as go\n",
    "import plotly.plotly as py\n",
    "\n",
    "options = {}\n",
    "\n",
    "def assign_positions(graph: nx.Graph):\n",
    "    positions = nx.spring_layout(G)\n",
    "    nx.set_node_attributes(G, positions, 'pos')\n",
    "    return G\n",
    "    \n",
    "assign_positions(G)"
   ]
  },
  {
   "cell_type": "code",
   "execution_count": 12,
   "metadata": {},
   "outputs": [],
   "source": [
    "\n",
    "def plot_graph(G):\n",
    "\n",
    "    pos = nx.get_node_attributes(G, 'pos')\n",
    "\n",
    "    dmin = 1\n",
    "    ncenter = 'Drake'\n",
    "    for n in pos:\n",
    "        x, y= pos[n]\n",
    "        d=(x-0.5)**2+(y-0.5)**2\n",
    "        if d<dmin:\n",
    "            ncenter=n\n",
    "            dmin=d\n",
    "\n",
    "    p = nx.single_source_shortest_path_length(G,ncenter)\n",
    "\n",
    "    # \n",
    "\n",
    "    edge_trace = go.Scatter(\n",
    "        x=[],\n",
    "        y=[],\n",
    "        line=dict(width=0.5,color='#888'),\n",
    "        hoverinfo='none',\n",
    "        mode='lines')\n",
    "\n",
    "    for edge in G.edges():\n",
    "        x0, y0 = G.node[edge[0]]['pos']\n",
    "        x1, y1 = G.node[edge[1]]['pos']\n",
    "        edge_trace['x'] += tuple([x0, x1, None])\n",
    "        edge_trace['y'] += tuple([y0, y1, None])\n",
    "\n",
    "    node_trace = go.Scatter(\n",
    "        x=[],\n",
    "        y=[],\n",
    "        text=[],\n",
    "        mode='markers',\n",
    "        hoverinfo='text',\n",
    "        marker=dict(\n",
    "            showscale=True,\n",
    "            # colorscale options\n",
    "            #'Greys' | 'YlGnBu' | 'Greens' | 'YlOrRd' | 'Bluered' | 'RdBu' |\n",
    "            #'Reds' | 'Blues' | 'Picnic' | 'Rainbow' | 'Portland' | 'Jet' |\n",
    "            #'Hot' | 'Blackbody' | 'Earth' | 'Electric' | 'Viridis' |\n",
    "            colorscale='YlGnBu',\n",
    "            reversescale=True,\n",
    "            color=[],\n",
    "            size=10,\n",
    "            colorbar=dict(\n",
    "                thickness=15,\n",
    "                title='Node Connections',\n",
    "                xanchor='left',\n",
    "                titleside='right'\n",
    "            ),\n",
    "            line=dict(width=2)))\n",
    "\n",
    "    for node in G.nodes():\n",
    "        x, y = G.node[node]['pos']\n",
    "        node_trace['x'] += tuple([x])\n",
    "        node_trace['y'] += tuple([y])\n",
    "\n",
    "    adj_length = len(list(G.adjacency()))\n",
    "\n",
    "    from IPython.display import display, clear_output\n",
    "\n",
    "    i = 0\n",
    "    for node, adjacencies in enumerate(G.adjacency()):\n",
    "        node_trace['marker']['color']+=tuple([len(adjacencies[1])])\n",
    "        name = adjacencies[0]\n",
    "        node_info = f\"\"\"\n",
    "                        {name} | \n",
    "                        # of outgoing connections: {len(adjacencies[1])} | \n",
    "                        # of incoming connections: {G.in_degree(name)}\n",
    "                        \"\"\"\n",
    "        node_trace['text'] += tuple([node_info])\n",
    "        i +=1\n",
    "        if i % 10 == 0:\n",
    "            clear_output(wait=True)\n",
    "            print(f'{i}/{adj_length}', end=\" \")\n",
    "\n",
    "    fig = go.Figure(data=[edge_trace, node_trace],\n",
    "                 layout=go.Layout(\n",
    "                    title='<br>Artists Connections',\n",
    "                    titlefont=dict(size=16),\n",
    "                    showlegend=False,\n",
    "                    hovermode='closest',\n",
    "                    margin=dict(b=20,l=5,r=5,t=40),\n",
    "                    annotations=[ dict(\n",
    "                        text=\"Python code: <a href='https://plot.ly/ipython-notebooks/network-graphs/'> https://plot.ly/ipython-notebooks/network-graphs/</a>\",\n",
    "                        showarrow=False,\n",
    "                        xref=\"paper\", yref=\"paper\",\n",
    "                        x=0.005, y=-0.002 ) ],\n",
    "                    xaxis=dict(showgrid=False, zeroline=False, showticklabels=False),\n",
    "                    yaxis=dict(showgrid=False, zeroline=False, showticklabels=False)))\n",
    "\n",
    "    return py.iplot(fig, filename='networkx')\n",
    "    \n"
   ]
  },
  {
   "cell_type": "code",
   "execution_count": 13,
   "metadata": {},
   "outputs": [
    {
     "name": "stdout",
     "output_type": "stream",
     "text": [
      "2750/2753 "
     ]
    },
    {
     "name": "stderr",
     "output_type": "stream",
     "text": [
      "/opt/conda/lib/python3.6/site-packages/plotly/tools.py:1428: UserWarning:\n",
      "\n",
      "Looks like you used a newline character: '\\n'.\n",
      "\n",
      "Plotly uses a subset of HTML escape characters\n",
      "to do things like newline (<br>), bold (<b></b>),\n",
      "italics (<i></i>), etc. Your newline characters \n",
      "have been converted to '<br>' so they will show \n",
      "up right on your Plotly figure!\n",
      "\n"
     ]
    },
    {
     "data": {
      "text/html": [
       "<iframe id=\"igraph\" scrolling=\"no\" style=\"border:none;\" seamless=\"seamless\" src=\"https://plot.ly/~jamesaud/89.embed\" height=\"525px\" width=\"100%\"></iframe>"
      ],
      "text/plain": [
       "<plotly.tools.PlotlyDisplay object>"
      ]
     },
     "execution_count": 13,
     "metadata": {},
     "output_type": "execute_result"
    }
   ],
   "source": [
    "plot_graph(G)"
   ]
  },
  {
   "cell_type": "code",
   "execution_count": 14,
   "metadata": {},
   "outputs": [],
   "source": [
    "# Sort by outgoing connections\n",
    "# Sort by incoming connections"
   ]
  },
  {
   "cell_type": "code",
   "execution_count": 15,
   "metadata": {},
   "outputs": [],
   "source": [
    "def sorted_nodes(g: nx.Graph, out_degree=False):\n",
    "    \"\"\"in_degree is False\"\"\"\n",
    "    sort_type = G.out_degree if out_degree else G.in_degree\n",
    "    sorted_n = sorted(G.nodes, key=sort_type, reverse=True)\n",
    "    return [(node, sort_type(node)) for node in sorted_n]\n",
    "\n",
    "in_degrees = sorted_nodes(G)\n",
    "out_degrees = sorted_nodes(G, out_degree=True)"
   ]
  },
  {
   "cell_type": "code",
   "execution_count": 16,
   "metadata": {},
   "outputs": [
    {
     "data": {
      "text/html": [
       "<div>\n",
       "<style scoped>\n",
       "    .dataframe tbody tr th:only-of-type {\n",
       "        vertical-align: middle;\n",
       "    }\n",
       "\n",
       "    .dataframe tbody tr th {\n",
       "        vertical-align: top;\n",
       "    }\n",
       "\n",
       "    .dataframe thead th {\n",
       "        text-align: right;\n",
       "    }\n",
       "</style>\n",
       "<table border=\"1\" class=\"dataframe\">\n",
       "  <thead>\n",
       "    <tr style=\"text-align: right;\">\n",
       "      <th></th>\n",
       "      <th>Artist</th>\n",
       "      <th>In_Degree</th>\n",
       "      <th>Out_Degree</th>\n",
       "      <th>Total_Degree</th>\n",
       "    </tr>\n",
       "  </thead>\n",
       "  <tbody>\n",
       "    <tr>\n",
       "      <th>131</th>\n",
       "      <td>DJ Khaled</td>\n",
       "      <td>4</td>\n",
       "      <td>37</td>\n",
       "      <td>41</td>\n",
       "    </tr>\n",
       "    <tr>\n",
       "      <th>3</th>\n",
       "      <td>Drake</td>\n",
       "      <td>33</td>\n",
       "      <td>35</td>\n",
       "      <td>68</td>\n",
       "    </tr>\n",
       "    <tr>\n",
       "      <th>0</th>\n",
       "      <td>Lil Wayne</td>\n",
       "      <td>51</td>\n",
       "      <td>32</td>\n",
       "      <td>83</td>\n",
       "    </tr>\n",
       "    <tr>\n",
       "      <th>4</th>\n",
       "      <td>Kanye West</td>\n",
       "      <td>26</td>\n",
       "      <td>31</td>\n",
       "      <td>57</td>\n",
       "    </tr>\n",
       "    <tr>\n",
       "      <th>2</th>\n",
       "      <td>Chris Brown</td>\n",
       "      <td>34</td>\n",
       "      <td>23</td>\n",
       "      <td>57</td>\n",
       "    </tr>\n",
       "    <tr>\n",
       "      <th>177</th>\n",
       "      <td>David Guetta</td>\n",
       "      <td>3</td>\n",
       "      <td>22</td>\n",
       "      <td>25</td>\n",
       "    </tr>\n",
       "    <tr>\n",
       "      <th>30</th>\n",
       "      <td>Pitbull</td>\n",
       "      <td>11</td>\n",
       "      <td>22</td>\n",
       "      <td>33</td>\n",
       "    </tr>\n",
       "    <tr>\n",
       "      <th>57</th>\n",
       "      <td>Nelly</td>\n",
       "      <td>7</td>\n",
       "      <td>21</td>\n",
       "      <td>28</td>\n",
       "    </tr>\n",
       "    <tr>\n",
       "      <th>156</th>\n",
       "      <td>Meek Mill</td>\n",
       "      <td>3</td>\n",
       "      <td>19</td>\n",
       "      <td>22</td>\n",
       "    </tr>\n",
       "    <tr>\n",
       "      <th>10</th>\n",
       "      <td>JayZ</td>\n",
       "      <td>20</td>\n",
       "      <td>19</td>\n",
       "      <td>39</td>\n",
       "    </tr>\n",
       "    <tr>\n",
       "      <th>317</th>\n",
       "      <td>Calvin Harris</td>\n",
       "      <td>2</td>\n",
       "      <td>19</td>\n",
       "      <td>21</td>\n",
       "    </tr>\n",
       "    <tr>\n",
       "      <th>13</th>\n",
       "      <td>Rick Ross</td>\n",
       "      <td>16</td>\n",
       "      <td>18</td>\n",
       "      <td>34</td>\n",
       "    </tr>\n",
       "    <tr>\n",
       "      <th>5</th>\n",
       "      <td>Ludacris</td>\n",
       "      <td>25</td>\n",
       "      <td>18</td>\n",
       "      <td>43</td>\n",
       "    </tr>\n",
       "    <tr>\n",
       "      <th>49</th>\n",
       "      <td>Flo Rida</td>\n",
       "      <td>7</td>\n",
       "      <td>17</td>\n",
       "      <td>24</td>\n",
       "    </tr>\n",
       "    <tr>\n",
       "      <th>14</th>\n",
       "      <td>Snoop Dogg</td>\n",
       "      <td>15</td>\n",
       "      <td>17</td>\n",
       "      <td>32</td>\n",
       "    </tr>\n",
       "    <tr>\n",
       "      <th>19</th>\n",
       "      <td>Big Sean</td>\n",
       "      <td>14</td>\n",
       "      <td>17</td>\n",
       "      <td>31</td>\n",
       "    </tr>\n",
       "    <tr>\n",
       "      <th>118</th>\n",
       "      <td>Enrique Iglesias</td>\n",
       "      <td>4</td>\n",
       "      <td>16</td>\n",
       "      <td>20</td>\n",
       "    </tr>\n",
       "    <tr>\n",
       "      <th>28</th>\n",
       "      <td>Eminem</td>\n",
       "      <td>12</td>\n",
       "      <td>15</td>\n",
       "      <td>27</td>\n",
       "    </tr>\n",
       "    <tr>\n",
       "      <th>2511</th>\n",
       "      <td>Major Lazer</td>\n",
       "      <td>0</td>\n",
       "      <td>15</td>\n",
       "      <td>15</td>\n",
       "    </tr>\n",
       "    <tr>\n",
       "      <th>98</th>\n",
       "      <td>Jennifer Lopez</td>\n",
       "      <td>5</td>\n",
       "      <td>14</td>\n",
       "      <td>19</td>\n",
       "    </tr>\n",
       "    <tr>\n",
       "      <th>27</th>\n",
       "      <td>Usher</td>\n",
       "      <td>12</td>\n",
       "      <td>14</td>\n",
       "      <td>26</td>\n",
       "    </tr>\n",
       "    <tr>\n",
       "      <th>17</th>\n",
       "      <td>Rihanna</td>\n",
       "      <td>14</td>\n",
       "      <td>14</td>\n",
       "      <td>28</td>\n",
       "    </tr>\n",
       "    <tr>\n",
       "      <th>25</th>\n",
       "      <td>Lil Jon</td>\n",
       "      <td>13</td>\n",
       "      <td>13</td>\n",
       "      <td>26</td>\n",
       "    </tr>\n",
       "    <tr>\n",
       "      <th>79</th>\n",
       "      <td>Fat Joe</td>\n",
       "      <td>5</td>\n",
       "      <td>13</td>\n",
       "      <td>18</td>\n",
       "    </tr>\n",
       "    <tr>\n",
       "      <th>11</th>\n",
       "      <td>TI</td>\n",
       "      <td>19</td>\n",
       "      <td>13</td>\n",
       "      <td>32</td>\n",
       "    </tr>\n",
       "    <tr>\n",
       "      <th>7</th>\n",
       "      <td>Future</td>\n",
       "      <td>23</td>\n",
       "      <td>13</td>\n",
       "      <td>36</td>\n",
       "    </tr>\n",
       "    <tr>\n",
       "      <th>1703</th>\n",
       "      <td>Macklemore</td>\n",
       "      <td>0</td>\n",
       "      <td>12</td>\n",
       "      <td>12</td>\n",
       "    </tr>\n",
       "    <tr>\n",
       "      <th>77</th>\n",
       "      <td>Master P</td>\n",
       "      <td>5</td>\n",
       "      <td>12</td>\n",
       "      <td>17</td>\n",
       "    </tr>\n",
       "    <tr>\n",
       "      <th>53</th>\n",
       "      <td>Timbaland</td>\n",
       "      <td>7</td>\n",
       "      <td>12</td>\n",
       "      <td>19</td>\n",
       "    </tr>\n",
       "    <tr>\n",
       "      <th>36</th>\n",
       "      <td>Tyga</td>\n",
       "      <td>10</td>\n",
       "      <td>12</td>\n",
       "      <td>22</td>\n",
       "    </tr>\n",
       "  </tbody>\n",
       "</table>\n",
       "</div>"
      ],
      "text/plain": [
       "                Artist  In_Degree  Out_Degree  Total_Degree\n",
       "131          DJ Khaled          4          37            41\n",
       "3                Drake         33          35            68\n",
       "0            Lil Wayne         51          32            83\n",
       "4           Kanye West         26          31            57\n",
       "2          Chris Brown         34          23            57\n",
       "177       David Guetta          3          22            25\n",
       "30             Pitbull         11          22            33\n",
       "57               Nelly          7          21            28\n",
       "156          Meek Mill          3          19            22\n",
       "10                JayZ         20          19            39\n",
       "317      Calvin Harris          2          19            21\n",
       "13           Rick Ross         16          18            34\n",
       "5             Ludacris         25          18            43\n",
       "49            Flo Rida          7          17            24\n",
       "14          Snoop Dogg         15          17            32\n",
       "19            Big Sean         14          17            31\n",
       "118   Enrique Iglesias          4          16            20\n",
       "28              Eminem         12          15            27\n",
       "2511       Major Lazer          0          15            15\n",
       "98      Jennifer Lopez          5          14            19\n",
       "27               Usher         12          14            26\n",
       "17             Rihanna         14          14            28\n",
       "25             Lil Jon         13          13            26\n",
       "79             Fat Joe          5          13            18\n",
       "11                  TI         19          13            32\n",
       "7               Future         23          13            36\n",
       "1703        Macklemore          0          12            12\n",
       "77            Master P          5          12            17\n",
       "53           Timbaland          7          12            19\n",
       "36                Tyga         10          12            22"
      ]
     },
     "execution_count": 16,
     "metadata": {},
     "output_type": "execute_result"
    }
   ],
   "source": [
    "from pprint import pprint\n",
    "from pandas import DataFrame \n",
    "import pandas as pd\n",
    "from operator import itemgetter\n",
    "\n",
    "df_in = DataFrame(in_degrees, columns=['Artist', 'In_Degree'])\n",
    "df_out = DataFrame(out_degrees, columns=['Artist', 'Out_Degree'])\n",
    "df = pd.merge(df_in, df_out, on=['Artist'])\n",
    "df['Total_Degree'] = df['In_Degree'] + df['Out_Degree']\n",
    "df = df.sort_values('Out_Degree', ascending=False)\n",
    "df.head()\n",
    "df[:30]"
   ]
  },
  {
   "cell_type": "code",
   "execution_count": 17,
   "metadata": {},
   "outputs": [
    {
     "name": "stdout",
     "output_type": "stream",
     "text": [
      "170/179 "
     ]
    },
    {
     "name": "stderr",
     "output_type": "stream",
     "text": [
      "/opt/conda/lib/python3.6/site-packages/plotly/tools.py:1428: UserWarning:\n",
      "\n",
      "Looks like you used a newline character: '\\n'.\n",
      "\n",
      "Plotly uses a subset of HTML escape characters\n",
      "to do things like newline (<br>), bold (<b></b>),\n",
      "italics (<i></i>), etc. Your newline characters \n",
      "have been converted to '<br>' so they will show \n",
      "up right on your Plotly figure!\n",
      "\n"
     ]
    },
    {
     "data": {
      "text/html": [
       "<iframe id=\"igraph\" scrolling=\"no\" style=\"border:none;\" seamless=\"seamless\" src=\"https://plot.ly/~jamesaud/89.embed\" height=\"525px\" width=\"100%\"></iframe>"
      ],
      "text/plain": [
       "<plotly.tools.PlotlyDisplay object>"
      ]
     },
     "execution_count": 17,
     "metadata": {},
     "output_type": "execute_result"
    }
   ],
   "source": [
    "def subgraph(G, n_keep=3):\n",
    "    to_keep = []\n",
    "    for i, row in df.iterrows():\n",
    "        if row['In_Degree'] >= n_keep or row['Out_Degree'] >= n_keep:\n",
    "            to_keep.append(row['Artist'])  \n",
    "            \n",
    "    return G.subgraph(to_keep)\n",
    "\n",
    "sub_g = subgraph(G, n_keep=5)\n",
    "assign_positions(sub_g)\n",
    "plot_graph(sub_g)\n",
    "\n",
    "# 270 nodes"
   ]
  },
  {
   "cell_type": "code",
   "execution_count": 18,
   "metadata": {},
   "outputs": [
    {
     "name": "stdout",
     "output_type": "stream",
     "text": [
      "50/57 "
     ]
    },
    {
     "name": "stderr",
     "output_type": "stream",
     "text": [
      "/opt/conda/lib/python3.6/site-packages/plotly/tools.py:1428: UserWarning:\n",
      "\n",
      "Looks like you used a newline character: '\\n'.\n",
      "\n",
      "Plotly uses a subset of HTML escape characters\n",
      "to do things like newline (<br>), bold (<b></b>),\n",
      "italics (<i></i>), etc. Your newline characters \n",
      "have been converted to '<br>' so they will show \n",
      "up right on your Plotly figure!\n",
      "\n"
     ]
    },
    {
     "data": {
      "text/html": [
       "<iframe id=\"igraph\" scrolling=\"no\" style=\"border:none;\" seamless=\"seamless\" src=\"https://plot.ly/~jamesaud/89.embed\" height=\"525px\" width=\"100%\"></iframe>"
      ],
      "text/plain": [
       "<plotly.tools.PlotlyDisplay object>"
      ]
     },
     "execution_count": 18,
     "metadata": {},
     "output_type": "execute_result"
    }
   ],
   "source": [
    "# Apply algorithms from https://networkx.github.io/documentation/stable/reference/algorithms/index.html\n",
    "# Make weight the best ranking of the song\n",
    "# Distribute page rank equally among artists\n",
    "import networkx.algorithms as nxa\n",
    "\n",
    "sub_g = subgraph(G, n_keep=10)\n",
    "#nxa.average_shortest_path_length(H)\n",
    "sc = list(nxa.strongly_connected_components(sub_g))\n",
    "nodes = max(sc, key=len)\n",
    "SC = sub_g.subgraph(nodes)\n",
    "plot_graph(SC)"
   ]
  },
  {
   "cell_type": "code",
   "execution_count": 19,
   "metadata": {},
   "outputs": [
    {
     "data": {
      "text/plain": [
       "2.006265664160401"
      ]
     },
     "execution_count": 19,
     "metadata": {},
     "output_type": "execute_result"
    }
   ],
   "source": [
    "nxa.average_shortest_path_length(SC.to_undirected())"
   ]
  },
  {
   "cell_type": "code",
   "execution_count": 25,
   "metadata": {},
   "outputs": [
    {
     "name": "stdout",
     "output_type": "stream",
     "text": [
      "1230/1233 "
     ]
    },
    {
     "name": "stderr",
     "output_type": "stream",
     "text": [
      "/opt/conda/lib/python3.6/site-packages/plotly/tools.py:1428: UserWarning:\n",
      "\n",
      "Looks like you used a newline character: '\\n'.\n",
      "\n",
      "Plotly uses a subset of HTML escape characters\n",
      "to do things like newline (<br>), bold (<b></b>),\n",
      "italics (<i></i>), etc. Your newline characters \n",
      "have been converted to '<br>' so they will show \n",
      "up right on your Plotly figure!\n",
      "\n"
     ]
    },
    {
     "data": {
      "text/html": [
       "<iframe id=\"igraph\" scrolling=\"no\" style=\"border:none;\" seamless=\"seamless\" src=\"https://plot.ly/~jamesaud/89.embed\" height=\"525px\" width=\"100%\"></iframe>"
      ],
      "text/plain": [
       "<plotly.tools.PlotlyDisplay object>"
      ]
     },
     "execution_count": 25,
     "metadata": {},
     "output_type": "execute_result"
    }
   ],
   "source": [
    "from functools import reduce\n",
    "from operator import or_\n",
    "\n",
    "weak_components = list(nxa.weakly_connected_components(G))\n",
    "weak_component = max(weak_components, key=len)\n",
    "WK = G.subgraph(weak_component)\n",
    "nxa.is_weakly_connected(WK)\n",
    "plot_graph(WK)\n"
   ]
  },
  {
   "cell_type": "code",
   "execution_count": 21,
   "metadata": {},
   "outputs": [
    {
     "data": {
      "text/plain": [
       "4.8828298627568705"
      ]
     },
     "execution_count": 21,
     "metadata": {},
     "output_type": "execute_result"
    }
   ],
   "source": [
    "nxa.average_shortest_path_length(WK.to_undirected())"
   ]
  },
  {
   "cell_type": "code",
   "execution_count": 22,
   "metadata": {},
   "outputs": [
    {
     "data": {
      "text/html": [
       "<div>\n",
       "<style scoped>\n",
       "    .dataframe tbody tr th:only-of-type {\n",
       "        vertical-align: middle;\n",
       "    }\n",
       "\n",
       "    .dataframe tbody tr th {\n",
       "        vertical-align: top;\n",
       "    }\n",
       "\n",
       "    .dataframe thead th {\n",
       "        text-align: right;\n",
       "    }\n",
       "</style>\n",
       "<table border=\"1\" class=\"dataframe\">\n",
       "  <thead>\n",
       "    <tr style=\"text-align: right;\">\n",
       "      <th></th>\n",
       "      <th>Artist</th>\n",
       "      <th>Page_Rank</th>\n",
       "    </tr>\n",
       "  </thead>\n",
       "  <tbody>\n",
       "    <tr>\n",
       "      <th>0</th>\n",
       "      <td>Lil Wayne</td>\n",
       "      <td>0.006595</td>\n",
       "    </tr>\n",
       "    <tr>\n",
       "      <th>1</th>\n",
       "      <td>Nicki Minaj</td>\n",
       "      <td>0.006166</td>\n",
       "    </tr>\n",
       "    <tr>\n",
       "      <th>2</th>\n",
       "      <td>Drake</td>\n",
       "      <td>0.005719</td>\n",
       "    </tr>\n",
       "    <tr>\n",
       "      <th>3</th>\n",
       "      <td>Kanye West</td>\n",
       "      <td>0.005301</td>\n",
       "    </tr>\n",
       "    <tr>\n",
       "      <th>4</th>\n",
       "      <td>Chris Brown</td>\n",
       "      <td>0.004218</td>\n",
       "    </tr>\n",
       "    <tr>\n",
       "      <th>5</th>\n",
       "      <td>Ludacris</td>\n",
       "      <td>0.004035</td>\n",
       "    </tr>\n",
       "    <tr>\n",
       "      <th>6</th>\n",
       "      <td>Akon</td>\n",
       "      <td>0.004012</td>\n",
       "    </tr>\n",
       "    <tr>\n",
       "      <th>7</th>\n",
       "      <td>Future</td>\n",
       "      <td>0.003639</td>\n",
       "    </tr>\n",
       "    <tr>\n",
       "      <th>8</th>\n",
       "      <td>JayZ</td>\n",
       "      <td>0.003621</td>\n",
       "    </tr>\n",
       "    <tr>\n",
       "      <th>9</th>\n",
       "      <td>2 Chainz</td>\n",
       "      <td>0.003217</td>\n",
       "    </tr>\n",
       "    <tr>\n",
       "      <th>10</th>\n",
       "      <td>Metro Boomin</td>\n",
       "      <td>0.002726</td>\n",
       "    </tr>\n",
       "    <tr>\n",
       "      <th>11</th>\n",
       "      <td>Offset</td>\n",
       "      <td>0.002693</td>\n",
       "    </tr>\n",
       "    <tr>\n",
       "      <th>12</th>\n",
       "      <td>Travis Scott</td>\n",
       "      <td>0.002667</td>\n",
       "    </tr>\n",
       "    <tr>\n",
       "      <th>13</th>\n",
       "      <td>The Weeknd</td>\n",
       "      <td>0.002659</td>\n",
       "    </tr>\n",
       "    <tr>\n",
       "      <th>14</th>\n",
       "      <td>TPain</td>\n",
       "      <td>0.002638</td>\n",
       "    </tr>\n",
       "    <tr>\n",
       "      <th>15</th>\n",
       "      <td>TI</td>\n",
       "      <td>0.002590</td>\n",
       "    </tr>\n",
       "    <tr>\n",
       "      <th>16</th>\n",
       "      <td>Eminem</td>\n",
       "      <td>0.002540</td>\n",
       "    </tr>\n",
       "    <tr>\n",
       "      <th>17</th>\n",
       "      <td>Nate Dogg</td>\n",
       "      <td>0.002488</td>\n",
       "    </tr>\n",
       "    <tr>\n",
       "      <th>18</th>\n",
       "      <td>Warren G</td>\n",
       "      <td>0.002346</td>\n",
       "    </tr>\n",
       "    <tr>\n",
       "      <th>19</th>\n",
       "      <td>Snoop Dogg</td>\n",
       "      <td>0.002285</td>\n",
       "    </tr>\n",
       "    <tr>\n",
       "      <th>20</th>\n",
       "      <td>Billy Ray Cyrus</td>\n",
       "      <td>0.002257</td>\n",
       "    </tr>\n",
       "    <tr>\n",
       "      <th>21</th>\n",
       "      <td>Miley Cyrus</td>\n",
       "      <td>0.002200</td>\n",
       "    </tr>\n",
       "    <tr>\n",
       "      <th>22</th>\n",
       "      <td>Lil Jon</td>\n",
       "      <td>0.002159</td>\n",
       "    </tr>\n",
       "    <tr>\n",
       "      <th>23</th>\n",
       "      <td>Wiz Khalifa</td>\n",
       "      <td>0.002126</td>\n",
       "    </tr>\n",
       "    <tr>\n",
       "      <th>24</th>\n",
       "      <td>Rihanna</td>\n",
       "      <td>0.002124</td>\n",
       "    </tr>\n",
       "    <tr>\n",
       "      <th>25</th>\n",
       "      <td>Lil Uzi Vert</td>\n",
       "      <td>0.002103</td>\n",
       "    </tr>\n",
       "    <tr>\n",
       "      <th>26</th>\n",
       "      <td>50 Cent</td>\n",
       "      <td>0.001959</td>\n",
       "    </tr>\n",
       "    <tr>\n",
       "      <th>27</th>\n",
       "      <td>P Diddy</td>\n",
       "      <td>0.001905</td>\n",
       "    </tr>\n",
       "    <tr>\n",
       "      <th>28</th>\n",
       "      <td>Timbaland</td>\n",
       "      <td>0.001891</td>\n",
       "    </tr>\n",
       "    <tr>\n",
       "      <th>29</th>\n",
       "      <td>Lucas Grabeel</td>\n",
       "      <td>0.001889</td>\n",
       "    </tr>\n",
       "    <tr>\n",
       "      <th>30</th>\n",
       "      <td>Fabolous</td>\n",
       "      <td>0.001877</td>\n",
       "    </tr>\n",
       "    <tr>\n",
       "      <th>31</th>\n",
       "      <td>NeYo</td>\n",
       "      <td>0.001856</td>\n",
       "    </tr>\n",
       "    <tr>\n",
       "      <th>32</th>\n",
       "      <td>Ty Dolla ign</td>\n",
       "      <td>0.001840</td>\n",
       "    </tr>\n",
       "    <tr>\n",
       "      <th>33</th>\n",
       "      <td>Trey Songz</td>\n",
       "      <td>0.001814</td>\n",
       "    </tr>\n",
       "    <tr>\n",
       "      <th>34</th>\n",
       "      <td>Adam Levine</td>\n",
       "      <td>0.001797</td>\n",
       "    </tr>\n",
       "    <tr>\n",
       "      <th>35</th>\n",
       "      <td>Beyonce</td>\n",
       "      <td>0.001768</td>\n",
       "    </tr>\n",
       "    <tr>\n",
       "      <th>36</th>\n",
       "      <td>Kendrick Lamar</td>\n",
       "      <td>0.001761</td>\n",
       "    </tr>\n",
       "    <tr>\n",
       "      <th>37</th>\n",
       "      <td>Rick Ross</td>\n",
       "      <td>0.001759</td>\n",
       "    </tr>\n",
       "    <tr>\n",
       "      <th>38</th>\n",
       "      <td>Big Sean</td>\n",
       "      <td>0.001751</td>\n",
       "    </tr>\n",
       "    <tr>\n",
       "      <th>39</th>\n",
       "      <td>Ashley Tisdale</td>\n",
       "      <td>0.001735</td>\n",
       "    </tr>\n",
       "    <tr>\n",
       "      <th>40</th>\n",
       "      <td>Missy Elliott</td>\n",
       "      <td>0.001704</td>\n",
       "    </tr>\n",
       "    <tr>\n",
       "      <th>41</th>\n",
       "      <td>Pharrell Williams</td>\n",
       "      <td>0.001671</td>\n",
       "    </tr>\n",
       "    <tr>\n",
       "      <th>42</th>\n",
       "      <td>Joe</td>\n",
       "      <td>0.001643</td>\n",
       "    </tr>\n",
       "    <tr>\n",
       "      <th>43</th>\n",
       "      <td>Cardi B</td>\n",
       "      <td>0.001630</td>\n",
       "    </tr>\n",
       "    <tr>\n",
       "      <th>44</th>\n",
       "      <td>Too hort</td>\n",
       "      <td>0.001628</td>\n",
       "    </tr>\n",
       "    <tr>\n",
       "      <th>45</th>\n",
       "      <td>Ronald Isley</td>\n",
       "      <td>0.001618</td>\n",
       "    </tr>\n",
       "    <tr>\n",
       "      <th>46</th>\n",
       "      <td>Young Thug</td>\n",
       "      <td>0.001611</td>\n",
       "    </tr>\n",
       "    <tr>\n",
       "      <th>47</th>\n",
       "      <td>Usher</td>\n",
       "      <td>0.001599</td>\n",
       "    </tr>\n",
       "    <tr>\n",
       "      <th>48</th>\n",
       "      <td>Gerald Levert</td>\n",
       "      <td>0.001587</td>\n",
       "    </tr>\n",
       "    <tr>\n",
       "      <th>49</th>\n",
       "      <td>Avant</td>\n",
       "      <td>0.001581</td>\n",
       "    </tr>\n",
       "  </tbody>\n",
       "</table>\n",
       "</div>"
      ],
      "text/plain": [
       "               Artist  Page_Rank\n",
       "0           Lil Wayne   0.006595\n",
       "1         Nicki Minaj   0.006166\n",
       "2               Drake   0.005719\n",
       "3          Kanye West   0.005301\n",
       "4         Chris Brown   0.004218\n",
       "5            Ludacris   0.004035\n",
       "6                Akon   0.004012\n",
       "7              Future   0.003639\n",
       "8                JayZ   0.003621\n",
       "9            2 Chainz   0.003217\n",
       "10       Metro Boomin   0.002726\n",
       "11             Offset   0.002693\n",
       "12       Travis Scott   0.002667\n",
       "13         The Weeknd   0.002659\n",
       "14              TPain   0.002638\n",
       "15                 TI   0.002590\n",
       "16             Eminem   0.002540\n",
       "17          Nate Dogg   0.002488\n",
       "18           Warren G   0.002346\n",
       "19         Snoop Dogg   0.002285\n",
       "20    Billy Ray Cyrus   0.002257\n",
       "21        Miley Cyrus   0.002200\n",
       "22            Lil Jon   0.002159\n",
       "23        Wiz Khalifa   0.002126\n",
       "24            Rihanna   0.002124\n",
       "25       Lil Uzi Vert   0.002103\n",
       "26            50 Cent   0.001959\n",
       "27            P Diddy   0.001905\n",
       "28          Timbaland   0.001891\n",
       "29      Lucas Grabeel   0.001889\n",
       "30           Fabolous   0.001877\n",
       "31               NeYo   0.001856\n",
       "32       Ty Dolla ign   0.001840\n",
       "33         Trey Songz   0.001814\n",
       "34        Adam Levine   0.001797\n",
       "35            Beyonce   0.001768\n",
       "36     Kendrick Lamar   0.001761\n",
       "37          Rick Ross   0.001759\n",
       "38           Big Sean   0.001751\n",
       "39     Ashley Tisdale   0.001735\n",
       "40      Missy Elliott   0.001704\n",
       "41  Pharrell Williams   0.001671\n",
       "42                Joe   0.001643\n",
       "43            Cardi B   0.001630\n",
       "44           Too hort   0.001628\n",
       "45       Ronald Isley   0.001618\n",
       "46         Young Thug   0.001611\n",
       "47              Usher   0.001599\n",
       "48      Gerald Levert   0.001587\n",
       "49              Avant   0.001581"
      ]
     },
     "execution_count": 22,
     "metadata": {},
     "output_type": "execute_result"
    }
   ],
   "source": [
    "from collections import Counter\n",
    "pagerank = nxa.pagerank(G)\n",
    "pagerank = Counter(pagerank).most_common()\n",
    "DataFrame(pagerank, columns=[\"Artist\", \"Page_Rank\"])[:50]"
   ]
  },
  {
   "cell_type": "code",
   "execution_count": null,
   "metadata": {},
   "outputs": [],
   "source": [
    "# Use song score in the calcluation"
   ]
  }
 ],
 "metadata": {
  "kernelspec": {
   "display_name": "Python 3",
   "language": "python",
   "name": "python3"
  },
  "language_info": {
   "codemirror_mode": {
    "name": "ipython",
    "version": 3
   },
   "file_extension": ".py",
   "mimetype": "text/x-python",
   "name": "python",
   "nbconvert_exporter": "python",
   "pygments_lexer": "ipython3",
   "version": "3.6.3"
  }
 },
 "nbformat": 4,
 "nbformat_minor": 2
}
