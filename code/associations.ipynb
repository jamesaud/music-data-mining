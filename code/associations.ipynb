{
 "cells": [
  {
   "cell_type": "raw",
   "metadata": {},
   "source": [
    "1. Associations rules between artists\n",
    "   - Pull data from DB\n",
    "   \n",
    "   - Filter collaborations (require \"&\" and \"Featuring\")\n",
    "   \n",
    "   - Split a song into artist list [[artist, artist, artist], ...]\n",
    "   \n",
    "   - Disregard main artist for now\n",
    "   \n",
    "   - Use Panda DF to store data\n",
    "\n",
    "   - Encoded with https://rasbt.github.io/mlxtend/user_guide/frequent_patterns/apriori/\n",
    "       \n",
    "       DATAFRAME\n",
    "       ----------------------------------------------\n",
    "        artist  artist  artist  artist  artist\n",
    "       [True,   False,  True,   True,   False] \n",
    "       [True,   True,   True,   False,  False] \n",
    "       [True,   True,   True,   False,  False] \n",
    "     \n",
    "\n",
    "2. Word patterns associations with artists (lyrics API)\n",
    "\n",
    "   - Pull lyrics from https://developer.musixmatch.com/\n",
    "   - Clean data (remove stopwords, stemming, etc. using nltk)\n",
    "    \n",
    "    \n",
    "   1 Groups\n",
    "   --------\n",
    "   word group      artist   artist  artist  artist\n",
    "   [(hello)        True     True    True    False]\n",
    "   [(world)        True     True    False   False]\n",
    "   \n",
    "   \n",
    "   2 groups\n",
    "   ---------\n",
    "   [(hello, world)  True    True    False   False] \n"
   ]
  },
  {
   "cell_type": "markdown",
   "metadata": {},
   "source": [
    "# Data and Filter Collaborations"
   ]
  },
  {
   "cell_type": "code",
   "execution_count": 66,
   "metadata": {},
   "outputs": [],
   "source": [
    "# DB CONFIG\n",
    "from pymongo import MongoClient\n",
    "\n",
    "client = MongoClient('mongo', 27017)\n",
    "db = client.music_db\n",
    "songs_collection = db.songs"
   ]
  },
  {
   "cell_type": "code",
   "execution_count": 67,
   "metadata": {},
   "outputs": [],
   "source": [
    "# Pull all songs from DB\n",
    "songs = list(songs_collection.find())"
   ]
  },
  {
   "cell_type": "code",
   "execution_count": 68,
   "metadata": {},
   "outputs": [],
   "source": [
    "# Filter Collaboration Songs \n",
    "SEPARATORS = ['&', 'Featuring', 'With', ',', 'Feat.']\n",
    "\n",
    "def is_collaboration(artist):\n",
    "    return any([word in artist for word in SEPARATORS])\n",
    "\n",
    "collaborations = [song for song in songs if is_collaboration(song['artist'])]"
   ]
  },
  {
   "cell_type": "markdown",
   "metadata": {},
   "source": [
    "### Artist List Format"
   ]
  },
  {
   "cell_type": "code",
   "execution_count": 115,
   "metadata": {},
   "outputs": [
    {
     "data": {
      "text/plain": [
       "(2919,\n",
       " [['Cardi B', 'Bad Bunny', 'J Balvin'],\n",
       "  ['6ix9ine', 'Nicki Minaj', 'Murda Beatz'],\n",
       "  ['Tyga', 'Offset'],\n",
       "  ['DJ Khaled', 'Justin Bieber', 'Chance The Rapper', 'Quavo'],\n",
       "  ['Post Malone', 'Ty Dolla $ign'],\n",
       "  ['Lil Baby', 'Drake'],\n",
       "  ['YG', '2 Chainz', 'Big Sean', 'Nicki Minaj'],\n",
       "  ['Nicki Minaj', 'Ariana Grande'],\n",
       "  ['Nicki Minaj', 'Lil Wayne'],\n",
       "  ['Nicki Minaj', 'Eminem', 'Labrinth']])"
      ]
     },
     "execution_count": 115,
     "metadata": {},
     "output_type": "execute_result"
    }
   ],
   "source": [
    "import re\n",
    "from typing import List\n",
    "\n",
    "def clean(collaborators: List) -> List:\n",
    "    return [artist.strip() for artist in collaborators]\n",
    "\n",
    "def separate(artist: str) -> List:\n",
    "    return re.split('|'.join(SEPARATORS), artist)\n",
    "\n",
    "collaborators = [song['artist'] for song in collaborations]\n",
    "collaborators = map(separate, collaborators)\n",
    "collaborators = map(clean, collaborators)\n",
    "collaborators = list(collaborators)\n",
    "len(collaborators), collaborators[:10]"
   ]
  },
  {
   "cell_type": "markdown",
   "metadata": {},
   "source": [
    "# Associations of Artists "
   ]
  },
  {
   "cell_type": "code",
   "execution_count": 157,
   "metadata": {},
   "outputs": [],
   "source": [
    "from mlxtend.frequent_patterns import apriori\n",
    "import pandas as pd\n",
    "from mlxtend.preprocessing import TransactionEncoder\n",
    "from mlxtend.frequent_patterns import apriori\n",
    "\n",
    "dataset = collaborators\n",
    "te = TransactionEncoder()\n",
    "oht_ary = te.fit(dataset).transform(dataset, sparse=True)\n",
    "df = pd.SparseDataFrame(te_ary, columns=te.columns_, default_fill_value=False)"
   ]
  },
  {
   "cell_type": "code",
   "execution_count": 158,
   "metadata": {
    "scrolled": true
   },
   "outputs": [],
   "source": [
    "frequent_itemsets = apriori(df, min_support=0.001, use_colnames=True)   # 1/1000 out of 2919"
   ]
  },
  {
   "cell_type": "code",
   "execution_count": 159,
   "metadata": {},
   "outputs": [],
   "source": [
    "frequent_itemsets['length'] = frequent_itemsets['itemsets'].apply(len)"
   ]
  },
  {
   "cell_type": "code",
   "execution_count": 160,
   "metadata": {},
   "outputs": [],
   "source": [
    "# 563 3-artist collaborations, 2135 2-artist collaborations\n",
    "frequent_itemsets['length'] = frequent_itemsets['itemsets'].apply(len)\n",
    "filtered_itemsets = frequent_itemsets[(frequent_itemsets['length'] > 1)]   # Remove 1-item sets\n",
    "filtered_itemsets = filtered_itemsets.reset_index()"
   ]
  },
  {
   "cell_type": "code",
   "execution_count": 161,
   "metadata": {},
   "outputs": [
    {
     "name": "stdout",
     "output_type": "stream",
     "text": [
      "184 2-Itemsets\n"
     ]
    },
    {
     "data": {
      "text/html": [
       "<div>\n",
       "<style scoped>\n",
       "    .dataframe tbody tr th:only-of-type {\n",
       "        vertical-align: middle;\n",
       "    }\n",
       "\n",
       "    .dataframe tbody tr th {\n",
       "        vertical-align: top;\n",
       "    }\n",
       "\n",
       "    .dataframe thead th {\n",
       "        text-align: right;\n",
       "    }\n",
       "</style>\n",
       "<table border=\"1\" class=\"dataframe\">\n",
       "  <thead>\n",
       "    <tr style=\"text-align: right;\">\n",
       "      <th></th>\n",
       "      <th>index</th>\n",
       "      <th>support</th>\n",
       "      <th>itemsets</th>\n",
       "      <th>length</th>\n",
       "    </tr>\n",
       "  </thead>\n",
       "  <tbody>\n",
       "    <tr>\n",
       "      <th>71</th>\n",
       "      <td>558</td>\n",
       "      <td>0.007194</td>\n",
       "      <td>(Lil Wayne, Drake)</td>\n",
       "      <td>2</td>\n",
       "    </tr>\n",
       "    <tr>\n",
       "      <th>60</th>\n",
       "      <td>547</td>\n",
       "      <td>0.005824</td>\n",
       "      <td>(Rick Ross, DJ Khaled)</td>\n",
       "      <td>2</td>\n",
       "    </tr>\n",
       "    <tr>\n",
       "      <th>34</th>\n",
       "      <td>521</td>\n",
       "      <td>0.005481</td>\n",
       "      <td>(Birdman, Lil Wayne)</td>\n",
       "      <td>2</td>\n",
       "    </tr>\n",
       "    <tr>\n",
       "      <th>133</th>\n",
       "      <td>620</td>\n",
       "      <td>0.004796</td>\n",
       "      <td>(Lil Jon, The East Side Boyz)</td>\n",
       "      <td>2</td>\n",
       "    </tr>\n",
       "    <tr>\n",
       "      <th>69</th>\n",
       "      <td>556</td>\n",
       "      <td>0.004796</td>\n",
       "      <td>(Future, Drake)</td>\n",
       "      <td>2</td>\n",
       "    </tr>\n",
       "    <tr>\n",
       "      <th>135</th>\n",
       "      <td>622</td>\n",
       "      <td>0.004111</td>\n",
       "      <td>(Nicki Minaj, Lil Wayne)</td>\n",
       "      <td>2</td>\n",
       "    </tr>\n",
       "    <tr>\n",
       "      <th>136</th>\n",
       "      <td>623</td>\n",
       "      <td>0.003768</td>\n",
       "      <td>(Rick Ross, Lil Wayne)</td>\n",
       "      <td>2</td>\n",
       "    </tr>\n",
       "    <tr>\n",
       "      <th>170</th>\n",
       "      <td>657</td>\n",
       "      <td>0.003426</td>\n",
       "      <td>(Rick Ross, T-Pain)</td>\n",
       "      <td>2</td>\n",
       "    </tr>\n",
       "    <tr>\n",
       "      <th>117</th>\n",
       "      <td>604</td>\n",
       "      <td>0.003083</td>\n",
       "      <td>(Jay-Z, R. Kelly)</td>\n",
       "      <td>2</td>\n",
       "    </tr>\n",
       "    <tr>\n",
       "      <th>103</th>\n",
       "      <td>590</td>\n",
       "      <td>0.003083</td>\n",
       "      <td>(Future, Young Thug)</td>\n",
       "      <td>2</td>\n",
       "    </tr>\n",
       "    <tr>\n",
       "      <th>123</th>\n",
       "      <td>610</td>\n",
       "      <td>0.003083</td>\n",
       "      <td>(JoJo, K-Ci)</td>\n",
       "      <td>2</td>\n",
       "    </tr>\n",
       "    <tr>\n",
       "      <th>3</th>\n",
       "      <td>490</td>\n",
       "      <td>0.003083</td>\n",
       "      <td>(Lil Wayne, 2 Chainz)</td>\n",
       "      <td>2</td>\n",
       "    </tr>\n",
       "    <tr>\n",
       "      <th>5</th>\n",
       "      <td>492</td>\n",
       "      <td>0.002741</td>\n",
       "      <td>(21 Savage, Metro Boomin)</td>\n",
       "      <td>2</td>\n",
       "    </tr>\n",
       "    <tr>\n",
       "      <th>43</th>\n",
       "      <td>530</td>\n",
       "      <td>0.002741</td>\n",
       "      <td>(Lil Wayne, Chris Brown)</td>\n",
       "      <td>2</td>\n",
       "    </tr>\n",
       "    <tr>\n",
       "      <th>57</th>\n",
       "      <td>544</td>\n",
       "      <td>0.002741</td>\n",
       "      <td>(Lil Wayne, DJ Khaled)</td>\n",
       "      <td>2</td>\n",
       "    </tr>\n",
       "  </tbody>\n",
       "</table>\n",
       "</div>"
      ],
      "text/plain": [
       "     index   support                       itemsets  length\n",
       "71     558  0.007194             (Lil Wayne, Drake)       2\n",
       "60     547  0.005824         (Rick Ross, DJ Khaled)       2\n",
       "34     521  0.005481           (Birdman, Lil Wayne)       2\n",
       "133    620  0.004796  (Lil Jon, The East Side Boyz)       2\n",
       "69     556  0.004796                (Future, Drake)       2\n",
       "135    622  0.004111       (Nicki Minaj, Lil Wayne)       2\n",
       "136    623  0.003768         (Rick Ross, Lil Wayne)       2\n",
       "170    657  0.003426            (Rick Ross, T-Pain)       2\n",
       "117    604  0.003083              (Jay-Z, R. Kelly)       2\n",
       "103    590  0.003083           (Future, Young Thug)       2\n",
       "123    610  0.003083                   (JoJo, K-Ci)       2\n",
       "3      490  0.003083          (Lil Wayne, 2 Chainz)       2\n",
       "5      492  0.002741      (21 Savage, Metro Boomin)       2\n",
       "43     530  0.002741       (Lil Wayne, Chris Brown)       2\n",
       "57     544  0.002741         (Lil Wayne, DJ Khaled)       2"
      ]
     },
     "execution_count": 161,
     "metadata": {},
     "output_type": "execute_result"
    }
   ],
   "source": [
    "# 2 item ordered by support\n",
    "two_itemsets = filtered_itemsets[(filtered_itemsets['length'] == 2)].sort_values(by='support', ascending=False)\n",
    "print(len(two_itemsets), '2-Itemsets')\n",
    "two_itemsets[:15]"
   ]
  },
  {
   "cell_type": "code",
   "execution_count": 162,
   "metadata": {},
   "outputs": [
    {
     "name": "stdout",
     "output_type": "stream",
     "text": [
      "14 3-Itemsets\n"
     ]
    },
    {
     "data": {
      "text/html": [
       "<div>\n",
       "<style scoped>\n",
       "    .dataframe tbody tr th:only-of-type {\n",
       "        vertical-align: middle;\n",
       "    }\n",
       "\n",
       "    .dataframe tbody tr th {\n",
       "        vertical-align: top;\n",
       "    }\n",
       "\n",
       "    .dataframe thead th {\n",
       "        text-align: right;\n",
       "    }\n",
       "</style>\n",
       "<table border=\"1\" class=\"dataframe\">\n",
       "  <thead>\n",
       "    <tr style=\"text-align: right;\">\n",
       "      <th></th>\n",
       "      <th>index</th>\n",
       "      <th>support</th>\n",
       "      <th>itemsets</th>\n",
       "      <th>length</th>\n",
       "    </tr>\n",
       "  </thead>\n",
       "  <tbody>\n",
       "    <tr>\n",
       "      <th>188</th>\n",
       "      <td>675</td>\n",
       "      <td>0.002055</td>\n",
       "      <td>(Rick Ross, Lil Wayne, DJ Khaled)</td>\n",
       "      <td>3</td>\n",
       "    </tr>\n",
       "    <tr>\n",
       "      <th>184</th>\n",
       "      <td>671</td>\n",
       "      <td>0.001370</td>\n",
       "      <td>(Offset, 21 Savage, Metro Boomin)</td>\n",
       "      <td>3</td>\n",
       "    </tr>\n",
       "    <tr>\n",
       "      <th>196</th>\n",
       "      <td>683</td>\n",
       "      <td>0.001370</td>\n",
       "      <td>(Fire, Earth, Wind)</td>\n",
       "      <td>3</td>\n",
       "    </tr>\n",
       "    <tr>\n",
       "      <th>185</th>\n",
       "      <td>672</td>\n",
       "      <td>0.001028</td>\n",
       "      <td>(August Alsina, Chris Brown, DJ Khaled)</td>\n",
       "      <td>3</td>\n",
       "    </tr>\n",
       "    <tr>\n",
       "      <th>186</th>\n",
       "      <td>673</td>\n",
       "      <td>0.001028</td>\n",
       "      <td>(Rick Ross, Birdman, Lil Wayne)</td>\n",
       "      <td>3</td>\n",
       "    </tr>\n",
       "    <tr>\n",
       "      <th>187</th>\n",
       "      <td>674</td>\n",
       "      <td>0.001028</td>\n",
       "      <td>(Drake, Rick Ross, DJ Khaled)</td>\n",
       "      <td>3</td>\n",
       "    </tr>\n",
       "    <tr>\n",
       "      <th>189</th>\n",
       "      <td>676</td>\n",
       "      <td>0.001028</td>\n",
       "      <td>(Nicki Minaj, Rick Ross, DJ Khaled)</td>\n",
       "      <td>3</td>\n",
       "    </tr>\n",
       "    <tr>\n",
       "      <th>190</th>\n",
       "      <td>677</td>\n",
       "      <td>0.001028</td>\n",
       "      <td>(Rick Ross, Plies, DJ Khaled)</td>\n",
       "      <td>3</td>\n",
       "    </tr>\n",
       "    <tr>\n",
       "      <th>191</th>\n",
       "      <td>678</td>\n",
       "      <td>0.001028</td>\n",
       "      <td>(Rick Ross, T-Pain, DJ Khaled)</td>\n",
       "      <td>3</td>\n",
       "    </tr>\n",
       "    <tr>\n",
       "      <th>192</th>\n",
       "      <td>679</td>\n",
       "      <td>0.001028</td>\n",
       "      <td>(Rick Ross, Trick Daddy, DJ Khaled)</td>\n",
       "      <td>3</td>\n",
       "    </tr>\n",
       "    <tr>\n",
       "      <th>193</th>\n",
       "      <td>680</td>\n",
       "      <td>0.001028</td>\n",
       "      <td>(Eve, Drag-On, DMX)</td>\n",
       "      <td>3</td>\n",
       "    </tr>\n",
       "    <tr>\n",
       "      <th>194</th>\n",
       "      <td>681</td>\n",
       "      <td>0.001028</td>\n",
       "      <td>(Nicki Minaj, Lil Wayne, Drake)</td>\n",
       "      <td>3</td>\n",
       "    </tr>\n",
       "    <tr>\n",
       "      <th>195</th>\n",
       "      <td>682</td>\n",
       "      <td>0.001028</td>\n",
       "      <td>(Rick Ross, Lil Wayne, Drake)</td>\n",
       "      <td>3</td>\n",
       "    </tr>\n",
       "    <tr>\n",
       "      <th>197</th>\n",
       "      <td>684</td>\n",
       "      <td>0.001028</td>\n",
       "      <td>(Gerald Levert, Sr., Eddie Levert)</td>\n",
       "      <td>3</td>\n",
       "    </tr>\n",
       "  </tbody>\n",
       "</table>\n",
       "</div>"
      ],
      "text/plain": [
       "     index   support                                 itemsets  length\n",
       "188    675  0.002055        (Rick Ross, Lil Wayne, DJ Khaled)       3\n",
       "184    671  0.001370        (Offset, 21 Savage, Metro Boomin)       3\n",
       "196    683  0.001370                      (Fire, Earth, Wind)       3\n",
       "185    672  0.001028  (August Alsina, Chris Brown, DJ Khaled)       3\n",
       "186    673  0.001028          (Rick Ross, Birdman, Lil Wayne)       3\n",
       "187    674  0.001028            (Drake, Rick Ross, DJ Khaled)       3\n",
       "189    676  0.001028      (Nicki Minaj, Rick Ross, DJ Khaled)       3\n",
       "190    677  0.001028            (Rick Ross, Plies, DJ Khaled)       3\n",
       "191    678  0.001028           (Rick Ross, T-Pain, DJ Khaled)       3\n",
       "192    679  0.001028      (Rick Ross, Trick Daddy, DJ Khaled)       3\n",
       "193    680  0.001028                      (Eve, Drag-On, DMX)       3\n",
       "194    681  0.001028          (Nicki Minaj, Lil Wayne, Drake)       3\n",
       "195    682  0.001028            (Rick Ross, Lil Wayne, Drake)       3\n",
       "197    684  0.001028       (Gerald Levert, Sr., Eddie Levert)       3"
      ]
     },
     "execution_count": 162,
     "metadata": {},
     "output_type": "execute_result"
    }
   ],
   "source": [
    "# 3 item ordered by support\n",
    "three_itemsets = filtered_itemsets[(filtered_itemsets['length'] == 3)].sort_values(by='support', ascending=False)\n",
    "print(len(three_itemsets), '3-Itemsets')\n",
    "three_itemsets"
   ]
  },
  {
   "cell_type": "code",
   "execution_count": 163,
   "metadata": {},
   "outputs": [
    {
     "name": "stdout",
     "output_type": "stream",
     "text": [
      "Number of occurences for ('Rick Ross', 'Lil Wayne', 'DJ Khaled') = 6\n"
     ]
    }
   ],
   "source": [
    "# Ocurrences of a sample itemset\n",
    "itemset = ('Rick Ross', 'Lil Wayne', 'DJ Khaled')\n",
    "count = [artists for artists in collaborators if all([x in artists for x in itemset])]   \n",
    "print(\"Number of occurences for\", itemset, '=', len(count))"
   ]
  },
  {
   "cell_type": "code",
   "execution_count": null,
   "metadata": {},
   "outputs": [],
   "source": []
  }
 ],
 "metadata": {
  "kernelspec": {
   "display_name": "Python 3",
   "language": "python",
   "name": "python3"
  },
  "language_info": {
   "codemirror_mode": {
    "name": "ipython",
    "version": 3
   },
   "file_extension": ".py",
   "mimetype": "text/x-python",
   "name": "python",
   "nbconvert_exporter": "python",
   "pygments_lexer": "ipython3",
   "version": "3.6.3"
  }
 },
 "nbformat": 4,
 "nbformat_minor": 2
}
