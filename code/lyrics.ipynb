{
 "cells": [
  {
   "cell_type": "raw",
   "metadata": {},
   "source": [
    "2. Word patterns associations with artists (lyrics API)\n",
    "\n",
    "   - Pull lyrics from https://developer.musixmatch.com/\n",
    "   - Clean data (remove stopwords, stemming, punctuation, strip, [HOOK] (DJ Scratches) using nltk)\n",
    "    \n",
    "    \n",
    "   1 Groups\n",
    "   --------\n",
    "   word group      artist   artist  artist  artist\n",
    "   [(hello)        True     True    True    False]\n",
    "   [(world)        True     True    False   False]\n",
    "   \n",
    "   \n",
    "   2 groups\n",
    "   ---------\n",
    "   [(hello, world)  True    True    False   False] "
   ]
  },
  {
   "cell_type": "code",
   "execution_count": 76,
   "metadata": {},
   "outputs": [],
   "source": [
    "import requests\n",
    "from pymongo import MongoClient\n",
    "from urllib.parse import urljoin\n",
    "from pprint import pprint\n",
    "import nltk\n",
    "import json"
   ]
  },
  {
   "cell_type": "markdown",
   "metadata": {},
   "source": [
    "# Retrieve Lyrics Via API"
   ]
  },
  {
   "cell_type": "code",
   "execution_count": 77,
   "metadata": {},
   "outputs": [],
   "source": [
    "# DB CONFIG\n",
    "client = MongoClient('mongo', 27017)\n",
    "db = client.music_db\n",
    "songs_collection = db.songs"
   ]
  },
  {
   "cell_type": "code",
   "execution_count": 78,
   "metadata": {},
   "outputs": [],
   "source": [
    "# Pull all songs from DB\n",
    "songs = list(songs_collection.find())"
   ]
  },
  {
   "cell_type": "code",
   "execution_count": 79,
   "metadata": {},
   "outputs": [],
   "source": [
    "MUSICMATCH_API = '309401c7a9740d7c3bfbc94bca9a911c'\n",
    "APISEED_API = 'ICmmIMXiTjyqhQjXC0HX4oqZP3vEOp9zr2prrrM5MUDe4hWri6gVTCebOCkARWi0'"
   ]
  },
  {
   "cell_type": "code",
   "execution_count": 80,
   "metadata": {},
   "outputs": [],
   "source": [
    "class ApiSeed:\n",
    "    BASE_URL = 'https://orion.apiseeds.com/api/music/lyric/'\n",
    "    \n",
    "    def __init__(self, api_key):\n",
    "        \"\"\" Load automatically translates responses from HTTP request objects into Dictionaries \"\"\"\n",
    "        self.api_key = api_key\n",
    "        self.load = True\n",
    "    \n",
    "    def _api_url(self, url):\n",
    "        url = urljoin(self.BASE_URL, url)\n",
    "        url = urljoin(url, '?apikey=ICmmIMXiTjyqhQjXC0HX4oqZP3vEOp9zr2prrrM5MUDe4hWri6gVTCebOCkARWi0')\n",
    "        return url\n",
    "    \n",
    "    def _retrieve(self, url):\n",
    "        response = requests.get(self._api_url(url))\n",
    "        if self.load:\n",
    "            response = json.loads(response.content)\n",
    "        return response\n",
    "    \n",
    "    def get_track(self, artist, track):\n",
    "        return self._retrieve(f'{artist}/{track}')\n",
    "    \n",
    "\n",
    "apiseed = ApiSeed(APISEED_API)\n",
    "res = apiseed.get_track('Kanye West', 'Everything I am')"
   ]
  },
  {
   "cell_type": "markdown",
   "metadata": {},
   "source": [
    "# Insert Lyrics into DB"
   ]
  },
  {
   "cell_type": "code",
   "execution_count": 83,
   "metadata": {},
   "outputs": [
    {
     "data": {
      "text/plain": [
       "<pymongo.cursor.Cursor at 0x7f37756027b8>"
      ]
     },
     "execution_count": 83,
     "metadata": {},
     "output_type": "execute_result"
    }
   ],
   "source": [
    "def insert_into_db():\n",
    "    for song in songs:\n",
    "        pass\n",
    "    \n",
    "songs_collection.find(songs[0])"
   ]
  },
  {
   "cell_type": "code",
   "execution_count": null,
   "metadata": {},
   "outputs": [],
   "source": []
  }
 ],
 "metadata": {
  "kernelspec": {
   "display_name": "Python 3",
   "language": "python",
   "name": "python3"
  },
  "language_info": {
   "codemirror_mode": {
    "name": "ipython",
    "version": 3
   },
   "file_extension": ".py",
   "mimetype": "text/x-python",
   "name": "python",
   "nbconvert_exporter": "python",
   "pygments_lexer": "ipython3",
   "version": "3.6.3"
  }
 },
 "nbformat": 4,
 "nbformat_minor": 2
}
