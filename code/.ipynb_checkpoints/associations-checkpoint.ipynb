{
 "cells": [
  {
   "cell_type": "raw",
   "metadata": {},
   "source": [
    "1. Associations rules between artists\n",
    "   - Pull data from DB\n",
    "   \n",
    "   - Filter collaborations (require \"&\" and \"Featuring\")\n",
    "   \n",
    "   - Split a song into artist list [[artist, artist, artist], ...]\n",
    "   \n",
    "   - Disregard main artist for now\n",
    "   \n",
    "   - Use Panda DF to store data\n",
    "\n",
    "   - Encoded with https://rasbt.github.io/mlxtend/user_guide/frequent_patterns/apriori/\n",
    "       \n",
    "       DATAFRAME\n",
    "       ----------------------------------------------\n",
    "        artist  artist  artist  artist  artist\n",
    "       [True,   False,  True,   True,   False] \n",
    "       [True,   True,   True,   False,  False] \n",
    "       [True,   True,   True,   False,  False] \n",
    "     \n",
    "\n",
    "2. Word patterns associations with artists (lyrics API)\n",
    "\n",
    "   - Pull lyrics from https://developer.musixmatch.com/\n",
    "   - Clean data (remove stopwords, stemming, etc. using nltk)\n",
    "    \n",
    "    \n",
    "   1 Groups\n",
    "   --------\n",
    "   word group      artist   artist  artist  artist\n",
    "   [(hello)        True     True    True    False]\n",
    "   [(world)        True     True    False   False]\n",
    "   \n",
    "   \n",
    "   2 groups\n",
    "   ---------\n",
    "   [(hello, world)  True    True    False   False] \n"
   ]
  },
  {
   "cell_type": "markdown",
   "metadata": {},
   "source": [
    "# Data and Filter Collaborations"
   ]
  },
  {
   "cell_type": "code",
   "execution_count": 66,
   "metadata": {},
   "outputs": [],
   "source": [
    "# DB CONFIG\n",
    "from pymongo import MongoClient\n",
    "\n",
    "client = MongoClient('mongo', 27017)\n",
    "db = client.music_db\n",
    "songs_collection = db.songs"
   ]
  },
  {
   "cell_type": "code",
   "execution_count": 67,
   "metadata": {},
   "outputs": [],
   "source": [
    "# Pull all songs from DB\n",
    "songs = list(songs_collection.find())"
   ]
  },
  {
   "cell_type": "code",
   "execution_count": 68,
   "metadata": {},
   "outputs": [],
   "source": [
    "# Filter Collaboration Songs \n",
    "SEPARATORS = ['&', 'Featuring', 'With', ',', 'Feat.']\n",
    "\n",
    "def is_collaboration(artist):\n",
    "    return any([word in artist for word in SEPARATORS])\n",
    "\n",
    "collaborations = [song for song in songs if is_collaboration(song['artist'])]"
   ]
  },
  {
   "cell_type": "markdown",
   "metadata": {},
   "source": [
    "### Artist List Format"
   ]
  },
  {
   "cell_type": "code",
   "execution_count": 115,
   "metadata": {},
   "outputs": [
    {
     "data": {
      "text/plain": [
       "(2919,\n",
       " [['Cardi B', 'Bad Bunny', 'J Balvin'],\n",
       "  ['6ix9ine', 'Nicki Minaj', 'Murda Beatz'],\n",
       "  ['Tyga', 'Offset'],\n",
       "  ['DJ Khaled', 'Justin Bieber', 'Chance The Rapper', 'Quavo'],\n",
       "  ['Post Malone', 'Ty Dolla $ign'],\n",
       "  ['Lil Baby', 'Drake'],\n",
       "  ['YG', '2 Chainz', 'Big Sean', 'Nicki Minaj'],\n",
       "  ['Nicki Minaj', 'Ariana Grande'],\n",
       "  ['Nicki Minaj', 'Lil Wayne'],\n",
       "  ['Nicki Minaj', 'Eminem', 'Labrinth']])"
      ]
     },
     "execution_count": 115,
     "metadata": {},
     "output_type": "execute_result"
    }
   ],
   "source": [
    "import re\n",
    "from typing import List\n",
    "\n",
    "def clean(collaborators: List) -> List:\n",
    "    return [artist.strip() for artist in collaborators]\n",
    "\n",
    "def separate(artist: str) -> List:\n",
    "    return re.split('|'.join(SEPARATORS), artist)\n",
    "\n",
    "collaborators = [song['artist'] for song in collaborations]\n",
    "collaborators = map(separate, collaborators)\n",
    "collaborators = map(clean, collaborators)\n",
    "collaborators = list(collaborators)\n",
    "len(collaborators), collaborators[:10]"
   ]
  },
  {
   "cell_type": "markdown",
   "metadata": {},
   "source": [
    "# Associations of Artists "
   ]
  },
  {
   "cell_type": "code",
   "execution_count": 157,
   "metadata": {},
   "outputs": [],
   "source": [
    "from mlxtend.frequent_patterns import apriori\n",
    "import pandas as pd\n",
    "from mlxtend.preprocessing import TransactionEncoder\n",
    "from mlxtend.frequent_patterns import apriori\n",
    "\n",
    "dataset = collaborators\n",
    "te = TransactionEncoder()\n",
    "oht_ary = te.fit(dataset).transform(dataset, sparse=True)\n",
    "df = pd.SparseDataFrame(te_ary, columns=te.columns_, default_fill_value=False)"
   ]
  },
  {
   "cell_type": "code",
   "execution_count": null,
   "metadata": {
    "scrolled": true
   },
   "outputs": [],
   "source": [
    "frequent_itemsets = apriori(df, min_support=0.001, use_colnames=True)   # 1/1000 out of 2919"
   ]
  },
  {
   "cell_type": "code",
   "execution_count": null,
   "metadata": {},
   "outputs": [],
   "source": [
    "frequent_itemsets['length'] = frequent_itemsets['itemsets'].apply(len)"
   ]
  },
  {
   "cell_type": "code",
   "execution_count": null,
   "metadata": {},
   "outputs": [],
   "source": [
    "# 563 3-artist collaborations, 2135 2-artist collaborations\n",
    "frequent_itemsets['length'] = frequent_itemsets['itemsets'].apply(len)\n",
    "filtered_itemsets = frequent_itemsets[(frequent_itemsets['length'] > 1)]\n",
    "filtered_itemsets = filtered_itemsets.reset_index()"
   ]
  },
  {
   "cell_type": "code",
   "execution_count": null,
   "metadata": {},
   "outputs": [],
   "source": [
    "# 2 item ordered by support\n",
    "two_itemsets = filtered_itemsets[(filtered_itemsets['length'] == 2)].sort_values(by='support', ascending=False)\n",
    "print(len(two_itemsets), '2-Itemsets')\n",
    "two_itemsets[:15]"
   ]
  },
  {
   "cell_type": "code",
   "execution_count": null,
   "metadata": {},
   "outputs": [],
   "source": [
    "# 3 item ordered by support\n",
    "three_itemsets = filtered_itemsets[(filtered_itemsets['length'] == 3)].sort_values(by='support', ascending=False)\n",
    "print(len(three_itemsets), '3-Itemsets')\n",
    "three_itemsets"
   ]
  },
  {
   "cell_type": "code",
   "execution_count": null,
   "metadata": {},
   "outputs": [],
   "source": [
    "itemset = ('Rick Ross', 'Lil Wayne', 'DJ Khaled')\n",
    "count = [artists for artists in collaborators if all([x in artists for x in itemset])]   \n",
    "print(\"Number of occurences for\", itemset, '=', len(count))"
   ]
  },
  {
   "cell_type": "code",
   "execution_count": null,
   "metadata": {},
   "outputs": [],
   "source": []
  }
 ],
 "metadata": {
  "kernelspec": {
   "display_name": "Python 3",
   "language": "python",
   "name": "python3"
  },
  "language_info": {
   "codemirror_mode": {
    "name": "ipython",
    "version": 3
   },
   "file_extension": ".py",
   "mimetype": "text/x-python",
   "name": "python",
   "nbconvert_exporter": "python",
   "pygments_lexer": "ipython3",
   "version": "3.6.3"
  }
 },
 "nbformat": 4,
 "nbformat_minor": 2
}
