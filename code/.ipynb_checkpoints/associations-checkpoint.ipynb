{
 "cells": [
  {
   "cell_type": "raw",
   "metadata": {},
   "source": [
    "1. Associations rules between artists\n",
    "   - Pull data from DB\n",
    "   \n",
    "   - Filter collaborations\n",
    "   \n",
    "   - Split into artist list [artist, artist, artist]\n",
    "\n",
    "   - Use Panda DF to store data\n",
    "   \n",
    "   - Disregard main artist for now\n",
    "   \n",
    "   - Encoded with https://rasbt.github.io/mlxtend/user_guide/frequent_patterns/apriori/\n",
    "       \n",
    "       DATAFRAME\n",
    "       ----------------------------------------------\n",
    "        artist  artist  artist  artist  artist\n",
    "       [True,   False,  True,   True,   False] \n",
    "       [True,   True,   True,   False,  False] \n",
    "       [True,   True,   True,   False,  False] \n",
    "     \n",
    "\n",
    "2. Word patterns associations with artists (lyrics API)\n",
    "\n",
    "   - Pull lyrics from https://developer.musixmatch.com/\n",
    "    \n",
    "    \n",
    "   1 Groups\n",
    "   --------\n",
    "   word group      artist  artist  artist  artist\n",
    "   [(hello)        True     True    True    False]\n",
    "   [(world)        True     True    False   False]\n",
    "   \n",
    "   \n",
    "   2 groups\n",
    "   ---------\n",
    "   [(hello, world)  True    True    False   False] \n"
   ]
  }
 ],
 "metadata": {
  "kernelspec": {
   "display_name": "Python 3",
   "language": "python",
   "name": "python3"
  },
  "language_info": {
   "codemirror_mode": {
    "name": "ipython",
    "version": 3
   },
   "file_extension": ".py",
   "mimetype": "text/x-python",
   "name": "python",
   "nbconvert_exporter": "python",
   "pygments_lexer": "ipython3",
   "version": "3.6.3"
  }
 },
 "nbformat": 4,
 "nbformat_minor": 2
}
