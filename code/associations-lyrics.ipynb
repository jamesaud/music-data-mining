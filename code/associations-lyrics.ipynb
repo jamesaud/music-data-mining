{
 "cells": [
  {
   "cell_type": "raw",
   "metadata": {},
   "source": [
    "2. Word patterns associations with artists (lyrics API)\n",
    "\n",
    "   - Pull lyrics from https://developer.musixmatch.com/\n",
    "   - Clean data (remove stopwords, stemming, punctuation, strip, [HOOK] (DJ Scratches) using nltk)\n",
    "    \n",
    "    \n",
    "   1 Groups\n",
    "   --------\n",
    "   word group      artist   artist  artist  artist\n",
    "   [(hello)        True     True    True    False]\n",
    "   [(world)        True     True    False   False]\n",
    "   \n",
    "   \n",
    "   2 groups\n",
    "   ---------\n",
    "   [(hello, world)  True    True    False   False] "
   ]
  },
  {
   "cell_type": "code",
   "execution_count": 16,
   "metadata": {},
   "outputs": [],
   "source": [
    "import requests\n",
    "from pymongo import MongoClient\n",
    "from urllib.parse import urljoin"
   ]
  },
  {
   "cell_type": "code",
   "execution_count": 2,
   "metadata": {},
   "outputs": [],
   "source": [
    "# DB CONFIG\n",
    "client = MongoClient('mongo', 27017)\n",
    "db = client.music_db\n",
    "songs_collection = db.songs"
   ]
  },
  {
   "cell_type": "code",
   "execution_count": 3,
   "metadata": {},
   "outputs": [],
   "source": [
    "# Pull all songs from DB\n",
    "songs = list(songs_collection.find())"
   ]
  },
  {
   "cell_type": "code",
   "execution_count": 4,
   "metadata": {},
   "outputs": [],
   "source": [
    "MUSICMATCH_API = '309401c7a9740d7c3bfbc94bca9a911c'\n",
    "APISEED_API = 'ICmmIMXiTjyqhQjXC0HX4oqZP3vEOp9zr2prrrM5MUDe4hWri6gVTCebOCkARWi0'"
   ]
  },
  {
   "cell_type": "code",
   "execution_count": 60,
   "metadata": {},
   "outputs": [],
   "source": [
    "class ApiSeed:\n",
    "    BASE_URL = 'https://orion.apiseeds.com/api/music/lyric/'\n",
    "    \n",
    "    def __init__(self, api_key):\n",
    "        \"\"\" Load automatically translates responses from HTTP request objects into Dictionaries \"\"\"\n",
    "        self.api_key = api_key\n",
    "        self.load = True\n",
    "    \n",
    "    def _api_url(self, url):\n",
    "        url = urljoin(self.BASE_URL, url)\n",
    "        url = urljoin(url, '?apikey=ICmmIMXiTjyqhQjXC0HX4oqZP3vEOp9zr2prrrM5MUDe4hWri6gVTCebOCkARWi0')\n",
    "        return url\n",
    "    \n",
    "    def _retrieve(self, url):\n",
    "        response = requests.get(self._api_url(url))\n",
    "        if self.load:\n",
    "            response = json.loads(response.content)\n",
    "        return response\n",
    "    \n",
    "    def get_track(self, artist, track):\n",
    "        return self._retrieve(f'{artist}/{track}')\n",
    "    \n",
    "\n",
    "apiseed = ApiSeed(APISEED_API)\n",
    "res = apiseed.get_track('Kanye West', 'Everything I am')"
   ]
  },
  {
   "cell_type": "code",
   "execution_count": 61,
   "metadata": {},
   "outputs": [
    {
     "name": "stdout",
     "output_type": "stream",
     "text": [
      "('[Produced by Kanye West]\\n'\n",
      " '\\n'\n",
      " '[Hook]\\n'\n",
      " 'Damn, here we go again\\n'\n",
      " 'Common passed on this beat, I made it to a jam\\n'\n",
      " \"Now everything I'm not made me everything I am\\n\"\n",
      " 'Damn, here we go again\\n'\n",
      " 'People talking shit, but when the shit hit the fan\\n'\n",
      " \"Everything I'm not made me everything I am\\n\"\n",
      " '\\n'\n",
      " '[Verse 1]\\n'\n",
      " \"I'll never be picture-perfect Beyoncé\\n\"\n",
      " 'Be light as Al B or black as Chauncey\\n'\n",
      " 'Remember him from Blackstreet? He was as black as the street was\\n'\n",
      " \"I'll never be as laid back as this beat was\\n\"\n",
      " 'I never could see why people reach a\\n'\n",
      " \"Fake-ass facade that they couldn't keep up\\n\"\n",
      " 'You see how I creeped up?\\n'\n",
      " 'You see how I played a big role in Chicago like Queen Latifah?\\n'\n",
      " \"I'll never rock a mink coat in the wintertime like Killa Cam\\n\"\n",
      " 'Or rock some mink boots in the summertime like will.i.am\\n'\n",
      " 'Let me know if you feel it, man\\n'\n",
      " \"'Cause everything I'm not made me everything I am\\n\"\n",
      " '\\n'\n",
      " '[Hook] (DJ Premier scratches)\\n'\n",
      " 'Damn, here we go again\\n'\n",
      " \"Everybody saying what's not for him\\n\"\n",
      " \"But everything I'm not made me everything I am\\n\"\n",
      " 'Damn, here we go again\\n'\n",
      " 'People talking shit, but when the shit hit the fan\\n'\n",
      " \"Everything I'm not made me everything I am\\n\"\n",
      " '\\n'\n",
      " '[Verse 2]\\n'\n",
      " \"And I'm back to tear it up\\n\"\n",
      " \"Haters start your engines, I hear 'em gearing up\\n\"\n",
      " 'People talk so much shit about me at barbershops\\n'\n",
      " 'They forget to get their hair cut\\n'\n",
      " 'Okay, fair enough, the streets is flaring up\\n'\n",
      " \"'Cause they want gun talk, or I don't wear enough\\n\"\n",
      " 'Baggy clothes, Reeboks, or A-di-dos\\n'\n",
      " 'Can I add that he do spaz out at his shows\\n'\n",
      " 'So say goodbye to the NAACP Award\\n'\n",
      " 'Goodbye to the India Arie Award\\n'\n",
      " \"They'd rather give me the N-nigga Please Award\\n\"\n",
      " \"But I'll just take the I Got a Lot of Cheese Award\\n\"\n",
      " '\\n'\n",
      " '[Hook]\\n'\n",
      " 'Damn, here we go again\\n'\n",
      " \"Everybody saying what's not for him\\n\"\n",
      " \"But everything I'm not made me everything I am\\n\"\n",
      " 'Damn, here we go again\\n'\n",
      " 'People talking shit, but when the shit hit the fan\\n'\n",
      " \"Everything I'm not made me everything I am\\n\"\n",
      " '\\n'\n",
      " '[Verse 3]\\n'\n",
      " \"I know people wouldn't usually rap this\\n\"\n",
      " 'But I got the facts to back this\\n'\n",
      " 'Just last year, Chicago had over 600 caskets\\n'\n",
      " \"Man, killing's some wack shit\\n\"\n",
      " \"Oh, I forgot, 'cept for when niggas is rappin'\\n\"\n",
      " \"Do you know what it feel like when people is passin'?\\n\"\n",
      " 'He got changed over his chains a block off Ashland\\n'\n",
      " 'I need to talk to somebody, pastor\\n'\n",
      " \"The church want tithe, so I can't afford to pay\\n\"\n",
      " \"Pink slip on my door, 'cause I can't afford to stay\\n\"\n",
      " 'My fifteen seconds up, but I got more to say\\n'\n",
      " \"That's enough Mr. West, please, no more today\\n\"\n",
      " '\\n'\n",
      " '[Hook]\\n'\n",
      " 'Damn, here we go again\\n'\n",
      " \"Everybody saying what's not for him\\n\"\n",
      " \"But everything I'm not made me everything I am\\n\"\n",
      " 'Damn, here we go again\\n'\n",
      " 'Talking shit, but when the shit hit the fan\\n'\n",
      " \"Everything I'm not made me everything I am\")\n"
     ]
    }
   ],
   "source": [
    "import json\n",
    "from pprint import pprint\n",
    "pprint(res['result']['track']['text'])"
   ]
  },
  {
   "cell_type": "code",
   "execution_count": null,
   "metadata": {},
   "outputs": [],
   "source": []
  }
 ],
 "metadata": {
  "kernelspec": {
   "display_name": "Python 3",
   "language": "python",
   "name": "python3"
  },
  "language_info": {
   "codemirror_mode": {
    "name": "ipython",
    "version": 3
   },
   "file_extension": ".py",
   "mimetype": "text/x-python",
   "name": "python",
   "nbconvert_exporter": "python",
   "pygments_lexer": "ipython3",
   "version": "3.6.3"
  }
 },
 "nbformat": 4,
 "nbformat_minor": 2
}
