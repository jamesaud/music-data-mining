{
 "cells": [
  {
   "cell_type": "raw",
   "metadata": {},
   "source": [
    "2. Word patterns associations with artists (lyrics API)\n",
    "\n",
    "   - Pull lyrics from https://developer.musixmatch.com/\n",
    "   - Clean data (remove stopwords, stemming, punctuation, strip, [HOOK] (DJ Scratches) using nltk)\n",
    "    \n",
    "    \n",
    "   1 Groups\n",
    "   --------\n",
    "   word group      artist   artist  artist  artist\n",
    "   [(hello)        True     True    True    False]\n",
    "   [(world)        True     True    False   False]\n",
    "   \n",
    "   \n",
    "   2 groups\n",
    "   ---------\n",
    "   [(hello, world)  True    True    False   False] "
   ]
  },
  {
   "cell_type": "code",
   "execution_count": 55,
   "metadata": {},
   "outputs": [],
   "source": [
    "import requests\n",
    "from pymongo import MongoClient\n",
    "from urllib.parse import urljoin\n",
    "from pprint import pprint\n",
    "import nltk\n",
    "import json"
   ]
  },
  {
   "cell_type": "markdown",
   "metadata": {},
   "source": [
    "# Retrieve Lyrics Via API"
   ]
  },
  {
   "cell_type": "code",
   "execution_count": 56,
   "metadata": {},
   "outputs": [],
   "source": [
    "# DB CONFIG\n",
    "client = MongoClient('mongo', 27017)\n",
    "db = client.music_db\n",
    "songs_collection = db.songs"
   ]
  },
  {
   "cell_type": "code",
   "execution_count": 57,
   "metadata": {},
   "outputs": [],
   "source": [
    "# Pull all songs from DB\n",
    "songs = list(songs_collection.find())"
   ]
  },
  {
   "cell_type": "code",
   "execution_count": 58,
   "metadata": {},
   "outputs": [],
   "source": [
    "def has_lyrics(song):\n",
    "    if not song.get('lyrics'):\n",
    "        return False\n",
    "    \n",
    "    if song.get('lyrics') == 'null':\n",
    "        return False\n",
    "\n",
    "    if song.get('lyrics').get('error'):\n",
    "        return False\n",
    "        \n",
    "    \n",
    "    return True\n",
    "\n",
    "songs = [song for song in songs if has_lyrics(song)]"
   ]
  },
  {
   "cell_type": "markdown",
   "metadata": {},
   "source": [
    "# Clean Lyrics"
   ]
  },
  {
   "cell_type": "code",
   "execution_count": 59,
   "metadata": {},
   "outputs": [],
   "source": [
    "import re\n",
    "import string\n",
    "from nltk.tokenize import WhitespaceTokenizer\n",
    "from nltk.stem import PorterStemmer, WordNetLemmatizer, SnowballStemmer\n",
    "from nltk.corpus import stopwords\n",
    "from typing import List\n",
    "\n",
    "STOPWORDS = set(stopwords.words('english'))\n",
    "stemmer = SnowballStemmer('english')\n",
    "lemmatizer = WordNetLemmatizer()\n",
    "\n",
    "def clean(word):\n",
    "    chars = [char for char in word if char not in string.punctuation]  # Remove Punctuation\n",
    "    word = \"\".join(chars)\n",
    "    word = word.lower()   # Lowercase\n",
    "    return word    \n",
    "\n",
    "\n",
    "def tokenize_lyrics(lyrics: str):\n",
    "    \"\"\" Takes lyrics in string format, returns list of words \"\"\"\n",
    "    replacement_patterns = (r'\\[.*?\\]',    # Between Brackets\n",
    "                           )    \n",
    "    lyrics_clean = re.sub('|'.join(replacement_patterns), '', lyrics)\n",
    "    tokenizer = WhitespaceTokenizer()\n",
    "    tokens = tokenizer.tokenize(lyrics_clean)\n",
    "    \n",
    "    # Split words with hyphens\n",
    "    for word in tokens:\n",
    "        if '-' in word:\n",
    "            i = tokens.index(word)\n",
    "            tokens = tokens[:i] + word.split('-') + tokens[i+1:]\n",
    "        \n",
    "    tokens = filter(lambda token: token != '', tokens)\n",
    "    return list(tokens)\n",
    "\n",
    "\n",
    "def is_stopword(word: str):\n",
    "    return word in STOPWORDS\n",
    "\n",
    "\n",
    "def tokenize(lyrics):\n",
    "    tokens = tokenize_lyrics(lyrics)\n",
    "    tokens = map(clean, tokens)\n",
    "    tokens = [word for word in tokens if not is_stopword(word)]\n",
    "    tokens = map(lemmatizer.lemmatize, tokens)\n",
    "    tokens = map(stemmer.stem, tokens)\n",
    "    tokens = map(lemmatizer.lemmatize, tokens)\n",
    "    tokens = list(tokens)\n",
    "    return tokens\n",
    "\n",
    "\n",
    "def add_tokenization_to_track(track):\n",
    "    track['lyrics']['tokens'] = tokenize(track['lyrics']['result']['track']['text'])\n",
    "    return track\n",
    "    \n",
    "tokenizations = list(map(add_tokenization_to_track, songs))"
   ]
  },
  {
   "cell_type": "code",
   "execution_count": null,
   "metadata": {},
   "outputs": [],
   "source": []
  }
 ],
 "metadata": {
  "kernelspec": {
   "display_name": "Python 3",
   "language": "python",
   "name": "python3"
  },
  "language_info": {
   "codemirror_mode": {
    "name": "ipython",
    "version": 3
   },
   "file_extension": ".py",
   "mimetype": "text/x-python",
   "name": "python",
   "nbconvert_exporter": "python",
   "pygments_lexer": "ipython3",
   "version": "3.6.3"
  }
 },
 "nbformat": 4,
 "nbformat_minor": 2
}
