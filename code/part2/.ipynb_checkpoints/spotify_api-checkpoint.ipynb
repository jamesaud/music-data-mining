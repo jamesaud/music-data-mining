{
 "cells": [
  {
   "cell_type": "markdown",
   "metadata": {},
   "source": [
    "1. Get Audio Information from Spotify\n",
    "2. Insert into DB\n"
   ]
  },
  {
   "cell_type": "code",
   "execution_count": 17,
   "metadata": {},
   "outputs": [],
   "source": [
    "import requests\n",
    "from urllib.parse import urljoin"
   ]
  },
  {
   "cell_type": "code",
   "execution_count": 18,
   "metadata": {},
   "outputs": [],
   "source": [
    "from pymongo import MongoClient\n",
    "from pprint import pprint\n",
    "from typing import List\n",
    "\n",
    "# DB CONFIG\n",
    "client = MongoClient('mongo', 27017)\n",
    "db = client.music_db\n",
    "songs_collection = db.top_songs"
   ]
  },
  {
   "cell_type": "code",
   "execution_count": 19,
   "metadata": {},
   "outputs": [
    {
     "data": {
      "text/plain": [
       "8124"
      ]
     },
     "execution_count": 19,
     "metadata": {},
     "output_type": "execute_result"
    }
   ],
   "source": [
    "# Pull all songs from DB\n",
    "SONGS = list(songs_collection.find())\n",
    "len(SONGS)"
   ]
  },
  {
   "cell_type": "code",
   "execution_count": 4,
   "metadata": {},
   "outputs": [],
   "source": [
    "def has_lyrics(song):\n",
    "    if not song.get('lyrics'):\n",
    "        return False\n",
    "    \n",
    "    if song.get('lyrics') == 'null':\n",
    "        return False\n",
    "\n",
    "    if song.get('lyrics').get('error'):\n",
    "        return False\n",
    "        \n",
    "    return True\n",
    "\n",
    "songs = [song for song in SONGS]"
   ]
  },
  {
   "cell_type": "code",
   "execution_count": 5,
   "metadata": {},
   "outputs": [],
   "source": [
    "class Song:\n",
    "    def __init__(self, song: dict):\n",
    "        self.data = song\n",
    "        self.spotify = {}    # Should be assined with the spotify api\n",
    "    \n",
    "    @property\n",
    "    def title(self):\n",
    "        return self.data['title']\n",
    "    \n",
    "    @property\n",
    "    def artist(self):\n",
    "        return self.data['artist']\n",
    "        \n",
    "    @property\n",
    "    def lyrics(self):\n",
    "        return self.data['lyrics']['result']['track']['text']\n",
    "    \n",
    "    @property\n",
    "    def search_phrase(self):\n",
    "        return self.data['title'] + \" by \" + self.data['artist']\n",
    "    \n",
    "    def __str__(self):\n",
    "        return str(self.data)\n",
    "    \n",
    "    def __repr__(self):\n",
    "        return self.__str__()\n",
    "    \n",
    "song_list = list(map(Song, songs))"
   ]
  },
  {
   "cell_type": "code",
   "execution_count": 6,
   "metadata": {},
   "outputs": [],
   "source": [
    "import spotipy\n",
    "from spotipy.oauth2 import SpotifyClientCredentials\n",
    "\n",
    "CLIENT_SECRET_KEY = 'c784fff30881479abc02c128d341efe2'\n",
    "CLIENT_ID = '299217ad61af41beb3f025a8b9bf0d99'\n",
    "\n",
    "\n",
    "client_credentials_manager = SpotifyClientCredentials(client_id=CLIENT_ID, client_secret=CLIENT_SECRET_KEY)\n",
    "spotify = spotipy.Spotify(client_credentials_manager=client_credentials_manager)"
   ]
  },
  {
   "cell_type": "code",
   "execution_count": 7,
   "metadata": {},
   "outputs": [],
   "source": [
    "from typing import Iterable\n",
    "\n",
    "def retrieve_track_id(name):\n",
    "    results = spotify.search(q='track:' + name, type='track')\n",
    "    return results\n",
    "\n",
    "def chunk(it: Iterable, size: int):\n",
    "    i = 0\n",
    "    for j in range(size, len(it), size):\n",
    "        yield it[i:j]\n",
    "        i = j"
   ]
  },
  {
   "cell_type": "code",
   "execution_count": 8,
   "metadata": {},
   "outputs": [],
   "source": [
    "from typing import List\n",
    "from IPython.display import clear_output\n",
    "\n",
    "    \n",
    "def retrieve_and_assign_features(songs: List):\n",
    "    song_ids = [song.spotify['id'] for song in songs]\n",
    "    features = spotify.audio_features(tracks=song_ids)\n",
    "    for song, feature in zip(songs, features):\n",
    "        song.spotify['audio_features'] = feature\n",
    "    return songs\n",
    "\n",
    "def retrieve_and_assign_ids(song_list):\n",
    "    i = 0\n",
    "    for song in song_list:\n",
    "        i += 1\n",
    "        clear_output(wait=True)\n",
    "        print(f\"Retreiving ID: {i} for {song.search_phrase}\\r\")\n",
    "        try:\n",
    "            response = retrieve_track_id(song.search_phrase)\n",
    "            song_id = response['tracks']['items'][0]['id']\n",
    "            song.spotify['id'] = song_id\n",
    "            yield song\n",
    "        except IndexError:\n",
    "            print(\"Couldn't retrieve ID for\", song.search_phrase, response)\n",
    "            continue\n",
    "    \n",
    "#song_list = list(retrieve_and_assign_ids(song_list))"
   ]
  },
  {
   "cell_type": "code",
   "execution_count": null,
   "metadata": {},
   "outputs": [],
   "source": [
    "len(song_list)"
   ]
  },
  {
   "cell_type": "code",
   "execution_count": 14,
   "metadata": {},
   "outputs": [
    {
     "name": "stdout",
     "output_type": "stream",
     "text": [
      "91\n"
     ]
    }
   ],
   "source": [
    "i=0\n",
    "for lst in chunk(song_list, 50):\n",
    "    retrieve_and_assign_features(lst)\n",
    "    print(i)\n",
    "    clear_output(wait=True)\n",
    "    i+=1"
   ]
  },
  {
   "cell_type": "code",
   "execution_count": 15,
   "metadata": {},
   "outputs": [
    {
     "data": {
      "text/plain": [
       "4646"
      ]
     },
     "execution_count": 15,
     "metadata": {},
     "output_type": "execute_result"
    }
   ],
   "source": [
    "len(song_list)"
   ]
  },
  {
   "cell_type": "code",
   "execution_count": 16,
   "metadata": {},
   "outputs": [],
   "source": [
    "def update_db(document_id, spotify_data: dict):\n",
    "    document = songs_collection.find_one_and_update({\"_id\": document_id}, \n",
    "                                         {\"$set\": {\"spotify\": spotify_data}})\n",
    "    return document\n",
    "\n",
    "def update_db_from_songs(songs):\n",
    "    for song in songs:\n",
    "        update_db(song.data['_id'], song.spotify)\n",
    "\n",
    "update_db_from_songs(song_list)"
   ]
  },
  {
   "cell_type": "code",
   "execution_count": 21,
   "metadata": {},
   "outputs": [],
   "source": [
    "# Get album IDs\n",
    "SONGS = list(songs_collection.find())"
   ]
  },
  {
   "cell_type": "code",
   "execution_count": 23,
   "metadata": {},
   "outputs": [
    {
     "data": {
      "text/plain": [
       "4646"
      ]
     },
     "execution_count": 23,
     "metadata": {},
     "output_type": "execute_result"
    }
   ],
   "source": [
    "songs = [song for song in SONGS if song.get('spotify', {}).get('id')]\n",
    "len(songs)"
   ]
  },
  {
   "cell_type": "code",
   "execution_count": 29,
   "metadata": {},
   "outputs": [
    {
     "name": "stdout",
     "output_type": "stream",
     "text": [
      "Successfully got genre\n",
      "{'external_urls': {'spotify': 'https://open.spotify.com/artist/2BgLyUKS3eyXxuPD8CwflY'}, 'followers': {'href': None, 'total': 27394}, 'genres': [], 'href': 'https://api.spotify.com/v1/artists/2BgLyUKS3eyXxuPD8CwflY', 'id': '2BgLyUKS3eyXxuPD8CwflY', 'images': [{'height': 640, 'url': 'https://i.scdn.co/image/69ec0fce548de3c199f5d967063984a8dfeb4ba1', 'width': 640}, {'height': 300, 'url': 'https://i.scdn.co/image/f5d64713229b9ca621c52ed5e69d6d06903fe273', 'width': 300}, {'height': 64, 'url': 'https://i.scdn.co/image/5607f507d48936d30ac00de66b105d179a1cd6e4', 'width': 64}], 'name': 'American Country Hits', 'popularity': 26, 'type': 'artist', 'uri': 'spotify:artist:2BgLyUKS3eyXxuPD8CwflY'}\n",
      "{'external_urls': {'spotify': 'https://open.spotify.com/artist/7twNB7T3Jszx4WIQIbwM7p'}, 'followers': {'href': None, 'total': 49}, 'genres': [], 'href': 'https://api.spotify.com/v1/artists/7twNB7T3Jszx4WIQIbwM7p', 'id': '7twNB7T3Jszx4WIQIbwM7p', 'images': [{'height': 640, 'url': 'https://i.scdn.co/image/918ac3e1b8b3f0d57cdfa72b30248e8f4692729e', 'width': 640}, {'height': 300, 'url': 'https://i.scdn.co/image/bc20b0db30c20baccfb1b4ac4baf8e1f09dc77c7', 'width': 300}, {'height': 64, 'url': 'https://i.scdn.co/image/289a3730faddf11c4929e2651ff0b01997b19e13', 'width': 64}], 'name': 'Ameritz Entertainment', 'popularity': 4, 'type': 'artist', 'uri': 'spotify:artist:7twNB7T3Jszx4WIQIbwM7p'}\n",
      "{'external_urls': {'spotify': 'https://open.spotify.com/artist/0vkty1FvF8TGQfeN2oqsXi'}, 'followers': {'href': None, 'total': 74}, 'genres': [], 'href': 'https://api.spotify.com/v1/artists/0vkty1FvF8TGQfeN2oqsXi', 'id': '0vkty1FvF8TGQfeN2oqsXi', 'images': [{'height': 640, 'url': 'https://i.scdn.co/image/9e31aa03e15506845cc3dace9d454062b56e7c2e', 'width': 640}, {'height': 300, 'url': 'https://i.scdn.co/image/c7580ab563090cc1a308539b06dcd5cdbbb5ef13', 'width': 300}, {'height': 64, 'url': 'https://i.scdn.co/image/fec0397e89f0269ec1409b774abd75dc934e376d', 'width': 64}], 'name': 'Tyler Johnson', 'popularity': 19, 'type': 'artist', 'uri': 'spotify:artist:0vkty1FvF8TGQfeN2oqsXi'}\n",
      "{'external_urls': {'spotify': 'https://open.spotify.com/artist/6dsbglyRaZd5v3opPyCyDr'}, 'followers': {'href': None, 'total': 1006}, 'genres': [], 'href': 'https://api.spotify.com/v1/artists/6dsbglyRaZd5v3opPyCyDr', 'id': '6dsbglyRaZd5v3opPyCyDr', 'images': [{'height': 640, 'url': 'https://i.scdn.co/image/573e6b49957676152cc81754bad9020a77232eb5', 'width': 640}, {'height': 300, 'url': 'https://i.scdn.co/image/49d32528814b75af97794809852488bd688c533a', 'width': 300}, {'height': 64, 'url': 'https://i.scdn.co/image/b86b73586eb1420a662b365cea6fce046c082a03', 'width': 64}], 'name': \"St. Martin's Symphony Of Los Angeles\", 'popularity': 42, 'type': 'artist', 'uri': 'spotify:artist:6dsbglyRaZd5v3opPyCyDr'}\n",
      "{'external_urls': {'spotify': 'https://open.spotify.com/artist/6NsbgCL11dQEy3LIXLyA2X'}, 'followers': {'href': None, 'total': 743}, 'genres': [], 'href': 'https://api.spotify.com/v1/artists/6NsbgCL11dQEy3LIXLyA2X', 'id': '6NsbgCL11dQEy3LIXLyA2X', 'images': [{'height': 640, 'url': 'https://i.scdn.co/image/0aee7ee02d3480502082031593485686850a9a05', 'width': 640}, {'height': 300, 'url': 'https://i.scdn.co/image/bb9d835de0147794f4a3c579d856022ca4f3dd25', 'width': 300}, {'height': 64, 'url': 'https://i.scdn.co/image/39e224f61b1f58c58a35f9888c40abd44d1396a5', 'width': 64}], 'name': 'DJ Cover This', 'popularity': 16, 'type': 'artist', 'uri': 'spotify:artist:6NsbgCL11dQEy3LIXLyA2X'}\n",
      "{'external_urls': {'spotify': 'https://open.spotify.com/artist/2L0I8bKbBR9vMrVOzv7NtC'}, 'followers': {'href': None, 'total': 295}, 'genres': [], 'href': 'https://api.spotify.com/v1/artists/2L0I8bKbBR9vMrVOzv7NtC', 'id': '2L0I8bKbBR9vMrVOzv7NtC', 'images': [{'height': 640, 'url': 'https://i.scdn.co/image/a51f76ffe93b7115405e1d5162d3e5235ad9ed63', 'width': 640}, {'height': 300, 'url': 'https://i.scdn.co/image/c006843ac5bb1e3ad6e0e364eece5f1d42c6a9fc', 'width': 300}, {'height': 64, 'url': 'https://i.scdn.co/image/40a38364bdbf4e5f77794ec04f1d73798b795d58', 'width': 64}], 'name': 'Downstairs Productions', 'popularity': 5, 'type': 'artist', 'uri': 'spotify:artist:2L0I8bKbBR9vMrVOzv7NtC'}\n",
      "{'external_urls': {'spotify': 'https://open.spotify.com/artist/6t6uL1Zlod5DISGBSCQnOY'}, 'followers': {'href': None, 'total': 78}, 'genres': [], 'href': 'https://api.spotify.com/v1/artists/6t6uL1Zlod5DISGBSCQnOY', 'id': '6t6uL1Zlod5DISGBSCQnOY', 'images': [{'height': 640, 'url': 'https://i.scdn.co/image/23ed169ab2f057319035e2ea4b84073c7c579688', 'width': 640}, {'height': 300, 'url': 'https://i.scdn.co/image/1c58a3cb25277bf20432f9334ec318c9d5b43545', 'width': 300}, {'height': 64, 'url': 'https://i.scdn.co/image/ec6a06c827b25f6e0c5b139f6990fb8fa20950ec', 'width': 64}], 'name': 'Pure Pop Idols', 'popularity': 5, 'type': 'artist', 'uri': 'spotify:artist:6t6uL1Zlod5DISGBSCQnOY'}\n",
      "{'external_urls': {'spotify': 'https://open.spotify.com/artist/3CtgjasLNN3Ym8SHm5JuJn'}, 'followers': {'href': None, 'total': 780}, 'genres': [], 'href': 'https://api.spotify.com/v1/artists/3CtgjasLNN3Ym8SHm5JuJn', 'id': '3CtgjasLNN3Ym8SHm5JuJn', 'images': [{'height': 640, 'url': 'https://i.scdn.co/image/4e627c26065b7b9176d855f404f299ef7a1eb815', 'width': 640}, {'height': 300, 'url': 'https://i.scdn.co/image/131ec7c0a173f59d060bb260c5cc391786ba772d', 'width': 300}, {'height': 64, 'url': 'https://i.scdn.co/image/c48a3e01e2b3466f540c80c08d06fbba8c44ab77', 'width': 64}], 'name': \"Singer's Edge Karaoke\", 'popularity': 33, 'type': 'artist', 'uri': 'spotify:artist:3CtgjasLNN3Ym8SHm5JuJn'}\n",
      "{'external_urls': {'spotify': 'https://open.spotify.com/artist/3MfjqmPil99F69YmSncKj7'}, 'followers': {'href': None, 'total': 360}, 'genres': [], 'href': 'https://api.spotify.com/v1/artists/3MfjqmPil99F69YmSncKj7', 'id': '3MfjqmPil99F69YmSncKj7', 'images': [{'height': 640, 'url': 'https://i.scdn.co/image/b9c29e41d1c69321867cb8d8a531be5ab76605a6', 'width': 640}, {'height': 300, 'url': 'https://i.scdn.co/image/96e043f196716bff68315b974c5ed9d697d9d7be', 'width': 300}, {'height': 64, 'url': 'https://i.scdn.co/image/cc0f08bc5f5fdd5adec8a58d60aab090cb9fdbbd', 'width': 64}], 'name': 'American Karaoke Tunes', 'popularity': 10, 'type': 'artist', 'uri': 'spotify:artist:3MfjqmPil99F69YmSncKj7'}\n",
      "{'external_urls': {'spotify': 'https://open.spotify.com/artist/1ANIrFhgafREgZz36RI0QC'}, 'followers': {'href': None, 'total': 323}, 'genres': [], 'href': 'https://api.spotify.com/v1/artists/1ANIrFhgafREgZz36RI0QC', 'id': '1ANIrFhgafREgZz36RI0QC', 'images': [{'height': 640, 'url': 'https://i.scdn.co/image/ae72ee73be448ada08e4e17690f1ed065033eb1a', 'width': 640}, {'height': 300, 'url': 'https://i.scdn.co/image/ecb56f342326537c19ab738910bb2b43a61fea8c', 'width': 300}, {'height': 64, 'url': 'https://i.scdn.co/image/3fd2589d6d52f9b4c2346151957cbced8416a084', 'width': 64}], 'name': 'XOXO', 'popularity': 16, 'type': 'artist', 'uri': 'spotify:artist:1ANIrFhgafREgZz36RI0QC'}\n"
     ]
    }
   ],
   "source": [
    "i = 0\n",
    "def retrieve_genres(ids: str):\n",
    "    global i\n",
    "    i += 1    \n",
    "    track = spotify.track(ids)\n",
    "\n",
    "    artist_id = track['artists'][0]['id']\n",
    "    album_id = track['album']['id']\n",
    "\n",
    "    genres = spotify.album(album_id)['genres']\n",
    "    \n",
    "    if not genres:\n",
    "        artist = spotify.artist(artist_id)\n",
    "        print(artist)\n",
    "        genres = artist['genres']\n",
    "\n",
    "    return genres\n",
    "\n",
    "def update_db(document_id, genre: List):\n",
    "    document = songs_collection.find_one_and_update({\"_id\": document_id}, \n",
    "                                         {\"$set\": {\"genre\": genre}})\n",
    "    return document\n",
    "\n",
    "def update_db_from_songs(songs):\n",
    "    for song in songs:\n",
    "        genres = retrieve_genres(song['spotify']['id'])\n",
    "        if genres:\n",
    "            clear_output(wait=True)\n",
    "            print(\"Successfully got genre\")\n",
    "            update_db(song['_id'], genres)\n",
    "\n",
    "songs = reversed(songs[0:])\n",
    "update_db_from_songs(songs)"
   ]
  },
  {
   "cell_type": "code",
   "execution_count": 38,
   "metadata": {},
   "outputs": [
    {
     "data": {
      "text/plain": [
       "[]"
      ]
     },
     "execution_count": 38,
     "metadata": {},
     "output_type": "execute_result"
    }
   ],
   "source": [
    "ids"
   ]
  },
  {
   "cell_type": "code",
   "execution_count": null,
   "metadata": {},
   "outputs": [],
   "source": []
  }
 ],
 "metadata": {
  "kernelspec": {
   "display_name": "Python 3",
   "language": "python",
   "name": "python3"
  },
  "language_info": {
   "codemirror_mode": {
    "name": "ipython",
    "version": 3
   },
   "file_extension": ".py",
   "mimetype": "text/x-python",
   "name": "python",
   "nbconvert_exporter": "python",
   "pygments_lexer": "ipython3",
   "version": "3.6.3"
  }
 },
 "nbformat": 4,
 "nbformat_minor": 2
}
