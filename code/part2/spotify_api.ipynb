{
 "cells": [
  {
   "cell_type": "markdown",
   "metadata": {},
   "source": [
    "1. Get Audio Information from Spotify\n",
    "2. Insert into DB\n"
   ]
  },
  {
   "cell_type": "code",
   "execution_count": 17,
   "metadata": {},
   "outputs": [],
   "source": [
    "import requests\n",
    "from urllib.parse import urljoin"
   ]
  },
  {
   "cell_type": "code",
   "execution_count": 34,
   "metadata": {},
   "outputs": [],
   "source": [
    "from pymongo import MongoClient\n",
    "from pprint import pprint\n",
    "from typing import List\n",
    "\n",
    "# DB CONFIG\n",
    "client = MongoClient('mongo', 27017)\n",
    "db = client.music_db\n",
    "songs_collection = db.top_songs"
   ]
  },
  {
   "cell_type": "code",
   "execution_count": 35,
   "metadata": {},
   "outputs": [
    {
     "data": {
      "text/plain": [
       "8124"
      ]
     },
     "execution_count": 35,
     "metadata": {},
     "output_type": "execute_result"
    }
   ],
   "source": [
    "# Pull all songs from DB\n",
    "SONGS = list(songs_collection.find())\n",
    "len(SONGS)"
   ]
  },
  {
   "cell_type": "code",
   "execution_count": 4,
   "metadata": {},
   "outputs": [],
   "source": [
    "def has_lyrics(song):\n",
    "    if not song.get('lyrics'):\n",
    "        return False\n",
    "    \n",
    "    if song.get('lyrics') == 'null':\n",
    "        return False\n",
    "\n",
    "    if song.get('lyrics').get('error'):\n",
    "        return False\n",
    "        \n",
    "    return True\n",
    "\n",
    "songs = [song for song in SONGS]"
   ]
  },
  {
   "cell_type": "code",
   "execution_count": 5,
   "metadata": {},
   "outputs": [],
   "source": [
    "class Song:\n",
    "    def __init__(self, song: dict):\n",
    "        self.data = song\n",
    "        self.spotify = {}    # Should be assined with the spotify api\n",
    "    \n",
    "    @property\n",
    "    def title(self):\n",
    "        return self.data['title']\n",
    "    \n",
    "    @property\n",
    "    def artist(self):\n",
    "        return self.data['artist']\n",
    "        \n",
    "    @property\n",
    "    def lyrics(self):\n",
    "        return self.data['lyrics']['result']['track']['text']\n",
    "    \n",
    "    @property\n",
    "    def search_phrase(self):\n",
    "        return self.data['title'] + \" by \" + self.data['artist']\n",
    "    \n",
    "    def __str__(self):\n",
    "        return str(self.data)\n",
    "    \n",
    "    def __repr__(self):\n",
    "        return self.__str__()\n",
    "    \n",
    "song_list = list(map(Song, songs))"
   ]
  },
  {
   "cell_type": "code",
   "execution_count": 6,
   "metadata": {},
   "outputs": [],
   "source": [
    "import spotipy\n",
    "from spotipy.oauth2 import SpotifyClientCredentials\n",
    "\n",
    "CLIENT_SECRET_KEY = 'c784fff30881479abc02c128d341efe2'\n",
    "CLIENT_ID = '299217ad61af41beb3f025a8b9bf0d99'\n",
    "\n",
    "\n",
    "client_credentials_manager = SpotifyClientCredentials(client_id=CLIENT_ID, client_secret=CLIENT_SECRET_KEY)\n",
    "spotify = spotipy.Spotify(client_credentials_manager=client_credentials_manager)"
   ]
  },
  {
   "cell_type": "code",
   "execution_count": 7,
   "metadata": {},
   "outputs": [],
   "source": [
    "from typing import Iterable\n",
    "\n",
    "def retrieve_track_id(name):\n",
    "    results = spotify.search(q='track:' + name, type='track')\n",
    "    return results\n",
    "\n",
    "def chunk(it: Iterable, size: int):\n",
    "    i = 0\n",
    "    for j in range(size, len(it), size):\n",
    "        yield it[i:j]\n",
    "        i = j"
   ]
  },
  {
   "cell_type": "code",
   "execution_count": 8,
   "metadata": {},
   "outputs": [],
   "source": [
    "from typing import List\n",
    "from IPython.display import clear_output\n",
    "\n",
    "    \n",
    "def retrieve_and_assign_features(songs: List):\n",
    "    song_ids = [song.spotify['id'] for song in songs]\n",
    "    features = spotify.audio_features(tracks=song_ids)\n",
    "    for song, feature in zip(songs, features):\n",
    "        song.spotify['audio_features'] = feature\n",
    "    return songs\n",
    "\n",
    "def retrieve_and_assign_ids(song_list):\n",
    "    i = 0\n",
    "    for song in song_list:\n",
    "        i += 1\n",
    "        clear_output(wait=True)\n",
    "        print(f\"Retreiving ID: {i} for {song.search_phrase}\\r\")\n",
    "        try:\n",
    "            response = retrieve_track_id(song.search_phrase)\n",
    "            song_id = response['tracks']['items'][0]['id']\n",
    "            song.spotify['id'] = song_id\n",
    "            yield song\n",
    "        except IndexError:\n",
    "            print(\"Couldn't retrieve ID for\", song.search_phrase, response)\n",
    "            continue\n",
    "    \n",
    "#song_list = list(retrieve_and_assign_ids(song_list))"
   ]
  },
  {
   "cell_type": "code",
   "execution_count": null,
   "metadata": {},
   "outputs": [],
   "source": [
    "len(song_list)"
   ]
  },
  {
   "cell_type": "code",
   "execution_count": 14,
   "metadata": {},
   "outputs": [
    {
     "name": "stdout",
     "output_type": "stream",
     "text": [
      "91\n"
     ]
    }
   ],
   "source": [
    "i=0\n",
    "for lst in chunk(song_list, 50):\n",
    "    retrieve_and_assign_features(lst)\n",
    "    print(i)\n",
    "    clear_output(wait=True)\n",
    "    i+=1"
   ]
  },
  {
   "cell_type": "code",
   "execution_count": 15,
   "metadata": {},
   "outputs": [
    {
     "data": {
      "text/plain": [
       "4646"
      ]
     },
     "execution_count": 15,
     "metadata": {},
     "output_type": "execute_result"
    }
   ],
   "source": [
    "len(song_list)"
   ]
  },
  {
   "cell_type": "code",
   "execution_count": 16,
   "metadata": {},
   "outputs": [],
   "source": [
    "def update_db(document_id, spotify_data: dict):\n",
    "    document = songs_collection.find_one_and_update({\"_id\": document_id}, \n",
    "                                         {\"$set\": {\"spotify\": spotify_data}})\n",
    "    return document\n",
    "\n",
    "def update_db_from_songs(songs):\n",
    "    for song in songs:\n",
    "        update_db(song.data['_id'], song.spotify)\n",
    "\n",
    "update_db_from_songs(song_list)"
   ]
  },
  {
   "cell_type": "code",
   "execution_count": 21,
   "metadata": {},
   "outputs": [],
   "source": [
    "# Get album IDs\n",
    "SONGS = list(songs_collection.find())"
   ]
  },
  {
   "cell_type": "code",
   "execution_count": 23,
   "metadata": {},
   "outputs": [
    {
     "data": {
      "text/plain": [
       "4646"
      ]
     },
     "execution_count": 23,
     "metadata": {},
     "output_type": "execute_result"
    }
   ],
   "source": [
    "songs = [song for song in SONGS if song.get('spotify', {}).get('id')]\n",
    "len(songs)"
   ]
  },
  {
   "cell_type": "code",
   "execution_count": 36,
   "metadata": {},
   "outputs": [],
   "source": [
    "i = 0\n",
    "def retrieve_genres(ids: str):\n",
    "    global i\n",
    "    i += 1    \n",
    "    track = spotify.track(ids)\n",
    "\n",
    "    artist_id = track['artists'][0]['id']\n",
    "    album_id = track['album']['id']\n",
    "\n",
    "    genres = spotify.album(album_id)['genres']\n",
    "    \n",
    "    if not genres:\n",
    "        artist = spotify.artist(artist_id)\n",
    "        print(artist)\n",
    "        genres = artist['genres']\n",
    "\n",
    "    return genres\n",
    "\n",
    "def update_db(document_id, genre: List):\n",
    "    document = songs_collection.find_one_and_update({\"_id\": document_id}, \n",
    "                                         {\"$set\": {\"genre\": genre}})\n",
    "    print(document)\n",
    "    return document\n",
    "\n",
    "def update_db_from_songs(songs):\n",
    "    for song in songs:\n",
    "        genres = retrieve_genres(song['spotify']['id'])\n",
    "        if genres:\n",
    "            clear_output(wait=True)\n",
    "            print(\"Successfully got genre\")\n",
    "            update_db(song['_id'], genres)\n",
    "\n",
    "songs = songs\n",
    "update_db_from_songs(songs)"
   ]
  },
  {
   "cell_type": "code",
   "execution_count": 38,
   "metadata": {},
   "outputs": [
    {
     "data": {
      "text/plain": [
       "[]"
      ]
     },
     "execution_count": 38,
     "metadata": {},
     "output_type": "execute_result"
    }
   ],
   "source": [
    "ids"
   ]
  },
  {
   "cell_type": "code",
   "execution_count": null,
   "metadata": {},
   "outputs": [],
   "source": []
  }
 ],
 "metadata": {
  "kernelspec": {
   "display_name": "Python 3",
   "language": "python",
   "name": "python3"
  },
  "language_info": {
   "codemirror_mode": {
    "name": "ipython",
    "version": 3
   },
   "file_extension": ".py",
   "mimetype": "text/x-python",
   "name": "python",
   "nbconvert_exporter": "python",
   "pygments_lexer": "ipython3",
   "version": "3.6.3"
  }
 },
 "nbformat": 4,
 "nbformat_minor": 2
}
