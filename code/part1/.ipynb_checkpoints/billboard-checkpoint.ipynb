{
 "cells": [
  {
   "cell_type": "markdown",
   "metadata": {},
   "source": [
    "# Download Data"
   ]
  },
  {
   "cell_type": "code",
   "execution_count": 5,
   "metadata": {},
   "outputs": [],
   "source": [
    "import json\n",
    "import billboard\n",
    "from datetime import datetime\n",
    "import time\n",
    "from typing import List\n",
    "\n",
    "def to_date(date: str) -> datetime:\n",
    "    return datetime.strptime(date, '%Y-%m-%d')\n",
    "\n",
    "def retrieve_previous_charts(chart, end_date: datetime) -> List[billboard.ChartData]:\n",
    "    while to_date(chart.previousDate) > end_date:\n",
    "        chart = billboard.ChartData(chart.name, chart.previousDate, fetch=True)\n",
    "        yield chart\n",
    "        "
   ]
  },
  {
   "cell_type": "code",
   "execution_count": 14,
   "metadata": {},
   "outputs": [],
   "source": [
    "CHART_NAME = 'country-songs'\n",
    "start = '2006-10-05'\n",
    "end = datetime(1995, 2, 26)\n",
    "chart1 = billboard.ChartData(CHART_NAME, date=start)"
   ]
  },
  {
   "cell_type": "code",
   "execution_count": 15,
   "metadata": {},
   "outputs": [
    {
     "name": "stdout",
     "output_type": "stream",
     "text": [
      "2006-09-30 2006-09-23 2006-09-16 2006-09-09 2006-09-02 2006-08-26 2006-08-19 2006-08-12 2006-08-05 2006-07-29 2006-07-22 2006-07-15 2006-07-08 2006-07-01 2006-06-24 2006-06-17 2006-06-10 2006-06-03 2006-05-27 2006-05-20 2006-05-13 2006-05-06 2006-04-29 2006-04-22 2006-04-15 2006-04-08 2006-04-01 2006-03-25 2006-03-18 2006-03-11 2006-03-04 2006-02-25 2006-02-18 2006-02-11 2006-02-04 2006-01-28 2006-01-21 2006-01-14 2006-01-07 2005-12-31 2005-12-24 2005-12-17 2005-12-10 2005-12-03 2005-11-26 2005-11-19 2005-11-12 2005-11-05 2005-10-29 2005-10-22 2005-10-15 2005-10-08 2005-10-01 2005-09-24 2005-09-17 2005-09-10 2005-09-03 2005-08-27 2005-08-20 2005-08-13 2005-08-06 2005-07-30 2005-07-23 2005-07-16 2005-07-09 2005-07-02 2005-06-25 2005-06-18 2005-06-11 2005-06-04 2005-05-28 2005-05-21 2005-05-14 2005-05-07 2005-04-30 2005-04-23 2005-04-16 2005-04-09 2005-04-02 2005-03-26 2005-03-19 2005-03-12 2005-03-05 2005-02-26 2005-02-19 2005-02-12 2005-02-05 2005-01-29 2005-01-22 2005-01-15 2005-01-08 2005-01-01 2004-12-25 2004-12-18 2004-12-11 2004-12-04 2004-11-27 2004-11-20 2004-11-13 2004-11-06 2004-10-30 2004-10-23 2004-10-16 2004-10-09 2004-10-02 2004-09-25 2004-09-18 2004-09-11 2004-09-04 2004-08-28 2004-08-21 2004-08-14 2004-08-07 2004-07-31 2004-07-24 2004-07-17 2004-07-10 2004-07-03 2004-06-26 2004-06-19 2004-06-12 2004-06-05 2004-05-29 2004-05-22 2004-05-15 2004-05-08 2004-05-01 2004-04-24 2004-04-17 2004-04-10 2004-04-03 2004-03-27 2004-03-20 2004-03-13 2004-03-06 2004-02-28 2004-02-21 2004-02-14 2004-02-07 2004-01-31 2004-01-24 2004-01-17 2004-01-10 2004-01-03 2003-12-27 2003-12-20 2003-12-13 2003-12-06 2003-11-29 2003-11-22 2003-11-15 2003-11-08 2003-11-01 2003-10-25 2003-10-18 2003-10-11 2003-10-04 2003-09-27 2003-09-20 2003-09-13 2003-09-06 2003-08-30 2003-08-23 2003-08-16 2003-08-09 2003-08-02 2003-07-26 2003-07-19 2003-07-12 2003-07-05 2003-06-28 2003-06-21 2003-06-14 2003-06-07 2003-05-31 2003-05-24 2003-05-17 2003-05-10 2003-05-03 2003-04-26 2003-04-19 2003-04-12 2003-04-05 2003-03-29 2003-03-22 2003-03-15 2003-03-08 2003-03-01 2003-02-22 2003-02-15 2003-02-08 2003-02-01 2003-01-25 2003-01-18 2003-01-11 2003-01-04 2002-12-28 2002-12-21 2002-12-14 2002-12-07 2002-11-30 2002-11-23 2002-11-16 2002-11-09 2002-11-02 2002-10-26 2002-10-19 2002-10-12 2002-10-05 2002-09-28 2002-09-21 2002-09-14 2002-09-07 2002-08-31 2002-08-24 2002-08-17 2002-08-10 2002-08-03 2002-07-27 2002-07-20 2002-07-13 2002-07-06 2002-06-29 2002-06-22 2002-06-15 2002-06-08 2002-06-01 2002-05-25 2002-05-18 2002-05-11 2002-05-04 2002-04-27 2002-04-20 2002-04-13 2002-04-06 2002-03-30 2002-03-23 2002-03-16 2002-03-09 2002-03-02 2002-02-23 2002-02-16 2002-02-09 2002-02-02 2002-01-26 2002-01-19 2002-01-12 2002-01-05 2001-12-29 2001-12-22 2001-12-15 2001-12-08 2001-12-01 2001-11-24 2001-11-17 2001-11-10 2001-11-03 2001-10-27 2001-10-20 2001-10-13 2001-10-06 2001-09-29 2001-09-22 2001-09-15 2001-09-08 2001-09-01 2001-08-25 2001-08-18 2001-08-11 2001-08-04 2001-07-28 2001-07-21 2001-07-14 2001-07-07 2001-06-30 2001-06-23 2001-06-16 2001-06-09 2001-06-02 2001-05-26 2001-05-19 2001-05-12 2001-05-05 2001-04-28 2001-04-21 2001-04-14 2001-04-07 2001-03-31 2001-03-24 2001-03-17 2001-03-10 2001-03-03 2001-02-24 2001-02-17 2001-02-10 2001-02-03 2001-01-27 2001-01-20 2001-01-13 2001-01-06 2000-12-30 2000-12-23 2000-12-16 2000-12-09 2000-12-02 2000-11-25 2000-11-18 2000-11-11 2000-11-04 2000-10-28 2000-10-21 2000-10-14 2000-10-07 2000-09-30 2000-09-23 2000-09-16 2000-09-09 2000-09-02 2000-08-26 2000-08-19 2000-08-12 2000-08-05 2000-07-29 2000-07-22 2000-07-15 2000-07-08 2000-07-01 2000-06-24 2000-06-17 2000-06-10 2000-06-03 2000-05-27 2000-05-20 2000-05-13 2000-05-06 2000-04-29 2000-04-22 2000-04-15 2000-04-08 2000-04-01 2000-03-25 2000-03-18 2000-03-11 2000-03-04 2000-02-26 2000-02-19 2000-02-12 2000-02-05 2000-01-29 2000-01-22 2000-01-15 2000-01-08 2000-01-01 1999-12-25 1999-12-18 1999-12-11 1999-12-04 1999-11-27 1999-11-20 1999-11-13 1999-11-06 1999-10-30 1999-10-23 1999-10-16 1999-10-09 1999-10-02 1999-09-25 1999-09-18 1999-09-11 1999-09-04 1999-08-28 1999-08-21 1999-08-14 1999-08-07 1999-07-31 1999-07-24 1999-07-17 1999-07-10 1999-07-03 1999-06-26 1999-06-19 1999-06-12 1999-06-05 1999-05-29 1999-05-22 1999-05-15 1999-05-08 1999-05-01 1999-04-24 1999-04-17 1999-04-10 1999-04-03 1999-03-27 1999-03-20 1999-03-13 1999-03-06 1999-02-27 1999-02-20 1999-02-13 1999-02-06 1999-01-30 1999-01-23 1999-01-16 1999-01-09 1999-01-02 1998-12-26 1998-12-19 1998-12-12 1998-12-05 1998-11-28 1998-11-21 1998-11-14 1998-11-07 1998-10-31 1998-10-24 1998-10-17 1998-10-10 1998-10-03 1998-09-26 1998-09-19 1998-09-12 1998-09-05 1998-08-29 1998-08-22 1998-08-15 1998-08-08 1998-08-01 1998-07-25 1998-07-18 1998-07-11 1998-07-04 1998-06-27 1998-06-20 1998-06-13 1998-06-06 1998-05-30 1998-05-23 1998-05-16 1998-05-09 1998-05-02 1998-04-25 1998-04-18 1998-04-11 1998-04-04 1998-03-28 1998-03-21 1998-03-14 1998-03-07 1998-02-28 1998-02-21 1998-02-14 1998-02-07 1998-01-31 1998-01-24 1998-01-17 1998-01-10 1998-01-03 1997-12-27 1997-12-20 1997-12-13 1997-12-06 1997-11-29 1997-11-22 1997-11-15 1997-11-08 1997-11-01 1997-10-25 1997-10-18 1997-10-11 1997-10-04 1997-09-27 1997-09-20 1997-09-13 1997-09-06 1997-08-30 1997-08-23 1997-08-16 1997-08-09 1997-08-02 1997-07-26 1997-07-19 1997-07-12 1997-07-05 1997-06-28 1997-06-21 1997-06-14 1997-06-07 1997-05-31 1997-05-24 1997-05-17 1997-05-10 1997-05-03 1997-04-26 1997-04-19 1997-04-12 1997-04-05 1997-03-29 1997-03-22 1997-03-15 1997-03-08 1997-03-01 1997-02-22 1997-02-15 1997-02-08 1997-02-01 1997-01-25 1997-01-18 1997-01-11 1997-01-04 1996-12-28 1996-12-21 1996-12-14 1996-12-07 1996-11-30 1996-11-23 1996-11-16 1996-11-09 1996-11-02 1996-10-26 1996-10-19 1996-10-12 1996-10-05 1996-09-28 1996-09-21 1996-09-14 1996-09-07 1996-08-31 1996-08-24 1996-08-17 1996-08-10 1996-08-03 1996-07-27 1996-07-20 1996-07-13 1996-07-06 1996-06-29 1996-06-22 1996-06-15 1996-06-08 1996-06-01 1996-05-25 1996-05-18 1996-05-11 1996-05-04 1996-04-27 1996-04-20 1996-04-13 1996-04-06 1996-03-30 1996-03-23 1996-03-16 1996-03-09 1996-03-02 1996-02-24 1996-02-17 1996-02-10 1996-02-03 1996-01-27 1996-01-20 1996-01-13 1996-01-06 1995-12-30 1995-12-23 1995-12-16 1995-12-09 1995-12-02 1995-11-25 1995-11-18 1995-11-11 1995-11-04 1995-10-28 1995-10-21 1995-10-14 1995-10-07 1995-09-30 1995-09-23 1995-09-16 1995-09-09 1995-09-02 1995-08-26 1995-08-19 1995-08-12 1995-08-05 1995-07-29 1995-07-22 1995-07-15 1995-07-08 1995-07-01 1995-06-24 1995-06-17 1995-06-10 1995-06-03 1995-05-27 1995-05-20 1995-05-13 1995-05-06 1995-04-29 1995-04-22 1995-04-15 1995-04-08 1995-04-01 1995-03-25 1995-03-18 1995-03-11 1995-03-04 "
     ]
    }
   ],
   "source": [
    "charts = []\n",
    "for chart in retrieve_previous_charts(chart1, end):\n",
    "    print(chart.date, end=\" \")\n",
    "    charts.append(chart)\n",
    "    time.sleep(1)"
   ]
  },
  {
   "cell_type": "markdown",
   "metadata": {},
   "source": [
    "# Process Data"
   ]
  },
  {
   "cell_type": "code",
   "execution_count": 16,
   "metadata": {},
   "outputs": [],
   "source": [
    "def get_songs(charts: List[billboard.ChartData]) -> List[billboard.ChartEntry]:\n",
    "    \"\"\" Remove duplicate songs from a chart list based on str(song) \"\"\"\n",
    "    songs = {str(song): song for chart in charts for song in chart}\n",
    "    return list(songs.values())\n",
    "    \n",
    "def is_collaboration(song: billboard.ChartEntry):\n",
    "    return any(x in song.artist for x in [\"Featuring\", '&'])\n",
    "\n",
    "def song_data(song: billboard.ChartEntry) -> dict:\n",
    "    return {**song.__dict__, 'identifier': str(song)}\n",
    "\n",
    "\n",
    "# Get song data, remove duplicates from the charts\n",
    "songs = get_songs(charts)\n",
    "songs_data = list(map(song_data, songs))"
   ]
  },
  {
   "cell_type": "markdown",
   "metadata": {},
   "source": [
    "# Insert into Database"
   ]
  },
  {
   "cell_type": "code",
   "execution_count": 17,
   "metadata": {},
   "outputs": [],
   "source": [
    "# DB CONFIG\n",
    "from pymongo import MongoClient\n",
    "\n",
    "client = MongoClient('mongo', 27017)\n",
    "db = client.music_db\n",
    "songs_collection = db[CHART_NAME]"
   ]
  },
  {
   "cell_type": "code",
   "execution_count": 18,
   "metadata": {},
   "outputs": [
    {
     "data": {
      "text/plain": [
       "<pymongo.results.InsertManyResult at 0x7fcb0a8e2a88>"
      ]
     },
     "execution_count": 18,
     "metadata": {},
     "output_type": "execute_result"
    }
   ],
   "source": [
    "# Bulk Insert\n",
    "songs_collection.insert_many(songs_data)"
   ]
  },
  {
   "cell_type": "code",
   "execution_count": 19,
   "metadata": {},
   "outputs": [
    {
     "data": {
      "text/plain": [
       "3374"
      ]
     },
     "execution_count": 19,
     "metadata": {},
     "output_type": "execute_result"
    }
   ],
   "source": [
    "results = list(songs_collection.find())\n",
    "len(results)"
   ]
  },
  {
   "cell_type": "code",
   "execution_count": 20,
   "metadata": {},
   "outputs": [
    {
     "data": {
      "text/plain": [
       "[{'_id': ObjectId('5bb8bdf6054ef10022aec29a'),\n",
       "  'title': 'Love Lies',\n",
       "  'artist': 'Khalid & Normani',\n",
       "  'peakPos': 40,\n",
       "  'lastPos': 0,\n",
       "  'weeks': 0,\n",
       "  'rank': 40,\n",
       "  'isNew': True,\n",
       "  'identifier': \"'Love Lies' by Khalid & Normani\"},\n",
       " {'_id': ObjectId('5bb8bdf6054ef10022aec29b'),\n",
       "  'title': 'Better Now',\n",
       "  'artist': 'Post Malone',\n",
       "  'peakPos': 32,\n",
       "  'lastPos': 0,\n",
       "  'weeks': 0,\n",
       "  'rank': 32,\n",
       "  'isNew': True,\n",
       "  'identifier': \"'Better Now' by Post Malone\"},\n",
       " {'_id': ObjectId('5bb8bdf6054ef10022aec29c'),\n",
       "  'title': 'Girls Like You',\n",
       "  'artist': 'Maroon 5 Featuring Cardi B',\n",
       "  'peakPos': 26,\n",
       "  'lastPos': 0,\n",
       "  'weeks': 0,\n",
       "  'rank': 26,\n",
       "  'isNew': True,\n",
       "  'identifier': \"'Girls Like You' by Maroon 5 Featuring Cardi B\"},\n",
       " {'_id': ObjectId('5bb8bdf6054ef10022aec29d'),\n",
       "  'title': 'Youngblood',\n",
       "  'artist': '5 Seconds Of Summer',\n",
       "  'peakPos': 37,\n",
       "  'lastPos': 0,\n",
       "  'weeks': 0,\n",
       "  'rank': 37,\n",
       "  'isNew': True,\n",
       "  'identifier': \"'Youngblood' by 5 Seconds Of Summer\"},\n",
       " {'_id': ObjectId('5bb8bdf6054ef10022aec29e'),\n",
       "  'title': 'Back To You',\n",
       "  'artist': 'Selena Gomez',\n",
       "  'peakPos': 35,\n",
       "  'lastPos': 0,\n",
       "  'weeks': 0,\n",
       "  'rank': 35,\n",
       "  'isNew': True,\n",
       "  'identifier': \"'Back To You' by Selena Gomez\"},\n",
       " {'_id': ObjectId('5bb8bdf6054ef10022aec29f'),\n",
       "  'title': 'God Is A Woman',\n",
       "  'artist': 'Ariana Grande',\n",
       "  'peakPos': 27,\n",
       "  'lastPos': 0,\n",
       "  'weeks': 0,\n",
       "  'rank': 27,\n",
       "  'isNew': True,\n",
       "  'identifier': \"'God Is A Woman' by Ariana Grande\"},\n",
       " {'_id': ObjectId('5bb8bdf6054ef10022aec2a0'),\n",
       "  'title': 'I Like It',\n",
       "  'artist': 'Cardi B, Bad Bunny & J Balvin',\n",
       "  'peakPos': 38,\n",
       "  'lastPos': 0,\n",
       "  'weeks': 0,\n",
       "  'rank': 38,\n",
       "  'isNew': True,\n",
       "  'identifier': \"'I Like It' by Cardi B, Bad Bunny & J Balvin\"},\n",
       " {'_id': ObjectId('5bb8bdf6054ef10022aec2a1'),\n",
       "  'title': 'No Brainer',\n",
       "  'artist': 'DJ Khaled Featuring Justin Bieber, Chance The Rapper & Quavo',\n",
       "  'peakPos': 33,\n",
       "  'lastPos': 0,\n",
       "  'weeks': 0,\n",
       "  'rank': 33,\n",
       "  'isNew': True,\n",
       "  'identifier': \"'No Brainer' by DJ Khaled Featuring Justin Bieber, Chance The Rapper & Quavo\"},\n",
       " {'_id': ObjectId('5bb8bdf6054ef10022aec2a2'),\n",
       "  'title': 'In My Feelings',\n",
       "  'artist': 'Drake',\n",
       "  'peakPos': 37,\n",
       "  'lastPos': 0,\n",
       "  'weeks': 0,\n",
       "  'rank': 37,\n",
       "  'isNew': True,\n",
       "  'identifier': \"'In My Feelings' by Drake\"},\n",
       " {'_id': ObjectId('5bb8bdf6054ef10022aec2a3'),\n",
       "  'title': \"I'm A Mess\",\n",
       "  'artist': 'Bebe Rexha',\n",
       "  'peakPos': 38,\n",
       "  'lastPos': 0,\n",
       "  'weeks': 0,\n",
       "  'rank': 38,\n",
       "  'isNew': True,\n",
       "  'identifier': \"'I'm A Mess' by Bebe Rexha\"}]"
      ]
     },
     "execution_count": 20,
     "metadata": {},
     "output_type": "execute_result"
    }
   ],
   "source": [
    "results[:10]"
   ]
  },
  {
   "cell_type": "code",
   "execution_count": null,
   "metadata": {},
   "outputs": [],
   "source": []
  },
  {
   "cell_type": "code",
   "execution_count": null,
   "metadata": {},
   "outputs": [],
   "source": []
  }
 ],
 "metadata": {
  "kernelspec": {
   "display_name": "Python 3",
   "language": "python",
   "name": "python3"
  },
  "language_info": {
   "codemirror_mode": {
    "name": "ipython",
    "version": 3
   },
   "file_extension": ".py",
   "mimetype": "text/x-python",
   "name": "python",
   "nbconvert_exporter": "python",
   "pygments_lexer": "ipython3",
   "version": "3.6.3"
  }
 },
 "nbformat": 4,
 "nbformat_minor": 2
}
