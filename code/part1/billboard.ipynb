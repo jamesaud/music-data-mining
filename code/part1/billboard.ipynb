{
 "cells": [
  {
   "cell_type": "markdown",
   "metadata": {},
   "source": [
    "# Download Data"
   ]
  },
  {
   "cell_type": "code",
   "execution_count": 1,
   "metadata": {},
   "outputs": [],
   "source": [
    "import json\n",
    "import billboard\n",
    "from datetime import datetime\n",
    "import time\n",
    "from typing import List\n",
    "\n",
    "def to_date(date: str) -> datetime:\n",
    "    return datetime.strptime(date, '%Y-%m-%d')\n",
    "\n",
    "def retrieve_previous_charts(chart, end_date: datetime) -> List[billboard.ChartData]:\n",
    "    while to_date(chart.previousDate) > end_date:\n",
    "        chart = billboard.ChartData(chart.name, chart.previousDate, fetch=True)\n",
    "        yield chart\n",
    "      "
   ]
  },
  {
   "cell_type": "code",
   "execution_count": 2,
   "metadata": {},
   "outputs": [],
   "source": [
    "CHART_NAME = 'jazz-songs'\n",
    "start = '2008-06-05'\n",
    "end = datetime(1995, 2, 26)\n",
    "chart1 = billboard.ChartData(CHART_NAME, date=start)"
   ]
  },
  {
   "cell_type": "code",
   "execution_count": 131,
   "metadata": {},
   "outputs": [
    {
     "name": "stdout",
     "output_type": "stream",
     "text": [
      "2008-05-31 2008-05-24 2008-05-17 2008-05-10 2008-05-03 2008-04-26 2008-04-19 2008-04-12 2008-04-05 2008-03-29 2008-03-22 2008-03-15 2008-03-08 2008-03-01 2008-02-23 2008-02-16 2008-02-09 2008-02-02 2008-01-26 2008-01-19 2008-01-12 2008-01-05 2007-12-29 2007-12-22 2007-12-15 2007-12-08 2007-12-01 2007-11-24 2007-11-17 2007-11-10 2007-11-03 2007-10-27 2007-10-20 2007-10-13 2007-10-06 2007-09-29 2007-09-22 2007-09-15 2007-09-08 2007-09-01 2007-08-25 2007-08-18 2007-08-11 2007-08-04 2007-07-28 2007-07-21 2007-07-14 2007-07-07 2007-06-30 2007-06-23 2007-06-16 2007-06-09 2007-06-02 2007-05-26 2007-05-19 2007-05-12 2007-05-05 2007-04-28 2007-04-21 2007-04-14 2007-04-07 2007-03-31 2007-03-24 2007-03-17 2007-03-10 2007-03-03 2007-02-24 2007-02-17 2007-02-10 2007-02-03 2007-01-27 2007-01-20 2007-01-13 2007-01-06 2006-12-30 2006-12-23 2006-12-16 2006-12-09 2006-12-02 2006-11-25 2006-11-18 2006-11-11 2006-11-04 2006-10-28 2006-10-21 2006-10-14 2006-10-07 2006-09-30 2006-09-23 2006-09-16 2006-09-09 2006-09-02 2006-08-26 2006-08-19 2006-08-12 2006-08-05 2006-07-29 2006-07-22 2006-07-15 2006-07-08 2006-07-01 2006-06-24 2006-06-17 2006-06-10 2006-06-03 2006-05-27 2006-05-20 2006-05-13 2006-05-06 2006-04-29 2006-04-22 2006-04-15 2006-04-08 2006-04-01 2006-03-25 2006-03-18 2006-03-11 2006-03-04 2006-02-25 2006-02-18 2006-02-11 2006-02-04 2006-01-28 2006-01-21 2006-01-14 2006-01-07 2005-12-31 2005-12-24 2005-12-17 2005-12-10 2005-12-03 2005-11-26 2005-11-19 2005-11-12 2005-11-05 2005-10-29 2005-10-22 "
     ]
    },
    {
     "ename": "TypeError",
     "evalue": "strptime() argument 1 must be str, not None",
     "output_type": "error",
     "traceback": [
      "\u001b[0;31m---------------------------------------------------------------------------\u001b[0m",
      "\u001b[0;31mTypeError\u001b[0m                                 Traceback (most recent call last)",
      "\u001b[0;32m<ipython-input-131-364671baa4e2>\u001b[0m in \u001b[0;36m<module>\u001b[0;34m()\u001b[0m\n\u001b[1;32m      1\u001b[0m \u001b[0mcharts\u001b[0m \u001b[0;34m=\u001b[0m \u001b[0;34m[\u001b[0m\u001b[0;34m]\u001b[0m\u001b[0;34m\u001b[0m\u001b[0m\n\u001b[0;32m----> 2\u001b[0;31m \u001b[0;32mfor\u001b[0m \u001b[0mchart\u001b[0m \u001b[0;32min\u001b[0m \u001b[0mretrieve_previous_charts\u001b[0m\u001b[0;34m(\u001b[0m\u001b[0mchart1\u001b[0m\u001b[0;34m,\u001b[0m \u001b[0mend\u001b[0m\u001b[0;34m)\u001b[0m\u001b[0;34m:\u001b[0m\u001b[0;34m\u001b[0m\u001b[0m\n\u001b[0m\u001b[1;32m      3\u001b[0m     \u001b[0mprint\u001b[0m\u001b[0;34m(\u001b[0m\u001b[0mchart\u001b[0m\u001b[0;34m.\u001b[0m\u001b[0mdate\u001b[0m\u001b[0;34m,\u001b[0m \u001b[0mend\u001b[0m\u001b[0;34m=\u001b[0m\u001b[0;34m\" \"\u001b[0m\u001b[0;34m)\u001b[0m\u001b[0;34m\u001b[0m\u001b[0m\n\u001b[1;32m      4\u001b[0m     \u001b[0mcharts\u001b[0m\u001b[0;34m.\u001b[0m\u001b[0mappend\u001b[0m\u001b[0;34m(\u001b[0m\u001b[0mchart\u001b[0m\u001b[0;34m)\u001b[0m\u001b[0;34m\u001b[0m\u001b[0m\n\u001b[1;32m      5\u001b[0m     \u001b[0mtime\u001b[0m\u001b[0;34m.\u001b[0m\u001b[0msleep\u001b[0m\u001b[0;34m(\u001b[0m\u001b[0;36m1\u001b[0m\u001b[0;34m)\u001b[0m\u001b[0;34m\u001b[0m\u001b[0m\n",
      "\u001b[0;32m<ipython-input-123-1c40d72c07b9>\u001b[0m in \u001b[0;36mretrieve_previous_charts\u001b[0;34m(chart, end_date)\u001b[0m\n\u001b[1;32m      9\u001b[0m \u001b[0;34m\u001b[0m\u001b[0m\n\u001b[1;32m     10\u001b[0m \u001b[0;32mdef\u001b[0m \u001b[0mretrieve_previous_charts\u001b[0m\u001b[0;34m(\u001b[0m\u001b[0mchart\u001b[0m\u001b[0;34m,\u001b[0m \u001b[0mend_date\u001b[0m\u001b[0;34m:\u001b[0m \u001b[0mdatetime\u001b[0m\u001b[0;34m)\u001b[0m \u001b[0;34m->\u001b[0m \u001b[0mList\u001b[0m\u001b[0;34m[\u001b[0m\u001b[0mbillboard\u001b[0m\u001b[0;34m.\u001b[0m\u001b[0mChartData\u001b[0m\u001b[0;34m]\u001b[0m\u001b[0;34m:\u001b[0m\u001b[0;34m\u001b[0m\u001b[0m\n\u001b[0;32m---> 11\u001b[0;31m     \u001b[0;32mwhile\u001b[0m \u001b[0mto_date\u001b[0m\u001b[0;34m(\u001b[0m\u001b[0mchart\u001b[0m\u001b[0;34m.\u001b[0m\u001b[0mpreviousDate\u001b[0m\u001b[0;34m)\u001b[0m \u001b[0;34m>\u001b[0m \u001b[0mend_date\u001b[0m\u001b[0;34m:\u001b[0m\u001b[0;34m\u001b[0m\u001b[0m\n\u001b[0m\u001b[1;32m     12\u001b[0m         \u001b[0mchart\u001b[0m \u001b[0;34m=\u001b[0m \u001b[0mbillboard\u001b[0m\u001b[0;34m.\u001b[0m\u001b[0mChartData\u001b[0m\u001b[0;34m(\u001b[0m\u001b[0mchart\u001b[0m\u001b[0;34m.\u001b[0m\u001b[0mname\u001b[0m\u001b[0;34m,\u001b[0m \u001b[0mchart\u001b[0m\u001b[0;34m.\u001b[0m\u001b[0mpreviousDate\u001b[0m\u001b[0;34m,\u001b[0m \u001b[0mfetch\u001b[0m\u001b[0;34m=\u001b[0m\u001b[0;32mTrue\u001b[0m\u001b[0;34m)\u001b[0m\u001b[0;34m\u001b[0m\u001b[0m\n\u001b[1;32m     13\u001b[0m         \u001b[0;32myield\u001b[0m \u001b[0mchart\u001b[0m\u001b[0;34m\u001b[0m\u001b[0m\n",
      "\u001b[0;32m<ipython-input-123-1c40d72c07b9>\u001b[0m in \u001b[0;36mto_date\u001b[0;34m(date)\u001b[0m\n\u001b[1;32m      6\u001b[0m \u001b[0;34m\u001b[0m\u001b[0m\n\u001b[1;32m      7\u001b[0m \u001b[0;32mdef\u001b[0m \u001b[0mto_date\u001b[0m\u001b[0;34m(\u001b[0m\u001b[0mdate\u001b[0m\u001b[0;34m:\u001b[0m \u001b[0mstr\u001b[0m\u001b[0;34m)\u001b[0m \u001b[0;34m->\u001b[0m \u001b[0mdatetime\u001b[0m\u001b[0;34m:\u001b[0m\u001b[0;34m\u001b[0m\u001b[0m\n\u001b[0;32m----> 8\u001b[0;31m     \u001b[0;32mreturn\u001b[0m \u001b[0mdatetime\u001b[0m\u001b[0;34m.\u001b[0m\u001b[0mstrptime\u001b[0m\u001b[0;34m(\u001b[0m\u001b[0mdate\u001b[0m\u001b[0;34m,\u001b[0m \u001b[0;34m'%Y-%m-%d'\u001b[0m\u001b[0;34m)\u001b[0m\u001b[0;34m\u001b[0m\u001b[0m\n\u001b[0m\u001b[1;32m      9\u001b[0m \u001b[0;34m\u001b[0m\u001b[0m\n\u001b[1;32m     10\u001b[0m \u001b[0;32mdef\u001b[0m \u001b[0mretrieve_previous_charts\u001b[0m\u001b[0;34m(\u001b[0m\u001b[0mchart\u001b[0m\u001b[0;34m,\u001b[0m \u001b[0mend_date\u001b[0m\u001b[0;34m:\u001b[0m \u001b[0mdatetime\u001b[0m\u001b[0;34m)\u001b[0m \u001b[0;34m->\u001b[0m \u001b[0mList\u001b[0m\u001b[0;34m[\u001b[0m\u001b[0mbillboard\u001b[0m\u001b[0;34m.\u001b[0m\u001b[0mChartData\u001b[0m\u001b[0;34m]\u001b[0m\u001b[0;34m:\u001b[0m\u001b[0;34m\u001b[0m\u001b[0m\n",
      "\u001b[0;31mTypeError\u001b[0m: strptime() argument 1 must be str, not None"
     ]
    }
   ],
   "source": [
    "charts = []\n",
    "for chart in retrieve_previous_charts(chart1, end):\n",
    "    print(chart.date, end=\" \")\n",
    "    charts.append(chart)\n",
    "    time.sleep(1)"
   ]
  },
  {
   "cell_type": "markdown",
   "metadata": {},
   "source": [
    "# Process Data"
   ]
  },
  {
   "cell_type": "code",
   "execution_count": 132,
   "metadata": {},
   "outputs": [],
   "source": [
    "def get_songs(charts: List[billboard.ChartData]) -> List[billboard.ChartEntry]:\n",
    "    \"\"\" Remove duplicate songs from a chart list based on str(song) \"\"\"\n",
    "    songs = {str(song): song for chart in charts for song in chart}\n",
    "    return list(songs.values())\n",
    "    \n",
    "def is_collaboration(song: billboard.ChartEntry):\n",
    "    return any(x in song.artist for x in [\"Featuring\", '&'])\n",
    "\n",
    "def song_data(song: billboard.ChartEntry) -> dict:\n",
    "    return {**song.__dict__, 'identifier': str(song)}\n",
    "\n",
    "\n",
    "# Get song data, remove duplicates from the charts\n",
    "songs = get_songs(charts)\n",
    "songs_data = list(map(song_data, songs))"
   ]
  },
  {
   "cell_type": "markdown",
   "metadata": {},
   "source": [
    "# Insert into Database"
   ]
  },
  {
   "cell_type": "code",
   "execution_count": 3,
   "metadata": {},
   "outputs": [
    {
     "data": {
      "text/plain": [
       "['pop-songs',\n",
       " 'latin-songs',\n",
       " 'top_songs',\n",
       " 'country-songs',\n",
       " 'rock-songs',\n",
       " 'songs',\n",
       " 'jazz-songs',\n",
       " 'christian-songs',\n",
       " 'rap-song']"
      ]
     },
     "execution_count": 3,
     "metadata": {},
     "output_type": "execute_result"
    }
   ],
   "source": [
    "# DB CONFIG\n",
    "from pymongo import MongoClient\n",
    "\n",
    "client = MongoClient('mongo', 27017)\n",
    "db = client.music_db\n",
    "songs_collection = db[CHART_NAME]\n",
    "db.list_collection_names()\n",
    "\n",
    "# Spotify Api: Pop, Latin, Rock, Jazz, Christian, Country\n",
    "# Lyrics:      -"
   ]
  },
  {
   "cell_type": "code",
   "execution_count": 134,
   "metadata": {},
   "outputs": [
    {
     "data": {
      "text/plain": [
       "<pymongo.results.InsertManyResult at 0x7fcb0a0fdcc8>"
      ]
     },
     "execution_count": 134,
     "metadata": {},
     "output_type": "execute_result"
    }
   ],
   "source": [
    "# Bulk Insert\n",
    "songs_collection.insert_many(songs_data)"
   ]
  },
  {
   "cell_type": "code",
   "execution_count": 135,
   "metadata": {},
   "outputs": [
    {
     "data": {
      "text/plain": [
       "1339"
      ]
     },
     "execution_count": 135,
     "metadata": {},
     "output_type": "execute_result"
    }
   ],
   "source": [
    "results = list(songs_collection.find())\n",
    "len(results)"
   ]
  },
  {
   "cell_type": "code",
   "execution_count": 136,
   "metadata": {},
   "outputs": [
    {
     "data": {
      "text/plain": [
       "[{'_id': ObjectId('5bbb2685054ef10022af405a'),\n",
       "  'title': 'Everyone But You',\n",
       "  'artist': 'Cindy Bradley',\n",
       "  'peakPos': 24,\n",
       "  'lastPos': 0,\n",
       "  'weeks': 0,\n",
       "  'rank': 24,\n",
       "  'isNew': True,\n",
       "  'identifier': \"'Everyone But You' by Cindy Bradley\"},\n",
       " {'_id': ObjectId('5bbb2685054ef10022af405b'),\n",
       "  'title': 'Ready To Go',\n",
       "  'artist': 'Threestyle Featuring Magdalena Chovancova',\n",
       "  'peakPos': 24,\n",
       "  'lastPos': 0,\n",
       "  'weeks': 0,\n",
       "  'rank': 24,\n",
       "  'isNew': True,\n",
       "  'identifier': \"'Ready To Go' by Threestyle Featuring Magdalena Chovancova\"},\n",
       " {'_id': ObjectId('5bbb2685054ef10022af405c'),\n",
       "  'title': 'Deep As The Night',\n",
       "  'artist': 'Special EFX',\n",
       "  'peakPos': 29,\n",
       "  'lastPos': 0,\n",
       "  'weeks': 0,\n",
       "  'rank': 29,\n",
       "  'isNew': True,\n",
       "  'identifier': \"'Deep As The Night' by Special EFX\"},\n",
       " {'_id': ObjectId('5bbb2685054ef10022af405d'),\n",
       "  'title': 'Up And Up',\n",
       "  'artist': 'Jeff Ryan',\n",
       "  'peakPos': 30,\n",
       "  'lastPos': 0,\n",
       "  'weeks': 0,\n",
       "  'rank': 30,\n",
       "  'isNew': True,\n",
       "  'identifier': \"'Up And Up' by Jeff Ryan\"},\n",
       " {'_id': ObjectId('5bbb2685054ef10022af405e'),\n",
       "  'title': 'Tailwind',\n",
       "  'artist': 'Patrick Bradley Featuring Paul Jackson Jr',\n",
       "  'peakPos': 26,\n",
       "  'lastPos': 0,\n",
       "  'weeks': 0,\n",
       "  'rank': 26,\n",
       "  'isNew': True,\n",
       "  'identifier': \"'Tailwind' by Patrick Bradley Featuring Paul Jackson Jr\"},\n",
       " {'_id': ObjectId('5bbb2685054ef10022af405f'),\n",
       "  'title': \"Corey's Bop\",\n",
       "  'artist': 'Ragan Whiteside',\n",
       "  'peakPos': 29,\n",
       "  'lastPos': 0,\n",
       "  'weeks': 0,\n",
       "  'rank': 29,\n",
       "  'isNew': True,\n",
       "  'identifier': \"'Corey's Bop' by Ragan Whiteside\"},\n",
       " {'_id': ObjectId('5bbb2685054ef10022af4060'),\n",
       "  'title': 'Soul City',\n",
       "  'artist': 'Marion Meadows Featuring Norman Brown & Joey Sommerville',\n",
       "  'peakPos': 28,\n",
       "  'lastPos': 0,\n",
       "  'weeks': 0,\n",
       "  'rank': 28,\n",
       "  'isNew': True,\n",
       "  'identifier': \"'Soul City' by Marion Meadows Featuring Norman Brown & Joey Sommerville\"},\n",
       " {'_id': ObjectId('5bbb2685054ef10022af4061'),\n",
       "  'title': 'Can You Feel It?',\n",
       "  'artist': 'Adam Hawley Featuring Marcus Anderson',\n",
       "  'peakPos': 21,\n",
       "  'lastPos': 0,\n",
       "  'weeks': 0,\n",
       "  'rank': 21,\n",
       "  'isNew': True,\n",
       "  'identifier': \"'Can You Feel It?' by Adam Hawley Featuring Marcus Anderson\"},\n",
       " {'_id': ObjectId('5bbb2685054ef10022af4062'),\n",
       "  'title': 'Morning Breeze',\n",
       "  'artist': 'Jazz Holdouts',\n",
       "  'peakPos': 26,\n",
       "  'lastPos': 0,\n",
       "  'weeks': 0,\n",
       "  'rank': 26,\n",
       "  'isNew': True,\n",
       "  'identifier': \"'Morning Breeze' by Jazz Holdouts\"},\n",
       " {'_id': ObjectId('5bbb2685054ef10022af4063'),\n",
       "  'title': 'Personal Touch',\n",
       "  'artist': 'Vincent Ingala',\n",
       "  'peakPos': 25,\n",
       "  'lastPos': 0,\n",
       "  'weeks': 0,\n",
       "  'rank': 25,\n",
       "  'isNew': True,\n",
       "  'identifier': \"'Personal Touch' by Vincent Ingala\"}]"
      ]
     },
     "execution_count": 136,
     "metadata": {},
     "output_type": "execute_result"
    }
   ],
   "source": [
    "results[:10]"
   ]
  },
  {
   "cell_type": "code",
   "execution_count": null,
   "metadata": {},
   "outputs": [],
   "source": []
  }
 ],
 "metadata": {
  "kernelspec": {
   "display_name": "Python 3",
   "language": "python",
   "name": "python3"
  },
  "language_info": {
   "codemirror_mode": {
    "name": "ipython",
    "version": 3
   },
   "file_extension": ".py",
   "mimetype": "text/x-python",
   "name": "python",
   "nbconvert_exporter": "python",
   "pygments_lexer": "ipython3",
   "version": "3.6.3"
  }
 },
 "nbformat": 4,
 "nbformat_minor": 2
}
