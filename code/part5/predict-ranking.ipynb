{
 "cells": [
  {
   "cell_type": "markdown",
   "metadata": {},
   "source": [
    "Need:\n",
    "\n",
    "\n",
    "1. Audio Features\n",
    "2. Lyrical Features  (emotion, bag of words tfidf)\n",
    "3. Page Ranked Artist (for recommendaiton)\n",
    "4. Look at similarity of songs to see where other songs ranked\n"
   ]
  },
  {
   "cell_type": "code",
   "execution_count": 1,
   "metadata": {},
   "outputs": [],
   "source": [
    "from pymongo import MongoClient\n",
    "from pprint import pprint\n",
    "from typing import List\n",
    "from functools import reduce\n",
    "from operator import add\n",
    "from IPython.display import clear_output\n",
    "import matplotlib.pyplot as plt\n",
    "from sklearn.metrics import mean_squared_error as mse\n",
    "\n",
    "\n",
    "# DB CONFIG\n",
    "client = MongoClient('mongo', 27017)\n",
    "db = client.music_db\n",
    "COLLECTION = db['part5-hot100-songs']\n",
    "\n",
    "\n",
    "def get_songs(collection):\n",
    "    return list(collection.find())\n",
    "\n",
    "def has_spotify(song):\n",
    "    return song.get('spotify', {}).get('audio_features')\n",
    "\n",
    "def has_lyrics(song):\n",
    "    if not song.get('lyrics'):\n",
    "        return False\n",
    "    \n",
    "    if song.get('lyrics') == 'null':\n",
    "        return False\n",
    "\n",
    "    if song.get('lyrics').get('error'):\n",
    "        return False\n",
    "    \n",
    "    if not song.get('tokens'):\n",
    "        return False\n",
    "\n",
    "    return True\n",
    "\n",
    "\n",
    "SONGS = get_songs(COLLECTION)\n",
    "songs = list(filter(has_lyrics, filter(has_spotify, SONGS)))"
   ]
  },
  {
   "cell_type": "code",
   "execution_count": 2,
   "metadata": {},
   "outputs": [
    {
     "data": {
      "text/plain": [
       "(168, 80)"
      ]
     },
     "execution_count": 2,
     "metadata": {},
     "output_type": "execute_result"
    },
    {
     "data": {
      "image/png": "[encoded data removed]",
      "text/plain": [
       "<Figure size 432x288 with 1 Axes>"
      ]
     },
     "metadata": {},
     "output_type": "display_data"
    }
   ],
   "source": [
    "pos = [song['peakPos'] for song in songs]\n",
    "plt.hist(pos)\n",
    "\n",
    "from collections import Counter\n",
    "Counter(pos)[1], Counter(pos)[2]"
   ]
  },
  {
   "cell_type": "code",
   "execution_count": 3,
   "metadata": {},
   "outputs": [],
   "source": [
    "import numpy as np\n",
    "import pandas as pd\n",
    "import copy\n",
    "pd.options.display.max_columns = None\n",
    "\n",
    "def to_df(songs):\n",
    "    df = pd.DataFrame(songs)\n",
    "    df = df.drop(columns=['_id', 'id', 'identifier', 'lyrics', 'genre', 'isNew', 'lastPos', 'rank', 'weeks', 'track_href', 'type', 'uri', 'spotify', 'analysis_url'])\n",
    "    df['lyrics_length'] = df['raw_lyrics'].apply(lambda lyrics: len(\"\".join(lyrics.split('\\n'))))\n",
    "    return df\n",
    "    \n",
    "df = to_df(songs)\n",
    "#df.head()"
   ]
  },
  {
   "cell_type": "code",
   "execution_count": 4,
   "metadata": {},
   "outputs": [],
   "source": [
    "y = pd.DataFrame(df['peakPos'])\n",
    "X = df.drop(['peakPos', 'artist', 'raw_lyrics', 'title', 'tokens'], axis=1)"
   ]
  },
  {
   "cell_type": "code",
   "execution_count": 5,
   "metadata": {},
   "outputs": [],
   "source": [
    "from sklearn.feature_extraction.text import TfidfVectorizer\n",
    "\n",
    "def vectorize_lyrics(songs):\n",
    "    lyrics_list = [\" \".join(song['tokens']) for song in songs]\n",
    "    tfidf_vectorizer = TfidfVectorizer()\n",
    "    tfidf_matrix = tfidf_vectorizer.fit_transform(lyrics_list)\n",
    "    tfidf_array = tfidf_matrix.toarray()\n",
    "    \n",
    "    for vector, song in zip(tfidf_array, songs):\n",
    "        song['tfidf'] = vector\n",
    "    \n",
    "    return tfidf_matrix\n",
    "    \n",
    "def vectorize_df_lyrics(df):\n",
    "    lyrics_df = df['tokens'].apply(\" \".join).values\n",
    "    tfidf_vectorizer = TfidfVectorizer()\n",
    "    tfidf_matrix = tfidf_vectorizer.fit_transform(lyrics_df)    \n",
    "    return tfidf_matrix.toarray()\n",
    "    \n",
    "tfidf_matrix = vectorize_lyrics(songs)"
   ]
  },
  {
   "cell_type": "code",
   "execution_count": 6,
   "metadata": {},
   "outputs": [],
   "source": [
    "from sklearn.metrics import pairwise_distances\n",
    "\n",
    "distances = pairwise_distances(tfidf_matrix, metric=\"cosine\")"
   ]
  },
  {
   "cell_type": "code",
   "execution_count": 7,
   "metadata": {},
   "outputs": [],
   "source": [
    "from sklearn.model_selection import train_test_split  \n",
    "\n",
    "\n",
    "X_train, X_test, y_train, y_test = train_test_split(X, y, test_size=0.15)  \n",
    "y_true = y_test.values.reshape(-1)"
   ]
  },
  {
   "cell_type": "code",
   "execution_count": 8,
   "metadata": {},
   "outputs": [],
   "source": [
    "def tfidf_index(indexes, tfidf_matrix):\n",
    "    return np.vstack([tfidf_matrix[index].toarray() for index in indexes])\n",
    "\n",
    "def distance_index(indexes, distances):\n",
    "    return np.vstack([distances[index] for index in indexes])\n",
    "\n",
    "\n",
    "tfidf_mat_X_train = tfidf_index(X_train.index.values, tfidf_matrix)\n",
    "tfidf_mat_X_test = tfidf_index(X_test.index.values, tfidf_matrix)\n",
    "\n",
    "distance_X_train = distance_index(X_train.index.values, distances)\n",
    "distance_X_test = distance_index(X_test.index.values, distances)"
   ]
  },
  {
   "cell_type": "code",
   "execution_count": 9,
   "metadata": {},
   "outputs": [
    {
     "name": "stdout",
     "output_type": "stream",
     "text": [
      "<class 'numpy.ndarray'> (3473, 17830)\n"
     ]
    }
   ],
   "source": [
    "print(type(tfidf_mat_X_train), tfidf_mat_X_train.shape)  # 5572 doc, tfidf 100 dimension"
   ]
  },
  {
   "cell_type": "code",
   "execution_count": 10,
   "metadata": {},
   "outputs": [],
   "source": [
    "from sklearn.preprocessing import StandardScaler \n",
    "\n",
    "scaler = StandardScaler()  \n",
    "scaler.fit(X_train)\n",
    "\n",
    "X_train = scaler.transform(X_train)  \n",
    "X_test = scaler.transform(X_test) "
   ]
  },
  {
   "cell_type": "code",
   "execution_count": 11,
   "metadata": {},
   "outputs": [
    {
     "data": {
      "text/plain": [
       "array([-0.11375098,  0.63652416,  0.85934264, -0.13936446, -1.06835671,\n",
       "        1.35449463, -0.74294593,  0.16278586, -1.59836149, -0.34610072,\n",
       "       -0.79555568,  0.14000636, -0.07423613, -0.48212463])"
      ]
     },
     "execution_count": 11,
     "metadata": {},
     "output_type": "execute_result"
    }
   ],
   "source": [
    "X_train[0]"
   ]
  },
  {
   "cell_type": "code",
   "execution_count": 12,
   "metadata": {},
   "outputs": [
    {
     "data": {
      "text/plain": [
       "21930"
      ]
     },
     "execution_count": 12,
     "metadata": {},
     "output_type": "execute_result"
    }
   ],
   "source": [
    "len(tfidf_mat_X_train[0]) + len(X_train[0]) + len(distances[0])"
   ]
  },
  {
   "cell_type": "code",
   "execution_count": 13,
   "metadata": {},
   "outputs": [],
   "source": [
    "import copy\n",
    "\n",
    "def combine_features(tfidf_matrix_train, distances, train_features):\n",
    "    combined_matrix = []\n",
    "    for tfidf, distance, features in zip(tfidf_matrix_train, distances, train_features):\n",
    "        combined = np.hstack([tfidf, features])  #features, tfidf, distance, \n",
    "        combined_matrix.append(combined)\n",
    "    return np.vstack(combined_matrix)\n",
    "\n",
    "_combined_X_train = combine_features(tfidf_mat_X_train, distance_X_train, X_train)\n",
    "_combined_X_test = combine_features(tfidf_mat_X_test, distance_X_test, X_test)"
   ]
  },
  {
   "cell_type": "code",
   "execution_count": 14,
   "metadata": {},
   "outputs": [],
   "source": [
    "combined_X_train = _combined_X_train\n",
    "combined_X_test = _combined_X_test"
   ]
  },
  {
   "cell_type": "code",
   "execution_count": 15,
   "metadata": {},
   "outputs": [
    {
     "data": {
      "text/plain": [
       "(17844,)"
      ]
     },
     "execution_count": 15,
     "metadata": {},
     "output_type": "execute_result"
    }
   ],
   "source": [
    "combined_X_train[0].shape"
   ]
  },
  {
   "cell_type": "code",
   "execution_count": 16,
   "metadata": {},
   "outputs": [],
   "source": [
    "# Fit regression model\n",
    "from sklearn.tree import DecisionTreeRegressor\n",
    "from sklearn.metrics import mean_absolute_error\n",
    "\n",
    "\n",
    "import matplotlib.pyplot as plt\n",
    "\n",
    "def plot_predictions(y_true, y_pred):\n",
    "    x, y = [], []\n",
    "    for true, pred in zip(y_true, y_pred):\n",
    "        diff = abs(true - pred)\n",
    "        \n",
    "    length = len(y_true)\n",
    "    plt.plot(y_true, 'bo')\n",
    "    plt.plot(y_pred, 'ro')\n",
    "    \n",
    "    \n",
    "def plot_sorted_predictions(y_true, y_pred):\n",
    "    true, pred = zip(*sorted(zip(y_true, y_pred)))\n",
    "    plt.plot(true, pred, 'bo')\n",
    "\n",
    "\n",
    "def run_model(model, train=False):\n",
    "\n",
    "    model.fit(X_train, y_train.values.reshape(-1))\n",
    "    # Predict\n",
    "    y_pred = model.predict(X_test)\n",
    "    y_pred = [min(pred, 100) for pred in y_pred]\n",
    "    print(\"Error:\", mse(y_true, y_pred))\n",
    "    plt.figure(figsize=(20,10))\n",
    "    plot_sorted_predictions(y_true, y_pred)\n",
    "    return y_pred\n",
    "\n",
    "\n",
    "from collections import defaultdict\n",
    "\n",
    "def find_avg_guess_per_rank(y_true, y_pred):\n",
    "    buckets = defaultdict(lambda: [])\n",
    "    for true, pred in zip(y_true, y_pred):\n",
    "        buckets[true].append(pred)\n",
    "    return buckets\n",
    "\n",
    "\n",
    "def plot_avg_guesses(y_true, y_pred):\n",
    "    guesses = find_avg_guess_per_rank(y_true, y_pred)\n",
    "    plt.plot(sorted(guesses.keys()), [np.mean(guesses[i]) for i in sorted(guesses.keys())])\n",
    "    return guesses\n",
    "    "
   ]
  },
  {
   "cell_type": "code",
   "execution_count": 25,
   "metadata": {},
   "outputs": [
    {
     "name": "stdout",
     "output_type": "stream",
     "text": [
      "_________________________________________________________________\n",
      "Layer (type)                 Output Shape              Param #   \n",
      "=================================================================\n",
      "dense_9 (Dense)              (None, 64)                1142080   \n",
      "_________________________________________________________________\n",
      "dropout_7 (Dropout)          (None, 64)                0         \n",
      "_________________________________________________________________\n",
      "activation_7 (Activation)    (None, 64)                0         \n",
      "_________________________________________________________________\n",
      "dense_10 (Dense)             (None, 32)                2080      \n",
      "_________________________________________________________________\n",
      "dropout_8 (Dropout)          (None, 32)                0         \n",
      "_________________________________________________________________\n",
      "activation_8 (Activation)    (None, 32)                0         \n",
      "_________________________________________________________________\n",
      "dense_11 (Dense)             (None, 32)                1056      \n",
      "_________________________________________________________________\n",
      "dropout_9 (Dropout)          (None, 32)                0         \n",
      "_________________________________________________________________\n",
      "activation_9 (Activation)    (None, 32)                0         \n",
      "_________________________________________________________________\n",
      "dense_12 (Dense)             (None, 1)                 33        \n",
      "=================================================================\n",
      "Total params: 1,145,249\n",
      "Trainable params: 1,145,249\n",
      "Non-trainable params: 0\n",
      "_________________________________________________________________\n"
     ]
    }
   ],
   "source": [
    "# build model\n",
    "from keras.models import Sequential\n",
    "from keras.layers import Dense, Dropout, Activation, Conv1D, GlobalMaxPooling1D\n",
    "\n",
    "\n",
    "shape = combined_X_train.shape\n",
    "#input_shape=(17830,)\n",
    "\n",
    "model = Sequential()\n",
    "model.add(Dense(64, input_shape=(shape[1],)))\n",
    "model.add(Dropout(0.5))\n",
    "model.add(Activation('relu'))\n",
    "\n",
    "model.add(Dense(32, activation='relu'))\n",
    "model.add(Dropout(0.5))\n",
    "model.add(Activation('relu'))\n",
    "\n",
    "model.add(Dense(32, activation='relu'))\n",
    "model.add(Dropout(0.5))\n",
    "model.add(Activation('relu'))\n",
    "\n",
    "model.add(Dense(1, activation='linear'))\n",
    "model.compile(loss='mse', optimizer='adam')\n",
    "\n",
    "model.summary()"
   ]
  },
  {
   "cell_type": "code",
   "execution_count": 26,
   "metadata": {},
   "outputs": [
    {
     "name": "stdout",
     "output_type": "stream",
     "text": [
      "Train on 3125 samples, validate on 348 samples\n",
      "Epoch 1/30\n",
      "3125/3125 [==============================] - 1s 394us/step - loss: 2612.4693 - val_loss: 2822.1682\n",
      "Epoch 2/30\n",
      "3125/3125 [==============================] - 1s 278us/step - loss: 2553.9117 - val_loss: 2724.3804\n",
      "Epoch 3/30\n",
      "3125/3125 [==============================] - 1s 272us/step - loss: 2406.2190 - val_loss: 2474.3115\n",
      "Epoch 4/30\n",
      "3125/3125 [==============================] - 1s 271us/step - loss: 2083.4568 - val_loss: 1940.6011\n",
      "Epoch 5/30\n",
      "3125/3125 [==============================] - 1s 258us/step - loss: 1524.8076 - val_loss: 1194.8951\n",
      "Epoch 6/30\n",
      "3125/3125 [==============================] - 1s 266us/step - loss: 1104.7377 - val_loss: 869.9944\n",
      "Epoch 7/30\n",
      "3125/3125 [==============================] - 1s 266us/step - loss: 1052.6222 - val_loss: 890.6981\n",
      "Epoch 8/30\n",
      "3125/3125 [==============================] - 1s 269us/step - loss: 1000.7090 - val_loss: 922.8443\n",
      "Epoch 9/30\n",
      "3125/3125 [==============================] - 1s 256us/step - loss: 995.2428 - val_loss: 895.5977\n",
      "Epoch 10/30\n",
      "3125/3125 [==============================] - 1s 265us/step - loss: 940.7669 - val_loss: 873.1290\n",
      "Epoch 11/30\n",
      "3125/3125 [==============================] - 1s 315us/step - loss: 949.5351 - val_loss: 893.7222\n",
      "Epoch 12/30\n",
      "3125/3125 [==============================] - 1s 321us/step - loss: 931.8625 - val_loss: 860.8429\n",
      "Epoch 13/30\n",
      "3125/3125 [==============================] - 1s 320us/step - loss: 883.6268 - val_loss: 852.3144\n",
      "Epoch 14/30\n",
      "3125/3125 [==============================] - 1s 326us/step - loss: 856.6561 - val_loss: 851.2102\n",
      "Epoch 15/30\n",
      "3125/3125 [==============================] - 1s 326us/step - loss: 840.7694 - val_loss: 837.1182\n",
      "Epoch 16/30\n",
      "3125/3125 [==============================] - 1s 349us/step - loss: 831.6269 - val_loss: 830.1023\n",
      "Epoch 17/30\n",
      "3125/3125 [==============================] - 1s 295us/step - loss: 822.1916 - val_loss: 840.6473\n",
      "Epoch 18/30\n",
      "3125/3125 [==============================] - 1s 288us/step - loss: 797.0401 - val_loss: 827.0432\n",
      "Epoch 19/30\n",
      "3125/3125 [==============================] - 1s 271us/step - loss: 750.4691 - val_loss: 832.7719\n",
      "Epoch 20/30\n",
      "3125/3125 [==============================] - 1s 275us/step - loss: 740.7593 - val_loss: 834.2377\n",
      "Epoch 21/30\n",
      "3125/3125 [==============================] - 1s 276us/step - loss: 722.8145 - val_loss: 832.3739\n",
      "Epoch 22/30\n",
      "3125/3125 [==============================] - 1s 286us/step - loss: 673.4555 - val_loss: 822.2328\n",
      "Epoch 23/30\n",
      "3125/3125 [==============================] - 1s 278us/step - loss: 667.6886 - val_loss: 824.4347\n",
      "Epoch 24/30\n",
      "3125/3125 [==============================] - 1s 289us/step - loss: 625.1676 - val_loss: 833.2773\n",
      "Epoch 25/30\n",
      "3125/3125 [==============================] - 1s 323us/step - loss: 611.7919 - val_loss: 842.5701\n",
      "Epoch 26/30\n",
      "3125/3125 [==============================] - 1s 352us/step - loss: 585.6748 - val_loss: 834.2857\n",
      "Epoch 27/30\n",
      "3125/3125 [==============================] - 1s 325us/step - loss: 558.6572 - val_loss: 846.1884\n",
      "Epoch 28/30\n",
      "3125/3125 [==============================] - 1s 332us/step - loss: 547.9442 - val_loss: 856.9077\n",
      "Epoch 29/30\n",
      "3125/3125 [==============================] - 1s 289us/step - loss: 533.5642 - val_loss: 860.7675\n",
      "Epoch 30/30\n",
      "3125/3125 [==============================] - 1s 336us/step - loss: 496.4338 - val_loss: 882.6957\n"
     ]
    },
    {
     "data": {
      "text/plain": [
       "<keras.callbacks.History at 0x7f9eb8523dd8>"
      ]
     },
     "execution_count": 26,
     "metadata": {},
     "output_type": "execute_result"
    }
   ],
   "source": [
    "model.fit(combined_X_train, y_train, batch_size=256, epochs=30, verbose=True, validation_split=0.1)"
   ]
  },
  {
   "cell_type": "code",
   "execution_count": 23,
   "metadata": {},
   "outputs": [
    {
     "name": "stdout",
     "output_type": "stream",
     "text": [
      "Error: 874.539974108\n"
     ]
    },
    {
     "data": {
      "image/png": "[encoded data removed]",
      "text/plain": [
       "<Figure size 432x288 with 1 Axes>"
      ]
     },
     "metadata": {},
     "output_type": "display_data"
    }
   ],
   "source": [
    "from sklearn.metrics import mean_squared_error as mse\n",
    "\n",
    "\n",
    "y_pred = model.predict(combined_X_test).reshape(-1)\n",
    "y_true = y_test.values.reshape(-1)\n",
    "\n",
    "def print_predictions(y_pred, y_true):\n",
    "    for true, pred in zip(y_true, y_pred):\n",
    "        print(true, int(pred))\n",
    "        \n",
    "\n",
    "#print_predictions(y_pred, y_true)\n",
    "print(\"Error:\", mse(y_true, y_pred))\n",
    "plot_sorted_predictions(y_true, y_pred)\n"
   ]
  },
  {
   "cell_type": "code",
   "execution_count": 24,
   "metadata": {},
   "outputs": [
    {
     "data": {
      "image/png": "[encoded data removed]",
      "text/plain": [
       "<Figure size 432x288 with 1 Axes>"
      ]
     },
     "metadata": {},
     "output_type": "display_data"
    }
   ],
   "source": [
    "guesses = plot_avg_guesses(y_true, y_pred)"
   ]
  },
  {
   "cell_type": "code",
   "execution_count": 97,
   "metadata": {},
   "outputs": [
    {
     "data": {
      "text/plain": [
       "0.20648217183456871"
      ]
     },
     "execution_count": 97,
     "metadata": {},
     "output_type": "execute_result"
    }
   ],
   "source": [
    "import math\n",
    "from sklearn.metrics import mean_squared_error as mse\n",
    "\n",
    "def baseline(y_test):\n",
    "    mean = y_test.peakPos.values.mean()\n",
    "    guesses = [mean] * len(y_test) \n",
    "    return mse(y_test, guesses)\n",
    "\n",
    "baseline(y_train)"
   ]
  },
  {
   "cell_type": "code",
   "execution_count": 98,
   "metadata": {},
   "outputs": [
    {
     "name": "stdout",
     "output_type": "stream",
     "text": [
      "Error: 0.211403047109\n"
     ]
    },
    {
     "data": {
      "image/png": "[encoded data removed]",
      "text/plain": [
       "<Figure size 1440x720 with 1 Axes>"
      ]
     },
     "metadata": {},
     "output_type": "display_data"
    }
   ],
   "source": [
    "from sklearn.svm import SVR\n",
    "\n",
    "model = SVR() \n",
    "y_pred = run_model(model)"
   ]
  },
  {
   "cell_type": "code",
   "execution_count": 99,
   "metadata": {},
   "outputs": [
    {
     "data": {
      "image/png": "[encoded data removed]",
      "text/plain": [
       "<Figure size 432x288 with 1 Axes>"
      ]
     },
     "metadata": {},
     "output_type": "display_data"
    }
   ],
   "source": [
    "guesses = plot_avg_guesses(y_true, y_pred)"
   ]
  },
  {
   "cell_type": "code",
   "execution_count": 79,
   "metadata": {},
   "outputs": [
    {
     "name": "stderr",
     "output_type": "stream",
     "text": [
      "/opt/conda/lib/python3.6/site-packages/numpy/core/fromnumeric.py:2909: RuntimeWarning: Mean of empty slice.\n",
      "  out=out, **kwargs)\n",
      "/opt/conda/lib/python3.6/site-packages/numpy/core/_methods.py:80: RuntimeWarning: invalid value encountered in double_scalars\n",
      "  ret = ret.dtype.type(ret / rcount)\n"
     ]
    },
    {
     "data": {
      "text/plain": [
       "(0.26216495603101642, nan)"
      ]
     },
     "execution_count": 79,
     "metadata": {},
     "output_type": "execute_result"
    }
   ],
   "source": [
    "np.mean(guesses[1]), np.mean(guesses[100])"
   ]
  },
  {
   "cell_type": "code",
   "execution_count": null,
   "metadata": {},
   "outputs": [],
   "source": []
  }
 ],
 "metadata": {
  "kernelspec": {
   "display_name": "Python 3",
   "language": "python",
   "name": "python3"
  },
  "language_info": {
   "codemirror_mode": {
    "name": "ipython",
    "version": 3
   },
   "file_extension": ".py",
   "mimetype": "text/x-python",
   "name": "python",
   "nbconvert_exporter": "python",
   "pygments_lexer": "ipython3",
   "version": "3.6.3"
  }
 },
 "nbformat": 4,
 "nbformat_minor": 2
}
