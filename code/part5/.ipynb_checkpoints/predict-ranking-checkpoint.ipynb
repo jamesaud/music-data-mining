{
 "cells": [
  {
   "cell_type": "markdown",
   "metadata": {},
   "source": [
    "Need:\n",
    "\n",
    "\n",
    "1. Audio Features\n",
    "2. Lyrical Features  (emotion, bag of words tfidf)\n",
    "3. Page Ranked Artist (for recommendaiton)\n",
    "4. Look at similarity of songs to see where other songs ranked\n"
   ]
  },
  {
   "cell_type": "code",
   "execution_count": 1,
   "metadata": {},
   "outputs": [],
   "source": [
    "from pymongo import MongoClient\n",
    "from pprint import pprint\n",
    "from typing import List\n",
    "from functools import reduce\n",
    "from operator import add\n",
    "from IPython.display import clear_output\n",
    "import matplotlib.pyplot as plt\n",
    "from sklearn.metrics import mean_squared_error as mse\n",
    "\n",
    "\n",
    "# DB CONFIG\n",
    "client = MongoClient('mongo', 27017)\n",
    "db = client.music_db\n",
    "COLLECTION = db['part5-hot100-songs']\n",
    "\n",
    "\n",
    "def get_songs(collection):\n",
    "    return list(collection.find())\n",
    "\n",
    "def has_spotify(song):\n",
    "    return song.get('spotify', {}).get('audio_features')\n",
    "\n",
    "def has_lyrics(song):\n",
    "    if not song.get('lyrics'):\n",
    "        return False\n",
    "    \n",
    "    if song.get('lyrics') == 'null':\n",
    "        return False\n",
    "\n",
    "    if song.get('lyrics').get('error'):\n",
    "        return False\n",
    "    \n",
    "    if not song.get('tokens'):\n",
    "        return False\n",
    "\n",
    "    return True\n",
    "\n",
    "\n",
    "SONGS = get_songs(COLLECTION)\n",
    "songs = list(filter(has_lyrics, filter(has_spotify, SONGS)))"
   ]
  },
  {
   "cell_type": "code",
   "execution_count": 2,
   "metadata": {},
   "outputs": [
    {
     "data": {
      "text/plain": [
       "(168, 80)"
      ]
     },
     "execution_count": 2,
     "metadata": {},
     "output_type": "execute_result"
    },
    {
     "data": {
      "image/png": "[encoded data removed]",
      "text/plain": [
       "<Figure size 432x288 with 1 Axes>"
      ]
     },
     "metadata": {},
     "output_type": "display_data"
    }
   ],
   "source": [
    "pos = [song['peakPos'] for song in songs]\n",
    "plt.hist(pos)\n",
    "\n",
    "from collections import Counter\n",
    "Counter(pos)[1], Counter(pos)[2]"
   ]
  },
  {
   "cell_type": "code",
   "execution_count": 3,
   "metadata": {},
   "outputs": [],
   "source": [
    "import numpy as np\n",
    "import pandas as pd\n",
    "import copy\n",
    "pd.options.display.max_columns = None\n",
    "\n",
    "def to_df(songs):\n",
    "    df = pd.DataFrame(songs)\n",
    "    df = df.drop(columns=['_id', 'id', 'identifier', 'lyrics', 'genre', 'isNew', 'lastPos', 'rank', 'weeks', 'track_href', 'type', 'uri', 'spotify', 'analysis_url'])\n",
    "    df['lyrics_length'] = df['raw_lyrics'].apply(lambda lyrics: len(\"\".join(lyrics.split('\\n'))))\n",
    "    return df\n",
    "    \n",
    "df = to_df(songs)\n",
    "#df.head()"
   ]
  },
  {
   "cell_type": "code",
   "execution_count": 4,
   "metadata": {},
   "outputs": [],
   "source": [
    "y = pd.DataFrame(df['peakPos'])\n",
    "X = df.drop(['peakPos', 'artist', 'raw_lyrics', 'title', 'tokens'], axis=1)"
   ]
  },
  {
   "cell_type": "code",
   "execution_count": 5,
   "metadata": {},
   "outputs": [],
   "source": [
    "from sklearn.feature_extraction.text import TfidfVectorizer\n",
    "\n",
    "def vectorize_lyrics(songs):\n",
    "    lyrics_list = [\" \".join(song['tokens']) for song in songs]\n",
    "    tfidf_vectorizer = TfidfVectorizer()\n",
    "    tfidf_matrix = tfidf_vectorizer.fit_transform(lyrics_list)\n",
    "    tfidf_array = tfidf_matrix.toarray()\n",
    "    \n",
    "    for vector, song in zip(tfidf_array, songs):\n",
    "        song['tfidf'] = vector\n",
    "    \n",
    "    return tfidf_matrix\n",
    "    \n",
    "def vectorize_df_lyrics(df):\n",
    "    lyrics_df = df['tokens'].apply(\" \".join).values\n",
    "    tfidf_vectorizer = TfidfVectorizer()\n",
    "    tfidf_matrix = tfidf_vectorizer.fit_transform(lyrics_df)    \n",
    "    return tfidf_matrix.toarray()\n",
    "    \n",
    "tfidf_matrix = vectorize_lyrics(songs)"
   ]
  },
  {
   "cell_type": "code",
   "execution_count": 6,
   "metadata": {},
   "outputs": [],
   "source": [
    "from sklearn.metrics import pairwise_distances\n",
    "\n",
    "distances = pairwise_distances(tfidf_matrix, metric=\"cosine\")"
   ]
  },
  {
   "cell_type": "code",
   "execution_count": 7,
   "metadata": {},
   "outputs": [],
   "source": [
    "from sklearn.model_selection import train_test_split  \n",
    "\n",
    "\n",
    "X_train, X_test, y_train, y_test = train_test_split(X, y, test_size=0.20)  \n",
    "y_true = y_test.values.reshape(-1)"
   ]
  },
  {
   "cell_type": "code",
   "execution_count": 8,
   "metadata": {},
   "outputs": [],
   "source": [
    "def tfidf_index(indexes, tfidf_matrix):\n",
    "    return np.vstack([tfidf_matrix[index].toarray() for index in indexes])\n",
    "\n",
    "def distance_index(indexes, distances):\n",
    "    return np.vstack([distances[index] for index in indexes])\n",
    "\n",
    "\n",
    "tfidf_mat_X_train = tfidf_index(X_train.index.values, tfidf_matrix)\n",
    "tfidf_mat_X_test = tfidf_index(X_test.index.values, tfidf_matrix)\n",
    "\n",
    "distance_X_train = distance_index(X_train.index.values, distances)\n",
    "distance_X_test = distance_index(X_test.index.values, distances)"
   ]
  },
  {
   "cell_type": "code",
   "execution_count": 9,
   "metadata": {},
   "outputs": [
    {
     "name": "stdout",
     "output_type": "stream",
     "text": [
      "<class 'numpy.ndarray'> (3268, 17830)\n"
     ]
    }
   ],
   "source": [
    "print(type(tfidf_mat_X_train), tfidf_mat_X_train.shape)  # 5572 doc, tfidf 100 dimension"
   ]
  },
  {
   "cell_type": "code",
   "execution_count": 10,
   "metadata": {},
   "outputs": [],
   "source": [
    "from sklearn.preprocessing import StandardScaler \n",
    "\n",
    "scaler = StandardScaler()  \n",
    "scaler.fit(X_train)\n",
    "\n",
    "X_train = scaler.transform(X_train)  \n",
    "X_test = scaler.transform(X_test) "
   ]
  },
  {
   "cell_type": "code",
   "execution_count": 11,
   "metadata": {},
   "outputs": [
    {
     "data": {
      "text/plain": [
       "array([ 0.12110548,  1.73289552,  0.41755266, -1.24730875, -1.07848673,\n",
       "       -1.47533965, -0.49880638, -1.49904669, -1.57020238,  0.16338738,\n",
       "       -1.00890508,  0.14178009,  1.47685185,  3.01789252])"
      ]
     },
     "execution_count": 11,
     "metadata": {},
     "output_type": "execute_result"
    }
   ],
   "source": [
    "X_train[0]"
   ]
  },
  {
   "cell_type": "code",
   "execution_count": 12,
   "metadata": {},
   "outputs": [
    {
     "data": {
      "text/plain": [
       "(17830, 14, 4086)"
      ]
     },
     "execution_count": 12,
     "metadata": {},
     "output_type": "execute_result"
    }
   ],
   "source": [
    "len(tfidf_mat_X_train[0]), len(X_train[0]), len(distances[0])"
   ]
  },
  {
   "cell_type": "code",
   "execution_count": 13,
   "metadata": {},
   "outputs": [],
   "source": [
    "import copy\n",
    "\n",
    "def combine_features(tfidf_matrix_train, distances, train_features):\n",
    "    combined_matrix = []\n",
    "    for tfidf, distance, features in zip(tfidf_matrix_train, distances, train_features):\n",
    "        combined = np.append(distance, train_features)\n",
    "        combined = np.append(combined, tfidf)\n",
    "        combined_matrix.append(combined)\n",
    "        \n",
    "    return np.vstack(combined_matrix)\n",
    "\n",
    "_combined_X_train = combine_features(tfidf_mat_X_train, distances, X_train)\n",
    "_combined_X_test = combine_features(tfidf_mat_X_test, distances, X_test)"
   ]
  },
  {
   "cell_type": "code",
   "execution_count": 14,
   "metadata": {},
   "outputs": [],
   "source": [
    "combined_X_train = _combined_X_train\n",
    "combined_X_test = _combined_X_test"
   ]
  },
  {
   "cell_type": "code",
   "execution_count": 16,
   "metadata": {},
   "outputs": [
    {
     "data": {
      "text/plain": [
       "17832"
      ]
     },
     "execution_count": 16,
     "metadata": {},
     "output_type": "execute_result"
    }
   ],
   "source": [
    "len(combined_X_train[0])"
   ]
  },
  {
   "cell_type": "code",
   "execution_count": 17,
   "metadata": {},
   "outputs": [],
   "source": [
    "# Fit regression model\n",
    "from sklearn.tree import DecisionTreeRegressor\n",
    "from sklearn.metrics import mean_absolute_error\n",
    "\n",
    "\n",
    "import matplotlib.pyplot as plt\n",
    "\n",
    "def plot_predictions(y_true, y_pred):\n",
    "    x, y = [], []\n",
    "    for true, pred in zip(y_true, y_pred):\n",
    "        diff = abs(true - pred)\n",
    "        \n",
    "    length = len(y_true)\n",
    "    plt.plot(y_true, 'bo')\n",
    "    plt.plot(y_pred, 'ro')\n",
    "    \n",
    "\n",
    "\n",
    "def run_model(model, train=False):\n",
    "\n",
    "    model.fit(X_train, y_train.values.reshape(-1))\n",
    "    # Predict\n",
    "    y_pred = model.predict(X_test)\n",
    "    y_pred = [min(pred, 100) for pred in y_pred]\n",
    "    print(\"Error:\", mse(y_true, y_pred))\n",
    "    plt.figure(figsize=(20,10))\n",
    "    plot_predictions(y_true, y_pred)\n",
    "    return y_pred\n",
    "\n",
    "# model = DecisionTreeRegressor(max_depth=2) \n",
    "# y_pred = run_model(model)"
   ]
  },
  {
   "cell_type": "code",
   "execution_count": 18,
   "metadata": {},
   "outputs": [
    {
     "name": "stderr",
     "output_type": "stream",
     "text": [
      "Using TensorFlow backend.\n"
     ]
    },
    {
     "name": "stdout",
     "output_type": "stream",
     "text": [
      "_________________________________________________________________\n",
      "Layer (type)                 Output Shape              Param #   \n",
      "=================================================================\n",
      "dense_1 (Dense)              (None, 128)               2282624   \n",
      "_________________________________________________________________\n",
      "dropout_1 (Dropout)          (None, 128)               0         \n",
      "_________________________________________________________________\n",
      "activation_1 (Activation)    (None, 128)               0         \n",
      "_________________________________________________________________\n",
      "dense_2 (Dense)              (None, 64)                8256      \n",
      "_________________________________________________________________\n",
      "dropout_2 (Dropout)          (None, 64)                0         \n",
      "_________________________________________________________________\n",
      "activation_2 (Activation)    (None, 64)                0         \n",
      "_________________________________________________________________\n",
      "dense_3 (Dense)              (None, 64)                4160      \n",
      "_________________________________________________________________\n",
      "dropout_3 (Dropout)          (None, 64)                0         \n",
      "_________________________________________________________________\n",
      "activation_3 (Activation)    (None, 64)                0         \n",
      "_________________________________________________________________\n",
      "dense_4 (Dense)              (None, 1)                 65        \n",
      "=================================================================\n",
      "Total params: 2,295,105\n",
      "Trainable params: 2,295,105\n",
      "Non-trainable params: 0\n",
      "_________________________________________________________________\n"
     ]
    }
   ],
   "source": [
    "# build model\n",
    "from keras.models import Sequential\n",
    "from keras.layers import Dense, Dropout, Activation, Conv1D, GlobalMaxPooling1D\n",
    "\n",
    "\n",
    "\n",
    "shape = combined_X_train.shape\n",
    "#input_shape=(17830,)\n",
    "\n",
    "model = Sequential()\n",
    "model.add(Dense(128, input_shape=(shape[1],)))\n",
    "model.add(Dropout(0.2))\n",
    "model.add(Activation('relu'))\n",
    "\n",
    "model.add(Dense(64, activation='relu'))\n",
    "model.add(Dropout(0.2))\n",
    "model.add(Activation('relu'))\n",
    "\"\"\n",
    "model.add(Dense(64, activation='relu'))\n",
    "model.add(Dropout(0.2))\n",
    "model.add(Activation('relu'))\n",
    "\n",
    "model.add(Dense(1, activation='linear'))\n",
    "model.compile(loss='mse', optimizer='adam')\n",
    "\n",
    "model.summary()"
   ]
  },
  {
   "cell_type": "code",
   "execution_count": 17,
   "metadata": {},
   "outputs": [
    {
     "name": "stdout",
     "output_type": "stream",
     "text": [
      "Train on 2614 samples, validate on 654 samples\n",
      "Epoch 1/22\n",
      "2614/2614 [==============================] - 7s 3ms/step - loss: 2582.6204 - val_loss: 2649.1147\n",
      "Epoch 2/22\n",
      "2614/2614 [==============================] - 1s 523us/step - loss: 2542.7549 - val_loss: 2589.3977\n",
      "Epoch 3/22\n",
      "2614/2614 [==============================] - 1s 456us/step - loss: 2469.7395 - val_loss: 2478.3941\n",
      "Epoch 4/22\n",
      "2614/2614 [==============================] - 1s 440us/step - loss: 2331.4220 - val_loss: 2283.6912\n",
      "Epoch 5/22\n",
      "2614/2614 [==============================] - 1s 446us/step - loss: 2098.9011 - val_loss: 1971.1124\n",
      "Epoch 6/22\n",
      "2614/2614 [==============================] - 1s 466us/step - loss: 1750.0233 - val_loss: 1536.8650\n",
      "Epoch 7/22\n",
      "2614/2614 [==============================] - 1s 469us/step - loss: 1301.5935 - val_loss: 1078.7898\n",
      "Epoch 8/22\n",
      "2614/2614 [==============================] - 1s 459us/step - loss: 926.5480 - val_loss: 858.0031\n",
      "Epoch 9/22\n",
      "2614/2614 [==============================] - 1s 435us/step - loss: 866.7456 - val_loss: 889.5499\n",
      "Epoch 10/22\n",
      "2614/2614 [==============================] - 1s 470us/step - loss: 881.1884 - val_loss: 855.4252\n",
      "Epoch 11/22\n",
      "2614/2614 [==============================] - 1s 439us/step - loss: 802.6543 - val_loss: 845.2142\n",
      "Epoch 12/22\n",
      "2614/2614 [==============================] - 1s 429us/step - loss: 769.2912 - val_loss: 857.0158\n",
      "Epoch 13/22\n",
      "2614/2614 [==============================] - 1s 450us/step - loss: 747.5861 - val_loss: 844.0182\n",
      "Epoch 14/22\n",
      "2614/2614 [==============================] - 1s 481us/step - loss: 721.3465 - val_loss: 829.5554\n",
      "Epoch 15/22\n",
      "2614/2614 [==============================] - 1s 527us/step - loss: 706.7073 - val_loss: 824.1786\n",
      "Epoch 16/22\n",
      "2614/2614 [==============================] - 1s 457us/step - loss: 682.1516 - val_loss: 821.0153\n",
      "Epoch 17/22\n",
      "2614/2614 [==============================] - 1s 467us/step - loss: 653.0607 - val_loss: 818.0496\n",
      "Epoch 18/22\n",
      "2614/2614 [==============================] - 1s 466us/step - loss: 642.2477 - val_loss: 814.8390\n",
      "Epoch 19/22\n",
      "2614/2614 [==============================] - 1s 462us/step - loss: 609.9486 - val_loss: 811.9776\n",
      "Epoch 20/22\n",
      "2614/2614 [==============================] - 1s 447us/step - loss: 585.5620 - val_loss: 811.8830\n",
      "Epoch 21/22\n",
      "2614/2614 [==============================] - 1s 452us/step - loss: 565.8234 - val_loss: 812.8301\n",
      "Epoch 22/22\n",
      "2614/2614 [==============================] - 1s 472us/step - loss: 549.9690 - val_loss: 815.1841\n"
     ]
    },
    {
     "data": {
      "text/plain": [
       "<keras.callbacks.History at 0x7fd0b30af6a0>"
      ]
     },
     "execution_count": 17,
     "metadata": {},
     "output_type": "execute_result"
    }
   ],
   "source": [
    "model.fit(combined_X_train, y_train, batch_size=512, epochs=22, verbose=True, validation_split=0.2)"
   ]
  },
  {
   "cell_type": "code",
   "execution_count": 23,
   "metadata": {},
   "outputs": [
    {
     "name": "stdout",
     "output_type": "stream",
     "text": [
      "Error: 862.96625218\n"
     ]
    },
    {
     "data": {
      "image/png": "[encoded data removed]",
      "text/plain": [
       "<Figure size 432x288 with 1 Axes>"
      ]
     },
     "metadata": {},
     "output_type": "display_data"
    }
   ],
   "source": [
    "from sklearn.metrics import mean_squared_error as mse\n",
    "\n",
    "\n",
    "y_pred = model.predict(combined_X_test).reshape(-1)\n",
    "y_true = y_test.values.reshape(-1)\n",
    "\n",
    "def print_predictions(y_pred, y_true):\n",
    "    for true, pred in zip(y_true, y_pred):\n",
    "        print(true, int(pred))\n",
    "        \n",
    "\n",
    "#print_predictions(y_pred, y_true)\n",
    "print(\"Error:\", mse(y_true, y_pred))\n",
    "plot_predictions(y_true, y_pred)"
   ]
  },
  {
   "cell_type": "code",
   "execution_count": 24,
   "metadata": {},
   "outputs": [
    {
     "data": {
      "text/plain": [
       "798.45443070971942"
      ]
     },
     "execution_count": 24,
     "metadata": {},
     "output_type": "execute_result"
    }
   ],
   "source": [
    "import math\n",
    "from sklearn.metrics import mean_squared_error as mse\n",
    "\n",
    "def baseline(y_test):\n",
    "    mean = y_test.peakPos.values.mean()\n",
    "    guesses = [mean] * len(y_test) \n",
    "    return mse(y_test, guesses)\n",
    "\n",
    "baseline(y_train)"
   ]
  },
  {
   "cell_type": "code",
   "execution_count": 25,
   "metadata": {},
   "outputs": [
    {
     "data": {
      "image/png": "[encoded data removed]",
      "text/plain": [
       "<Figure size 432x288 with 1 Axes>"
      ]
     },
     "metadata": {},
     "output_type": "display_data"
    }
   ],
   "source": [
    "from collections import defaultdict\n",
    "\n",
    "def find_avg_guess_per_rank(y_true, y_pred):\n",
    "    buckets = defaultdict(lambda: [])\n",
    "    for true, pred in zip(y_true, y_pred):\n",
    "        buckets[true].append(pred)\n",
    "    return buckets\n",
    "\n",
    "guesses = find_avg_guess_per_rank(y_true, y_pred)\n",
    "\n",
    "def plot_avg_guesses(guesses):\n",
    "    plt.plot(sorted(guesses.keys()), [np.mean(guesses[i]) for i in sorted(guesses.keys())])\n",
    "    \n",
    "plot_avg_guesses(guesses)"
   ]
  },
  {
   "cell_type": "code",
   "execution_count": 33,
   "metadata": {},
   "outputs": [
    {
     "data": {
      "text/plain": [
       "(33.778748, 45.692116)"
      ]
     },
     "execution_count": 33,
     "metadata": {},
     "output_type": "execute_result"
    }
   ],
   "source": [
    "np.mean(guesses[1]), np.mean(guesses[100])"
   ]
  },
  {
   "cell_type": "code",
   "execution_count": null,
   "metadata": {},
   "outputs": [],
   "source": []
  }
 ],
 "metadata": {
  "kernelspec": {
   "display_name": "Python 3",
   "language": "python",
   "name": "python3"
  },
  "language_info": {
   "codemirror_mode": {
    "name": "ipython",
    "version": 3
   },
   "file_extension": ".py",
   "mimetype": "text/x-python",
   "name": "python",
   "nbconvert_exporter": "python",
   "pygments_lexer": "ipython3",
   "version": "3.6.3"
  }
 },
 "nbformat": 4,
 "nbformat_minor": 2
}
