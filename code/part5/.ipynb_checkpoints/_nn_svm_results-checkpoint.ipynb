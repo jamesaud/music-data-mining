{
 "cells": [
  {
   "cell_type": "markdown",
   "metadata": {},
   "source": [
    "Need:\n",
    "\n",
    "\n",
    "1. Audio Features\n",
    "2. Lyrical Features  (emotion, bag of words tfidf)\n",
    "3. Page Ranked Artist (for recommendaiton)\n",
    "4. Look at similarity of songs to see where other songs ranked\n"
   ]
  },
  {
   "cell_type": "code",
   "execution_count": 1,
   "metadata": {},
   "outputs": [],
   "source": [
    "from pymongo import MongoClient\n",
    "from pprint import pprint\n",
    "from typing import List\n",
    "from functools import reduce\n",
    "from operator import add\n",
    "from IPython.display import clear_output\n",
    "import matplotlib.pyplot as plt\n",
    "from sklearn.metrics import mean_squared_error as mse\n",
    "\n",
    "\n",
    "# DB CONFIG\n",
    "client = MongoClient('mongo', 27017)\n",
    "db = client.music_db\n",
    "COLLECTION = db['part5-hot100-songs']\n",
    "\n",
    "\n",
    "def get_songs(collection):\n",
    "    return list(collection.find())\n",
    "\n",
    "def has_spotify(song):\n",
    "    return song.get('spotify', {}).get('audio_features')\n",
    "\n",
    "def has_lyrics(song):\n",
    "    if not song.get('lyrics'):\n",
    "        return False\n",
    "    \n",
    "    if song.get('lyrics') == 'null':\n",
    "        return False\n",
    "\n",
    "    if song.get('lyrics').get('error'):\n",
    "        return False\n",
    "    \n",
    "    if not song.get('tokens'):\n",
    "        return False\n",
    "\n",
    "    return True\n",
    "\n",
    "\n",
    "SONGS = get_songs(COLLECTION)\n",
    "songs = list(filter(has_lyrics, filter(has_spotify, SONGS)))"
   ]
  },
  {
   "cell_type": "code",
   "execution_count": 2,
   "metadata": {},
   "outputs": [
    {
     "data": {
      "text/plain": [
       "(168, 80)"
      ]
     },
     "execution_count": 2,
     "metadata": {},
     "output_type": "execute_result"
    },
    {
     "data": {
      "image/png": "[encoded data removed]",
      "text/plain": [
       "<Figure size 432x288 with 1 Axes>"
      ]
     },
     "metadata": {},
     "output_type": "display_data"
    }
   ],
   "source": [
    "pos = [song['peakPos'] for song in songs]\n",
    "plt.hist(pos)\n",
    "\n",
    "from collections import Counter\n",
    "Counter(pos)[1], Counter(pos)[2]"
   ]
  },
  {
   "cell_type": "code",
   "execution_count": 3,
   "metadata": {},
   "outputs": [],
   "source": [
    "import numpy as np\n",
    "import pandas as pd\n",
    "import copy\n",
    "pd.options.display.max_columns = None\n",
    "\n",
    "def to_df(songs):\n",
    "    df = pd.DataFrame(songs)\n",
    "    df = df.drop(columns=['_id', 'id', 'identifier', 'lyrics', 'genre', 'isNew', 'lastPos', 'rank', 'weeks', 'track_href', 'type', 'uri', 'spotify', 'analysis_url'])\n",
    "    df['lyrics_length'] = df['raw_lyrics'].apply(lambda lyrics: len(\"\".join(lyrics.split('\\n'))))\n",
    "    return df\n",
    "    \n",
    "df = to_df(songs)\n",
    "#df.head()"
   ]
  },
  {
   "cell_type": "code",
   "execution_count": 4,
   "metadata": {},
   "outputs": [],
   "source": [
    "y = pd.DataFrame(df['peakPos'])\n",
    "X = df.drop(['peakPos', 'artist', 'raw_lyrics', 'title', 'tokens'], axis=1)"
   ]
  },
  {
   "cell_type": "code",
   "execution_count": 5,
   "metadata": {},
   "outputs": [],
   "source": [
    "from sklearn.feature_extraction.text import TfidfVectorizer\n",
    "\n",
    "def vectorize_lyrics(songs):\n",
    "    lyrics_list = [\" \".join(song['tokens']) for song in songs]\n",
    "    tfidf_vectorizer = TfidfVectorizer()\n",
    "    tfidf_matrix = tfidf_vectorizer.fit_transform(lyrics_list)\n",
    "    tfidf_array = tfidf_matrix.toarray()\n",
    "    \n",
    "    for vector, song in zip(tfidf_array, songs):\n",
    "        song['tfidf'] = vector\n",
    "    \n",
    "    return tfidf_matrix\n",
    "    \n",
    "def vectorize_df_lyrics(df):\n",
    "    lyrics_df = df['tokens'].apply(\" \".join).values\n",
    "    tfidf_vectorizer = TfidfVectorizer()\n",
    "    tfidf_matrix = tfidf_vectorizer.fit_transform(lyrics_df)    \n",
    "    return tfidf_matrix.toarray()\n",
    "    \n",
    "tfidf_matrix = vectorize_lyrics(songs)"
   ]
  },
  {
   "cell_type": "code",
   "execution_count": 6,
   "metadata": {},
   "outputs": [],
   "source": [
    "from sklearn.metrics import pairwise_distances\n",
    "\n",
    "distances = pairwise_distances(tfidf_matrix, metric=\"cosine\")"
   ]
  },
  {
   "cell_type": "code",
   "execution_count": 7,
   "metadata": {},
   "outputs": [],
   "source": [
    "from sklearn.model_selection import train_test_split  \n",
    "\n",
    "\n",
    "X_train, X_test, y_train, y_test = train_test_split(X, y, test_size=0.25)  \n",
    "y_true = y_test.values.reshape(-1)"
   ]
  },
  {
   "cell_type": "code",
   "execution_count": 8,
   "metadata": {},
   "outputs": [],
   "source": [
    "def tfidf_index(indexes, tfidf_matrix):\n",
    "    return np.vstack([tfidf_matrix[index].toarray() for index in indexes])\n",
    "\n",
    "def distance_index(indexes, distances):\n",
    "    return np.vstack([distances[index] for index in indexes])\n",
    "\n",
    "\n",
    "tfidf_mat_X_train = tfidf_index(X_train.index.values, tfidf_matrix)\n",
    "tfidf_mat_X_test = tfidf_index(X_test.index.values, tfidf_matrix)\n",
    "\n",
    "distance_X_train = distance_index(X_train.index.values, distances)\n",
    "distance_X_test = distance_index(X_test.index.values, distances)"
   ]
  },
  {
   "cell_type": "code",
   "execution_count": 9,
   "metadata": {},
   "outputs": [
    {
     "name": "stdout",
     "output_type": "stream",
     "text": [
      "<class 'numpy.ndarray'> (3064, 17830)\n"
     ]
    }
   ],
   "source": [
    "print(type(tfidf_mat_X_train), tfidf_mat_X_train.shape)  # 5572 doc, tfidf 100 dimension"
   ]
  },
  {
   "cell_type": "code",
   "execution_count": 10,
   "metadata": {},
   "outputs": [],
   "source": [
    "from sklearn.preprocessing import StandardScaler \n",
    "\n",
    "scaler = StandardScaler()  \n",
    "scaler.fit(X_train)\n",
    "\n",
    "X_train = scaler.transform(X_train)  \n",
    "X_test = scaler.transform(X_test) "
   ]
  },
  {
   "cell_type": "code",
   "execution_count": 11,
   "metadata": {},
   "outputs": [
    {
     "data": {
      "text/plain": [
       "array([-0.69152798, -0.46069427,  0.44707558,  0.68927217, -0.60135846,\n",
       "       -0.90359886,  1.68466497,  0.90557492,  0.62971105, -0.4306852 ,\n",
       "       -1.03815458,  0.13378647,  0.33967262, -1.0291864 ])"
      ]
     },
     "execution_count": 11,
     "metadata": {},
     "output_type": "execute_result"
    }
   ],
   "source": [
    "X_train[0]"
   ]
  },
  {
   "cell_type": "code",
   "execution_count": 12,
   "metadata": {},
   "outputs": [
    {
     "data": {
      "text/plain": [
       "21930"
      ]
     },
     "execution_count": 12,
     "metadata": {},
     "output_type": "execute_result"
    }
   ],
   "source": [
    "len(tfidf_mat_X_train[0]) + len(X_train[0]) + len(distances[0])"
   ]
  },
  {
   "cell_type": "code",
   "execution_count": 13,
   "metadata": {},
   "outputs": [],
   "source": [
    "import copy\n",
    "\n",
    "def combine_features(tfidf_matrix_train, distances, train_features):\n",
    "    combined_matrix = []\n",
    "    for tfidf, distance, features in zip(tfidf_matrix_train, distances, train_features):\n",
    "        combined = np.hstack([tfidf, features])  #features, tfidf, distance, \n",
    "        combined_matrix.append(combined)\n",
    "    return np.vstack(combined_matrix)\n",
    "\n",
    "_combined_X_train = combine_features(tfidf_mat_X_train, distance_X_train, X_train)\n",
    "_combined_X_test = combine_features(tfidf_mat_X_test, distance_X_test, X_test)"
   ]
  },
  {
   "cell_type": "code",
   "execution_count": 14,
   "metadata": {},
   "outputs": [],
   "source": [
    "combined_X_train = _combined_X_train\n",
    "combined_X_test = _combined_X_test"
   ]
  },
  {
   "cell_type": "code",
   "execution_count": 15,
   "metadata": {},
   "outputs": [
    {
     "data": {
      "text/plain": [
       "(17844,)"
      ]
     },
     "execution_count": 15,
     "metadata": {},
     "output_type": "execute_result"
    }
   ],
   "source": [
    "combined_X_train[0].shape"
   ]
  },
  {
   "cell_type": "code",
   "execution_count": 16,
   "metadata": {},
   "outputs": [],
   "source": [
    "# Fit regression model\n",
    "from sklearn.tree import DecisionTreeRegressor\n",
    "from sklearn.metrics import mean_absolute_error\n",
    "\n",
    "\n",
    "import matplotlib.pyplot as plt\n",
    "\n",
    "def plot_predictions(y_true, y_pred):\n",
    "    x, y = [], []\n",
    "    for true, pred in zip(y_true, y_pred):\n",
    "        diff = abs(true - pred)\n",
    "        \n",
    "    length = len(y_true)\n",
    "    plt.plot(y_true, 'bo')\n",
    "    plt.plot(y_pred, 'ro')\n",
    "    \n",
    "    \n",
    "def plot_sorted_predictions(y_true, y_pred):\n",
    "    true, pred = zip(*sorted(zip(y_true, y_pred)))\n",
    "    plt.plot(true, pred, 'bo')\n",
    "\n",
    "\n",
    "def run_model(model, train=False):\n",
    "\n",
    "    model.fit(X_train, y_train.values.reshape(-1))\n",
    "    # Predict\n",
    "    y_pred = model.predict(X_test)\n",
    "    y_pred = [min(pred, 100) for pred in y_pred]\n",
    "    print(\"Error:\", mse(y_true, y_pred))\n",
    "    plt.figure(figsize=(20,10))\n",
    "    plot_predictions(y_true, y_pred)\n",
    "    return y_pred\n",
    "\n",
    "\n",
    "from collections import defaultdict\n",
    "\n",
    "def find_avg_guess_per_rank(y_true, y_pred):\n",
    "    buckets = defaultdict(lambda: [])\n",
    "    for true, pred in zip(y_true, y_pred):\n",
    "        buckets[true].append(pred)\n",
    "    return buckets\n",
    "\n",
    "\n",
    "def plot_avg_guesses(y_true, y_pred):\n",
    "    guesses = find_avg_guess_per_rank(y_true, y_pred)\n",
    "    plt.plot(sorted(guesses.keys()), [np.mean(guesses[i]) for i in sorted(guesses.keys())])\n",
    "    return guesses\n",
    "    "
   ]
  },
  {
   "cell_type": "code",
   "execution_count": 17,
   "metadata": {},
   "outputs": [
    {
     "name": "stderr",
     "output_type": "stream",
     "text": [
      "Using TensorFlow backend.\n"
     ]
    },
    {
     "name": "stdout",
     "output_type": "stream",
     "text": [
      "_________________________________________________________________\n",
      "Layer (type)                 Output Shape              Param #   \n",
      "=================================================================\n",
      "dense_1 (Dense)              (None, 64)                1142080   \n",
      "_________________________________________________________________\n",
      "dropout_1 (Dropout)          (None, 64)                0         \n",
      "_________________________________________________________________\n",
      "activation_1 (Activation)    (None, 64)                0         \n",
      "_________________________________________________________________\n",
      "dense_2 (Dense)              (None, 32)                2080      \n",
      "_________________________________________________________________\n",
      "dropout_2 (Dropout)          (None, 32)                0         \n",
      "_________________________________________________________________\n",
      "activation_2 (Activation)    (None, 32)                0         \n",
      "_________________________________________________________________\n",
      "dense_3 (Dense)              (None, 32)                1056      \n",
      "_________________________________________________________________\n",
      "dropout_3 (Dropout)          (None, 32)                0         \n",
      "_________________________________________________________________\n",
      "activation_3 (Activation)    (None, 32)                0         \n",
      "_________________________________________________________________\n",
      "dense_4 (Dense)              (None, 1)                 33        \n",
      "=================================================================\n",
      "Total params: 1,145,249\n",
      "Trainable params: 1,145,249\n",
      "Non-trainable params: 0\n",
      "_________________________________________________________________\n"
     ]
    }
   ],
   "source": [
    "# build model\n",
    "from keras.models import Sequential\n",
    "from keras.layers import Dense, Dropout, Activation, Conv1D, GlobalMaxPooling1D\n",
    "\n",
    "\n",
    "shape = combined_X_train.shape\n",
    "#input_shape=(17830,)\n",
    "\n",
    "model = Sequential()\n",
    "model.add(Dense(64, input_shape=(shape[1],)))\n",
    "model.add(Dropout(0.5))\n",
    "model.add(Activation('relu'))\n",
    "\n",
    "model.add(Dense(32, activation='relu'))\n",
    "model.add(Dropout(0.5))\n",
    "model.add(Activation('relu'))\n",
    "\n",
    "model.add(Dense(32, activation='relu'))\n",
    "model.add(Dropout(0.5))\n",
    "model.add(Activation('relu'))\n",
    "\n",
    "model.add(Dense(1, activation='linear'))\n",
    "model.compile(loss='mse', optimizer='adam')\n",
    "\n",
    "model.summary()"
   ]
  },
  {
   "cell_type": "code",
   "execution_count": 18,
   "metadata": {},
   "outputs": [
    {
     "name": "stdout",
     "output_type": "stream",
     "text": [
      "Train on 2604 samples, validate on 460 samples\n",
      "Epoch 1/27\n",
      "2604/2604 [==============================] - 1s 516us/step - loss: 2644.2391 - val_loss: 2505.7338\n",
      "Epoch 2/27\n",
      "2604/2604 [==============================] - 1s 344us/step - loss: 2608.5272 - val_loss: 2455.7008\n",
      "Epoch 3/27\n",
      "2604/2604 [==============================] - 1s 303us/step - loss: 2537.3451 - val_loss: 2351.4003\n",
      "Epoch 4/27\n",
      "2604/2604 [==============================] - 1s 281us/step - loss: 2385.3692 - val_loss: 2145.9565\n",
      "Epoch 5/27\n",
      "2604/2604 [==============================] - 1s 325us/step - loss: 2118.2239 - val_loss: 1782.6946\n",
      "Epoch 6/27\n",
      "2604/2604 [==============================] - 1s 327us/step - loss: 1694.2514 - val_loss: 1270.1010\n",
      "Epoch 7/27\n",
      "2604/2604 [==============================] - 1s 308us/step - loss: 1258.8409 - val_loss: 870.6440\n",
      "Epoch 8/27\n",
      "2604/2604 [==============================] - 1s 446us/step - loss: 1112.9565 - val_loss: 804.2038\n",
      "Epoch 9/27\n",
      "2604/2604 [==============================] - 1s 300us/step - loss: 1110.7707 - val_loss: 803.5137\n",
      "Epoch 10/27\n",
      "2604/2604 [==============================] - 1s 369us/step - loss: 1055.5794 - val_loss: 829.2251\n",
      "Epoch 11/27\n",
      "2604/2604 [==============================] - 1s 293us/step - loss: 1017.9621 - val_loss: 812.6746\n",
      "Epoch 12/27\n",
      "2604/2604 [==============================] - 1s 293us/step - loss: 993.6099 - val_loss: 794.1512\n",
      "Epoch 13/27\n",
      "2604/2604 [==============================] - 1s 298us/step - loss: 982.7577 - val_loss: 795.2684\n",
      "Epoch 14/27\n",
      "2604/2604 [==============================] - 1s 279us/step - loss: 945.9728 - val_loss: 787.6883\n",
      "Epoch 15/27\n",
      "2604/2604 [==============================] - 1s 303us/step - loss: 938.8201 - val_loss: 775.3473\n",
      "Epoch 16/27\n",
      "2604/2604 [==============================] - 1s 349us/step - loss: 910.9202 - val_loss: 766.8693\n",
      "Epoch 17/27\n",
      "2604/2604 [==============================] - 1s 297us/step - loss: 886.8717 - val_loss: 766.1363\n",
      "Epoch 18/27\n",
      "2604/2604 [==============================] - 1s 325us/step - loss: 886.6215 - val_loss: 765.1692\n",
      "Epoch 19/27\n",
      "2604/2604 [==============================] - 1s 281us/step - loss: 823.3497 - val_loss: 756.8933\n",
      "Epoch 20/27\n",
      "2604/2604 [==============================] - 1s 303us/step - loss: 792.7676 - val_loss: 753.3919\n",
      "Epoch 21/27\n",
      "2604/2604 [==============================] - 1s 298us/step - loss: 768.7076 - val_loss: 758.5419\n",
      "Epoch 22/27\n",
      "2604/2604 [==============================] - 1s 313us/step - loss: 755.2102 - val_loss: 768.5581\n",
      "Epoch 23/27\n",
      "2604/2604 [==============================] - 1s 354us/step - loss: 700.4625 - val_loss: 771.0982\n",
      "Epoch 24/27\n",
      "2604/2604 [==============================] - 1s 322us/step - loss: 698.8131 - val_loss: 768.8996\n",
      "Epoch 25/27\n",
      "2604/2604 [==============================] - 1s 305us/step - loss: 674.4300 - val_loss: 765.1319\n",
      "Epoch 26/27\n",
      "2604/2604 [==============================] - 1s 302us/step - loss: 656.5429 - val_loss: 766.3238\n",
      "Epoch 27/27\n",
      "2604/2604 [==============================] - 1s 307us/step - loss: 639.8304 - val_loss: 777.4197\n"
     ]
    },
    {
     "data": {
      "text/plain": [
       "<keras.callbacks.History at 0x7f1ab43636d8>"
      ]
     },
     "execution_count": 18,
     "metadata": {},
     "output_type": "execute_result"
    }
   ],
   "source": [
    "model.fit(combined_X_train, y_train, batch_size=256, epochs=27, verbose=True, validation_split=0.15)"
   ]
  },
  {
   "cell_type": "code",
   "execution_count": 19,
   "metadata": {},
   "outputs": [
    {
     "name": "stdout",
     "output_type": "stream",
     "text": [
      "Error: 791.08605189\n"
     ]
    },
    {
     "data": {
      "image/png": "[encoded data removed]",
      "text/plain": [
       "<Figure size 432x288 with 1 Axes>"
      ]
     },
     "metadata": {},
     "output_type": "display_data"
    }
   ],
   "source": [
    "from sklearn.metrics import mean_squared_error as mse\n",
    "\n",
    "\n",
    "y_pred = model.predict(combined_X_test).reshape(-1)\n",
    "y_true = y_test.values.reshape(-1)\n",
    "\n",
    "def print_predictions(y_pred, y_true):\n",
    "    for true, pred in zip(y_true, y_pred):\n",
    "        print(true, int(pred))\n",
    "        \n",
    "\n",
    "#print_predictions(y_pred, y_true)\n",
    "print(\"Error:\", mse(y_true, y_pred))\n",
    "plot_sorted_predictions(y_true, y_pred)\n"
   ]
  },
  {
   "cell_type": "code",
   "execution_count": 179,
   "metadata": {},
   "outputs": [
    {
     "data": {
      "text/plain": [
       "array([[<matplotlib.axes._subplots.AxesSubplot object at 0x7f1aae53a198>]], dtype=object)"
      ]
     },
     "execution_count": 179,
     "metadata": {},
     "output_type": "execute_result"
    },
    {
     "data": {
      "image/png": "[encoded data removed]",
      "text/plain": [
       "<Figure size 432x288 with 1 Axes>"
      ]
     },
     "metadata": {},
     "output_type": "display_data"
    }
   ],
   "source": [
    "y_test.hist()"
   ]
  },
  {
   "cell_type": "code",
   "execution_count": 185,
   "metadata": {},
   "outputs": [
    {
     "data": {
      "image/png": "[encoded data removed]",
      "text/plain": [
       "<Figure size 432x288 with 1 Axes>"
      ]
     },
     "metadata": {},
     "output_type": "display_data"
    },
    {
     "data": {
      "image/png": "[encoded data removed]",
      "text/plain": [
       "<Figure size 432x288 with 1 Axes>"
      ]
     },
     "metadata": {},
     "output_type": "display_data"
    }
   ],
   "source": [
    "def plot_avg_guesses(y_true, y_pred, error=False):\n",
    "    guesses = find_avg_guess_per_rank(y_true, y_pred)\n",
    "    x = sorted(guesses.keys())\n",
    "    y = [np.mean(guesses[i]) for i in x]\n",
    "    yerr = [np.std(guesses[i]) for i in x]\n",
    "    plt.plot(x, y, 'b')\n",
    "    plt.title(\"Guessed Rank vs True Rank\")\n",
    "    plt.ylabel(\"Average Guessed Rank\")\n",
    "    plt.xlabel(\"True Rank\")\n",
    "    if error:\n",
    "        plt.errorbar(x, y, yerr=yerr)\n",
    "    plt.show()\n",
    "\n",
    "    return guesses\n",
    "\n",
    "guesses = plot_avg_guesses(y_true, y_pred)\n",
    "guesses = plot_avg_guesses(y_true, y_pred, True)"
   ]
  },
  {
   "cell_type": "code",
   "execution_count": 180,
   "metadata": {},
   "outputs": [
    {
     "data": {
      "text/plain": [
       "819.67105225596333"
      ]
     },
     "execution_count": 180,
     "metadata": {},
     "output_type": "execute_result"
    }
   ],
   "source": [
    "import math\n",
    "from sklearn.metrics import mean_squared_error as mse\n",
    "\n",
    "def baseline(y_test):\n",
    "    mean = y_test.peakPos.values.mean()\n",
    "    guesses = [mean] * len(y_test) \n",
    "    return mse(y_test, guesses)\n",
    "\n",
    "baseline(y_train)\n"
   ]
  },
  {
   "cell_type": "code",
   "execution_count": 217,
   "metadata": {},
   "outputs": [
    {
     "data": {
      "image/png": "[encoded data removed]",
      "text/plain": [
       "<Figure size 432x288 with 1 Axes>"
      ]
     },
     "metadata": {},
     "output_type": "display_data"
    }
   ],
   "source": [
    "from collections import Counter\n",
    "from pprint import pprint\n",
    "from collections import defaultdict\n",
    "import scipy\n",
    "\n",
    "def guess_threshold(y_true, y_pred, val=36, low_threshold=20, high_threshold=80):\n",
    "    guesses = find_avg_guess_per_rank(y_true, y_pred)\n",
    "\n",
    "    evaluation = defaultdict(list)\n",
    "    for pos, guesses in guesses.items():\n",
    "        if high_threshold > pos > low_threshold:\n",
    "            continue\n",
    "            \n",
    "        for guess in guesses:\n",
    "            if pos <= low_threshold:\n",
    "                evaluation[pos].append(guess < val)\n",
    "                    \n",
    "            if pos >= high_threshold:\n",
    "                evaluation[pos].append( guess > val)\n",
    "    return evaluation\n",
    "\n",
    "\n",
    "def error_fn(val):\n",
    "    return (1 + val) ** 2\n",
    "\n",
    "def evaluate_guesses(val, y_true, y_pred, low_threshold=10, high_threshold=91):\n",
    "    evaluation = guess_threshold(y_true, y_pred, val, low_threshold, high_threshold)\n",
    "\n",
    "    low_avg = 0\n",
    "    high_avg = 0\n",
    "    \n",
    "    for pos, vals in evaluation.items():\n",
    "        correct = sum(vals) / len(vals) \n",
    "        err = error_fn(correct)\n",
    "        if pos <= low_threshold:\n",
    "            low_avg += correct\n",
    "        else:\n",
    "            high_avg += correct            \n",
    "        \n",
    "    num_high = 101 - high_threshold\n",
    "    num_low = low_threshold\n",
    "    total = num_high + num_low\n",
    "\n",
    "    low_avg /= num_low    \n",
    "    high_avg /= num_high\n",
    "                        \n",
    "    avg = (low_avg + high_avg) / 2\n",
    "    return avg\n",
    "\n",
    "\n",
    "def optimize(y_true, y_pred, low_threshold=10, high_threshold=90):\n",
    "    vals = np.linspace(30, 60, 200)\n",
    "    \n",
    "    param, maxi = 0, -1\n",
    "    \n",
    "    x, y = [], []\n",
    "    for i in vals:\n",
    "        acc = evaluate_guesses(i, y_true, y_pred, low_threshold, high_threshold)\n",
    "        x.append(i)\n",
    "        y.append(acc)\n",
    "\n",
    "        if acc > maxi:\n",
    "            param = i\n",
    "            maxi = acc\n",
    "            \n",
    "    return param, maxi, [x, y]\n",
    "    \n",
    "    \n",
    "def plot_thresholds(y_true, y_pred):\n",
    "    x, y = [], []\n",
    "    \n",
    "    \n",
    "    for i in range(1, 50, 1):\n",
    "        param, accuracy, _ = optimize(y_true, y_pred, i, high_threshold=101-i)\n",
    "        x.append(i)\n",
    "        y.append(accuracy)\n",
    "    \n",
    "    plt.plot(x, y)\n",
    "    \n",
    "    plt.title(\"Dyanmic Threshold ([10, 90], [20, 80], ...)\")\n",
    "    plt.xlabel(\"Threshold\")\n",
    "    plt.ylabel(\"Accuracy\")\n",
    "\n",
    "    plt.show()\n",
    "    return x, y\n",
    "\n",
    "\n",
    "def plot_static_thresholds(y_true, y_pred, static_upper=90):\n",
    "    x, y = [], []\n",
    "\n",
    "    \n",
    "    for i in range(1, 50, 1):\n",
    "        param, accuracy, _ = optimize(y_true, y_pred, i, high_threshold=static_upper)\n",
    "        x.append(i)\n",
    "        y.append(accuracy)\n",
    "    \n",
    "    plt.plot(x, y)\n",
    "    plt.title(f\"Static Threshold ([10, {static_upper}], [20, {static_upper}], ...)\")\n",
    "    plt.xlabel(\"Threshold\")\n",
    "    plt.ylabel(\"Accuracy\")    \n",
    "    plt.show()\n",
    "    return x, y\n",
    "\n",
    "\n",
    "def plot_optimal_param(y_true, y_pred, low_threshold=10, high_threshold=90):\n",
    "    param, acc, [x, y] = optimize(y_true, y_pred, low_threshold, high_threshold)\n",
    "    plt.plot(x, y)\n",
    "    plt.title(f\"Cutoff Accuracy for Threshold [{low_threshold}, {high_threshold}]\")\n",
    "    plt.xlabel(\"Cutoff Value\")\n",
    "    plt.ylabel(\"Accuracy\")\n",
    "    plt.show()\n",
    "    \n",
    "    \n",
    "def accuracy_per_position(guess_dict):\n",
    "    correct = {}\n",
    "    for rank, guesses in guess_dict.items():\n",
    "        correct[rank] = sum(guesses) / len(guesses)\n",
    "    return correct\n",
    "\n",
    "def plot_accuracy_per_position(y_true, y_pred, low=50, high=51):\n",
    "    param, acc, _ = optimize(y_true, y_pred, low, high)\n",
    "    guesses = guess_threshold(y_true, y_pred, param, low, high)\n",
    "    correct = accuracy_per_position(guesses)\n",
    "    x, y = zip(*sorted(correct.items()))\n",
    "    plt.scatter(x, y)\n",
    "    plt.title(f\"Accuracy of {int(acc*100)}% for cutoff value {int(param)}\")\n",
    "\n",
    "# plot_avg_guesses(y_true, y_pred)\n",
    "# plot_optimal_param(y_true, y_pred, 10, 90)\n",
    "# plot_thresholds(y_true, y_pred)\n",
    "# plot_static_thresholds(y_true, y_pred, static_upper=90)\n",
    "\n",
    "# # Multiple ranking by how similar, tae the average, make a feature\n",
    "\n",
    "\n",
    "\n",
    "plot_accuracy_per_position(y_true, y_pred)"
   ]
  },
  {
   "cell_type": "code",
   "execution_count": null,
   "metadata": {},
   "outputs": [],
   "source": [
    "from sklearn.svm import SVR\n",
    "\n",
    "model = SVR() \n",
    "y_pred = run_model(model)"
   ]
  },
  {
   "cell_type": "code",
   "execution_count": 43,
   "metadata": {},
   "outputs": [
    {
     "data": {
      "image/png": "[encoded data removed]",
      "text/plain": [
       "<Figure size 432x288 with 1 Axes>"
      ]
     },
     "metadata": {},
     "output_type": "display_data"
    }
   ],
   "source": [
    "guesses = plot_avg_guesses(y_true, y_pred)"
   ]
  },
  {
   "cell_type": "code",
   "execution_count": 33,
   "metadata": {},
   "outputs": [
    {
     "data": {
      "text/plain": [
       "(33.778748, 45.692116)"
      ]
     },
     "execution_count": 33,
     "metadata": {},
     "output_type": "execute_result"
    }
   ],
   "source": [
    "np.mean(guesses[1]), np.mean(guesses[100])"
   ]
  },
  {
   "cell_type": "code",
   "execution_count": null,
   "metadata": {},
   "outputs": [],
   "source": []
  }
 ],
 "metadata": {
  "kernelspec": {
   "display_name": "Python 3",
   "language": "python",
   "name": "python3"
  },
  "language_info": {
   "codemirror_mode": {
    "name": "ipython",
    "version": 3
   },
   "file_extension": ".py",
   "mimetype": "text/x-python",
   "name": "python",
   "nbconvert_exporter": "python",
   "pygments_lexer": "ipython3",
   "version": "3.6.3"
  }
 },
 "nbformat": 4,
 "nbformat_minor": 2
}
