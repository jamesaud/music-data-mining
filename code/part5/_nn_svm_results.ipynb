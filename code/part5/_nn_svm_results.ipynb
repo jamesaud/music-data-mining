{
 "cells": [
  {
   "cell_type": "markdown",
   "metadata": {},
   "source": [
    "Need:\n",
    "\n",
    "\n",
    "1. Audio Features\n",
    "2. Lyrical Features  (emotion, bag of words tfidf)\n",
    "3. Page Ranked Artist (for recommendaiton)\n",
    "4. Look at similarity of songs to see where other songs ranked\n"
   ]
  },
  {
   "cell_type": "code",
   "execution_count": 179,
   "metadata": {},
   "outputs": [],
   "source": [
    "from pymongo import MongoClient\n",
    "from pprint import pprint\n",
    "from typing import List\n",
    "from functools import reduce\n",
    "from operator import add\n",
    "from IPython.display import clear_output\n",
    "import matplotlib.pyplot as plt\n",
    "from sklearn.metrics import mean_squared_error as mse\n",
    "\n",
    "\n",
    "# DB CONFIG\n",
    "client = MongoClient('mongo', 27017)\n",
    "db = client.music_db\n",
    "COLLECTION = db['part5-hot100-songs']\n",
    "\n",
    "\n",
    "def get_songs(collection):\n",
    "    return list(collection.find())\n",
    "\n",
    "def has_spotify(song):\n",
    "    return song.get('spotify', {}).get('audio_features')\n",
    "\n",
    "def has_lyrics(song):\n",
    "    if not song.get('lyrics'):\n",
    "        return False\n",
    "    \n",
    "    if song.get('lyrics') == 'null':\n",
    "        return False\n",
    "\n",
    "    if song.get('lyrics').get('error'):\n",
    "        return False\n",
    "    \n",
    "    if not song.get('tokens'):\n",
    "        return False\n",
    "\n",
    "    return True\n",
    "\n",
    "\n",
    "SONGS = get_songs(COLLECTION)\n",
    "songs = list(filter(has_lyrics, filter(has_spotify, SONGS)))"
   ]
  },
  {
   "cell_type": "code",
   "execution_count": 180,
   "metadata": {},
   "outputs": [
    {
     "data": {
      "text/plain": [
       "(168, 80)"
      ]
     },
     "execution_count": 180,
     "metadata": {},
     "output_type": "execute_result"
    },
    {
     "data": {
      "image/png": "[encoded data removed]",
      "text/plain": [
       "<Figure size 432x288 with 1 Axes>"
      ]
     },
     "metadata": {},
     "output_type": "display_data"
    }
   ],
   "source": [
    "pos = [song['peakPos'] for song in songs]\n",
    "plt.hist(pos)\n",
    "\n",
    "from collections import Counter\n",
    "Counter(pos)[1], Counter(pos)[2]"
   ]
  },
  {
   "cell_type": "code",
   "execution_count": 181,
   "metadata": {},
   "outputs": [],
   "source": [
    "import numpy as np\n",
    "import pandas as pd\n",
    "import copy\n",
    "pd.options.display.max_columns = None\n",
    "\n",
    "def to_df(songs):\n",
    "    df = pd.DataFrame(songs)\n",
    "    df = df.drop(columns=['_id', 'id', 'identifier', 'lyrics', 'genre', 'isNew', 'lastPos', 'rank', 'weeks', 'track_href', 'type', 'uri', 'spotify', 'analysis_url'])\n",
    "    df['lyrics_length'] = df['raw_lyrics'].apply(lambda lyrics: len(\"\".join(lyrics.split('\\n'))))\n",
    "    return df\n",
    "    \n",
    "df = to_df(songs)\n",
    "#df.head()"
   ]
  },
  {
   "cell_type": "code",
   "execution_count": 182,
   "metadata": {},
   "outputs": [],
   "source": [
    "y = pd.DataFrame(df['peakPos'])\n",
    "X = df.drop(['peakPos', 'artist', 'raw_lyrics', 'title', 'tokens'], axis=1)"
   ]
  },
  {
   "cell_type": "code",
   "execution_count": 183,
   "metadata": {},
   "outputs": [],
   "source": [
    "from sklearn.feature_extraction.text import TfidfVectorizer\n",
    "\n",
    "def vectorize_lyrics(songs):\n",
    "    lyrics_list = [\" \".join(song['tokens']) for song in songs]\n",
    "    tfidf_vectorizer = TfidfVectorizer()\n",
    "    tfidf_matrix = tfidf_vectorizer.fit_transform(lyrics_list)\n",
    "    tfidf_array = tfidf_matrix.toarray()\n",
    "    \n",
    "    for vector, song in zip(tfidf_array, songs):\n",
    "        song['tfidf'] = vector\n",
    "    \n",
    "    return tfidf_matrix\n",
    "\n",
    "    \n",
    "def vectorize_df_lyrics(df):\n",
    "    lyrics_df = df['tokens'].apply(\" \".join).values\n",
    "    tfidf_vectorizer = TfidfVectorizer()\n",
    "    tfidf_matrix = tfidf_vectorizer.fit_transform(lyrics_df)    \n",
    "    return tfidf_matrix\n",
    "    \n"
   ]
  },
  {
   "cell_type": "code",
   "execution_count": 184,
   "metadata": {},
   "outputs": [],
   "source": [
    "tfidf_matrix = vectorize_lyrics(songs)"
   ]
  },
  {
   "cell_type": "code",
   "execution_count": 185,
   "metadata": {},
   "outputs": [],
   "source": [
    "from sklearn.metrics import pairwise_distances\n",
    "\n",
    "tfidf_distances = pairwise_distances(tfidf_matrix, metric=\"cosine\")\n",
    "distances_features = pairwise_distances(X, metric=\"cosine\")"
   ]
  },
  {
   "cell_type": "code",
   "execution_count": 186,
   "metadata": {},
   "outputs": [],
   "source": [
    "from sklearn.model_selection import train_test_split  \n",
    "\n",
    "\n",
    "X_train, X_test, y_train, y_test = train_test_split(X, y, test_size=0.2)  \n",
    "y_true = y_test.values.reshape(-1)"
   ]
  },
  {
   "cell_type": "code",
   "execution_count": 187,
   "metadata": {},
   "outputs": [
    {
     "name": "stdout",
     "output_type": "stream",
     "text": [
      "\n"
     ]
    }
   ],
   "source": [
    "from sklearn.preprocessing import MinMaxScaler, StandardScaler\n",
    "from operator import itemgetter\n",
    "import copy\n",
    "\n",
    "print()\n",
    "\n",
    "def scale(similarity):\n",
    "    scaler = StandardScaler()\n",
    "    scaler.fit(similarity.reshape(-1, 1))\n",
    "    similarity = scaler.transform(similarity.reshape(-1, 1))  \n",
    "    return similarity.reshape(-1)\n",
    "\n",
    "def similarity_rank():\n",
    "    return\n",
    "\n",
    "def comute_distance_rank_unweighted(distances, train_df, amount=1000):\n",
    "    \"\"\" Weight by the ranking value\"\"\"\n",
    "    \"\"\" oututs list of ranks according to similarity of songs\"\"\"\n",
    "    indexes = train_df.index.values\n",
    "    index_set = set(indexes)\n",
    "    Osition = lambda index: train_df.loc[index].peakPos\n",
    "    distances = copy.deepcopy(distances)\n",
    "    rankings = []\n",
    "    \n",
    "    x = 1\n",
    "    for i in indexes:\n",
    "        x+=1\n",
    "        print(x, '/', len(indexes))\n",
    "        clear_output(wait=True)\n",
    "\n",
    "        rank = Osition(i)\n",
    "        similarities = distances[i]\n",
    "        similarities[i] = 1\n",
    "        \n",
    "        similar = [item for item in sorted(enumerate(similarities), key=itemgetter(1)) if item[0] in index_set][:amount]\n",
    "        \n",
    "        indxs = list(map(itemgetter(0), similar)) \n",
    "        ranks = np.array([train_df.loc[index].peakPos for index in indxs])  # Do rank * weights\n",
    "        rank = np.mean(ranks)\n",
    "        rankings.append(rank)\n",
    "        \n",
    "    return rankings\n",
    "\n",
    "def comute_distance_rank(distances, train_df, amount=1000, normalize=True):\n",
    "    \"\"\" Weight by the ranking value\"\"\"\n",
    "    \"\"\" oututs list of ranks according to similarity of songs\"\"\"\n",
    "    index_range = train_df.index.values\n",
    "    index_set = set(index_range)\n",
    "    Osition = lambda index: train_df.loc[index].peakPos\n",
    "    distances = copy.deepcopy(distances)\n",
    "    rankings = []\n",
    "    \n",
    "    x = 0\n",
    "    for i in index_range:\n",
    "        x+=1\n",
    "        print(x, '/', len(index_range))\n",
    "        clear_output(wait=True)\n",
    "        \n",
    "        rank = Osition(i)\n",
    "        similarities = distances[i]\n",
    "        \n",
    "        if normalize:\n",
    "            similarities = scale(similarities)\n",
    "\n",
    "        similarities[i] = 1\n",
    "        \n",
    "        similar = [item for item in sorted(enumerate(similarities), key=itemgetter(1)) if item[0] in index_set][:amount]\n",
    "        dist = np.array(list(map(itemgetter(1), similar)))\n",
    "        \n",
    "        if not normalize:\n",
    "            dist = 1 - dist     # Weight by 1 - distance\n",
    "\n",
    "        weights = dist / sum(dist)\n",
    "                \n",
    "        indexes = list(map(itemgetter(0), similar)) \n",
    "        ranks = np.array([train_df.loc[index].peakPos for index in indexes])  # Do rank * weights\n",
    "        rank = sum(ranks * weights)\n",
    "        rankings.append(rank)\n",
    "        \n",
    "    return rankings"
   ]
  },
  {
   "cell_type": "code",
   "execution_count": null,
   "metadata": {},
   "outputs": [
    {
     "name": "stdout",
     "output_type": "stream",
     "text": [
      "1784 / 3268\n"
     ]
    }
   ],
   "source": [
    "train_tfidf_ranks = comute_distance_rank(tfidf_distances, y_train, 400) # 500 best aram\n",
    "test_tfidf_ranks = comute_distance_rank(tfidf_distances, y_test, 400)"
   ]
  },
  {
   "cell_type": "code",
   "execution_count": null,
   "metadata": {},
   "outputs": [],
   "source": [
    "X_train['Similarity Rank'] = train_tfidf_ranks\n",
    "X_train['Similarity Rank'] = X_train['Similarity Rank'].fillna(X_train['Similarity Rank'].mean())\n",
    "\n",
    "X_test['Similarity Rank'] = test_tfidf_ranks\n",
    "X_test['Similarity Rank'] = X_test['Similarity Rank'].fillna(X_test['Similarity Rank'].mean())"
   ]
  },
  {
   "cell_type": "code",
   "execution_count": null,
   "metadata": {},
   "outputs": [],
   "source": [
    "train_feature_ranks = comute_distance_rank(distances_features, y_train, 100)\n",
    "test_feature_ranks = comute_distance_rank(distances_features, y_test, 100)"
   ]
  },
  {
   "cell_type": "code",
   "execution_count": null,
   "metadata": {},
   "outputs": [],
   "source": [
    "X_train['Feature Rank'] = train_feature_ranks\n",
    "X_test['Feature Rank'] = test_feature_ranks"
   ]
  },
  {
   "cell_type": "code",
   "execution_count": null,
   "metadata": {},
   "outputs": [],
   "source": [
    "from collections import defaultdict\n",
    "\n",
    "def rank_correlation(X_train, y_train, column,  title=\"\"):\n",
    "    guessed = X_train[column].values\n",
    "    true = y_train.peakPos.values\n",
    "    \n",
    "    acc = defaultdict(list)\n",
    "    \n",
    "    for x, y in zip(true, guessed):\n",
    "        acc[x].append(y)\n",
    "    \n",
    "    x, y = [], []\n",
    "    for rank, guesses in sorted(acc.items()):\n",
    "        x.append(rank)\n",
    "        y.append(np.mean(guesses))\n",
    "    \n",
    "    plt.plot(x, y, 'bo')\n",
    "    plt.title(title)\n",
    "    plt.show()\n",
    "\n",
    "rank_correlation(X_train, y_train, column = 'Similarity Rank', title='500 Nearest Lyric Similarity Ranks')\n",
    "rank_correlation(X_train, y_train, column = 'Feature Rank', title='100 Nearest Audio Feature Similarity Ranks')"
   ]
  },
  {
   "cell_type": "code",
   "execution_count": null,
   "metadata": {},
   "outputs": [],
   "source": [
    "def tfidf_index(indexes, tfidf_matrix):\n",
    "    return np.vstack([tfidf_matrix[index].toarray() for index in indexes])\n",
    "\n",
    "def distance_index(indexes, distances):\n",
    "    return np.vstack([distances[index] for index in indexes])\n",
    "\n",
    "\n",
    "tfidf_mat_X_train = tfidf_index(X_train.index.values, tfidf_matrix)\n",
    "tfidf_mat_X_test = tfidf_index(X_test.index.values, tfidf_matrix)\n",
    "\n",
    "distance_X_train = distance_index(X_train.index.values, tfidf_distances)\n",
    "distance_X_test = distance_index(X_test.index.values, tfidf_distances)"
   ]
  },
  {
   "cell_type": "code",
   "execution_count": null,
   "metadata": {},
   "outputs": [],
   "source": [
    "from sklearn.preprocessing import StandardScaler \n",
    "\n",
    "scaler = StandardScaler()  \n",
    "scaler.fit(X_train)\n",
    "\n",
    "X_train_norm = scaler.transform(X_train)  \n",
    "X_test_norm = scaler.transform(X_test) "
   ]
  },
  {
   "cell_type": "code",
   "execution_count": null,
   "metadata": {},
   "outputs": [],
   "source": [
    "import copy\n",
    "\n",
    "def combine_features(tfidf_matrix_train, distances, train_features):\n",
    "    combined_matrix = []\n",
    "    for tfidf, distance, features in zip(tfidf_matrix_train, distances, train_features):\n",
    "        combined = np.hstack([tfidf, features])  #features, tfidf, distance, \n",
    "        combined_matrix.append(combined)\n",
    "    return np.vstack(combined_matrix)\n",
    "\n",
    "_combined_X_train = combine_features(tfidf_mat_X_train, distance_X_train, X_train_norm)\n",
    "_combined_X_test = combine_features(tfidf_mat_X_test, distance_X_test, X_test_norm)"
   ]
  },
  {
   "cell_type": "code",
   "execution_count": null,
   "metadata": {},
   "outputs": [],
   "source": [
    "combined_X_train = _combined_X_train\n",
    "combined_X_test = _combined_X_test"
   ]
  },
  {
   "cell_type": "code",
   "execution_count": null,
   "metadata": {},
   "outputs": [],
   "source": [
    "combined_X_train[0].shape"
   ]
  },
  {
   "cell_type": "code",
   "execution_count": null,
   "metadata": {},
   "outputs": [],
   "source": [
    "# Fit regression model\n",
    "from sklearn.tree import DecisionTreeRegressor\n",
    "from sklearn.metrics import mean_absolute_error\n",
    "\n",
    "\n",
    "import matplotlib.pyplot as plt\n",
    "\n",
    "def plot_predictions(y_true, y_pred):\n",
    "    x, y = [], []\n",
    "    for true, pred in zip(y_true, y_pred):\n",
    "        diff = abs(true - pred)\n",
    "        \n",
    "    length = len(y_true)\n",
    "    plt.plot(y_true, 'bo')\n",
    "    plt.plot(y_pred, 'ro')\n",
    "    \n",
    "    \n",
    "def plot_sorted_predictions(y_true, y_pred):\n",
    "    true, pred = zip(*sorted(zip(y_true, y_pred)))\n",
    "    plt.plot(true, pred, 'bo')\n",
    "\n",
    "\n",
    "def run_model(model, train=False):\n",
    "\n",
    "    model.fit(X_train_norm, y_train.values.reshape(-1))\n",
    "    # Predict\n",
    "    y_pred = model.predict(X_test_norm)\n",
    "    y_pred = [min(pred, 100) for pred in y_pred]\n",
    "    print(\"Error:\", mse(y_true, y_pred))\n",
    "    plt.figure(figsize=(20,10))\n",
    "    plot_predictions(y_true, y_pred)\n",
    "    return y_pred\n",
    "\n",
    "\n",
    "from collections import defaultdict\n",
    "\n",
    "def find_avg_guess_per_rank(y_true, y_pred):\n",
    "    buckets = defaultdict(lambda: [])\n",
    "    for true, pred in zip(y_true, y_pred):\n",
    "        buckets[true].append(pred)\n",
    "    return buckets\n",
    "\n",
    "\n",
    "def plot_avg_guesses(y_true, y_pred):\n",
    "    guesses = find_avg_guess_per_rank(y_true, y_pred)\n",
    "    plt.plot(sorted(guesses.keys()), [np.mean(guesses[i]) for i in sorted(guesses.keys())])\n",
    "    return guesses\n",
    "    "
   ]
  },
  {
   "cell_type": "code",
   "execution_count": null,
   "metadata": {},
   "outputs": [],
   "source": [
    "# build model\n",
    "from keras.models import Sequential\n",
    "from keras.layers import Dense, Dropout, Activation, Conv1D, GlobalMaxPooling1D\n",
    "\n",
    "\n",
    "shape = combined_X_train.shape\n",
    "#input_shape=(17830,)\n",
    "\n",
    "model = Sequential()\n",
    "model.add(Dense(64, input_shape=(shape[1],)))\n",
    "model.add(Dropout(0.5))\n",
    "model.add(Activation('relu'))\n",
    "\n",
    "model.add(Dense(32, activation='relu'))\n",
    "model.add(Dropout(0.5))\n",
    "model.add(Activation('relu'))\n",
    "\n",
    "model.add(Dense(32, activation='relu'))\n",
    "model.add(Dropout(0.5))\n",
    "model.add(Activation('relu'))\n",
    "\n",
    "model.add(Dense(1, activation='linear'))\n",
    "model.compile(loss='mse', optimizer='adam')\n",
    "\n",
    "model.summary()"
   ]
  },
  {
   "cell_type": "code",
   "execution_count": null,
   "metadata": {},
   "outputs": [],
   "source": [
    "model.fit(combined_X_train, y_train, batch_size=256, epochs=25, verbose=True, validation_split=0.0)"
   ]
  },
  {
   "cell_type": "code",
   "execution_count": null,
   "metadata": {},
   "outputs": [],
   "source": [
    "from sklearn.metrics import mean_squared_error as mse\n",
    "\n",
    "\n",
    "y_pred = model.predict(combined_X_test).reshape(-1)\n",
    "y_true = y_test.values.reshape(-1)\n",
    "\n",
    "def print_predictions(y_pred, y_true):\n",
    "    for true, pred in zip(y_true, y_pred):\n",
    "        print(true, int(pred))\n",
    "        \n",
    "\n",
    "#print_predictions(y_pred, y_true)\n",
    "print(\"Error:\", mse(y_true, y_pred))\n",
    "plot_sorted_predictions(y_true, y_pred)"
   ]
  },
  {
   "cell_type": "code",
   "execution_count": null,
   "metadata": {},
   "outputs": [],
   "source": [
    "y_test.hist()"
   ]
  },
  {
   "cell_type": "code",
   "execution_count": null,
   "metadata": {},
   "outputs": [],
   "source": [
    "def plot_avg_guesses(y_true, y_pred, error=False):\n",
    "    guesses = find_avg_guess_per_rank(y_true, y_pred)\n",
    "    x = sorted(guesses.keys())\n",
    "    y = [np.mean(guesses[i]) for i in x]\n",
    "    yerr = [np.std(guesses[i]) for i in x]\n",
    "    plt.plot(x, y, 'bo')\n",
    "    plt.title(\"Guessed Rank vs True Rank\")\n",
    "    plt.ylabel(\"Average Guessed Rank\")\n",
    "    plt.xlabel(\"True Rank\")\n",
    "    if error:\n",
    "        plt.errorbar(x, y, yerr=yerr)\n",
    "    plt.show()\n",
    "\n",
    "    return guesses\n",
    "\n",
    "guesses = plot_avg_guesses(y_true, y_pred)\n",
    "guesses = plot_avg_guesses(y_true, y_pred, True)"
   ]
  },
  {
   "cell_type": "code",
   "execution_count": null,
   "metadata": {},
   "outputs": [],
   "source": [
    "import math\n",
    "from sklearn.metrics import mean_squared_error as mse\n",
    "\n",
    "def baseline(y_test):\n",
    "    mean = y_test.peakPos.values.mean()\n",
    "    guesses = [mean] * len(y_test) \n",
    "    return mse(y_test, guesses)\n",
    "\n",
    "baseline(y_train)\n"
   ]
  },
  {
   "cell_type": "code",
   "execution_count": null,
   "metadata": {},
   "outputs": [],
   "source": [
    "from collections import Counter\n",
    "from pprint import pprint\n",
    "from collections import defaultdict\n",
    "import scipy\n",
    "\n",
    "def guess_threshold(y_true, y_pred, val=36, low_threshold=20, high_threshold=80):\n",
    "    guesses = find_avg_guess_per_rank(y_true, y_pred)\n",
    "\n",
    "    evaluation = defaultdict(list)\n",
    "    for pos, guesses in guesses.items():\n",
    "        if high_threshold > pos > low_threshold:\n",
    "            continue\n",
    "            \n",
    "        for guess in guesses:\n",
    "            if pos <= low_threshold:\n",
    "                evaluation[pos].append(guess < val)\n",
    "                    \n",
    "            if pos >= high_threshold:\n",
    "                evaluation[pos].append( guess > val)\n",
    "    return evaluation\n",
    "\n",
    "\n",
    "def error_fn(val):\n",
    "    return (1 + val) ** 2\n",
    "\n",
    "def evaluate_guesses(val, y_true, y_pred, low_threshold=10, high_threshold=91):\n",
    "    evaluation = guess_threshold(y_true, y_pred, val, low_threshold, high_threshold)\n",
    "\n",
    "    low_avg = 0\n",
    "    high_avg = 0\n",
    "    \n",
    "    for pos, vals in evaluation.items():\n",
    "        correct = sum(vals) / len(vals) \n",
    "        err = error_fn(correct)\n",
    "        if pos <= low_threshold:\n",
    "            low_avg += correct\n",
    "        else:\n",
    "            high_avg += correct            \n",
    "        \n",
    "    num_high = 101 - high_threshold\n",
    "    num_low = low_threshold\n",
    "    total = num_high + num_low\n",
    "\n",
    "    low_avg /= num_low    \n",
    "    high_avg /= num_high\n",
    "                        \n",
    "    avg = (low_avg + high_avg) / 2\n",
    "    return avg\n",
    "\n",
    "\n",
    "def optimize(y_true, y_pred, low_threshold=10, high_threshold=90):\n",
    "    vals = np.linspace(30, 60, 200)\n",
    "    \n",
    "    param, maxi = 0, -1\n",
    "    \n",
    "    x, y = [], []\n",
    "    for i in vals:\n",
    "        acc = evaluate_guesses(i, y_true, y_pred, low_threshold, high_threshold)\n",
    "        x.append(i)\n",
    "        y.append(acc)\n",
    "\n",
    "        if acc > maxi:\n",
    "            param = i\n",
    "            maxi = acc\n",
    "            \n",
    "    return param, maxi, [x, y]\n",
    "    \n",
    "    \n",
    "def plot_thresholds(y_true, y_pred):\n",
    "    x, y = [], []\n",
    "    \n",
    "    \n",
    "    for i in range(1, 50, 1):\n",
    "        param, accuracy, _ = optimize(y_true, y_pred, i, high_threshold=101-i)\n",
    "        x.append(i)\n",
    "        y.append(accuracy)\n",
    "    \n",
    "    plt.plot(x, y)\n",
    "    \n",
    "    plt.title(\"Dyanmic Threshold ([10, 90], [20, 80], ...)\")\n",
    "    plt.xlabel(\"Threshold\")\n",
    "    plt.ylabel(\"Accuracy\")\n",
    "\n",
    "    plt.show()\n",
    "    return x, y\n",
    "\n",
    "\n",
    "def plot_static_thresholds(y_true, y_pred, static_upper=90):\n",
    "    x, y = [], []\n",
    "\n",
    "    \n",
    "    for i in range(1, 50, 1):\n",
    "        param, accuracy, _ = optimize(y_true, y_pred, i, high_threshold=static_upper)\n",
    "        x.append(i)\n",
    "        y.append(accuracy)\n",
    "    \n",
    "    plt.plot(x, y)\n",
    "    plt.title(f\"Static Threshold ([10, {static_upper}], [20, {static_upper}], ...)\")\n",
    "    plt.xlabel(\"Threshold\")\n",
    "    plt.ylabel(\"Accuracy\")    \n",
    "    plt.show()\n",
    "    return x, y\n",
    "\n",
    "\n",
    "def plot_optimal_param(y_true, y_pred, low_threshold=10, high_threshold=90):\n",
    "    param, acc, [x, y] = optimize(y_true, y_pred, low_threshold, high_threshold)\n",
    "    plt.plot(x, y)\n",
    "    plt.title(f\"Cutoff Accuracy for Threshold [{low_threshold}, {high_threshold}]\")\n",
    "    plt.xlabel(\"Cutoff Value\")\n",
    "    plt.ylabel(\"Accuracy\")\n",
    "    plt.show()\n",
    "    \n",
    "    \n",
    "def accuracy_per_position(guess_dict):\n",
    "    correct = {}\n",
    "    for rank, guesses in guess_dict.items():\n",
    "        correct[rank] = sum(guesses) / len(guesses)\n",
    "    return correct\n",
    "\n",
    "def plot_accuracy_per_position(y_true, y_pred, low=50, high=51):\n",
    "    param, acc, _ = optimize(y_true, y_pred, low, high)\n",
    "    guesses = guess_threshold(y_true, y_pred, param, low, high)\n",
    "    correct = accuracy_per_position(guesses)\n",
    "    x, y = zip(*sorted(correct.items()))\n",
    "    plt.scatter(x, y)\n",
    "    plt.title(f\"Accuracy of {int(acc*100)}% for cutoff value {int(param)}, threshold [{low}, {high}]\")\n",
    "    plt.show()\n",
    "\n",
    "plot_avg_guesses(y_true, y_pred)\n",
    "plot_optimal_param(y_true, y_pred, 10, 90)\n",
    "plot_thresholds(y_true, y_pred)\n",
    "plot_static_thresholds(y_true, y_pred, static_upper=90)\n",
    "plot_accuracy_per_position(y_true, y_pred)\n",
    "plot_accuracy_per_position(y_true, y_pred, 10, 90)\n",
    "\n",
    "# # Multiple ranking by how similar, tae the average, make a feature"
   ]
  },
  {
   "cell_type": "code",
   "execution_count": null,
   "metadata": {},
   "outputs": [],
   "source": [
    "# recision recall for to 10 vs bottom 90 "
   ]
  },
  {
   "cell_type": "code",
   "execution_count": null,
   "metadata": {},
   "outputs": [],
   "source": [
    "from sklearn.svm import SVR\n",
    "\n",
    "model = SVR() \n",
    "y_pred = run_model(model)"
   ]
  },
  {
   "cell_type": "code",
   "execution_count": null,
   "metadata": {},
   "outputs": [],
   "source": [
    "guesses = plot_avg_guesses(y_true, y_pred)"
   ]
  },
  {
   "cell_type": "markdown",
   "metadata": {},
   "source": [
    "##### "
   ]
  },
  {
   "cell_type": "code",
   "execution_count": null,
   "metadata": {},
   "outputs": [],
   "source": []
  },
  {
   "cell_type": "code",
   "execution_count": null,
   "metadata": {},
   "outputs": [],
   "source": []
  },
  {
   "cell_type": "code",
   "execution_count": null,
   "metadata": {},
   "outputs": [],
   "source": []
  },
  {
   "cell_type": "code",
   "execution_count": null,
   "metadata": {},
   "outputs": [],
   "source": []
  }
 ],
 "metadata": {
  "kernelspec": {
   "display_name": "Python 3",
   "language": "python",
   "name": "python3"
  },
  "language_info": {
   "codemirror_mode": {
    "name": "ipython",
    "version": 3
   },
   "file_extension": ".py",
   "mimetype": "text/x-python",
   "name": "python",
   "nbconvert_exporter": "python",
   "pygments_lexer": "ipython3",
   "version": "3.6.3"
  }
 },
 "nbformat": 4,
 "nbformat_minor": 2
}
