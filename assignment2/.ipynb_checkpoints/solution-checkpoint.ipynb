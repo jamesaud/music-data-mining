{
 "cells": [
  {
   "cell_type": "code",
   "execution_count": 2,
   "metadata": {},
   "outputs": [],
   "source": [
    "import os\n",
    "import pandas as pd\n",
    "\n",
    "workdir = os.getcwd()\n",
    "def film_data():\n",
    "    with open(os.path.join(workdir, 'selected_films.txt')) as file:\n",
    "        lines = file.readlines()\n",
    "        \n",
    "    lines = map(str.strip, lines)\n",
    "    lines = [[line[:4], line[5:]] for line in lines]\n",
    "    lines = [[int(line[0])] + [line[1]] + [i] for i, line in enumerate(lines, 1)]   \n",
    "    lines = list(lines)\n",
    "    df = pd.DataFrame(lines, columns=['Year', 'Title', 'Index'])\n",
    "    return df\n",
    "\n",
    "def user_data():\n",
    "    with open(os.path.join(workdir, 'm_u_ratings.txt')) as file:\n",
    "        lines = file.readlines()\n",
    "    \n",
    "    lines = map(str.strip, lines)\n",
    "    lines = [map(int, line.split()) for line in lines]\n",
    "    df = pd.DataFrame(lines, columns=['MovieID', 'UserID', 'Rating'])\n",
    "    return df\n"
   ]
  },
  {
   "cell_type": "code",
   "execution_count": 3,
   "metadata": {
    "scrolled": true
   },
   "outputs": [
    {
     "data": {
      "text/html": [
       "<div>\n",
       "<style scoped>\n",
       "    .dataframe tbody tr th:only-of-type {\n",
       "        vertical-align: middle;\n",
       "    }\n",
       "\n",
       "    .dataframe tbody tr th {\n",
       "        vertical-align: top;\n",
       "    }\n",
       "\n",
       "    .dataframe thead th {\n",
       "        text-align: right;\n",
       "    }\n",
       "</style>\n",
       "<table border=\"1\" class=\"dataframe\">\n",
       "  <thead>\n",
       "    <tr style=\"text-align: right;\">\n",
       "      <th></th>\n",
       "      <th>MovieID</th>\n",
       "      <th>UserID</th>\n",
       "      <th>Rating</th>\n",
       "    </tr>\n",
       "  </thead>\n",
       "  <tbody>\n",
       "    <tr>\n",
       "      <th>0</th>\n",
       "      <td>1</td>\n",
       "      <td>2897</td>\n",
       "      <td>3</td>\n",
       "    </tr>\n",
       "    <tr>\n",
       "      <th>1</th>\n",
       "      <td>1</td>\n",
       "      <td>6549</td>\n",
       "      <td>4</td>\n",
       "    </tr>\n",
       "    <tr>\n",
       "      <th>2</th>\n",
       "      <td>1</td>\n",
       "      <td>389</td>\n",
       "      <td>4</td>\n",
       "    </tr>\n",
       "    <tr>\n",
       "      <th>3</th>\n",
       "      <td>1</td>\n",
       "      <td>287</td>\n",
       "      <td>3</td>\n",
       "    </tr>\n",
       "    <tr>\n",
       "      <th>4</th>\n",
       "      <td>1</td>\n",
       "      <td>8867</td>\n",
       "      <td>3</td>\n",
       "    </tr>\n",
       "  </tbody>\n",
       "</table>\n",
       "</div>"
      ],
      "text/plain": [
       "   MovieID  UserID  Rating\n",
       "0        1    2897       3\n",
       "1        1    6549       4\n",
       "2        1     389       4\n",
       "3        1     287       3\n",
       "4        1    8867       3"
      ]
     },
     "execution_count": 3,
     "metadata": {},
     "output_type": "execute_result"
    }
   ],
   "source": [
    "ratings = user_data()\n",
    "ratings.head()"
   ]
  },
  {
   "cell_type": "code",
   "execution_count": 4,
   "metadata": {},
   "outputs": [
    {
     "data": {
      "text/html": [
       "<div>\n",
       "<style scoped>\n",
       "    .dataframe tbody tr th:only-of-type {\n",
       "        vertical-align: middle;\n",
       "    }\n",
       "\n",
       "    .dataframe tbody tr th {\n",
       "        vertical-align: top;\n",
       "    }\n",
       "\n",
       "    .dataframe thead th {\n",
       "        text-align: right;\n",
       "    }\n",
       "</style>\n",
       "<table border=\"1\" class=\"dataframe\">\n",
       "  <thead>\n",
       "    <tr style=\"text-align: right;\">\n",
       "      <th></th>\n",
       "      <th>Year</th>\n",
       "      <th>Title</th>\n",
       "      <th>Index</th>\n",
       "    </tr>\n",
       "  </thead>\n",
       "  <tbody>\n",
       "    <tr>\n",
       "      <th>0</th>\n",
       "      <td>2000</td>\n",
       "      <td>Miss Congeniality</td>\n",
       "      <td>1</td>\n",
       "    </tr>\n",
       "    <tr>\n",
       "      <th>1</th>\n",
       "      <td>1996</td>\n",
       "      <td>Independence Day</td>\n",
       "      <td>2</td>\n",
       "    </tr>\n",
       "    <tr>\n",
       "      <th>2</th>\n",
       "      <td>2000</td>\n",
       "      <td>The Patriot</td>\n",
       "      <td>3</td>\n",
       "    </tr>\n",
       "    <tr>\n",
       "      <th>3</th>\n",
       "      <td>2004</td>\n",
       "      <td>The Day After Tomorrow</td>\n",
       "      <td>4</td>\n",
       "    </tr>\n",
       "    <tr>\n",
       "      <th>4</th>\n",
       "      <td>2003</td>\n",
       "      <td>Pirates of the Caribbean: The Curse of the Bla...</td>\n",
       "      <td>5</td>\n",
       "    </tr>\n",
       "  </tbody>\n",
       "</table>\n",
       "</div>"
      ],
      "text/plain": [
       "   Year                                              Title  Index\n",
       "0  2000                                  Miss Congeniality      1\n",
       "1  1996                                   Independence Day      2\n",
       "2  2000                                        The Patriot      3\n",
       "3  2004                             The Day After Tomorrow      4\n",
       "4  2003  Pirates of the Caribbean: The Curse of the Bla...      5"
      ]
     },
     "execution_count": 4,
     "metadata": {},
     "output_type": "execute_result"
    }
   ],
   "source": [
    "films = film_data()\n",
    "films.head()"
   ]
  },
  {
   "cell_type": "code",
   "execution_count": 5,
   "metadata": {},
   "outputs": [],
   "source": [
    "from sklearn.model_selection import train_test_split\n",
    "\n",
    "train, test = train_test_split(ratings, test_size=0.1)"
   ]
  },
  {
   "cell_type": "code",
   "execution_count": 6,
   "metadata": {},
   "outputs": [
    {
     "data": {
      "text/html": [
       "<div>\n",
       "<style scoped>\n",
       "    .dataframe tbody tr th:only-of-type {\n",
       "        vertical-align: middle;\n",
       "    }\n",
       "\n",
       "    .dataframe tbody tr th {\n",
       "        vertical-align: top;\n",
       "    }\n",
       "\n",
       "    .dataframe thead th {\n",
       "        text-align: right;\n",
       "    }\n",
       "</style>\n",
       "<table border=\"1\" class=\"dataframe\">\n",
       "  <thead>\n",
       "    <tr style=\"text-align: right;\">\n",
       "      <th></th>\n",
       "      <th>MovieID</th>\n",
       "      <th>UserID</th>\n",
       "      <th>Rating</th>\n",
       "    </tr>\n",
       "  </thead>\n",
       "  <tbody>\n",
       "    <tr>\n",
       "      <th>4165088</th>\n",
       "      <td>551</td>\n",
       "      <td>5510</td>\n",
       "      <td>5</td>\n",
       "    </tr>\n",
       "    <tr>\n",
       "      <th>4786361</th>\n",
       "      <td>660</td>\n",
       "      <td>5321</td>\n",
       "      <td>4</td>\n",
       "    </tr>\n",
       "    <tr>\n",
       "      <th>962454</th>\n",
       "      <td>111</td>\n",
       "      <td>4820</td>\n",
       "      <td>2</td>\n",
       "    </tr>\n",
       "    <tr>\n",
       "      <th>4839094</th>\n",
       "      <td>669</td>\n",
       "      <td>3103</td>\n",
       "      <td>5</td>\n",
       "    </tr>\n",
       "    <tr>\n",
       "      <th>5710785</th>\n",
       "      <td>832</td>\n",
       "      <td>1443</td>\n",
       "      <td>5</td>\n",
       "    </tr>\n",
       "  </tbody>\n",
       "</table>\n",
       "</div>"
      ],
      "text/plain": [
       "         MovieID  UserID  Rating\n",
       "4165088      551    5510       5\n",
       "4786361      660    5321       4\n",
       "962454       111    4820       2\n",
       "4839094      669    3103       5\n",
       "5710785      832    1443       5"
      ]
     },
     "execution_count": 6,
     "metadata": {},
     "output_type": "execute_result"
    }
   ],
   "source": [
    "test.head()"
   ]
  },
  {
   "cell_type": "code",
   "execution_count": 7,
   "metadata": {},
   "outputs": [],
   "source": [
    "n_users = ratings.loc[ratings['UserID'].idxmax()]['UserID']\n",
    "n_items = int(films[\"Index\"].count())\n"
   ]
  },
  {
   "cell_type": "code",
   "execution_count": 36,
   "metadata": {},
   "outputs": [],
   "source": [
    "import numpy as np\n",
    "\n",
    "def calc_data_matrix(train):\n",
    "\n",
    "    data_matrix = np.zeros((n_users, n_items))\n",
    "\n",
    "    for line in train.itertuples():\n",
    "                    # User ID .  #movieID . #rating\n",
    "        data_matrix[line.UserID-1, line.MovieID-1] = line.Rating\n",
    "    return data_matrix\n"
   ]
  },
  {
   "cell_type": "code",
   "execution_count": 37,
   "metadata": {},
   "outputs": [],
   "source": [
    "from sklearn.metrics.pairwise import pairwise_distances \n",
    "\n",
    "def get_similarities(data_matrix):\n",
    "    user_similarity = pairwise_distances(data_matrix, metric='cosine')\n",
    "    item_similarity = pairwise_distances(data_matrix.T, metric='cosine')\n",
    "    return user_similarity, item_similarity\n"
   ]
  },
  {
   "cell_type": "code",
   "execution_count": 38,
   "metadata": {},
   "outputs": [],
   "source": [
    "def predict(ratings, similarity, type='user'):\n",
    "    if type == 'user':\n",
    "        mean_user_rating = ratings.mean(axis=1)\n",
    "        #We use np.newaxis so that mean_user_rating has same format as ratings\n",
    "        ratings_diff = (ratings - mean_user_rating[:, np.newaxis])\n",
    "        pred = mean_user_rating[:, np.newaxis] + similarity.dot(ratings_diff) / np.array([np.abs(similarity).sum(axis=1)]).T\n",
    "    elif type == 'item':\n",
    "        pred = ratings.dot(similarity) / np.array([np.abs(similarity).sum(axis=1)])\n",
    "    return pred"
   ]
  },
  {
   "cell_type": "code",
   "execution_count": 34,
   "metadata": {},
   "outputs": [],
   "source": [
    "from sklearn.metrics import mean_absolute_error as mse\n",
    "\n",
    "def get_y_pred(prediction, test):\n",
    "\n",
    "    y_pred = []\n",
    "    for i, movieID, userID, Rating in test.itertuples():\n",
    "        rating = prediction[userID-1][movieID-1]\n",
    "        y_pred.append(rating)\n",
    "    return y_pred\n",
    "\n",
    "def predict_mse(prediction, test):\n",
    "    y_pred = get_y_pred(prediction, test)\n",
    "    y_true = test['Rating'].values\n",
    "    return mse(y_true, y_pred, sample_weight=None, multioutput='uniform_average')\n",
    "\n",
    "\n",
    "def pred_mse(train, test):\n",
    "    \"\"\" returns mse for user_prediction and item_prediction \"\"\"\n",
    "    data_matrix = calc_data_matrix(train)\n",
    "    user_similarity, item_similarity = get_similarities(data_matrix)\n",
    "    \n",
    "    user_prediction = predict(data_matrix, user_similarity, type='user')\n",
    "    item_prediction = predict(data_matrix, item_similarity, type='item')\n",
    "    \n",
    "    mse_user = predict_mse(user_prediction, test) \n",
    "    mse_item = predict_mse(item_prediction, test)\n",
    "\n",
    "    return mse_user, mse_item"
   ]
  },
  {
   "cell_type": "code",
   "execution_count": 15,
   "metadata": {},
   "outputs": [],
   "source": [
    "from sklearn.metrics import mean_absolute_error as mse\n",
    "from sklearn.model_selection import KFold\n",
    "\n",
    "kf = KFold(n_splits=10)\n",
    "\n",
    "for train_index, test_index in kf.split(ratings):\n",
    "    train, test = ratings.iloc[train_index], ratings.iloc[test_index] \n",
    "    train, test = train_test_split(ratings, test_size=0.1)\n",
    "    mse_user, mse_item = pred_mse(train, test)\n",
    "    mse_user_error += mse_user\n",
    "    mse_item_error += mse_item\n",
    "\n",
    "\n",
    "mse_user_error /= 10\n",
    "mse_item_error /= 10"
   ]
  },
  {
   "cell_type": "code",
   "execution_count": 16,
   "metadata": {},
   "outputs": [
    {
     "data": {
      "text/plain": [
       "(1.7049388250414481, 2.105491518290044)"
      ]
     },
     "execution_count": 16,
     "metadata": {},
     "output_type": "execute_result"
    }
   ],
   "source": [
    "mse_user_error, mse_item_error"
   ]
  },
  {
   "cell_type": "markdown",
   "metadata": {},
   "source": [
    "# Question 1\n",
    "\n",
    "\n",
    "a) MAE for user based collaborative filtering: 1.705\n",
    "\n",
    "b) MAE for item based collaborative filtering: 2.105\n",
    "\n"
   ]
  },
  {
   "cell_type": "code",
   "execution_count": 18,
   "metadata": {},
   "outputs": [],
   "source": [
    "import random\n",
    "from functools import reduce\n",
    "\n",
    "# Selected 100 users ratings, \n",
    "users = [random.randint(1, n_users) for _ in range(100)]\n",
    "\n",
    "# Select 10% of each user's ratings \n",
    "test = [ratings[ratings.UserID==userid].sample(frac=.1) for userid in users]\n",
    "test = pd.concat(test)"
   ]
  },
  {
   "cell_type": "code",
   "execution_count": 32,
   "metadata": {},
   "outputs": [
    {
     "name": "stdout",
     "output_type": "stream",
     "text": [
      "9861256 9871158\n"
     ]
    }
   ],
   "source": [
    "# Drop the test from the training set\n",
    "train = ratings.drop(test.index)"
   ]
  },
  {
   "cell_type": "code",
   "execution_count": 39,
   "metadata": {},
   "outputs": [],
   "source": [
    "data_matrix = calc_data_matrix(train)\n",
    "user_similarity, item_similarity = get_similarities(data_matrix)\n",
    "\n",
    "user_prediction = predict(data_matrix, user_similarity, type='user')\n",
    "item_prediction = predict(data_matrix, item_similarity, type='item')"
   ]
  },
  {
   "cell_type": "code",
   "execution_count": 51,
   "metadata": {},
   "outputs": [
    {
     "data": {
      "text/html": [
       "<div>\n",
       "<style scoped>\n",
       "    .dataframe tbody tr th:only-of-type {\n",
       "        vertical-align: middle;\n",
       "    }\n",
       "\n",
       "    .dataframe tbody tr th {\n",
       "        vertical-align: top;\n",
       "    }\n",
       "\n",
       "    .dataframe thead th {\n",
       "        text-align: right;\n",
       "    }\n",
       "</style>\n",
       "<table border=\"1\" class=\"dataframe\">\n",
       "  <thead>\n",
       "    <tr style=\"text-align: right;\">\n",
       "      <th></th>\n",
       "      <th>MovieID</th>\n",
       "      <th>UserID</th>\n",
       "      <th>Rating</th>\n",
       "    </tr>\n",
       "  </thead>\n",
       "  <tbody>\n",
       "    <tr>\n",
       "      <th>5006431</th>\n",
       "      <td>699</td>\n",
       "      <td>4633</td>\n",
       "      <td>4</td>\n",
       "    </tr>\n",
       "    <tr>\n",
       "      <th>2060814</th>\n",
       "      <td>252</td>\n",
       "      <td>4633</td>\n",
       "      <td>3</td>\n",
       "    </tr>\n",
       "    <tr>\n",
       "      <th>7385980</th>\n",
       "      <td>1207</td>\n",
       "      <td>4633</td>\n",
       "      <td>4</td>\n",
       "    </tr>\n",
       "    <tr>\n",
       "      <th>5132607</th>\n",
       "      <td>722</td>\n",
       "      <td>4633</td>\n",
       "      <td>2</td>\n",
       "    </tr>\n",
       "    <tr>\n",
       "      <th>8267774</th>\n",
       "      <td>1441</td>\n",
       "      <td>4633</td>\n",
       "      <td>2</td>\n",
       "    </tr>\n",
       "  </tbody>\n",
       "</table>\n",
       "</div>"
      ],
      "text/plain": [
       "         MovieID  UserID  Rating\n",
       "5006431      699    4633       4\n",
       "2060814      252    4633       3\n",
       "7385980     1207    4633       4\n",
       "5132607      722    4633       2\n",
       "8267774     1441    4633       2"
      ]
     },
     "execution_count": 51,
     "metadata": {},
     "output_type": "execute_result"
    }
   ],
   "source": [
    "test.head()"
   ]
  },
  {
   "cell_type": "code",
   "execution_count": 74,
   "metadata": {},
   "outputs": [
    {
     "ename": "NameError",
     "evalue": "name 'prediction' is not defined",
     "output_type": "error",
     "traceback": [
      "\u001b[0;31m---------------------------------------------------------------------------\u001b[0m",
      "\u001b[0;31mNameError\u001b[0m                                 Traceback (most recent call last)",
      "\u001b[0;32m<ipython-input-74-c98a811f9326>\u001b[0m in \u001b[0;36m<module>\u001b[0;34m()\u001b[0m\n\u001b[1;32m     19\u001b[0m \u001b[0mpredictions\u001b[0m \u001b[0;34m=\u001b[0m \u001b[0mdf\u001b[0m\u001b[0;34m[\u001b[0m\u001b[0mdf\u001b[0m\u001b[0;34m.\u001b[0m\u001b[0mindex\u001b[0m \u001b[0;34m==\u001b[0m \u001b[0;36m433\u001b[0m\u001b[0;34m]\u001b[0m\u001b[0;34m\u001b[0m\u001b[0m\n\u001b[1;32m     20\u001b[0m \u001b[0;34m\u001b[0m\u001b[0m\n\u001b[0;32m---> 21\u001b[0;31m \u001b[0mpredictions\u001b[0m\u001b[0;34m.\u001b[0m\u001b[0mmask\u001b[0m\u001b[0;34m(\u001b[0m\u001b[0mprediction\u001b[0m\u001b[0;34m!=\u001b[0m\u001b[0;36m4633\u001b[0m\u001b[0;34m)\u001b[0m\u001b[0;34m\u001b[0m\u001b[0m\n\u001b[0m\u001b[1;32m     22\u001b[0m \u001b[0;34m\u001b[0m\u001b[0m\n\u001b[1;32m     23\u001b[0m \u001b[0;31m# # Need to select the movies for each user\u001b[0m\u001b[0;34m\u001b[0m\u001b[0;34m\u001b[0m\u001b[0m\n",
      "\u001b[0;31mNameError\u001b[0m: name 'prediction' is not defined"
     ]
    }
   ],
   "source": [
    "from collections import namedtuple\n",
    "\n",
    "def nlargest(n, user_movie_ratings):\n",
    "    Rating = namedtuple(\"Rating\", ['movieID', 'rating'])\n",
    "    ratings = []\n",
    "    \n",
    "    for i, predicted_rating in enumerate(user_movie_ratings):\n",
    "        pass\n",
    "    \n",
    "def datamatrix_to_df(data_matrix):\n",
    "    return pd.DataFrame(data_matrix)\n",
    "    \n",
    "        \n",
    "df = datamatrix_to_df(data_matrix)\n",
    "df.index = np.arange(1, len(df)+1)\n",
    "df.columns = np.arange(1, len(df.columns.values) + 1)\n",
    "\n",
    "# Predcitions for the 100 users\n",
    "predictions = df[df.index == 433]\n",
    "\n",
    "predictions.mask(prediction!=4633)\n",
    "\n",
    "# # Need to select the movies for each user\n",
    "# for _, ratings in predictions.iterrows():\n",
    "#     userID = ratings.index\n",
    "#     movieRatings = list(enumerate(ratings.values, 1))\n",
    "#     print(movieRatings)\n",
    "#     break"
   ]
  },
  {
   "cell_type": "code",
   "execution_count": null,
   "metadata": {},
   "outputs": [],
   "source": []
  }
 ],
 "metadata": {
  "kernelspec": {
   "display_name": "Python 3",
   "language": "python",
   "name": "python3"
  },
  "language_info": {
   "codemirror_mode": {
    "name": "ipython",
    "version": 3
   },
   "file_extension": ".py",
   "mimetype": "text/x-python",
   "name": "python",
   "nbconvert_exporter": "python",
   "pygments_lexer": "ipython3",
   "version": "3.6.5"
  }
 },
 "nbformat": 4,
 "nbformat_minor": 2
}
